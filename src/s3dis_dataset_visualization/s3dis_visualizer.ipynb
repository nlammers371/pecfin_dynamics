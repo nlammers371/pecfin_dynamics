{
 "cells": [
  {
   "cell_type": "markdown",
   "metadata": {
    "id": "iKPYxsCuUBbm"
   },
   "source": [
    "# **Stanford 3D Indoor Scene Dataset (S3DIS)**\n",
    "\n",
    "This notebook Visualizes the [S3DIS](https://svl.stanford.edu/assets/papers/3D_Semantic_Parsing.pdf). How it is structured and how it is segmented, and how it is partitioned into small blocks."
   ]
  },
  {
   "cell_type": "markdown",
   "metadata": {
    "id": "eAIXJdDII92E"
   },
   "source": [
    "Install and import libraries"
   ]
  },
  {
   "cell_type": "code",
   "execution_count": 1,
   "metadata": {
    "id": "omMUEoaEHqS2"
   },
   "outputs": [],
   "source": [
    "# !pip install open3d==0.16.0 # must be at least 0.16.0"
   ]
  },
  {
   "cell_type": "code",
   "execution_count": 1,
   "metadata": {
    "colab": {
     "base_uri": "https://localhost:8080/"
    },
    "id": "pD3z90hjUAir",
    "outputId": "603362a3-d322-472c-f411-524c14d27606"
   },
   "outputs": [
    {
     "name": "stdout",
     "output_type": "stream",
     "text": [
      "Jupyter environment detected. Enabling Open3D WebVisualizer.\n",
      "[Open3D INFO] WebRTC GUI backend enabled.\n",
      "[Open3D INFO] WebRTCWindowSystem: HTTP handshake server disabled.\n",
      "[Open3D INFO] Resetting default logger to print to terminal.\n"
     ]
    }
   ],
   "source": [
    "import os\n",
    "import re\n",
    "from glob import glob\n",
    "import time\n",
    "import numpy as np\n",
    "import pandas as pd\n",
    "import open3d as o3\n",
    "# from open3d import JVisualizer # For Colab Visualization\n",
    "from open3d.web_visualizer import draw # for non Colab\n",
    "from vis_config import CATEGORIES, COLOR_MAP\n",
    "import matplotlib.pyplot as plt\n",
    "%matplotlib inline\n"
   ]
  },
  {
   "cell_type": "code",
   "execution_count": 2,
   "metadata": {},
   "outputs": [],
   "source": [
    "import importlib\n",
    "import utils\n",
    "importlib.reload(utils)\n",
    "from utils import get_space_data, get_slice, get_partitions"
   ]
  },
  {
   "cell_type": "markdown",
   "metadata": {
    "id": "moxHa_UJI7go"
   },
   "source": [
    "Get Dataset path and save path for new dataset"
   ]
  },
  {
   "cell_type": "code",
   "execution_count": 3,
   "metadata": {},
   "outputs": [],
   "source": [
    "ROOT = r'D:\\Datasets\\Stanford3dDataset_v1.2_Aligned_Version'"
   ]
  },
  {
   "cell_type": "markdown",
   "metadata": {},
   "source": [
    "Helpers for categories and colors"
   ]
  },
  {
   "cell_type": "markdown",
   "metadata": {},
   "source": [
    "## Visualize single room"
   ]
  },
  {
   "cell_type": "code",
   "execution_count": 5,
   "metadata": {},
   "outputs": [],
   "source": [
    "import numpy as np\n",
    "import open3d as o3\n",
    "\n",
    "# Read the data\n",
    "point_cloud = np.loadtxt(ROOT + \"\\\\Area_1\\\\conferenceRoom_1\\\\conferenceRoom_1.txt\")\n",
    "points = point_cloud[:, :3]  # x, y, z\n",
    "colors = point_cloud[:, 3:] / 255  # RGB, normalized\n",
    "\n",
    "# Create a PointCloud object\n",
    "pcd = o3.geometry.PointCloud()\n",
    "pcd.points = o3.utility.Vector3dVector(points)\n",
    "pcd.colors = o3.utility.Vector3dVector(colors)\n",
    "\n",
    "# Create an axis (coordinate frame)\n",
    "# axis = o3.geometry.TriangleMesh.create_coordinate_frame(size=1, origin=[0, 0, 0]) # add axis\n",
    "\n",
    "# Visualize the point cloud and axis\n",
    "# o3.visualization.draw_geometries([pcd, axis]) # Use this if using axis\n",
    "o3.visualization.draw_geometries([pcd]) # Use this if not using axis"
   ]
  },
  {
   "cell_type": "markdown",
   "metadata": {},
   "source": [
    "## Visualize multiple rooms from one area"
   ]
  },
  {
   "cell_type": "code",
   "execution_count": 8,
   "metadata": {},
   "outputs": [],
   "source": [
    "# Load the first point cloud\n",
    "point_cloud1 = np.loadtxt(ROOT + \"\\\\Area_1\\\\conferenceRoom_1\\\\conferenceRoom_1.txt\")\n",
    "points1 = point_cloud1[:, :3]  # x, y, z\n",
    "colors1 = point_cloud1[:, 3:] / 255  # RGB, normalized\n",
    "\n",
    "# Load the second point cloud\n",
    "point_cloud2 = np.loadtxt(ROOT + \"\\\\Area_1\\\\conferenceRoom_2\\\\conferenceRoom_2.txt\")\n",
    "points2 = point_cloud2[:, :3]  # x, y, z\n",
    "colors2 = point_cloud2[:, 3:] / 255  # RGB, normalized\n",
    "\n",
    "point_cloud3 = np.loadtxt(ROOT + \"\\\\Area_1\\\\copyRoom_1\\\\copyRoom_1.txt\")\n",
    "points3 = point_cloud3[:, :3]  # x, y, z\n",
    "colors3 = point_cloud3[:, 3:] / 255  # RGB, normalized\n",
    "\n",
    "# Concatenate the points and colors\n",
    "points_combined = np.concatenate((points1, points2, points3))\n",
    "colors_combined = np.concatenate((colors1, colors2, colors3))\n",
    "\n",
    "# Create a PointCloud object\n",
    "pcd_combined = o3.geometry.PointCloud()\n",
    "pcd_combined.points = o3.utility.Vector3dVector(points_combined)\n",
    "pcd_combined.colors = o3.utility.Vector3dVector(colors_combined)\n",
    "\n",
    "# Visualize the combined point cloud\n",
    "o3.visualization.draw_geometries([pcd_combined])\n"
   ]
  },
  {
   "cell_type": "markdown",
   "metadata": {},
   "source": [
    "# Visualize one object from a room"
   ]
  },
  {
   "cell_type": "code",
   "execution_count": 9,
   "metadata": {},
   "outputs": [],
   "source": [
    "# Read the data\n",
    "point_cloud = np.loadtxt(ROOT + \"\\\\Area_1\\\\conferenceRoom_1\\\\Annotations\\\\door_1.txt\")\n",
    "points = point_cloud[:, :3]  # x, y, z\n",
    "colors = point_cloud[:, 3:] / 255  # RGB, normalized\n",
    "\n",
    "# Create a PointCloud object\n",
    "pcd = o3.geometry.PointCloud()\n",
    "pcd.points = o3.utility.Vector3dVector(points)\n",
    "pcd.colors = o3.utility.Vector3dVector(colors)\n",
    "\n",
    "# Create an axis (coordinate frame)\n",
    "# axis = o3.geometry.TriangleMesh.create_coordinate_frame(size=1, origin=[0, 0, 0]) # add axis\n",
    "\n",
    "# Visualize the point cloud and axis\n",
    "# o3.visualization.draw_geometries([pcd, axis]) # Use this if using axis\n",
    "o3.visualization.draw_geometries([pcd]) # Use this if not using axis"
   ]
  },
  {
   "cell_type": "markdown",
   "metadata": {},
   "source": [
    "## Visualize multiple objects from one room"
   ]
  },
  {
   "cell_type": "code",
   "execution_count": 11,
   "metadata": {},
   "outputs": [],
   "source": [
    "# Load the first point cloud\n",
    "point_cloud1 = np.loadtxt(ROOT + \"\\\\Area_1\\\\conferenceRoom_1\\\\Annotations\\\\door_1.txt\")\n",
    "points1 = point_cloud1[:, :3]  # x, y, z\n",
    "colors1 = point_cloud1[:, 3:] / 255  # RGB, normalized\n",
    "\n",
    "# Load the second point cloud\n",
    "point_cloud2 = np.loadtxt(ROOT + \"\\\\Area_1\\\\conferenceRoom_1\\\\Annotations\\\\chair_5.txt\")\n",
    "points2 = point_cloud2[:, :3]  # x, y, z\n",
    "colors2 = point_cloud2[:, 3:] / 255  # RGB, normalized\n",
    "\n",
    "point_cloud3 = np.loadtxt(ROOT + \"\\\\Area_1\\\\conferenceRoom_1\\\\Annotations\\\\board_1.txt\")\n",
    "points3 = point_cloud3[:, :3]  # x, y, z\n",
    "colors3 = point_cloud3[:, 3:] / 255  # RGB, normalized\n",
    "\n",
    "# Concatenate the points and colors\n",
    "points_combined = np.concatenate((points1, points2, points3))\n",
    "colors_combined = np.concatenate((colors1, colors2, colors3))\n",
    "\n",
    "# Create a PointCloud object\n",
    "pcd_combined = o3.geometry.PointCloud()\n",
    "pcd_combined.points = o3.utility.Vector3dVector(points_combined)\n",
    "pcd_combined.colors = o3.utility.Vector3dVector(colors_combined)\n",
    "\n",
    "# Visualize the combined point cloud\n",
    "o3.visualization.draw_geometries([pcd_combined])"
   ]
  },
  {
   "cell_type": "markdown",
   "metadata": {},
   "source": [
    "# Replacing RGB with semantic labels\n",
    "\n",
    "| Category | Code | Color | RGB |\n",
    "|:--------:|:----:|:-----:|:---:|\n",
    "| ceiling  | 0    | darkslategray | (47, 79, 79) |\n",
    "| floor    | 1    | saddlebrown | (139, 69, 19) |\n",
    "| wall     | 2    | forestgreen | (34, 139, 34) |\n",
    "| beam     | 3    | indigo | (75, 0, 130) |\n",
    "| column   | 4    | red | (255, 0, 0) |\n",
    "| window   | 5    | yellow | (255, 255, 0) |\n",
    "| door     | 6    | lime | (0, 255, 0) |\n",
    "| table    | 7    | aqua | (0, 255, 255) |\n",
    "| chair    | 8    | blue | (0, 0, 255) |\n",
    "| sofa     | 9    | fuchsia | (255, 0, 255) |\n",
    "| bookcase | 10   | palegoldenrod | (238, 232, 170) |\n",
    "| board    | 11   | cornflower | (100, 149, 237) |\n",
    "| stairs   | 12   | hotpink | (255, 105, 180) |\n",
    "| clutter  | 13   | black | (0, 0, 0) |"
   ]
  },
  {
   "cell_type": "code",
   "execution_count": 12,
   "metadata": {},
   "outputs": [],
   "source": [
    "area_nums = '1-6' # decide on the number of areas to obtain\n",
    "area_dict = {}\n",
    "\n",
    "# get areas based on split\n",
    "areas = glob(os.path.join(ROOT, f'Area_[{area_nums}]*'))\n",
    "\n",
    "for area in areas:\n",
    "    # get all subfolders in area (corresponds to disjoint spaces (or locations))\n",
    "    spaces = next(os.walk(area))[1]\n",
    "\n",
    "    # get dict to store spaces\n",
    "    space_dict = {}\n",
    "\n",
    "    # for each space\n",
    "    for space in spaces:\n",
    "        space = os.path.join(area, space)\n",
    "        annotations = os.path.join(space, 'Annotations')\n",
    "\n",
    "        # get individual segmentation filepaths\n",
    "        segments = glob(os.path.join(annotations, '*.txt'))\n",
    "        \n",
    "        # update space dict\n",
    "        space_dict.update({space.split('\\\\')[-1] : segments})\n",
    "\n",
    "    # update area dict\n",
    "    area_dict.update({area.split('\\\\')[-1] : space_dict})\n",
    "        "
   ]
  },
  {
   "cell_type": "code",
   "execution_count": 13,
   "metadata": {},
   "outputs": [
    {
     "data": {
      "text/plain": [
       "'D:\\\\Datasets\\\\Stanford3dDataset_v1.2_Aligned_Version\\\\Area_1\\\\conferenceRoom_1\\\\Annotations\\\\beam_1.txt'"
      ]
     },
     "execution_count": 13,
     "metadata": {},
     "output_type": "execute_result"
    }
   ],
   "source": [
    "area_dict['Area_1']['conferenceRoom_1'][0]"
   ]
  },
  {
   "cell_type": "code",
   "execution_count": 14,
   "metadata": {},
   "outputs": [
    {
     "data": {
      "text/plain": [
       "(array([[-15.609,  39.505,   2.214,   3.   ],\n",
       "        [-15.634,  39.518,   2.198,   3.   ],\n",
       "        [-15.622,  39.514,   2.195,   3.   ],\n",
       "        ...,\n",
       "        [-15.339,  39.561,   0.355,   2.   ],\n",
       "        [-15.331,  39.543,   0.419,   2.   ],\n",
       "        [-15.351,  39.569,   0.299,   2.   ]], dtype=float32),\n",
       " (1136617, 4))"
      ]
     },
     "execution_count": 14,
     "metadata": {},
     "output_type": "execute_result"
    }
   ],
   "source": [
    "space_data = get_space_data(area_dict['Area_1']['conferenceRoom_1']) # replaces the rgb in each point with the corresponding semantic label (0-13) using the name of each object.\n",
    "space_data, space_data.shape"
   ]
  },
  {
   "cell_type": "code",
   "execution_count": 16,
   "metadata": {},
   "outputs": [],
   "source": [
    "map_colors = lambda x : COLOR_MAP[x]\n",
    "v_map_colors = np.vectorize(map_colors) # this will take in an array and apply the map_colors function to each element"
   ]
  },
  {
   "cell_type": "code",
   "execution_count": 17,
   "metadata": {},
   "outputs": [
    {
     "data": {
      "text/plain": [
       "(3, 1136617)"
      ]
     },
     "execution_count": 17,
     "metadata": {},
     "output_type": "execute_result"
    }
   ],
   "source": [
    "np.vstack(v_map_colors(space_data[:, 3])).shape # (3,N) Color values for each point"
   ]
  },
  {
   "cell_type": "code",
   "execution_count": 18,
   "metadata": {},
   "outputs": [],
   "source": [
    "pcd = o3.geometry.PointCloud()\n",
    "pcd.points = o3.utility.Vector3dVector(space_data[:, :3])\n",
    "pcd.colors = o3.utility.Vector3dVector(np.vstack(v_map_colors(space_data[:, 3])).T/255)\n",
    "o3.visualization.draw_geometries([pcd])"
   ]
  },
  {
   "cell_type": "markdown",
   "metadata": {},
   "source": [
    "# Partitioning"
   ]
  },
  {
   "cell_type": "code",
   "execution_count": 19,
   "metadata": {},
   "outputs": [
    {
     "name": "stdout",
     "output_type": "stream",
     "text": [
      "(4, 2) (3, 2)\n"
     ]
    },
    {
     "data": {
      "text/plain": [
       "((103769, 4), (1136617, 4), numpy.ndarray, numpy.ndarray)"
      ]
     },
     "execution_count": 19,
     "metadata": {},
     "output_type": "execute_result"
    }
   ],
   "source": [
    "space_data = get_space_data(area_dict['Area_1']['conferenceRoom_1']) # replaces the rgb in each point with the corresponding semantic label (0-13) using the name of each object.\n",
    "# obtain x, y partitions\n",
    "xyz = space_data[:, :3]\n",
    "\n",
    "# get 0 min shifted points\n",
    "xyz_s = xyz - xyz.min(axis=0)\n",
    "x_parts, y_parts = get_partitions(xyz, xyz_s, c=1.5)\n",
    "\n",
    "print(x_parts.shape, y_parts.shape)\n",
    "\n",
    "\n",
    "x_part = x_parts[3]\n",
    "y_part = y_parts[1]\n",
    "space_slice = get_slice(space_data, xyz_s, x_part, y_part)\n",
    "space_slice.shape, space_data.shape, type(space_slice), type(space_data)"
   ]
  },
  {
   "cell_type": "markdown",
   "metadata": {},
   "source": [
    "Note here that the number of points in `space_data` is `1136617` and in the `space_slice` is `103769`\n",
    "\n",
    "```python\n",
    "1136617 / 103769 = 10.95\n",
    "```\n",
    "\n"
   ]
  },
  {
   "cell_type": "code",
   "execution_count": 23,
   "metadata": {},
   "outputs": [],
   "source": [
    "pcd = o3.geometry.PointCloud()\n",
    "pcd.points = o3.utility.Vector3dVector(space_slice[:, :3])\n",
    "pcd.colors = o3.utility.Vector3dVector(np.vstack(v_map_colors(space_slice[:, 3])).T/255)\n",
    "o3.visualization.draw_geometries([pcd])"
   ]
  },
  {
   "cell_type": "markdown",
   "metadata": {},
   "source": [
    "# Joining partitions\n",
    "We can see that when we join the partitions, it is the same as the original space."
   ]
  },
  {
   "cell_type": "code",
   "execution_count": 24,
   "metadata": {},
   "outputs": [],
   "source": [
    "sapce_slices_combined_list = []\n",
    "for xpart in x_parts:\n",
    "    for ypart in y_parts:\n",
    "        space_slice = get_slice(space_data, xyz_s, xpart, ypart)\n",
    "        sapce_slices_combined_list.append(space_slice)\n",
    "        \n",
    "sapce_slices_combined = np.vstack(sapce_slices_combined_list)\n"
   ]
  },
  {
   "cell_type": "code",
   "execution_count": 25,
   "metadata": {},
   "outputs": [],
   "source": [
    "pcd = o3.geometry.PointCloud()\n",
    "pcd.points = o3.utility.Vector3dVector(sapce_slices_combined[:, :3])\n",
    "pcd.colors = o3.utility.Vector3dVector(np.vstack(v_map_colors(sapce_slices_combined[:, 3])).T/255)\n",
    "o3.visualization.draw_geometries([pcd])"
   ]
  }
 ],
 "metadata": {
  "colab": {
   "authorship_tag": "ABX9TyMu+KmrIdBiqaSv6b1/RbGv",
   "include_colab_link": true,
   "provenance": []
  },
  "kernelspec": {
   "display_name": "Python 3 (ipykernel)",
   "language": "python",
   "name": "python3"
  },
  "language_info": {
   "codemirror_mode": {
    "name": "ipython",
    "version": 3
   },
   "file_extension": ".py",
   "mimetype": "text/x-python",
   "name": "python",
   "nbconvert_exporter": "python",
   "pygments_lexer": "ipython3",
   "version": "3.9.16"
  },
  "vscode": {
   "interpreter": {
    "hash": "6c3515861ec4313dacaa20b0eec5bf326e6557b6589b7b6a4fe3c8baa566747d"
   }
  }
 },
 "nbformat": 4,
 "nbformat_minor": 1
}
