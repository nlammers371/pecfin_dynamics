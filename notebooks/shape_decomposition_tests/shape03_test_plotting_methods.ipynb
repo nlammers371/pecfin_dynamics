{
 "cells": [
  {
   "cell_type": "code",
   "id": "bcc4fa71-822e-4ef4-afbb-72021eb48987",
   "metadata": {
    "scrolled": true
   },
   "source": [
    "import sys\n",
    "sys.path.append('/home/nick/projects')\n",
    "# from PointGPT import segmentation\n",
    "from fle_3d.fle_3d import FLEBasis3D\n",
    "import numpy as np\n",
    "import pandas as pd\n",
    "import os\n",
    "from glob2 import glob\n",
    "import plotly.express as px\n",
    "import plotly.graph_objects as go\n",
    "import torch\n",
    "from src.utilities.functions import path_leaf\n",
    "from src.utilities.fin_class_def import FinData\n",
    "from tqdm import tqdm\n",
    "from sklearn.neighbors import KernelDensity"
   ],
   "outputs": [],
   "execution_count": null
  },
  {
   "cell_type": "markdown",
   "id": "955a418c-cb7e-47d9-af93-b412317a3137",
   "metadata": {},
   "source": [
    "### Notebook to test how many components we need to \"accurately\" reconstruct fin volumes\n",
    "There are multiple variables at play here, including the nature of the input data that we seek to reconstruct. \n",
    "\n",
    "Should the target be: \n",
    "1) a 3D density derived from the point cloud?\n",
    "2) A sparse 3D histogram of discrete counts?\n",
    "3) Fin masks?\n",
    "4) The raw pixel probabilities?\n",
    "\n",
    "The hope is to settle on both the optimal kind of input data for this problem, and an approximate bound on the number of components required for reconstruction"
   ]
  },
  {
   "cell_type": "markdown",
   "id": "fbbeff78-f785-47a3-9c4e-70c8835922b0",
   "metadata": {},
   "source": [
    "### Load test dataset"
   ]
  },
  {
   "cell_type": "code",
   "id": "90abfbdb-9742-400f-a1b5-27581bdef403",
   "metadata": {},
   "source": [
    "root = \"/media/nick/hdd02/Cole Trapnell's Lab Dropbox/Nick Lammers/Nick/pecfin_dynamics/\"\n",
    "\n",
    "fin_object_path = os.path.join(root, \"point_cloud_data\", \"fin_objects\", \"\")\n",
    "fin_object_list = sorted(glob(fin_object_path + \"*.pkl\"))"
   ],
   "outputs": [],
   "execution_count": null
  },
  {
   "cell_type": "code",
   "id": "81865799-d315-4f53-82cd-0b6b0bcb8a41",
   "metadata": {},
   "source": [
    "file_ind01 = 46\n",
    "seg_type = \"tissue_only_best_model_tissue\"\n",
    "\n",
    "fp01 = fin_object_list[file_ind01]\n",
    "point_prefix01 = path_leaf(fp01).replace(\"_fin_object.pkl\", \"\")\n",
    "print(point_prefix01)\n",
    "\n",
    "fin_data = FinData(data_root=root, name=point_prefix01, tissue_seg_model=seg_type)\n",
    "fin_df = fin_data.full_point_data\n",
    "fin_df = fin_df.loc[fin_df[\"fin_label_curr\"]==1, :]\n",
    "fin_points = fin_df[[\"X\", \"Y\", \"Z\"]].to_numpy()\n",
    "\n",
    "fin_axis_df = fin_data.axis_fin\n",
    "fin_axes = fin_data.calculate_axis_array(fin_axis_df)\n",
    "fin_points_pca = np.matmul(fin_points - np.mean(fin_points, axis=0), fin_axes.T)\n",
    "fin_df.loc[:, [\"XP\", \"YP\", \"ZP\"]] = fin_points_pca"
   ],
   "outputs": [],
   "execution_count": null
  },
  {
   "cell_type": "markdown",
   "id": "f24ec4fd-6278-40cc-a882-054d280b44da",
   "metadata": {},
   "source": [
    "### (1) point-based fin representations\n",
    "What's the best we can do operating with simple point cloud-based representations?"
   ]
  },
  {
   "cell_type": "code",
   "id": "65fc95da-0ff8-46a9-b0f5-0e69dd8eca58",
   "metadata": {},
   "source": [
    "#############\n",
    "# calculate density-based representation\n",
    "X01 = fin_df[[\"ZP\", \"YP\", \"XP\"]].to_numpy()\n",
    "X01 = X01 - np.mean(X01, axis=0)\n",
    "kde_lr = KernelDensity(bandwidth=5, kernel=\"gaussian\").fit(X01) # Gaussian sampling kernel with sigma=5 pixels\n",
    "kde_hr = KernelDensity(bandwidth=2, kernel=\"gaussian\").fit(X01) # Gaussian sampling kernel with sigma=2 pixels\n",
    "\n",
    "\n",
    "max_dim = int(np.ceil(np.max(np.abs(X01)) / 5) * 5)\n",
    "res = 4 # in um\n",
    "N = int(np.ceil(2*max_dim / res)) + 1\n",
    "# print(N)\n",
    "x_axis = np.linspace(-max_dim, max_dim, N)\n",
    "y_axis = np.linspace(-max_dim, max_dim, N)\n",
    "z_axis = np.linspace(-max_dim, max_dim, N)\n",
    "x_grid, y_grid, z_grid = np.meshgrid(x_axis, y_axis, z_axis)\n",
    "xyz_array = np.c_[x_grid.ravel(), y_grid.ravel(), z_grid.ravel()]\n",
    "\n",
    "probs_lr = np.exp(kde_lr.score_samples(xyz_array))\n",
    "probs_hr = np.exp(kde_hr.score_samples(xyz_array))"
   ],
   "outputs": [],
   "execution_count": null
  },
  {
   "cell_type": "code",
   "id": "8cb86886-6663-4121-87f9-9ba9cac9f242",
   "metadata": {},
   "source": [
    "# Go even simpler and just calculate 3D histogram\n",
    "x_bins = np.linspace(-max_dim, max_dim, N+1)\n",
    "y_bins = np.linspace(-max_dim, max_dim, N+1)\n",
    "z_bins = np.linspace(-max_dim, max_dim, N+1)\n",
    "point_hist, _ = np.histogramdd(X01, (x_bins, y_bins, z_bins))"
   ],
   "outputs": [],
   "execution_count": null
  },
  {
   "cell_type": "markdown",
   "id": "6a011e29-4e37-4092-b2dd-2395abaca864",
   "metadata": {},
   "source": [
    "#### Histogram representation"
   ]
  },
  {
   "cell_type": "code",
   "id": "f91bf64e-69a3-41fe-88c1-e452d3b02988",
   "metadata": {},
   "source": [
    "fig = go.Figure(data=go.Volume(\n",
    "    x=x_grid.flatten(), y=y_grid.flatten(), z=z_grid.flatten(),\n",
    "    value=point_hist.flatten(),\n",
    "    opacity=0.1,\n",
    "    isomin=1e-6,\n",
    "    surface_count=25,\n",
    "    ))\n",
    "fig.update_layout(scene_xaxis_showticklabels=False,\n",
    "                  scene_yaxis_showticklabels=False,\n",
    "                  scene_zaxis_showticklabels=False)\n",
    "fig.show()"
   ],
   "outputs": [],
   "execution_count": null
  },
  {
   "cell_type": "markdown",
   "id": "d00a2685-6016-4905-b93c-df9bc11eb20e",
   "metadata": {},
   "source": [
    "#### Low-res kernel density"
   ]
  },
  {
   "cell_type": "code",
   "id": "eb4a35d7-e6cf-4844-9ad0-f92919ef911d",
   "metadata": {},
   "source": [
    "fig = go.Figure(data=go.Volume(\n",
    "    x=x_grid.flatten(), y=y_grid.flatten(), z=z_grid.flatten(),\n",
    "    value=probs_lr.flatten(),\n",
    "    opacity=0.1,\n",
    "    isomin=1e-6,\n",
    "    surface_count=25,\n",
    "    ))\n",
    "fig.update_layout(scene_xaxis_showticklabels=False,\n",
    "                  scene_yaxis_showticklabels=False,\n",
    "                  scene_zaxis_showticklabels=False)\n",
    "fig.show()"
   ],
   "outputs": [],
   "execution_count": null
  },
  {
   "cell_type": "code",
   "id": "a77997d2-552d-4994-8e46-692eef6ac9bd",
   "metadata": {},
   "source": [
    "import pyvista as pv\n",
    "\n",
    "probs_test = np.reshape(probs_lr / np.max(probs_lr), (N, N, N))\n",
    "probs_test[probs_test < 0.05] = 0\n",
    "\n",
    "grid = pv.ImageData()\n",
    "grid.dimensions = probs_test.shape\n",
    "grid_spacing = (res, res, res)\n",
    "grid.origin = (0, 0, 0)\n",
    "grid[\"density\"] = probs_test.ravel(order=\"F\") \n",
    "\n",
    "# Step 6: Plot the volume\n"
   ],
   "outputs": [],
   "execution_count": null
  },
  {
   "cell_type": "code",
   "id": "d5f6a8f4-a79a-45b7-b40b-d53b6c590bcb",
   "metadata": {},
   "source": [
    "plotter = pv.Plotter()\n",
    "plotter.add_volume(grid, scalars=\"density\", cmap=\"viridis\", opacity=\"sigmoid\")\n",
    "plotter.show()"
   ],
   "outputs": [],
   "execution_count": null
  },
  {
   "cell_type": "code",
   "id": "5ae70657-2c5d-4214-a285-2d86ba6fba1b",
   "metadata": {},
   "source": [
    "pv.UniformGrid()"
   ],
   "outputs": [],
   "execution_count": null
  },
  {
   "cell_type": "code",
   "id": "077d0c75-ad66-4374-9734-615a3938ca48",
   "metadata": {},
   "source": [],
   "outputs": [],
   "execution_count": null
  }
 ],
 "metadata": {
  "kernelspec": {
   "display_name": "Python (pv-env)",
   "language": "python",
   "name": "pv-kernel"
  },
  "language_info": {
   "codemirror_mode": {
    "name": "ipython",
    "version": 3
   },
   "file_extension": ".py",
   "mimetype": "text/x-python",
   "name": "python",
   "nbconvert_exporter": "python",
   "pygments_lexer": "ipython3",
   "version": "3.12.7"
  }
 },
 "nbformat": 4,
 "nbformat_minor": 5
}
