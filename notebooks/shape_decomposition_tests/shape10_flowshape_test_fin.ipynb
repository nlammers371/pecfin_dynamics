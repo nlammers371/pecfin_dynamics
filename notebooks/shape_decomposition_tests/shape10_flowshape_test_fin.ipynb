{
 "cells": [
  {
   "cell_type": "code",
   "execution_count": 4,
   "id": "92c8bfcd-f710-4c3e-a6ac-f5a0eea113c3",
   "metadata": {},
   "outputs": [],
   "source": [
    "import flowshape as fs\n",
    "import igl\n",
    "import numpy as np\n",
    "import meshplot as mp\n",
    "import os\n",
    "from src.utilities.fin_shape_utils import plot_mesh\n",
    "from src.utilities.fin_class_def import FinData\n",
    "from src.utilities.functions import path_leaf\n",
    "import glob2 as glob\n",
    "import pandas as pd"
   ]
  },
  {
   "cell_type": "markdown",
   "id": "f7a673ae-5a8b-49e6-943d-972616c01c49",
   "metadata": {},
   "source": [
    "### Load fin data"
   ]
  },
  {
   "cell_type": "code",
   "execution_count": 5,
   "id": "fe2191ac-77f5-448f-969e-9850fde8372d",
   "metadata": {},
   "outputs": [],
   "source": [
    "# get list of refined fin mesh objects\n",
    "# root = \"/media/nick/hdd02/Cole Trapnell's Lab Dropbox/Nick Lammers/Nick/pecfin_dynamics/\"\n",
    "root = \"/Users/nick/Cole Trapnell's Lab Dropbox/Nick Lammers/Nick/pecfin_dynamics/\"\n",
    "fin_mesh_list = sorted(glob.glob(os.path.join(root, \"point_cloud_data\", \"processed_fin_data\", \"*smoothed_fin_mesh*\")))\n",
    "\n",
    "# load metadata\n",
    "fin_stats_df = pd.read_csv(os.path.join(root, \"metadata\", \"fin_stats.csv\"))\n",
    "fin_stats_df[\"experiment_date\"] = fin_stats_df[\"experiment_date\"].astype(str)\n",
    "fin_stats_df.head()\n",
    "\n",
    "# set write directory\n",
    "figure_dir = os.path.join(root, \"point_cloud_data\", \"fin_shape_analyses\")\n",
    "if not os.path.isdir(figure_dir):\n",
    "    os.makedirs(figure_dir) "
   ]
  },
  {
   "cell_type": "markdown",
   "id": "d311cc4d-afdf-4d5a-9162-c48de8169e15",
   "metadata": {},
   "source": [
    "### Get fin mesh"
   ]
  },
  {
   "cell_type": "code",
   "execution_count": 6,
   "id": "70c0bcae-a34f-4b34-8c21-6719730389c0",
   "metadata": {},
   "outputs": [],
   "source": [
    "import plotly.colors as pc\n",
    "import matplotlib.colors as mc\n",
    "\n",
    "# Get Plotly's default discrete colors (hex format)\n",
    "plotly_default_colors_hex = pc.qualitative.Plotly\n",
    "\n",
    "# Convert hex colors to RGB triplets\n",
    "plotly_rgb = [mc.hex2color(hex_color) for hex_color in plotly_default_colors_hex]\n",
    "\n",
    "set2_colors = pc.qualitative.Set2\n",
    "\n",
    "# Convert hex colors to RGB triplets (0-255 range)\n",
    "set2_rgb = [\n",
    "    list(map(int, color[color.find(\"(\")+1 : color.find(\")\")].split(\",\")))\n",
    "    for color in set2_colors\n",
    "]"
   ]
  },
  {
   "cell_type": "code",
   "execution_count": 10,
   "id": "80224ced-444b-41f9-bf37-1298f91d5425",
   "metadata": {},
   "outputs": [
    {
     "name": "stdout",
     "output_type": "stream",
     "text": [
      "DMSO_36\n"
     ]
    }
   ],
   "source": [
    "import trimesh\n",
    "import flowshape as fs\n",
    "\n",
    "data_ind = 43\n",
    "\n",
    "flow_dir = os.path.join(figure_dir, \"flow_frames\")\n",
    "os.makedirs(flow_dir, exist_ok=True)\n",
    "\n",
    "# get key metadata\n",
    "date_string = fin_stats_df.loc[data_ind, \"experiment_date\"]\n",
    "well_num = fin_stats_df.loc[data_ind, \"well_index\"]\n",
    "time_num = fin_stats_df.loc[data_ind, \"time_index\"]\n",
    "\n",
    "# other metadata\n",
    "chem_i = fin_stats_df.loc[data_ind, \"chem_i\"]\n",
    "print(chem_i)\n",
    "# load points sets\n",
    "file_stub = f\"{date_string}_well{well_num:04}_time{time_num:04}\"\n",
    "fname_c = file_stub + \"_smoothed_fin_mesh.obj\"\n",
    "fpath_c = os.path.join(root, \"point_cloud_data\", \"processed_fin_data\", fname_c)\n",
    "\n",
    "mesh = trimesh.load(fpath_c)"
   ]
  },
  {
   "cell_type": "code",
   "execution_count": 13,
   "id": "e57331ad-922e-4371-bd6f-397454ff5529",
   "metadata": {},
   "outputs": [
    {
     "name": "stderr",
     "output_type": "stream",
     "text": [
      "/Users/nick/miniforge3/envs/meshing/lib/python3.10/site-packages/traittypes/traittypes.py:97: UserWarning: Given trait value dtype \"float32\" does not match required type \"float64\". A coerced copy has been created.\n",
      "  warnings.warn(\n",
      "/Users/nick/miniforge3/envs/meshing/lib/python3.10/site-packages/traittypes/traittypes.py:97: UserWarning: Given trait value dtype \"uint32\" does not match required type \"float64\". A coerced copy has been created.\n",
      "  warnings.warn(\n"
     ]
    },
    {
     "data": {
      "application/vnd.jupyter.widget-view+json": {
       "model_id": "b08408f69e0643b397909624fb757bbe",
       "version_major": 2,
       "version_minor": 0
      },
      "text/plain": [
       "Renderer(camera=PerspectiveCamera(children=(DirectionalLight(color='white', intensity=0.6, position=(26.087617…"
      ]
     },
     "metadata": {},
     "output_type": "display_data"
    },
    {
     "data": {
      "text/plain": [
       "<meshplot.Viewer.Viewer at 0x2a26ab640>"
      ]
     },
     "execution_count": 13,
     "metadata": {},
     "output_type": "execute_result"
    }
   ],
   "source": [
    "#igl.read_triangle_mesh(\"/home/nick/projects/flowshape/demo/ABal.obj\")\n",
    "v, f = v, f = mesh.vertices.copy(), mesh.faces.copy()\n",
    "mp.plot(v, f, shading = {\"wireframe\":True})"
   ]
  },
  {
   "cell_type": "markdown",
   "id": "cd806611-99c0-49a7-b4c4-1fa4e73c3b20",
   "metadata": {},
   "source": [
    "### Run spherical mapping"
   ]
  },
  {
   "cell_type": "code",
   "execution_count": 14,
   "id": "8e0c61a4-3e1a-41e6-8352-7142613ef289",
   "metadata": {},
   "outputs": [
    {
     "data": {
      "application/vnd.jupyter.widget-view+json": {
       "model_id": "eee5d0aee23048c39504053521d86526",
       "version_major": 2,
       "version_minor": 0
      },
      "text/plain": [
       "Renderer(camera=PerspectiveCamera(children=(DirectionalLight(color='white', intensity=0.6, position=(1.5974044…"
      ]
     },
     "metadata": {},
     "output_type": "display_data"
    },
    {
     "data": {
      "text/plain": [
       "<meshplot.Viewer.Viewer at 0x2a2524610>"
      ]
     },
     "execution_count": 14,
     "metadata": {},
     "output_type": "execute_result"
    }
   ],
   "source": [
    "# normalize the scaling of the mesh\n",
    "v = fs.normalize(v)\n",
    "\n",
    "# run the spherical mapping flow and mobius centering\n",
    "sv = fs.sphere_map(v, f)\n",
    "\n",
    "# Now we have a spherical mesh\n",
    "mp.plot(sv, f, shading = {\"wireframe\":True})"
   ]
  },
  {
   "cell_type": "markdown",
   "id": "3829beca-8399-4f07-8fd3-aa46d6fe7594",
   "metadata": {},
   "source": [
    "### Calculate the mean curvature"
   ]
  },
  {
   "cell_type": "code",
   "execution_count": 15,
   "id": "7c745d12-1f6c-487d-842a-60394eeaa5f5",
   "metadata": {},
   "outputs": [
    {
     "data": {
      "application/vnd.jupyter.widget-view+json": {
       "model_id": "dc62a7963baf458fae6127b1d9128c03",
       "version_major": 2,
       "version_minor": 0
      },
      "text/plain": [
       "Renderer(camera=PerspectiveCamera(children=(DirectionalLight(color='white', intensity=0.6, position=(0.0504199…"
      ]
     },
     "metadata": {},
     "output_type": "display_data"
    },
    {
     "data": {
      "text/plain": [
       "<meshplot.Viewer.Viewer at 0x2a248f910>"
      ]
     },
     "execution_count": 15,
     "metadata": {},
     "output_type": "execute_result"
    }
   ],
   "source": [
    "rho = fs.curvature_function(v, sv, f)\n",
    "\n",
    "mp.plot(v,f, rho )"
   ]
  },
  {
   "cell_type": "code",
   "execution_count": 16,
   "id": "93fedafe-70b5-48fe-9e40-fe9b8f10e60d",
   "metadata": {},
   "outputs": [
    {
     "data": {
      "application/vnd.jupyter.widget-view+json": {
       "model_id": "eaeb97d5a03f4d43ba222bf7faeffaf6",
       "version_major": 2,
       "version_minor": 0
      },
      "text/plain": [
       "Renderer(camera=PerspectiveCamera(children=(DirectionalLight(color='white', intensity=0.6, position=(1.5974044…"
      ]
     },
     "metadata": {},
     "output_type": "display_data"
    },
    {
     "data": {
      "text/plain": [
       "<meshplot.Viewer.Viewer at 0x2a2e541c0>"
      ]
     },
     "execution_count": 16,
     "metadata": {},
     "output_type": "execute_result"
    }
   ],
   "source": [
    "# Now we have a spherical mesh\n",
    "mp.plot(sv, f, rho)"
   ]
  },
  {
   "cell_type": "markdown",
   "id": "b9d6eb7b-cf9e-43e8-9a48-aab9ba97eacd",
   "metadata": {},
   "source": [
    "## SH decomposition"
   ]
  },
  {
   "cell_type": "code",
   "execution_count": 18,
   "id": "15b2b75a-f5bb-4f48-9ede-20a00cfc575e",
   "metadata": {},
   "outputs": [],
   "source": [
    "# this utility does the above steps + SH decomposition\n",
    "# Here, using maximum degree 24\n",
    "weights, Y_mat, vs = fs.do_mapping(v,f, l_max = 24)"
   ]
  },
  {
   "cell_type": "code",
   "execution_count": 19,
   "id": "e86dc4a7-a084-47f7-81f8-c3b94588ef77",
   "metadata": {},
   "outputs": [
    {
     "name": "stdout",
     "output_type": "stream",
     "text": [
      "[ 3.16154044 -0.03579567  0.15363112 ... -0.00534127  0.05360006\n",
      "  0.05008766]\n"
     ]
    }
   ],
   "source": [
    "# This is the array of SH weights\n",
    "np.set_printoptions(threshold = 100)\n",
    "print(weights)"
   ]
  },
  {
   "cell_type": "code",
   "execution_count": 20,
   "id": "b53c37a6-e9ef-4110-be75-fe9eb8df2e9d",
   "metadata": {},
   "outputs": [
    {
     "data": {
      "application/vnd.jupyter.widget-view+json": {
       "model_id": "43cb3ce21d2149abb8fccd5a13c19c2a",
       "version_major": 2,
       "version_minor": 0
      },
      "text/plain": [
       "Renderer(camera=PerspectiveCamera(children=(DirectionalLight(color='white', intensity=0.6, position=(1.5974044…"
      ]
     },
     "metadata": {},
     "output_type": "display_data"
    },
    {
     "data": {
      "text/plain": [
       "<meshplot.Viewer.Viewer at 0x2a24f9ae0>"
      ]
     },
     "execution_count": 20,
     "metadata": {},
     "output_type": "execute_result"
    }
   ],
   "source": [
    "# Y_mat is a matrix used to convert between weights and mesh function\n",
    "rho2 = Y_mat.dot(weights)\n",
    "mp.plot(sv,f, c = rho2)"
   ]
  },
  {
   "cell_type": "markdown",
   "id": "7a1faec2-b555-407a-8e8c-25c6b706d0d6",
   "metadata": {},
   "source": [
    "### Mesh reconstruction"
   ]
  },
  {
   "cell_type": "code",
   "execution_count": 21,
   "id": "37968ad0-6e90-4f90-a9df-6fcf34f1addd",
   "metadata": {},
   "outputs": [
    {
     "data": {
      "application/vnd.jupyter.widget-view+json": {
       "model_id": "44c4fbf3873149acbba9a607ae524b4a",
       "version_major": 2,
       "version_minor": 0
      },
      "text/plain": [
       "Renderer(camera=PerspectiveCamera(children=(DirectionalLight(color='white', intensity=0.6, position=(0.0737382…"
      ]
     },
     "metadata": {},
     "output_type": "display_data"
    },
    {
     "data": {
      "text/plain": [
       "<meshplot.Viewer.Viewer at 0x2a24fa3b0>"
      ]
     },
     "execution_count": 21,
     "metadata": {},
     "output_type": "execute_result"
    }
   ],
   "source": [
    "rec2 = fs.reconstruct_shape(sv, f, rho2 )\n",
    "mp.plot(rec2,f, c = rho2)"
   ]
  },
  {
   "cell_type": "markdown",
   "id": "e3c0d875-ed43-41bf-ab4f-c2967ed95405",
   "metadata": {},
   "source": [
    "### Test with lower frequencies only"
   ]
  },
  {
   "cell_type": "code",
   "execution_count": 24,
   "id": "3bacc589-985f-46a2-bc12-ed2014c9b220",
   "metadata": {},
   "outputs": [
    {
     "data": {
      "application/vnd.jupyter.widget-view+json": {
       "model_id": "58f42a3a71bc4973b51208ec48a1b108",
       "version_major": 2,
       "version_minor": 0
      },
      "text/plain": [
       "Renderer(camera=PerspectiveCamera(children=(DirectionalLight(color='white', intensity=0.6, position=(0.0656042…"
      ]
     },
     "metadata": {},
     "output_type": "display_data"
    },
    {
     "data": {
      "text/plain": [
       "<meshplot.Viewer.Viewer at 0x2a2426110>"
      ]
     },
     "execution_count": 24,
     "metadata": {},
     "output_type": "execute_result"
    }
   ],
   "source": [
    "weights, Y_mat, vs = fs.do_mapping(v,f, l_max=12)\n",
    "rec_8 = fs.reconstruct_shape(sv, f, Y_mat.dot(weights) )\n",
    "mp.plot(rec_8, f, c = rho2)"
   ]
  },
  {
   "cell_type": "code",
   "execution_count": null,
   "id": "f342cfbb-f617-49bc-bb71-60c226eabbc7",
   "metadata": {},
   "outputs": [],
   "source": []
  }
 ],
 "metadata": {
  "kernelspec": {
   "display_name": "Python 3 (ipykernel)",
   "language": "python",
   "name": "python3"
  },
  "language_info": {
   "codemirror_mode": {
    "name": "ipython",
    "version": 3
   },
   "file_extension": ".py",
   "mimetype": "text/x-python",
   "name": "python",
   "nbconvert_exporter": "python",
   "pygments_lexer": "ipython3",
   "version": "3.10.13"
  }
 },
 "nbformat": 4,
 "nbformat_minor": 5
}
