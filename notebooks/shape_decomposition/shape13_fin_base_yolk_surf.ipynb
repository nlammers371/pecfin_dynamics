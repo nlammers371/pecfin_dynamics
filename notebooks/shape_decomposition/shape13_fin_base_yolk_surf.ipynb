{
 "cells": [
  {
   "cell_type": "code",
   "id": "92c8bfcd-f710-4c3e-a6ac-f5a0eea113c3",
   "metadata": {},
   "source": [
    "import flowshape as fs\n",
    "import igl\n",
    "import numpy as np\n",
    "import meshplot as mp\n",
    "import os\n",
    "from src.utilities.fin_shape_utils import fit_fin_hull, upsample_fin_point_cloud, plot_mesh\n",
    "from src.utilities.fin_class_def import FinData\n",
    "from src.utilities.functions import path_leaf\n",
    "import glob2 as glob"
   ],
   "outputs": [],
   "execution_count": null
  },
  {
   "cell_type": "markdown",
   "id": "dcbc67db-468c-4244-bc72-f88f6f726934",
   "metadata": {},
   "source": [
    "## Idea: use the fit fin surface, with some actual yolk points layered on"
   ]
  },
  {
   "cell_type": "markdown",
   "id": "f7a673ae-5a8b-49e6-943d-972616c01c49",
   "metadata": {},
   "source": [
    "### Load fin data"
   ]
  },
  {
   "cell_type": "code",
   "id": "fe2191ac-77f5-448f-969e-9850fde8372d",
   "metadata": {},
   "source": [
    "# root = \"/Users/nick/Cole Trapnell's Lab Dropbox/Nick Lammers/Nick/pecfin_dynamics/\"\n",
    "root = \"/media/nick/hdd02/Cole Trapnell's Lab Dropbox/Nick Lammers/Nick/pecfin_dynamics/\"\n",
    "fin_object_path = os.path.join(root, \"point_cloud_data\", \"fin_objects\", \"\")\n",
    "fin_object_list = sorted(glob.glob(fin_object_path + \"*.pkl\"))\n",
    "\n",
    "file_ind01 = 146\n",
    "seg_type = \"tissue_only_best_model_tissue\"\n",
    "fp01 = fin_object_list[file_ind01]\n",
    "point_prefix01 = path_leaf(fp01).replace(\"_fin_object.pkl\", \"\")\n",
    "print(point_prefix01)\n",
    "\n",
    "fin_object = FinData(data_root=root, name=point_prefix01, tissue_seg_model=seg_type)"
   ],
   "outputs": [],
   "execution_count": null
  },
  {
   "cell_type": "markdown",
   "id": "5edfa820-b4c5-4fc1-81d0-de42bcb77d34",
   "metadata": {},
   "source": [
    "### Calculate distance from each fin nucleus to the yolk surface"
   ]
  },
  {
   "cell_type": "code",
   "id": "c5cf1efb-a776-4f3f-98b2-2c265c983bf2",
   "metadata": {},
   "source": [
    "from sklearn.metrics import pairwise_distances\n",
    "\n",
    "full_df = fin_object.full_point_data\n",
    "fin_df = full_df.loc[full_df[\"fin_label_curr\"] == 1, :].reset_index(drop=True)\n",
    "\n",
    "# orient to biological axes\n",
    "fin_axis_df = fin_object.axis_fin\n",
    "fin_axes = fin_object.calculate_axis_array(fin_axis_df)\n",
    "\n",
    "# Use simple numerical procedure to calculate distance of each fin point to the yolk\n",
    "fin_points = fin_df[[\"X\", \"Y\", \"Z\"]].to_numpy()\n",
    "shift_ref_vec = np.mean(fin_points, axis=0)\n",
    "\n",
    "fin_points_pca = np.matmul(fin_points - shift_ref_vec, fin_axes.T)\n",
    "fin_df.loc[:, [\"XP\", \"YP\", \"ZP\"]] = fin_points_pca\n",
    "\n",
    "params = fin_object.yolk_surf_params\n",
    "\n",
    "x_min, y_min = fin_points[:, 0].min(), fin_points[:, 1].min()\n",
    "x_max, y_max = fin_points[:, 0].max(), fin_points[:, 1].max()\n",
    "\n",
    "# Create a mesh grid for x and y values\n",
    "x_vals = np.linspace(x_min, x_max, 100)\n",
    "y_vals = np.linspace(y_min, y_max, 100)\n",
    "X, Y = np.meshgrid(x_vals, y_vals)\n",
    "\n",
    "yolk_xyz = np.reshape(fin_object.polyval2d(np.c_[X.ravel(), Y.ravel()], params).ravel(), (-1, 3))\n",
    "\n",
    "dist_array = pairwise_distances(fin_points, yolk_xyz)\n",
    "yolk_dist = np.min(dist_array, axis=1)\n",
    "min_i = np.argmin(dist_array, axis=1)\n",
    "yolk_signs = np.sign(fin_points[:, 2] - yolk_xyz[min_i, 2])\n",
    "yolk_dist = -np.multiply(yolk_dist, yolk_signs)\n",
    "\n",
    "fin_df[\"yolk_dist\"] = yolk_dist"
   ],
   "outputs": [],
   "execution_count": null
  },
  {
   "cell_type": "markdown",
   "id": "518101cf-0004-45e7-97d7-f496912f9b8a",
   "metadata": {},
   "source": [
    "### Calculate fin dimensions at the base and find centerpoint "
   ]
  },
  {
   "cell_type": "code",
   "id": "62b897a5-4f97-436b-a295-78c8d68ff4f4",
   "metadata": {},
   "source": [
    "# get points near surface\n",
    "yolk_thresh = 5\n",
    "base_fin_points = fin_df.loc[np.abs(fin_df[\"yolk_dist\"])<=yolk_thresh, [\"XP\", \"YP\", \"ZP\"]].to_numpy()\n",
    "base_fin_points_raw = fin_df.loc[np.abs(fin_df[\"yolk_dist\"])<=yolk_thresh, [\"X\", \"Y\", \"Z\"]].to_numpy()\n",
    "\n",
    "# calculate axis dims. Main one we care about is the AP axis (\"YP\")\n",
    "axis_len_vec = np.max(base_fin_points, axis=0) - np.min(base_fin_points, axis=0)\n",
    "\n",
    "# find centroid\n",
    "ref10 = np.percentile(base_fin_points_raw, 10, axis=0)\n",
    "ref90 = np.percentile(base_fin_points_raw, 90, axis=0)\n",
    "point_center = (ref10 + ref90) / 2 #np.mean(base_fin_points_raw, axis=0)\n",
    "surf_center_i = np.argmin(np.sqrt(np.sum((yolk_xyz-point_center)**2, axis=1)))\n",
    "surf_center = yolk_xyz[surf_center_i, :] # this is the one we will use\n",
    "\n",
    "# define a local DV direction that is the cross product of the surface normal and the AP axis\n",
    "surf_normal_raw, _ = fin_object.calculate_tangent_plane(fin_object.yolk_surf_params, surf_center)\n",
    "if surf_normal_raw[2] > 0:\n",
    "    surf_normal_raw = -surf_normal_raw\n",
    "\n",
    "# convert the normal vector to the biological axis space\n",
    "surf_normal = np.matmul(np.reshape(surf_normal_raw, (1, 3)) , fin_axes.T)[0]\n",
    "surf_normal = surf_normal / np.linalg.norm(surf_normal)\n",
    "\n",
    "# calculate local DV\n",
    "dv_vec_base = np.cross(surf_normal, np.asarray([0, 1, 0]))\n",
    "dv_vec_base = dv_vec_base / np.linalg.norm(dv_vec_base)\n",
    "\n",
    "# finally, calculate local DV axis dims\n",
    "dv_vec_loc = np.sum(np.multiply(dv_vec_base[np.newaxis, :], base_fin_points), axis=1)\n",
    "\n",
    "# get axis lengths\n",
    "ap_axis_len = axis_len_vec[1]\n",
    "dv_axis_len = np.max(dv_vec_loc) - np.min(dv_vec_loc)\n",
    "print(ap_axis_len)\n",
    "print(dv_axis_len)"
   ],
   "outputs": [],
   "execution_count": null
  },
  {
   "cell_type": "code",
   "id": "993df982-379d-4373-a17d-c4c0bb8b6c8d",
   "metadata": {},
   "source": [
    "# import plotly.express as px \n",
    "# test = np.sum(np.multiply(dv_vec_base[np.newaxis, :], fin_points_pca), axis=1)\n",
    "# fig = px.scatter_3d(x=fin_points_pca[:, 0], y=fin_points_pca[:, 1], z=fin_points_pca[:, 2], color=test)\n",
    "# fig.show()"
   ],
   "outputs": [],
   "execution_count": null
  },
  {
   "cell_type": "markdown",
   "id": "28d56536-7c89-4046-85ec-e6dfdfa47409",
   "metadata": {},
   "source": [
    "### Load and filter yolk nuclei"
   ]
  },
  {
   "cell_type": "code",
   "id": "1ff34c22-4126-410c-84dd-b899a9f15b7a",
   "metadata": {},
   "source": [
    "# shift centerpoint into the oriented frame of reference\n",
    "surf_center_o = np.matmul(surf_center - shift_ref_vec, fin_axes.T)\n",
    "\n",
    "# shift fin+yolk dataset to oriented frame of reference\n",
    "yolk_df = full_df.loc[np.isin(full_df[\"fin_label_curr\"], [2]), :].reset_index(drop=True)\n",
    "yolk_points = yolk_df[[\"X\", \"Y\", \"Z\"]].to_numpy()\n",
    "yolk_points_o = np.matmul(yolk_points - shift_ref_vec, fin_axes.T)\n",
    "yolk_df[[\"XP\", \"YP\", \"ZP\"]] = yolk_points_o"
   ],
   "outputs": [],
   "execution_count": null
  },
  {
   "cell_type": "markdown",
   "id": "4ae19c03-6ff3-4fad-b8d6-cee262574d15",
   "metadata": {},
   "source": [
    "### Use AP and DV dims to capture ellipsoidal \"cap\" at fin base"
   ]
  },
  {
   "cell_type": "code",
   "id": "86574e38-b3c7-4c80-8307-5b3f94dc0e5b",
   "metadata": {},
   "source": [
    "params = fin_object.yolk_surf_params\n",
    "\n",
    "x_min, y_min = fin_points[:, 0].min(), fin_points[:, 1].min()\n",
    "x_max, y_max = fin_points[:, 0].max(), fin_points[:, 1].max()\n",
    "xc = (x_min + x_max) / 2\n",
    "xr = (x_max - x_min) / 2\n",
    "yc = (y_min + y_max) / 2\n",
    "yr = (y_max - y_min) / 2\n",
    "\n",
    "# Create a mesh grid for x and y values\n",
    "x_vals = np.linspace(xc-3*xr, xc+3*xr, 250)\n",
    "y_vals = np.linspace(yc-3*yr, yc+3*yr, 250)\n",
    "X, Y = np.meshgrid(x_vals, y_vals)\n",
    "\n",
    "yolk_xyz = np.reshape(fin_object.polyval2d(np.c_[X.ravel(), Y.ravel()], params).ravel(), (-1, 3))\n",
    "yolk_xyz_o = np.matmul(yolk_xyz - shift_ref_vec, fin_axes.T)"
   ],
   "outputs": [],
   "execution_count": null
  },
  {
   "cell_type": "code",
   "id": "c3c0fcb5-6d11-448f-987d-fa737ad7a733",
   "metadata": {},
   "source": [
    "# get points within ellipsoidal boundary\n",
    "depth_semi_axis = 20\n",
    "ap_min = 50\n",
    "dv_min = 25\n",
    "ap_semi_axis_surf = np.max([ap_axis_len, ap_min]) / 2 * 1.5\n",
    "dv_semi_axis_surf = np.max([dv_axis_len, dv_min]) / 2 * 1.5\n",
    "\n",
    "ap_semi_axis_points = np.max([ap_axis_len, ap_min]) / 2 \n",
    "dv_semi_axis_points = np.max([dv_axis_len, dv_min]) / 2 \n",
    "\n",
    "# AP piece is trivial\n",
    "ap_surf = ((yolk_xyz_o[:, 1]-surf_center_o[1]) / ap_semi_axis_surf)**2\n",
    "ap_points = ((yolk_points_o[:, 1]-surf_center_o[1]) / ap_semi_axis_points)**2\n",
    "\n",
    "# DV piece \n",
    "# dv_center = np.sum(np.dot(surf_center_o, dv_vec_base))\n",
    "dv_dist_surf = np.sum(np.multiply(yolk_xyz_o-surf_center_o, dv_vec_base[np.newaxis,:]), axis=1)\n",
    "dv_surf = ((dv_dist_surf) / dv_semi_axis_surf)**2\n",
    "dv_dist_points = np.sum(np.multiply(yolk_points_o-surf_center_o, dv_vec_base[np.newaxis,:]), axis=1)\n",
    "dv_points = ((dv_dist_points) / dv_semi_axis_points)**2\n",
    "\n",
    "# depth piece \n",
    "# depth_center = np.sum(np.dot(surf_center_o, surf_normal))\n",
    "depth_dist_surf = np.sum(np.multiply(yolk_xyz_o-surf_center_o, surf_normal[np.newaxis,:]), axis=1)\n",
    "dd_surf = ((depth_dist_surf) / depth_semi_axis)**2\n",
    "\n",
    "depth_dist_points = np.sum(np.multiply(yolk_points_o-surf_center_o, surf_normal[np.newaxis,:]), axis=1)\n",
    "dd_points = ((depth_dist_points) / depth_semi_axis)**2\n",
    "\n",
    "\n",
    "# put it all together to get cap points\n",
    "keep_flag_surf = ((ap_surf + dv_surf + dd_surf) <= 1)# & (depth_dist<0)\n",
    "keep_flag_points = ((ap_points + dv_points + dd_points) <= 1)"
   ],
   "outputs": [],
   "execution_count": null
  },
  {
   "cell_type": "code",
   "id": "0ce10000-7cbd-43ef-a454-a7e3c8bd20d7",
   "metadata": {},
   "source": [
    "np.sum(keep_flag_surf)"
   ],
   "outputs": [],
   "execution_count": null
  },
  {
   "cell_type": "code",
   "id": "c359e6d0-375c-42b9-b6ae-bd59d468616b",
   "metadata": {},
   "source": [
    "import plotly.graph_objects as go\n",
    "\n",
    "fig = go.Figure()\n",
    "fig.add_traces(go.Scatter3d(x=yolk_xyz_o[keep_flag_surf, 0], y=yolk_xyz_o[keep_flag_surf, 1], \n",
    "                            z=yolk_xyz_o[keep_flag_surf, 2], mode=\"markers\"))\n",
    "fig.add_traces(go.Scatter3d(x=yolk_points_o[keep_flag_points, 0], y=yolk_points_o[keep_flag_points, 1], \n",
    "                            z=yolk_points_o[keep_flag_points, 2], mode=\"markers\"))\n",
    "# fig.add_traces(go.Scatter3d(x=fin_df.loc[:, \"XP\"], y=fin_df.loc[:, \"YP\"], z=fin_df.loc[:, \"ZP\"], mode=\"markers\"))\n",
    "fig.update_traces(marker=dict(size=3))\n",
    "fig.update_scenes(aspectmode='data')\n",
    "fig.show()"
   ],
   "outputs": [],
   "execution_count": null
  },
  {
   "cell_type": "markdown",
   "id": "d311cc4d-afdf-4d5a-9162-c48de8169e15",
   "metadata": {},
   "source": [
    "### Load, filter, and orient nucleus centroid point cloud"
   ]
  },
  {
   "cell_type": "code",
   "id": "d6ddcd40-4250-4e5f-b561-0a0f29be6950",
   "metadata": {},
   "source": [
    "full_df = fin_object.full_point_data\n",
    "\n",
    "dist_thresh = -5\n",
    "# fin_df[\"yolk_dist\"] = -fin_df[\"yolk_dist\"]=\n",
    "fin_df.reset_index(inplace=True, drop=True)\n",
    "dist_filter = (fin_df[\"yolk_dist\"]>=dist_thresh).to_numpy()\n",
    "# fin_df_ft = fin_df.loc[dist_filter, :]\n",
    "# fin_points = fin_df_ft[[\"X\", \"Y\", \"Z\"]].to_numpy()\n",
    "nuclei_to_keep = fin_df.loc[dist_filter, \"nucleus_id\"].to_numpy()\n",
    "# # orient to biological axes\n",
    "# fin_axis_df = fin_object.axis_fin\n",
    "# fin_axes = fin_object.calculate_axis_array(fin_axis_df)\n",
    "# fin_points_pca = np.matmul(fin_points - np.mean(fin_points, axis=0), fin_axes.T)\n",
    "# fin_df_ft.loc[:, [\"XP\", \"YP\", \"ZP\"]] = fin_points_pca"
   ],
   "outputs": [],
   "execution_count": null
  },
  {
   "cell_type": "code",
   "id": "013302e3-c054-4000-8931-f21d83f6730d",
   "metadata": {},
   "source": [
    "# import plotly.express as px\n",
    "# fig = px.scatter_3d(fin_df_ft, x=\"XP\", y=\"YP\", z=\"ZP\", color=\"yolk_dist\")\n",
    "# fig.show()"
   ],
   "outputs": [],
   "execution_count": null
  },
  {
   "cell_type": "code",
   "id": "70c0bcae-a34f-4b34-8c21-6719730389c0",
   "metadata": {},
   "source": [
    "# sample nucleus boundary points from nucleus masks\n",
    "fin_df_upsamp = upsample_fin_point_cloud(fin_object, sample_res_um=0.4, root=root, points_per_nucleus=100)\n",
    "# fin_df_upsamp[[\"XP\", \"YP\", \"ZP\"]] = fin_df_upsamp[[\"XP\", \"YP\", \"ZP\"]]*0.4"
   ],
   "outputs": [],
   "execution_count": null
  },
  {
   "cell_type": "code",
   "id": "d33a0030-2a89-4723-a97c-bb41d2ac06da",
   "metadata": {},
   "source": [
    "import open3d as o3d\n",
    "\n",
    "# define a third vector that is orthognal to AP and local (base) DV)\n",
    "surf_vec_rel = np.cross([0, 1, 0], dv_vec_base)\n",
    "surf_vec_rel = surf_vec_rel / np.linalg.norm(surf_vec_rel)\n",
    "\n",
    "\n",
    "# get raw points\n",
    "nc_vec_us = fin_df_upsamp.loc[:, \"nucleus_id\"].to_numpy().astype(np.uint16)\n",
    "keep_filter = np.isin(nc_vec_us, nuclei_to_keep)\n",
    "fin_points = fin_df_upsamp.loc[keep_filter, [\"XP\", \"YP\", \"ZP\"]].to_numpy()\n",
    "\n",
    "# re-orient points to yolk frrame of reference\n",
    "rotation_matrix = np.stack([dv_vec_base, np.asarray([0, 1, 0]), surf_vec_rel], axis=1)\n",
    "# fin_points_ro = np.matmul(fin_points - surf_center_o, new_axes.T)\n",
    "fin_points_ro = np.dot(fin_points - surf_center_o, rotation_matrix)\n",
    "fin_points_ro[:, 1] = fin_points_ro[:, 1] - np.mean(fin_points_ro[:, 1])\n",
    "# convert to point cloud format\n",
    "pcd = o3d.geometry.PointCloud()\n",
    "pcd.points = o3d.utility.Vector3dVector(fin_points_ro)\n",
    "\n",
    "# resample points to be more spatially uniform\n",
    "min_distance = 0.5\n",
    "sampled_points = pcd.voxel_down_sample(voxel_size=min_distance) "
   ],
   "outputs": [],
   "execution_count": null
  },
  {
   "cell_type": "code",
   "id": "360564f6-6d3b-43ee-b896-bd0829cb9846",
   "metadata": {},
   "source": [
    "# import plotly.express as px\n",
    "# fig = px.scatter_3d(fin_df_upsamp, x=\"XP\", y=\"YP\", z=\"ZP\")\n",
    "# fig.show()"
   ],
   "outputs": [],
   "execution_count": null
  },
  {
   "cell_type": "code",
   "id": "27794563-5cda-4afd-bedc-b084ee651d3d",
   "metadata": {},
   "source": [
    "# fit a mesh \n",
    "fin_points_u = np.asarray(sampled_points.points)\n",
    "fin_hull, raw_hull, wt_flag = fit_fin_hull(fin_points_u, alpha=23, n_faces=5000)\n",
    "print(wt_flag)"
   ],
   "outputs": [],
   "execution_count": null
  },
  {
   "cell_type": "code",
   "id": "e57331ad-922e-4371-bd6f-397454ff5529",
   "metadata": {},
   "source": [
    "#igl.read_triangle_mesh(\"/home/nick/projects/flowshape/demo/ABal.obj\")\n",
    "v, f = v, f = fin_hull.vertices.copy(), fin_hull.faces.copy()\n",
    "# mp.plot(v, f, shading = {\"wireframe\":True})\n",
    "_, lines, mesh = plot_mesh(fin_hull, surf_alpha=1)\n",
    "fig = go.Figure()\n",
    "fig.add_trace(mesh)\n",
    "fig.show()"
   ],
   "outputs": [],
   "execution_count": null
  },
  {
   "cell_type": "markdown",
   "id": "de4b2f4a-b26a-4a70-9b6f-a870ef5ed196",
   "metadata": {},
   "source": [
    "### Experiment with adding an ellipsoidal cap"
   ]
  },
  {
   "cell_type": "code",
   "id": "c05b8367-370f-4ccc-862b-feaceb89ca15",
   "metadata": {},
   "source": [
    "import trimesh\n",
    "\n",
    "# Create a unit sphere (radius = 1.0)\n",
    "sphere = trimesh.creation.icosphere(radius=1.0)\n",
    "\n",
    "depth_semi_axis = 10\n",
    "# Define the semi-axis lengths for the ellipsoid\n",
    "semi_axes = np.asarray([dv_semi_axis_points*1.2, ap_semi_axis_points*1.2, depth_semi_axis]) # Example lengths for x, y, z axes\n",
    "print(semi_axes)\n",
    "# Apply scaling transformation to create an ellipsoid\n",
    "scale_matrix = np.diag(semi_axes.tolist() + [1])  # Diagonal scaling matrix for x, y, z (and 1 for homogeneous coordinates)\n",
    "ellipsoid = sphere.copy()\n",
    "ellipsoid.apply_transform(scale_matrix)\n",
    "ellipsoid.vertices = ellipsoid.vertices"
   ],
   "outputs": [],
   "execution_count": null
  },
  {
   "cell_type": "code",
   "id": "fa05736a-3730-4628-9014-eefb2ccf4a52",
   "metadata": {},
   "source": [
    "fig, _, _ = plot_mesh(ellipsoid)\n",
    "fig.update_scenes(aspectmode='data')\n",
    "fig.show()"
   ],
   "outputs": [],
   "execution_count": null
  },
  {
   "cell_type": "code",
   "id": "e1aa7939-1b55-47d6-9e71-10aee4d14390",
   "metadata": {},
   "source": [
    "combined_mesh = trimesh.boolean.union([fin_hull, ellipsoid])"
   ],
   "outputs": [],
   "execution_count": null
  },
  {
   "cell_type": "code",
   "id": "51ccc99f-0791-4860-9ad8-16b9ece83aaf",
   "metadata": {},
   "source": [
    "_, lines, mesh = plot_mesh(combined_mesh, surf_alpha=1)\n",
    "\n",
    "fig = go.Figure()\n",
    "fig.add_trace(mesh)\n",
    "fig.update_scenes(aspectmode='data')\n",
    "fig.show()"
   ],
   "outputs": [],
   "execution_count": null
  },
  {
   "cell_type": "code",
   "id": "afe35425-4175-4195-a7d9-252a309d4da4",
   "metadata": {},
   "source": [
    "import alphashape\n",
    "alpha = 24 \n",
    "smoothing_strength = 5\n",
    "xyz_fin = fin_points_ro\n",
    "n_faces = 5000\n",
    "\n",
    "# normalize for alphshape fitting\n",
    "mp = np.min(xyz_fin)\n",
    "points = xyz_fin - mp\n",
    "mmp = np.max(points)\n",
    "points = points / mmp\n",
    "\n",
    "raw_hull = alphashape.alphashape(points, alpha)\n",
    "\n",
    "raw_hull = trimesh.boolean.union([raw_hull, b_hull])\n",
    "# copy\n",
    "hull02_cc = raw_hull.copy()\n",
    "\n",
    "# keep only largest component\n",
    "hull02_cc = hull02_cc.split(only_watertight=False)\n",
    "hull02_sm = max(hull02_cc, key=lambda m: m.area)\n",
    "\n",
    "# fill holes\n",
    "hull02_sm.fill_holes()\n",
    "\n",
    "# smooth\n",
    "hull02_sm = trimesh.smoothing.filter_laplacian(hull02_sm, iterations=smoothing_strength)\n",
    "\n",
    "# resample\n",
    "n_faces = np.min([n_faces, hull02_sm.faces.shape[0]-1])\n",
    "hull02_rs = hull02_sm.simplify_quadric_decimation(face_count=n_faces)\n",
    "hull02_rs = hull02_rs.split(only_watertight=False)\n",
    "hull02_rs = max(hull02_rs, key=lambda m: m.area)\n",
    "hull02_rs.fill_holes()\n",
    "hull02_rs.fix_normals()\n",
    "\n",
    "vt = hull02_rs.vertices\n",
    "vt = vt * mmp\n",
    "vt = vt + mp\n",
    "hull02_rs.vertices = vt\n",
    "\n",
    "# check\n",
    "wt_flag = hull02_rs.is_watertight\n"
   ],
   "outputs": [],
   "execution_count": null
  },
  {
   "cell_type": "code",
   "id": "b0d8b82e-92f5-4ebe-91c1-407ff23d10a1",
   "metadata": {},
   "source": [
    "_, lines, mesh = plot_mesh(hull02_rs, surf_alpha=1)\n",
    "\n",
    "fig = go.Figure()\n",
    "fig.add_trace(mesh)\n",
    "fig.update_scenes(aspectmode='data')\n",
    "fig.show()"
   ],
   "outputs": [],
   "execution_count": null
  },
  {
   "cell_type": "markdown",
   "id": "5d1901f0-1bd5-4575-a8ae-7f6569710b60",
   "metadata": {},
   "source": [
    "### Alternative idea: use fit yolk surface"
   ]
  },
  {
   "cell_type": "code",
   "id": "68798086-dd82-45f2-b128-0c7923d606e7",
   "metadata": {},
   "source": [
    "from scipy.spatial import ConvexHull\n",
    "\n",
    "surf_points = yolk_xyz_o[keep_flag_surf, :]\n",
    "surf_points_ro = np.dot(surf_points - surf_center_o, rotation_matrix)\n",
    "surf_points_ro[:, 1] = surf_points_ro[:, 1] - np.mean(fin_points_ro[:, 1])\n",
    "\n",
    "# Compute the convex hull\n",
    "hull = ConvexHull(surf_points_ro)\n",
    "\n",
    "# Create a Trimesh mesh from the convex hull\n",
    "# vertices = surf_points #[hull.vertices]\n",
    "faces = hull.simplices  # Faces of the convex hull\n",
    "s_hull = trimesh.Trimesh(vertices=surf_points_ro, faces=faces)\n",
    "\n",
    "s_hull.fix_normals()   \n",
    "s_hull = s_hull.convex_hull   # Recompute as a watertight convex hull"
   ],
   "outputs": [],
   "execution_count": null
  },
  {
   "cell_type": "code",
   "id": "f35320ab-202b-44a8-9365-b22df6057c20",
   "metadata": {},
   "source": [
    "fig, _, _ = plot_mesh(s_hull)\n",
    "fig.update_scenes(aspectmode='data')\n",
    "fig.show()"
   ],
   "outputs": [],
   "execution_count": null
  },
  {
   "cell_type": "code",
   "id": "26bc32fe-5394-4546-a715-42f6db40cbb1",
   "metadata": {},
   "source": [
    "combined_mesh2 = trimesh.boolean.union([fin_hull, s_hull])\n",
    "\n",
    "_, lines, mesh0 = plot_mesh(combined_mesh2, surf_alpha=1)\n",
    "# _, lines, mesh0 = plot_mesh(fin_hull, surf_alpha=1)\n",
    "# _, lines, mesh1 = plot_mesh(b_hull, surf_alpha=1)\n",
    "\n",
    "fig = go.Figure()\n",
    "fig.add_trace(mesh0)\n",
    "# fig.add_trace(mesh1)\n",
    "fig.update_scenes(aspectmode='data')\n",
    "fig.show()"
   ],
   "outputs": [],
   "execution_count": null
  },
  {
   "cell_type": "code",
   "id": "2cd9c15b-85da-442a-9672-9cdcb724331b",
   "metadata": {},
   "source": [
    "from sklearn.decomposition import PCA\n",
    "\n",
    "# Example Usage\n",
    "ellipse_pca = PCA(n_components=3)\n",
    "ellipse_pca.fit(surf_points_ro)\n",
    "\n",
    "pca_axes = np.asarray(ellipse_pca.components_)\n",
    "pca_array = ellipse_pca.transform(surf_points_ro)\n",
    "pca_axis_scales = (np.max(pca_array, axis=0) - np.min(pca_array, axis=0)) / 2\n",
    "pca_axis_scales[2] = 5\n",
    "scale_matrix0 = np.multiply(pca_axes, pca_axis_scales)\n",
    "\n",
    "# Create a unit sphere (radius = 1.0)\n",
    "sphere = trimesh.creation.icosphere(radius=1.0)\n",
    "\n",
    "# depth_semi_axis = 10\n",
    "# # Define the semi-axis lengths for the ellipsoid\n",
    "# semi_axes = np.asarray([dv_semi_axis_points*1.2, ap_semi_axis_points*1.2, depth_semi_axis]) # Example lengths for x, y, z axes\n",
    "# print(semi_axes)\n",
    "# Apply scaling transformation to create an ellipsoid\n",
    "scale_matrix = np.ones((4,4))\n",
    "scale_matrix[:3, :3] = scale_matrix0\n",
    "ellipsoid = sphere.copy()\n",
    "ellipsoid.apply_transform(scale_matrix)\n",
    "ellipsoid.vertices = ellipsoid.vertices"
   ],
   "outputs": [],
   "execution_count": null
  },
  {
   "cell_type": "code",
   "id": "a5a55b40-c4b2-4445-a76a-e4dc63dca442",
   "metadata": {},
   "source": [
    "_, lines, mesh0 = plot_mesh(ellipsoid, surf_alpha=1)\n",
    "# _, lines, mesh0 = plot_mesh(fin_hull, surf_alpha=1)\n",
    "# _, lines, mesh1 = plot_mesh(b_hull, surf_alpha=1)\n",
    "\n",
    "fig = go.Figure()\n",
    "fig.add_trace(mesh0)\n",
    "# fig.add_trace(mesh1)\n",
    "fig.update_scenes(aspectmode='data')\n",
    "fig.show()"
   ],
   "outputs": [],
   "execution_count": null
  },
  {
   "cell_type": "code",
   "id": "e2213b8d-371c-4e87-b2c0-c7806bdc4576",
   "metadata": {},
   "source": [
    "combined_mesh3 = trimesh.boolean.union([fin_hull, ellipsoid])\n",
    "\n",
    "_, lines, mesh0 = plot_mesh(combined_mesh3, surf_alpha=1)\n",
    "# _, lines, mesh0 = plot_mesh(fin_hull, surf_alpha=1)\n",
    "# _, lines, mesh1 = plot_mesh(b_hull, surf_alpha=1)\n",
    "\n",
    "fig = go.Figure()\n",
    "fig.add_trace(mesh0)\n",
    "# fig.add_trace(mesh1)\n",
    "fig.update_scenes(aspectmode='data')\n",
    "fig.show()"
   ],
   "outputs": [],
   "execution_count": null
  },
  {
   "cell_type": "markdown",
   "id": "cd806611-99c0-49a7-b4c4-1fa4e73c3b20",
   "metadata": {},
   "source": [
    "### Run spherical mapping"
   ]
  },
  {
   "cell_type": "code",
   "id": "8e0c61a4-3e1a-41e6-8352-7142613ef289",
   "metadata": {},
   "source": [
    "# normalize the scaling of the mesh\n",
    "v = fs.normalize(v)\n",
    "\n",
    "# run the spherical mapping flow and mobius centering\n",
    "sv = fs.sphere_map(v, f)\n",
    "\n",
    "# Now we have a spherical mesh\n",
    "mp.plot(sv, f, shading = {\"wireframe\":True})"
   ],
   "outputs": [],
   "execution_count": null
  },
  {
   "cell_type": "markdown",
   "id": "3829beca-8399-4f07-8fd3-aa46d6fe7594",
   "metadata": {},
   "source": [
    "### Calculate the mean curvature"
   ]
  },
  {
   "cell_type": "code",
   "id": "7c745d12-1f6c-487d-842a-60394eeaa5f5",
   "metadata": {},
   "source": [
    "rho = fs.curvature_function(v, sv, f)\n",
    "\n",
    "mp.plot(v,f, rho )"
   ],
   "outputs": [],
   "execution_count": null
  },
  {
   "cell_type": "markdown",
   "id": "b9d6eb7b-cf9e-43e8-9a48-aab9ba97eacd",
   "metadata": {},
   "source": [
    "## SH decomposition"
   ]
  },
  {
   "cell_type": "code",
   "id": "15b2b75a-f5bb-4f48-9ede-20a00cfc575e",
   "metadata": {},
   "source": [
    "# this utility does the above steps + SH decomposition\n",
    "# Here, using maximum degree 24\n",
    "weights, Y_mat, vs = fs.do_mapping(v,f, l_max = 24)"
   ],
   "outputs": [],
   "execution_count": null
  },
  {
   "cell_type": "code",
   "id": "e86dc4a7-a084-47f7-81f8-c3b94588ef77",
   "metadata": {},
   "source": [
    "# This is the array of SH weights\n",
    "np.set_printoptions(threshold = 100)\n",
    "print(weights)"
   ],
   "outputs": [],
   "execution_count": null
  },
  {
   "cell_type": "code",
   "id": "b53c37a6-e9ef-4110-be75-fe9eb8df2e9d",
   "metadata": {},
   "source": [
    "# Y_mat is a matrix used to convert between weights and mesh function\n",
    "rho2 = Y_mat.dot(weights)\n",
    "mp.plot(sv,f, c = rho2)"
   ],
   "outputs": [],
   "execution_count": null
  },
  {
   "cell_type": "markdown",
   "id": "7a1faec2-b555-407a-8e8c-25c6b706d0d6",
   "metadata": {},
   "source": [
    "### Mesh reconstruction"
   ]
  },
  {
   "cell_type": "code",
   "id": "37968ad0-6e90-4f90-a9df-6fcf34f1addd",
   "metadata": {},
   "source": [
    "rec2 = fs.reconstruct_shape(sv, f, rho2 )\n",
    "mp.plot(rec2,f, c = rho2)"
   ],
   "outputs": [],
   "execution_count": null
  },
  {
   "cell_type": "markdown",
   "id": "e3c0d875-ed43-41bf-ab4f-c2967ed95405",
   "metadata": {},
   "source": [
    "### Test with lower frequencies only"
   ]
  },
  {
   "cell_type": "code",
   "id": "3bacc589-985f-46a2-bc12-ed2014c9b220",
   "metadata": {},
   "source": [
    "weights, Y_mat, vs = fs.do_mapping(v,f, l_max=4)\n",
    "rec_8 = fs.reconstruct_shape(sv, f, Y_mat.dot(weights) )\n",
    "mp.plot(rec_8, f, c = rho2)"
   ],
   "outputs": [],
   "execution_count": null
  },
  {
   "cell_type": "code",
   "id": "f342cfbb-f617-49bc-bb71-60c226eabbc7",
   "metadata": {},
   "source": [],
   "outputs": [],
   "execution_count": null
  }
 ],
 "metadata": {
  "kernelspec": {
   "display_name": "Python (flowshape-env)",
   "language": "python",
   "name": "flowshape-env"
  },
  "language_info": {
   "codemirror_mode": {
    "name": "ipython",
    "version": 3
   },
   "file_extension": ".py",
   "mimetype": "text/x-python",
   "name": "python",
   "nbconvert_exporter": "python",
   "pygments_lexer": "ipython3",
   "version": "3.10.15"
  }
 },
 "nbformat": 4,
 "nbformat_minor": 5
}
