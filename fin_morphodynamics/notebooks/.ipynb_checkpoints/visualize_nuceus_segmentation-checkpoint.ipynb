{
 "cells": [
  {
   "cell_type": "code",
   "execution_count": 11,
   "metadata": {
    "is_executing": true
   },
   "outputs": [],
   "source": [
    "import plotly.express as px\n",
    "import numpy as np\n",
    "import pandas as pd\n",
    "import os\n",
    "import glob2 as glob\n",
    "from skimage.measure import label, regionprops, regionprops_table\n",
    "import open3d as o3d\n",
    "import plotly.express as px\n",
    "from aicsimageio import AICSImage\n",
    "import os\n",
    "import skimage.io as skio"
   ]
  },
  {
   "cell_type": "code",
   "execution_count": 12,
   "metadata": {},
   "outputs": [
    {
     "name": "stdout",
     "output_type": "stream",
     "text": [
      "Extracting stats for tdTom_54hpf_pecfin_40x_well000_t000_probs.tif\n"
     ]
    }
   ],
   "source": [
    "from functions.utilities import path_leaf\n",
    "\n",
    "# data_root = \"/Users/nick/Dropbox (Cole Trapnell's Lab)/Nick/pecfin_dynamics/fin_morphodynamics/\"\n",
    "data_root = \"E:\\\\Nick\\\\Dropbox (Cole Trapnell's Lab)\\\\Nick\\\\pecfin_dynamics\\\\fin_morphodynamics\\\\\"\n",
    "date_folder = \"20230830\"\n",
    "\n",
    "# get paths to raw data and processed probability stacks\n",
    "raw_root = os.path.join(data_root, \"raw_data\", date_folder, \"\")\n",
    "built_root = os.path.join(data_root, \"built_data\", date_folder, \"\")\n",
    "nucleus_root = os.path.join(data_root, \"nucleus_data\", date_folder, \"\")\n",
    "if not os.path.isdir(nucleus_root):\n",
    "    os.makedirs(nucleus_root)\n",
    "\n",
    "# get metadata from raw file. If there arte multiple .nd2 files in single date folder, we assume that the pixel\n",
    "# sizes are the same for each\n",
    "nd2_paths = glob.glob(raw_root + \"*.nd2\")\n",
    "imObject = AICSImage(nd2_paths[0])\n",
    "\n",
    "# extract dimension info and generate a scale reference array\n",
    "pixel_res_raw = np.asarray(imObject.physical_pixel_sizes)\n",
    "im_dims = np.asarray([imObject.dims[\"Z\"][0], imObject.dims[\"Y\"][0], imObject.dims[\"X\"][0]])\n",
    "\n",
    "z_vec = np.arange(im_dims[0]) * pixel_res_raw[0]\n",
    "y_vec = np.arange(im_dims[1]) * pixel_res_raw[1]\n",
    "x_vec = np.arange(im_dims[2]) * pixel_res_raw[2]\n",
    "\n",
    "z_ref_array, y_ref_array, x_ref_array = np.meshgrid(z_vec, y_vec, x_vec, indexing=\"ij\")\n",
    "\n",
    "# get list of datasets with nucleus labels\n",
    "\n"
   ]
  },
  {
   "cell_type": "code",
   "execution_count": null,
   "metadata": {},
   "outputs": [],
   "source": [
    "import plotly.graph_objects as go\n",
    "\n",
    "image_list = sorted(glob.glob(built_root + \"*_probs.tif\"))\n",
    "\n",
    "prob_thresh = 8\n",
    "voxel_res = 2\n",
    "\n",
    "# \n",
    "im = 6\n",
    "\n",
    "prob_path = image_list[im]\n",
    "prob_name = path_leaf(prob_path)\n",
    "data_name = prob_name.replace(\"_prob.tif\", \"\")\n",
    "# data_name = prob_name.replace(\"_labels.tif\", \"\")\n",
    "# save_path = os.path.join(nucleus_root, data_name, '_nucleus_props.csv')\n",
    "\n",
    "# well number\n",
    "well_ind = prob_name.find(\"well\")\n",
    "well_num = int(prob_name[well_ind+4:well_ind+7])\n",
    "\n",
    "# time step index\n",
    "time_ind = int(prob_name[well_ind + 9:well_ind+12])\n",
    "\n",
    "# print('Extracting stats for ' + data_name)\n",
    "prob_data = skio.imread(prob_path, plugin=\"tifffile\")\n",
    "\n",
    "# extract 3D positions of each foreground pixel. This is just a high-res point cloud\n",
    "\n",
    "# nc_z = z_ref_array[np.where(prob_data > 0)]\n",
    "# nc_y = y_ref_array[np.where(prob_data > 0)]\n",
    "# nc_x = x_ref_array[np.where(prob_data > 0)]\n",
    "\n",
    "nc_z = z_ref_array[np.where(prob_data > prob_thresh)]\n",
    "nc_y = y_ref_array[np.where(prob_data > prob_thresh)]\n",
    "nc_x = x_ref_array[np.where(prob_data > prob_thresh)]\n",
    "\n",
    "# Pass xyz to Open3D.o3d.geometry.PointCloud and visualize\n",
    "xyz_array = np.concatenate((nc_x[:, np.newaxis], nc_y[:, np.newaxis], nc_z[:, np.newaxis]), axis=1)\n",
    "pcd = o3d.geometry.PointCloud()\n",
    "pcd.points = o3d.utility.Vector3dVector(xyz_array)\n",
    "pcd_ds = pcd.voxel_down_sample(voxel_size=voxel_res)\n",
    "xyz_ds = np.asarray(pcd_ds.points)\n",
    "        \n",
    "\n",
    "fig = px.scatter_3d(x=xyz_ds[:, 0], y=xyz_ds[:, 1], z=-xyz_ds[:, 2], opacity=0.5)\n",
    "# fig = go.Figure(data=go.Mesh3d(x=xyz_ds[:, 0], y=xyz_ds[:, 1], z=-xyz_ds[:, 2], opacity=0.1))\n",
    "fig.show()"
   ]
  },
  {
   "cell_type": "code",
   "execution_count": 10,
   "metadata": {},
   "outputs": [
    {
     "data": {
      "text/plain": [
       "\"E:\\\\Nick\\\\Dropbox (Cole Trapnell's Lab)\\\\Nick\\\\pecfin_dynamics\\\\fin_morphodynamics\\\\built_data\\\\20230830\\\\tdTom_54hpf_pecfin_40x_well000_t000_probs.tif\""
      ]
     },
     "execution_count": 10,
     "metadata": {},
     "output_type": "execute_result"
    }
   ],
   "source": [
    "prob_path"
   ]
  },
  {
   "cell_type": "code",
   "execution_count": null,
   "metadata": {},
   "outputs": [],
   "source": []
  }
 ],
 "metadata": {
  "kernelspec": {
   "display_name": "Python 3 (ipykernel)",
   "language": "python",
   "name": "python3"
  },
  "language_info": {
   "codemirror_mode": {
    "name": "ipython",
    "version": 3
   },
   "file_extension": ".py",
   "mimetype": "text/x-python",
   "name": "python",
   "nbconvert_exporter": "python",
   "pygments_lexer": "ipython3",
   "version": "3.10.10"
  }
 },
 "nbformat": 4,
 "nbformat_minor": 1
}
