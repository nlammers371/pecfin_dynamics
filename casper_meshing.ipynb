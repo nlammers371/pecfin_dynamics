{
 "cells": [
  {
   "cell_type": "markdown",
   "id": "0a40ace8-544d-4889-90fa-2e5e08262150",
   "metadata": {},
   "source": [
    "### Test Capser-suggested fixes on fin datasets that fail with alphashape"
   ]
  },
  {
   "cell_type": "code",
   "execution_count": 5,
   "id": "60c7fdaa-54dc-407f-b25e-2ffe6a5fb7cf",
   "metadata": {},
   "outputs": [],
   "source": [
    "import numpy as np\n",
    "import scipy\n",
    "\n",
    "from sklearn import svm\n",
    "from sklearn.linear_model import SGDOneClassSVM\n",
    "from skimage import measure\n",
    "\n",
    "# remeshing\n",
    "import pyvista\n",
    "import pyacvd\n",
    "import pymeshfix\n",
    "import igl\n",
    "\n",
    "# plotting\n",
    "import meshplot\n",
    "\n",
    "# NL additions\n",
    "import pandas as pd\n",
    "import os\n",
    "import glob2 as glob\n",
    "import trimesh"
   ]
  },
  {
   "cell_type": "code",
   "execution_count": 6,
   "id": "b0b7fae7-bedb-45a9-bf1c-db4d5e4180d1",
   "metadata": {},
   "outputs": [],
   "source": [
    "# get list of refined fin mesh objects\n",
    "root = \"/media/nick/hdd02/Cole Trapnell's Lab Dropbox/Nick Lammers/Nick/pecfin_dynamics/\"\n",
    "\n",
    "fin_mesh_list = sorted(glob.glob(os.path.join(root, \"point_cloud_data\", \"processed_fin_data\", \"*smoothed_fin_mesh*\")))\n",
    "raw_mesh_list = sorted(glob.glob(os.path.join(root, \"point_cloud_data\", \"processed_fin_data\", \"*rawfin_mesh*\")))\n",
    "fin_df_list = sorted(glob.glob(os.path.join(root, \"point_cloud_data\", \"processed_fin_data\", \"*upsampled*\")))\n",
    "fin_df_c_list = sorted(glob.glob(os.path.join(root, \"point_cloud_data\", \"processed_fin_data\", \"*data.csv\")))"
   ]
  },
  {
   "cell_type": "code",
   "execution_count": 7,
   "id": "bed9a4a3-1b03-48d3-8b1d-a18ed7e0fafd",
   "metadata": {},
   "outputs": [],
   "source": [
    "file_ind = 3\n",
    "\n",
    "fin_mesh =trimesh.load(fin_mesh_list[file_ind])\n",
    "raw_fin_mesh =trimesh.load(raw_mesh_list[file_ind])\n",
    "fin_df = pd.read_csv(fin_df_list[file_ind])\n",
    "fin_df_c = pd.read_csv(fin_df_c_list[file_ind])"
   ]
  },
  {
   "cell_type": "markdown",
   "id": "128d895a-fe70-46e8-9480-1b49a64bc651",
   "metadata": {},
   "source": [
    "### Register points to a regular 3D grid "
   ]
  },
  {
   "cell_type": "code",
   "execution_count": 8,
   "id": "aa72a2f9-ea42-434e-b23e-281b9148d0eb",
   "metadata": {},
   "outputs": [],
   "source": [
    "xyz_raw = fin_df[[\"XB\", \"YB\", \"ZB\"]].to_numpy()\n",
    "\n",
    "# mm = np.min(xyz_raw)\n",
    "# xyz = xyz_raw - mm\n",
    "# mx = np.max(xyz)\n",
    "# xyz = xyz / mx\n",
    "xyz = xyz_raw.copy()\n",
    "\n",
    "f_max = np.max(xyz, axis=0)\n",
    "f_min = np.min(xyz, axis=0)"
   ]
  },
  {
   "cell_type": "code",
   "execution_count": 9,
   "id": "768a3fb5-7552-477e-88c1-6728eaace9a8",
   "metadata": {},
   "outputs": [
    {
     "name": "stdout",
     "output_type": "stream",
     "text": [
      "[113  99  55]\n"
     ]
    }
   ],
   "source": [
    "res = np.ceil((f_max - f_min) / 1).astype(int)\n",
    "print(res)\n",
    "\n",
    "# Buid grid to evaluate SDF\n",
    "x = np.linspace(f_min[0], f_max[0], res[0])\n",
    "y = np.linspace(f_min[1], f_max[1], res[1])\n",
    "z = np.linspace(f_min[2], f_max[2], res[2])\n",
    "x_grid, y_grid, z_grid = np.meshgrid(x, y, z)#, indexing='ij')"
   ]
  },
  {
   "cell_type": "code",
   "execution_count": 10,
   "id": "f16d6299-08e4-4166-a0ab-e374367dbe5b",
   "metadata": {},
   "outputs": [
    {
     "data": {
      "text/plain": [
       "(615285,)"
      ]
     },
     "execution_count": 10,
     "metadata": {},
     "output_type": "execute_result"
    }
   ],
   "source": [
    "from scipy.spatial import KDTree\n",
    "\n",
    "# set NN grid points to 1, else 0\n",
    "xyz_array = np.c_[x_grid.ravel(), y_grid.ravel(), z_grid.ravel()]\n",
    "\n",
    "# Find the nearest points on the fin boundary for each ellipsoid boundary point\n",
    "tree = KDTree(xyz)\n",
    "distances, indices = tree.query(xyz_array)\n",
    "distances.shape"
   ]
  },
  {
   "cell_type": "code",
   "execution_count": 11,
   "id": "fec60822-06b1-4dfc-9543-d446e9b84574",
   "metadata": {},
   "outputs": [],
   "source": [
    "# p_vec = np.ones((xyz_array.shape[0],))\n",
    "d_grid =  np.reshape(distances, x_grid.shape)"
   ]
  },
  {
   "cell_type": "code",
   "execution_count": 12,
   "id": "4e5e5f45-265d-4047-bd0c-c6107bcef162",
   "metadata": {},
   "outputs": [
    {
     "data": {
      "text/plain": [
       "np.float64(19.085209309430976)"
      ]
     },
     "execution_count": 12,
     "metadata": {},
     "output_type": "execute_result"
    }
   ],
   "source": [
    "np.percentile(distances, 90)"
   ]
  },
  {
   "cell_type": "code",
   "execution_count": 13,
   "id": "7fb20d8a-639e-4fc9-8037-7cd71c4f8c63",
   "metadata": {},
   "outputs": [],
   "source": [
    "# Marching Cubes magic!\n",
    "verts, faces, _, _ = measure.marching_cubes(d_grid, level = 3, spacing = np.asarray([1.0, 1.0, 1.0]))"
   ]
  },
  {
   "cell_type": "code",
   "execution_count": 14,
   "id": "443902c4-71da-444a-9a23-a913d7010ec6",
   "metadata": {},
   "outputs": [
    {
     "data": {
      "text/plain": [
       "(55843, 3)"
      ]
     },
     "execution_count": 14,
     "metadata": {},
     "output_type": "execute_result"
    }
   ],
   "source": [
    "verts.shape"
   ]
  },
  {
   "cell_type": "code",
   "execution_count": 65,
   "id": "20951899-e885-4339-80e0-95584abe18aa",
   "metadata": {},
   "outputs": [
    {
     "data": {
      "application/vnd.jupyter.widget-view+json": {
       "model_id": "f37fdae470ba4b8ca16021397a43dbd3",
       "version_major": 2,
       "version_minor": 0
      },
      "text/plain": [
       "Renderer(camera=PerspectiveCamera(children=(DirectionalLight(color='white', intensity=0.6, position=(49.0, 56.…"
      ]
     },
     "metadata": {},
     "output_type": "display_data"
    },
    {
     "data": {
      "text/plain": [
       "<meshplot.Viewer.Viewer at 0x78e2b7e3faa0>"
      ]
     },
     "execution_count": 65,
     "metadata": {},
     "output_type": "execute_result"
    }
   ],
   "source": [
    "# marching cubes guarantees topologically correct results (very useful)\n",
    "# but that doesn't mean the mesh is going to look pretty!\n",
    "meshplot.plot(verts, faces, shading={\"wireframe\": True})"
   ]
  },
  {
   "cell_type": "code",
   "execution_count": 67,
   "id": "21b18217-5eb9-4ef3-b16f-4d70387d3065",
   "metadata": {},
   "outputs": [],
   "source": [
    "# util functions for converting to and from Pyvista mesh format\n",
    "def mesh_to_pyvista(v, f):\n",
    "    n, m = f.shape\n",
    "    threes = np.full((n, 1), 3)\n",
    "    face_arr = np.hstack((threes, f)).flatten()\n",
    "    return pyvista.PolyData(v, face_arr)\n",
    "\n",
    "\n",
    "def pyvista_to_mesh(mesh):\n",
    "    v = mesh.points\n",
    "    f = mesh.faces.reshape(-1, 4)[:, 1:4]\n",
    "    return v, f\n"
   ]
  },
  {
   "cell_type": "code",
   "execution_count": 70,
   "id": "0d7d9af6-babc-4df2-b673-7fbff6ae8bfa",
   "metadata": {},
   "outputs": [],
   "source": [
    "# this can give a depreciation warning but it is fine\n",
    "mesh = mesh_to_pyvista(verts, faces)\n",
    "\n",
    "# target mesh resolution\n",
    "target_verts = 2500\n",
    "\n",
    "clus = pyacvd.Clustering(mesh)\n",
    "clus.subdivide(2)\n",
    "clus.cluster(target_verts)\n",
    "\n",
    "remesh = clus.create_mesh()\n",
    "\n",
    "v2, f2 = pyvista_to_mesh(remesh)\n",
    "\n",
    "# pymeshfix is often necessary here to get rid of non-manifold vertices\n",
    "v2, f2 = pymeshfix.clean_from_arrays(v2, f2)"
   ]
  },
  {
   "cell_type": "code",
   "execution_count": 71,
   "id": "b582ebb7-ada4-4801-a748-50f3b51282d6",
   "metadata": {},
   "outputs": [
    {
     "data": {
      "application/vnd.jupyter.widget-view+json": {
       "model_id": "04f9ccd8d2364bd9aefca8ca805d6a35",
       "version_major": 2,
       "version_minor": 0
      },
      "text/plain": [
       "Renderer(camera=PerspectiveCamera(children=(DirectionalLight(color='white', intensity=0.6, position=(48.962877…"
      ]
     },
     "metadata": {},
     "output_type": "display_data"
    }
   ],
   "source": [
    "p = meshplot.plot(v2, f2, shading={\"wireframe\": True})"
   ]
  },
  {
   "cell_type": "code",
   "execution_count": null,
   "id": "08a81499-be8d-4952-8f06-975b9e6000b9",
   "metadata": {},
   "outputs": [],
   "source": [
    "vo, fo = fin_mesh.vertices, raw_fin_mesh.faces\n",
    "\n",
    "# this can give a depreciation warning but it is fine\n",
    "mesh = mesh_to_pyvista(vo, fo)\n",
    "\n",
    "# target mesh resolution\n",
    "target_verts = 2500\n",
    "\n",
    "clus = pyacvd.Clustering(mesh)\n",
    "clus.subdivide(2)\n",
    "clus.cluster(target_verts)\n",
    "\n",
    "remesh = clus.create_mesh()\n",
    "\n",
    "v2, f2 = pyvista_to_mesh(remesh)\n",
    "\n",
    "# pymeshfix is often necessary here to get rid of non-manifold vertices\n",
    "v2, f2 = pymeshfix.clean_from_arrays(v2, f2)"
   ]
  },
  {
   "cell_type": "code",
   "execution_count": null,
   "id": "cfccdeec-e874-4db1-ba96-474d68bf6c26",
   "metadata": {},
   "outputs": [],
   "source": [
    "p = meshplot.plot(v2, f2, shading={\"wireframe\": True})"
   ]
  },
  {
   "cell_type": "code",
   "execution_count": 76,
   "id": "68fc1ebc-6d87-4cf0-b200-bca8dcd060da",
   "metadata": {},
   "outputs": [
    {
     "data": {
      "text/plain": [
       "True"
      ]
     },
     "execution_count": 76,
     "metadata": {},
     "output_type": "execute_result"
    }
   ],
   "source": [
    "mesh = trimesh.Trimesh(vertices=v2, faces=f2)\n",
    "mesh.is_watertight"
   ]
  },
  {
   "cell_type": "code",
   "execution_count": 77,
   "id": "0cdb1458-bb8e-4daf-995e-83068671e1d7",
   "metadata": {},
   "outputs": [
    {
     "data": {
      "text/plain": [
       "(2488, 3)"
      ]
     },
     "execution_count": 77,
     "metadata": {},
     "output_type": "execute_result"
    }
   ],
   "source": [
    "mesh.vertices.shape"
   ]
  },
  {
   "cell_type": "code",
   "execution_count": 16,
   "id": "0913fe67-ba8b-4e5e-a0a5-31cd315952e2",
   "metadata": {},
   "outputs": [
    {
     "name": "stderr",
     "output_type": "stream",
     "text": [
      "WARNING:root:Singular matrix. Likely caused by all points lying in an N-1 space.\n",
      "WARNING:root:Singular matrix. Likely caused by all points lying in an N-1 space.\n",
      "WARNING:root:Singular matrix. Likely caused by all points lying in an N-1 space.\n",
      "WARNING:root:Singular matrix. Likely caused by all points lying in an N-1 space.\n",
      "WARNING:root:Singular matrix. Likely caused by all points lying in an N-1 space.\n"
     ]
    }
   ],
   "source": [
    "import alphashape \n",
    "\n",
    "test = alphashape.alphashape(verts, alpha=20)"
   ]
  },
  {
   "cell_type": "code",
   "execution_count": 19,
   "id": "915ee86b-8b37-4f49-b9d4-60517c61d26d",
   "metadata": {},
   "outputs": [
    {
     "data": {
      "text/plain": [
       "(2499, 3)"
      ]
     },
     "execution_count": 19,
     "metadata": {},
     "output_type": "execute_result"
    }
   ],
   "source": [
    "fin_mesh.vertices.shape"
   ]
  },
  {
   "cell_type": "code",
   "execution_count": null,
   "id": "2e496e50-b479-4ae2-8f8d-c84035c44fe2",
   "metadata": {},
   "outputs": [],
   "source": []
  }
 ],
 "metadata": {
  "kernelspec": {
   "display_name": "Python (meshing)",
   "language": "python",
   "name": "meshing"
  },
  "language_info": {
   "codemirror_mode": {
    "name": "ipython",
    "version": 3
   },
   "file_extension": ".py",
   "mimetype": "text/x-python",
   "name": "python",
   "nbconvert_exporter": "python",
   "pygments_lexer": "ipython3",
   "version": "3.12.2"
  }
 },
 "nbformat": 4,
 "nbformat_minor": 5
}
