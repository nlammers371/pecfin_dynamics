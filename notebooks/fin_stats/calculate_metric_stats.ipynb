{
 "cells": [
  {
   "cell_type": "code",
   "execution_count": 1,
   "id": "0d9b5d00-d156-4d69-88e1-c009da523d37",
   "metadata": {},
   "outputs": [],
   "source": [
    "from src.utilities.plotting_utils import get_chemi_colors\n",
    "import os\n",
    "import plotly\n",
    "import plotly.graph_objects as go\n",
    "from IPython.display import display, HTML\n",
    "import numpy as np\n",
    "import os\n",
    "import pandas as pd\n",
    "from src.utilities.fin_shape_utils import plot_mesh\n",
    "from src.utilities.fin_class_def import FinData\n",
    "from src.utilities.functions import path_leaf\n",
    "import glob2 as glob\n",
    "import trimesh\n",
    "from tqdm import tqdm"
   ]
  },
  {
   "cell_type": "code",
   "execution_count": 6,
   "id": "6a5646db-7719-4e3b-97b0-1b42598809fb",
   "metadata": {},
   "outputs": [],
   "source": [
    "# get list of refined fin mesh objects\n",
    "# root = \"/media/nick/hdd02/Cole Trapnell's Lab Dropbox/Nick Lammers/Nick/pecfin_dynamics/\"\n",
    "root = \"/Users/nick/Cole Trapnell's Lab Dropbox/Nick Lammers/Nick/pecfin_dynamics/\"\n",
    "\n",
    "# set write directory\n",
    "read_dir = os.path.join(root, \"point_cloud_data\", \"fin_shape_analyses\")\n",
    "\n",
    "figure_path = os.path.join(read_dir, \"figures\", \"fin_stats\")\n",
    "os.makedirs(figure_path, exist_ok=True)\n",
    "    \n",
    "# Load EMD data\n",
    "dist_df = pd.read_csv(os.path.join(read_dir, \"emd_dist_df.csv\"))\n",
    "# nan_ft = (dist_df[\"chem_i\"].astype(str)!=\"nan\").to_numpy()\n",
    "# dist_df = dist_df.loc[nan_ft, :]\n",
    "\n",
    "dist_arr0 = np.load(os.path.join(read_dir, \"surf_dist_arr.npy\"))\n",
    "dist_arr1 = np.load(os.path.join(read_dir, \"centroid_dist_arr.npy\"))\n",
    "dist_arr2 = np.load(os.path.join(read_dir, \"surf_dist_norm_arr.npy\"))\n",
    "dist_arr3 = np.load(os.path.join(read_dir, \"centroid_dist_norm_arr.npy\"))\n",
    "\n",
    "\n",
    "# load other fin stats\n",
    "fin_stats_df = pd.read_csv(os.path.join(root, \"metadata\", \"fin_stats.csv\"))\n",
    "fin_stats_df [\"experiment_date\"] = fin_stats_df[\"experiment_date\"].astype(str)\n",
    "\n",
    "fin_stats_df = fin_stats_df.loc[fin_stats_df[\"chem_i\"].astype(str)!=\"nan\", :]\n",
    "\n",
    "# add cohort info\n",
    "dist_df.loc[dist_df[\"estimated_stage_hpf\"] < 55, \"cohort\"] = \"48 hpf\"\n",
    "dist_df.loc[dist_df[\"estimated_stage_hpf\"] > 55, \"cohort\"] = \"72 hpf\"\n",
    "\n",
    "fin_stats_df.loc[fin_stats_df[\"estimated_stage_hpf\"] < 55, \"cohort\"] = \"48 hpf\"\n",
    "fin_stats_df.loc[fin_stats_df[\"estimated_stage_hpf\"] > 55, \"cohort\"] = \"72 hpf\""
   ]
  },
  {
   "cell_type": "code",
   "execution_count": 7,
   "id": "a855e37c-745e-4cc7-8609-986dcd82fc5c",
   "metadata": {},
   "outputs": [],
   "source": [
    "dist_arr0[np.eye(dist_arr0.shape[0])==1] = np.nan\n",
    "dist_arr1[np.eye(dist_arr0.shape[0])==1] = np.nan\n",
    "dist_arr2[np.eye(dist_arr0.shape[0])==1] = np.nan\n",
    "dist_arr3[np.eye(dist_arr0.shape[0])==1] = np.nan"
   ]
  },
  {
   "cell_type": "markdown",
   "id": "b59689de-027b-4a86-9068-abf9f40b49d1",
   "metadata": {},
   "source": [
    "### Let's see if random partitioning tests lead to sensible p-values"
   ]
  },
  {
   "cell_type": "code",
   "execution_count": 8,
   "id": "2b5fa143-10bb-4fae-9ec8-1310125ff776",
   "metadata": {},
   "outputs": [],
   "source": [
    "def permutation_test(distances_group1, distances_group2, n_permutations=1000):\n",
    "    observed_difference = np.mean(distances_group1) - np.mean(distances_group2)\n",
    "    combined = np.concatenate([distances_group1, distances_group2])\n",
    "    count = 0\n",
    "    for _ in range(n_permutations):\n",
    "        permuted = np.random.permutation(combined)\n",
    "        perm_group1 = permuted[:len(distances_group1)]\n",
    "        perm_group2 = permuted[len(distances_group1):]\n",
    "        if np.abs(np.mean(perm_group1) - np.mean(perm_group2)) >= np.abs(observed_difference):\n",
    "            count += 1\n",
    "    return count / n_permutations"
   ]
  },
  {
   "cell_type": "markdown",
   "id": "ee934823-893a-4d0f-8f47-3764c1c7d98c",
   "metadata": {},
   "source": [
    "#### get p values for length, width, and volume"
   ]
  },
  {
   "cell_type": "code",
   "execution_count": 9,
   "id": "c1c12e88-02d9-4e0d-9775-c930f787d79b",
   "metadata": {},
   "outputs": [
    {
     "name": "stderr",
     "output_type": "stream",
     "text": [
      "100%|██████████| 3/3 [00:01<00:00,  2.90it/s]\n"
     ]
    }
   ],
   "source": [
    "# initialize summary stat table\n",
    "# pert_index, pi = np.unique(dist_df[\"chem_i\"].to_numpy(), return_index=True)\n",
    "summary_df = fin_stats_df.loc[:, [\"chem_i\", \"cohort\", \"chem_id\", \"chem_time\"]].drop_duplicates(subset=[\"chem_i\", \"cohort\"]).reset_index(drop=True)\n",
    "summary_df.sort_values(by=[\"chem_i\", \"cohort\", \"chem_time\"], inplace=True)\n",
    "\n",
    "# stats to look at\n",
    "stat_list = [\"volume_um3\", \"length_um\", \"width_um\"]\n",
    "cohort_list = [\"48 hpf\", \"72 hpf\"]\n",
    "\n",
    "# get ref flags\n",
    "wt_filter = fin_stats_df[\"chem_id\"]==\"DMSO\"\n",
    "outlier_flag = (fin_stats_df[\"well_index\"]==15) & (fin_stats_df[\"experiment_date\"]==\"20240711_01\")\n",
    "ref_flags = (wt_filter & (~outlier_flag)).to_numpy()\n",
    "\n",
    "# iterate\n",
    "for s, stat in enumerate(tqdm(stat_list)):\n",
    "    for i in range(summary_df.shape[0]):\n",
    "        \n",
    "        cohort = summary_df.loc[i, \"cohort\"]\n",
    "        cohort_flags = (fin_stats_df[\"cohort\"]==cohort).to_numpy()\n",
    "        \n",
    "        ref_vals = fin_stats_df.loc[ref_flags & cohort_flags, stat].to_numpy()\n",
    "    \n",
    "        pert = summary_df.loc[i, \"chem_i\"]\n",
    "        pert_flags = (fin_stats_df[\"chem_i\"]==pert).to_numpy()\n",
    "        pert_vals = fin_stats_df.loc[pert_flags & cohort_flags, stat].to_numpy()\n",
    "        N = len(pert_vals)\n",
    "        if N < 3:\n",
    "            p_val = np.nan\n",
    "        else:\n",
    "            p_val = permutation_test(ref_vals, pert_vals)\n",
    "\n",
    "        summary_df.loc[i, stat] = np.mean(pert_vals)\n",
    "        summary_df.loc[i, stat + \"_ste\"] = np.std(pert_vals) / np.sqrt(N)\n",
    "        summary_df.loc[i, stat + \"_p\"] = p_val"
   ]
  },
  {
   "cell_type": "code",
   "execution_count": 10,
   "id": "3a62444f-3141-4152-8615-142ffcf6d998",
   "metadata": {},
   "outputs": [],
   "source": [
    "# add flags for plotting\n",
    "for stat in stat_list:\n",
    "    p_vec = summary_df[stat + \"_p\"].to_numpy() \n",
    "    p_flag = np.ones((p_vec.shape[0],), dtype=np.uint8)\n",
    "    p_flag[p_vec<0.01] = 2\n",
    "    p_flag[np.isnan(p_vec)] = 0\n",
    "    summary_df[stat + \"_p_flag\"] = p_flag"
   ]
  },
  {
   "cell_type": "markdown",
   "id": "1caa2965-bd90-4b46-bea7-04fb17fe7740",
   "metadata": {},
   "source": [
    "### Plot basic fin stats"
   ]
  },
  {
   "cell_type": "code",
   "execution_count": 11,
   "id": "ea283240-d834-4ebd-874f-3a2fc73d8c2f",
   "metadata": {},
   "outputs": [],
   "source": [
    "color_dict = get_chemi_colors()\n",
    "pert_key = summary_df[\"chem_i\"].unique()\n",
    "op_dict = [0.5, 0.5, 1]\n",
    "lw_dict = [1, 2, 3]\n",
    "\n",
    "stat_list = [\"volume_um3\", \"length_um\", \"width_um\"]#, \"n_nuclei\", \"aspect\"]\n",
    "y_axis_list = [r'$\\text{fin volume (} \\mu m^3 \\text{)}$', \n",
    "               r'$\\text{P-D axis length (} \\mu m \\text{)}$',\n",
    "               r'$\\text{L-R axis width (} \\mu m \\text{)}$']\n",
    "\n",
    "\n",
    "for s, stat in enumerate(stat_list):\n",
    "    for tg in [cohort_list[0]]:\n",
    "        \n",
    "        # get upper and lower quartile estimates for DMSO control\n",
    "        dmso_ft = (fin_stats_df[\"chem_id\"] == \"DMSO\") & (fin_stats_df[\"cohort\"] == tg) & (~outlier_flag)\n",
    "        q1 = np.percentile(fin_stats_df.loc[dmso_ft, stat], 25)\n",
    "        q3 = np.percentile(fin_stats_df.loc[dmso_ft, stat], 75)\n",
    "        \n",
    "        \n",
    "        fig = go.Figure()\n",
    "        \n",
    "        for p, pert in enumerate(pert_key):\n",
    "            if \"DMSO\" not in pert:\n",
    "                ft = (fin_stats_df[\"chem_i\"] == pert) & (fin_stats_df[\"cohort\"] == tg) & (~outlier_flag)\n",
    "                ft2 = (summary_df[\"chem_i\"] == pert) & (summary_df[\"cohort\"] == tg)\n",
    "                if np.any(ft):\n",
    "                    p = summary_df.loc[ft2, stat + \"_p_flag\"].to_numpy()[0]\n",
    "                    \n",
    "                    indices = fin_stats_df.index[ft]\n",
    "                    chem_i = fin_stats_df.loc[indices[0], \"chem_i\"]\n",
    "                    time = fin_stats_df.loc[indices[0], \"chem_time\"]\n",
    "                    name = fin_stats_df.loc[indices[0], \"chem_id\"] + f\" ({time} hpf)\"\n",
    "                    fig.add_trace(go.Box(\n",
    "                        y=fin_stats_df.loc[ft, stat],\n",
    "                        x=fin_stats_df.loc[ft, \"cohort\"],\n",
    "                        showlegend=False,\n",
    "                        name=name,\n",
    "                        marker_color=color_dict[chem_i], \n",
    "                        fillcolor=color_dict[chem_i],\n",
    "                        opacity=op_dict[p],\n",
    "                        line=dict(color=\"black\", width=lw_dict[p])\n",
    "                    ))\n",
    "        \n",
    "        fig.add_hrect(y0=q1, y1=q3, line_width=1, fillcolor=\"gray\", opacity=0.3, line_color=\"black\")\n",
    "        \n",
    "        fig.update_layout(\n",
    "            yaxis_title=y_axis_list[s],\n",
    "            boxmode='group',\n",
    "            autosize=False,\n",
    "            width=1000,\n",
    "            height=600,# group together boxes of the different traces for each value of x\n",
    "        )\n",
    "\n",
    "        # fig.update_layout(yaxis=dict(range=[0, 0.05]))\n",
    "        # fig.show()\n",
    "        file_name = f\"box_plot_{stat}_{tg}.png\" \n",
    "        fig.write_image(os.path.join(figure_path, file_name), scale=3)"
   ]
  },
  {
   "cell_type": "markdown",
   "id": "b36e8bc5-1183-4217-b284-b39e35f1e809",
   "metadata": {},
   "source": [
    "### Now calculate stats for distances"
   ]
  },
  {
   "cell_type": "code",
   "execution_count": 12,
   "id": "7d955bdf-1016-41f2-922d-3a9367fd1e29",
   "metadata": {},
   "outputs": [],
   "source": [
    "def permutation_test_dist(comp_indices, ref_indices, dist_array, n_permutations=10000):\n",
    "\n",
    "    # comp <-> ref\n",
    "    dist_block0 = dist_array[comp_indices, :]\n",
    "    dist_block0 = dist_block0[:, ref_indices]\n",
    "    dist_vec0 = dist_block0[~np.isnan(dist_block0)].ravel()\n",
    "\n",
    "    # ref <-> ref (Null)\n",
    "    dist_block1 = dist_array[ref_indices, :]\n",
    "    dist_block1 = dist_block1[:, ref_indices]\n",
    "    dist_vec1 = dist_block1[~np.isnan(dist_block1)].ravel()\n",
    "    \n",
    "    count = 0\n",
    "    delta_vec = []\n",
    "    for _ in range(n_permutations):\n",
    "\n",
    "        # take bootstrap samples\n",
    "        boot0 = np.random.choice(dist_vec0, len(dist_vec0), replace=True)\n",
    "        boot1 = np.random.choice(dist_vec1, len(dist_vec0), replace=True)\n",
    "\n",
    "        delta_vec.append(np.mean(boot0) - np.mean(boot1))\n",
    "\n",
    "    delta_vec = np.asarray(delta_vec)\n",
    "    return np.mean(delta_vec <= 0), delta_vec#, observed_difference"
   ]
  },
  {
   "cell_type": "code",
   "execution_count": 13,
   "id": "b6ec2190-4edb-4f85-8a64-7575331e3ffe",
   "metadata": {},
   "outputs": [
    {
     "name": "stderr",
     "output_type": "stream",
     "text": [
      "100%|██████████| 48/48 [00:30<00:00,  1.60it/s]\n"
     ]
    }
   ],
   "source": [
    "# get ref flags\n",
    "wt_filter2 = dist_df[\"chem_id\"]==\"DMSO\"\n",
    "outlier_flag2 = (dist_df[\"well_index\"]==15) & (dist_df[\"experiment_date\"]==\"20240711_01\")\n",
    "ref_flags2 = (wt_filter2 & (~outlier_flag2)).to_numpy()\n",
    "\n",
    "\n",
    "# iterate\n",
    "\n",
    "for i in tqdm(range(summary_df.shape[0])):\n",
    "        \n",
    "    cohort = summary_df.loc[i, \"cohort\"]\n",
    "    cohort_flags = (dist_df[\"cohort\"]==cohort).to_numpy()\n",
    "    ref_indices = np.where(ref_flags2 & cohort_flags)[0]\n",
    "    # ref_vals = dist_df.loc[ref_flags2 & cohort_flags, stat].to_numpy()\n",
    "    \n",
    "    pert = summary_df.loc[i, \"chem_i\"]\n",
    "    pert_indices = np.where(cohort_flags & (dist_df[\"chem_i\"]==pert).to_numpy() & (~outlier_flag2))[0]\n",
    "\n",
    "    # ref_indices = ref_indices[~np.isin(ref_indices, pert_indices)]\n",
    "    # pert_vals = dist_df.loc[pert_flags & cohort_flags, stat].to_numpy()\n",
    "    N = len(pert_indices)\n",
    "    if N < 3:\n",
    "        p_val0, p_val1, p_val2, p_val3 = np.nan, np.nan, np.nan, np.nan\n",
    "    else:\n",
    "        p_val0, _ = permutation_test_dist(pert_indices, ref_indices, dist_arr0)\n",
    "        p_val1, _ = permutation_test_dist(pert_indices, ref_indices, dist_arr1)\n",
    "        p_val2, _ = permutation_test_dist(pert_indices, ref_indices, dist_arr2)\n",
    "        p_val3, _ = permutation_test_dist(pert_indices, ref_indices, dist_arr3)\n",
    "    \n",
    "    \n",
    "    summary_df.loc[i,  \"dist0_p\"] = p_val0\n",
    "    summary_df.loc[i,  \"dist1_p\"] = p_val1\n",
    "    summary_df.loc[i,  \"dist2_p\"] = p_val2\n",
    "    summary_df.loc[i,  \"dist3_p\"] = p_val3"
   ]
  },
  {
   "cell_type": "code",
   "execution_count": 14,
   "id": "85dc61ca-c40b-4803-9c4d-68bf3e2739d1",
   "metadata": {},
   "outputs": [],
   "source": [
    "# add flags for plotting\n",
    "stat_list = [\"dist0\", \"dist1\", \"dist2\", \"dist3\"]\n",
    "\n",
    "for stat in stat_list:\n",
    "    p_vec = summary_df[stat + \"_p\"].to_numpy() \n",
    "    p_flag = np.ones((p_vec.shape[0],), dtype=np.uint8)\n",
    "    p_flag[p_vec<0.01] = 2\n",
    "    p_flag[np.isnan(p_vec)] = 0\n",
    "    summary_df[stat + \"_p_flag\"] = p_flag"
   ]
  },
  {
   "cell_type": "markdown",
   "id": "450b15fb-2827-40a2-a5ce-bc77d03222a2",
   "metadata": {},
   "source": [
    "### Plot fancy stats"
   ]
  },
  {
   "cell_type": "code",
   "execution_count": 16,
   "id": "dc869e57-2f26-4fa8-80ab-0df110d61318",
   "metadata": {},
   "outputs": [],
   "source": [
    "color_dict = get_chemi_colors()\n",
    "pert_key = summary_df[\"chem_i\"].unique()\n",
    "op_dict = [0.5, 0.5, 1]\n",
    "lw_dict = [1, 2, 3]\n",
    "\n",
    "stat_list = [\"dist0\", \"dist1\", \"dist2\", \"dist3\"]#, \"n_nuclei\", \"aspect\"]\n",
    "y_axis_list = [r\"Earth mover's distance (surface points)\", \n",
    "               r\"Earth mover's distance (nuclei)\",\n",
    "               r\"Earth mover's distance (normed surface points)\",\n",
    "               r\"Earth mover's distance (normed nuclei)\"]\n",
    "\n",
    "\n",
    "for s, stat in enumerate(stat_list):\n",
    "    for tg in [cohort_list[0]]:\n",
    "\n",
    "        if stat == \"dist0\":\n",
    "            temp_array = dist_arr0\n",
    "        elif stat == \"dist1\":\n",
    "            temp_array = dist_arr1\n",
    "        elif stat == \"dist2\":\n",
    "            temp_array = dist_arr2\n",
    "        elif stat == \"dist3\":\n",
    "            temp_array = dist_arr3\n",
    "        \n",
    "        # get upper and lower quartile estimates for DMSO control\n",
    "        dmso_ft = (dist_df[\"chem_id\"] == \"DMSO\") & (dist_df[\"cohort\"] == tg) & (~outlier_flag2)\n",
    "        dmso_block = temp_array[dmso_ft, :]\n",
    "        dmso_block = np.nanmean(dmso_block[:, dmso_ft], axis=0)\n",
    "        norm_factor = np.mean(dmso_block)\n",
    "        # dmso_block = dmso_block[~np.isnan(dmso_block)]\n",
    "        q1 = np.percentile(dmso_block, 25) / norm_factor\n",
    "        q3 = np.percentile(dmso_block, 75) / norm_factor\n",
    "         \n",
    "        fig = go.Figure()\n",
    "        for p, pert in enumerate(pert_key):\n",
    "            if \"DMSO\" not in pert:\n",
    "                \n",
    "                ft = (dist_df[\"chem_i\"] == pert) & (dist_df[\"cohort\"] == tg) & (~outlier_flag2)\n",
    "                pert_block = temp_array[ft, :]\n",
    "                pert_block = np.nanmean(pert_block[:, dmso_ft], axis=0)#.ravel()\n",
    "                pert_block = pert_block[~np.isnan(pert_block)] / norm_factor\n",
    "        \n",
    "                ft2 = (summary_df[\"chem_i\"] == pert) & (summary_df[\"cohort\"] == tg)\n",
    "                if np.any(ft):\n",
    "                    p = summary_df.loc[ft2, stat + \"_p_flag\"].to_numpy()[0]\n",
    "                    \n",
    "                    indices = dist_df.index[ft]\n",
    "                    chem_i = dist_df.loc[indices[0], \"chem_i\"]\n",
    "                    time = dist_df.loc[indices[0], \"chem_time\"]\n",
    "                    name = dist_df.loc[indices[0], \"chem_id\"] + f\" ({time} hpf)\"\n",
    "\n",
    "                    c_vec = [tg] * len(pert_block)\n",
    "                    fig.add_trace(go.Box(\n",
    "                        y=pert_block,\n",
    "                        x=c_vec,\n",
    "                        showlegend=False,\n",
    "                        name=name,\n",
    "                        marker_color=color_dict[chem_i], \n",
    "                        fillcolor=color_dict[chem_i],\n",
    "                        opacity=op_dict[p],\n",
    "                        line=dict(color=\"black\", width=lw_dict[p])\n",
    "                    ))\n",
    "        \n",
    "        fig.add_hrect(y0=q1, y1=q3, line_width=1, fillcolor=\"gray\", opacity=0.3, line_color=\"black\")\n",
    "        \n",
    "        fig.update_layout(\n",
    "            yaxis_title=y_axis_list[s],\n",
    "            boxmode='group',\n",
    "            autosize=False,\n",
    "            width=1000,\n",
    "            height=600,# group together boxes of the different traces for each value of x\n",
    "        )\n",
    "\n",
    "        fig.update_layout(\n",
    "            yaxis=dict(\n",
    "                type='log'\n",
    "            ))\n",
    "        # fig.update_layout(yaxis=dict(range=[0, 40]))\n",
    "        # fig.update_layout(yaxis=dict(range=[0, 0.05]))\n",
    "        # fig.show()\n",
    "        file_name = f\"box_plot_{stat}_{tg}.png\" \n",
    "        fig.write_image(os.path.join(figure_path, file_name), scale=3)"
   ]
  },
  {
   "cell_type": "code",
   "execution_count": 12,
   "id": "dd180952-515f-4afc-9bc0-6431e8d3928e",
   "metadata": {},
   "outputs": [],
   "source": [
    "# color_dict = get_chemi_colors()\n",
    "# pert_key = summary_df[\"chem_i\"].unique()\n",
    "# symbol_dict = {0: 'circle-open', 1: 'circle', 2:'diamond'}\n",
    "\n",
    "# stat_list = [\"volume_um3\"]#, \"length_um\", \"width_um\", \"n_nuclei\", \"aspect\"]\n",
    "# y_axis_list = [r'$\\text{fin volume (} \\mu m^3 \\text{)}$', \n",
    "#                r'$\\text{P-D axis length (} \\mu m \\text{)}$',\n",
    "#                r'$\\text{L-R axis width (} \\mu m \\text{)}$']\n",
    "\n",
    "# for s, stat in enumerate(stat_list):\n",
    "#     for tg in [cohort_list[1]]:\n",
    "        \n",
    "#         # get upper and lower quartile estimates for DMSO control\n",
    "#         dmso_ft = np.where((summary_df[\"chem_id\"] == \"DMSO\") & (summary_df[\"cohort\"] == tg))[0]\n",
    "#         q1 = summary_df.loc[dmso_ft[0], stat] - summary_df.loc[dmso_ft[0], stat + \"_ste\"]\n",
    "#         q3 = summary_df.loc[dmso_ft[0], stat] + summary_df.loc[dmso_ft[0], stat + \"_ste\"]\n",
    "        \n",
    "        \n",
    "#         fig = go.Figure()\n",
    "\n",
    "#         # make lines\n",
    "#         iter_i = 0\n",
    "#         vals = []\n",
    "#         for p, pert in enumerate(pert_key):\n",
    "#             if \"DMSO\" not in pert:\n",
    "#                 ft = (summary_df[\"chem_i\"] == pert) & (summary_df[\"cohort\"] == tg) \n",
    "#                 if np.any(ft):\n",
    "#                     y = summary_df.loc[ft, stat].to_numpy()\n",
    "#                     vals.append(y[0])\n",
    "\n",
    "#                 iter_i +=1\n",
    "#                 if (iter_i > 0) & (iter_i % 4 == 0):\n",
    "#                     fig.add_trace(go.Scatter(x=np.arange(iter_i-4, iter_i), y=vals, mode=\"lines\", line=dict(color=\"black\")))\n",
    "#                     vals = []\n",
    "                    \n",
    "                \n",
    "\n",
    "        \n",
    "#         iter_i = 0\n",
    "\n",
    "#         for p, pert in enumerate(pert_key):\n",
    "#             if \"DMSO\" not in pert:\n",
    "#                 ft = (summary_df[\"chem_i\"] == pert) & (summary_df[\"cohort\"] == tg) \n",
    "#                 if np.any(ft):\n",
    "#                     indices = summary_df.index[ft]\n",
    "#                     chem_i = summary_df.loc[indices[0], \"chem_i\"]\n",
    "#                     time = float(summary_df.loc[indices[0], \"chem_time\"])\n",
    "#                     name = summary_df.loc[indices[0], \"chem_id\"] + f\" ({time} hpf)\"\n",
    "#                     p = summary_df.loc[indices[0], stat + \"_p_flag\"] \n",
    "#                     x = iter_i #4*iter_i + (time / 6 - 3)\n",
    "#                     y = summary_df.loc[ft, stat].to_numpy()\n",
    "#                     # vals.append(y[0])\n",
    "#                     fig.add_trace(go.Scatter(\n",
    "#                         y=y,\n",
    "#                         x=[x],\n",
    "#                         error_y=dict(\n",
    "#                             type='data',\n",
    "#                             array=summary_df.loc[ft, stat + '_ste'].to_numpy(),  # Standard error values\n",
    "#                             visible=True\n",
    "#                         ),\n",
    "#                         marker=dict(color=color_dict[chem_i], symbol=symbol_dict[int(p)], size=10, line=dict(color=\"black\", width=1))\n",
    "#                     ))\n",
    "#                 iter_i += 1\n",
    "                \n",
    "                \n",
    "                \n",
    "#         fig.add_hrect(y0=q1, y1=q3, line_width=1, fillcolor=\"gray\", opacity=0.3, line_color=\"black\")\n",
    "        \n",
    "#         fig.update_layout(\n",
    "#             yaxis_title=y_axis_list[s],\n",
    "#             boxmode='group',\n",
    "#             autosize=False,\n",
    "#             width=1000,\n",
    "#             height=600,# group together boxes of the different traces for each value of x\n",
    "#         )\n",
    "\n",
    "#         # fig.update_layout(yaxis=dict(range=[0, 0.05]))\n",
    "#         fig.show()\n",
    "#         # file_name = f\"box_plot_{stat}_{tg}.png\" \n",
    "#         # fig.write_image(os.path.join(fig_path, file_name))"
   ]
  },
  {
   "cell_type": "code",
   "execution_count": 26,
   "id": "5cf61bba-f93e-42ad-be3e-cea8df65ae20",
   "metadata": {},
   "outputs": [],
   "source": [
    "# import plotly.graph_objects as go\n",
    "# from plotly.subplots import make_subplots\n",
    "\n",
    "# unique_chem_ids = summary_df[\"chem_id\"].unique()\n",
    "\n",
    "# stat = \"volume_um3\"\n",
    "# name = \"Fin Volume\"\n",
    "# # Create a vertically stacked subplot layout\n",
    "# fig = make_subplots(\n",
    "#     rows=len(unique_chem_ids), cols=1,\n",
    "#     shared_xaxes=True,  # Share x-axis across panels\n",
    "#     vertical_spacing=0.05,  # Adjust spacing between panels\n",
    "#     subplot_titles=[f\"Chem ID: {chem_id}\" for chem_id in unique_chem_ids]\n",
    "# )\n",
    "\n",
    "# # Add scatter plots with error bars for each chem_id group\n",
    "# for i, chem_id in enumerate(unique_chem_ids, start=1):\n",
    "#     group = summary_df[summary_df['chem_id'] == chem_id]\n",
    "#     scatter = go.Scatter(\n",
    "#         x=group['chem_time'],\n",
    "#         y=group[stat],\n",
    "#         error_y=dict(\n",
    "#             type='data',\n",
    "#             array=group[stat + '_ste'],  # Standard error values\n",
    "#             visible=True\n",
    "#         ),\n",
    "#         mode='markers',\n",
    "#         name=f\"Chem ID: {chem_id}\"\n",
    "#     )\n",
    "#     fig.add_trace(scatter, row=i, col=1)\n",
    "\n",
    "# # Update layout\n",
    "# fig.update_layout(\n",
    "#     height=300 * len(unique_chem_ids),  # Adjust height based on number of panels\n",
    "#     # title=\"Scatter Plots of Stat vs. Chem Time by Chem ID with Error Bars\",\n",
    "#     xaxis_title=\"time of treatment (hpf)\",\n",
    "#     yaxis_title=name,\n",
    "#     showlegend=False  # Hide legend if not needed\n",
    "# )\n",
    "\n",
    "# # Show figure\n",
    "# fig.show()"
   ]
  },
  {
   "cell_type": "code",
   "execution_count": 23,
   "id": "45624a9d-e760-49af-82a3-e3153fd0040e",
   "metadata": {},
   "outputs": [],
   "source": [
    "from sklearn.decomposition import PCA\n",
    "\n",
    "pca = PCA(n_components=100, random_state=42)\n",
    "\n",
    "dist_test = dist_arr1.copy()\n",
    "dist_test[np.eye(dist_test.shape[0])==1] = 1e-6\n",
    "\n",
    "W = pca.fit_transform(dist_test)  # Basis\n",
    "H = pca.components_"
   ]
  },
  {
   "cell_type": "code",
   "execution_count": 35,
   "id": "c64888fa-2a25-40f2-ad79-5ec084750476",
   "metadata": {},
   "outputs": [
    {
     "data": {
      "text/plain": [
       "(224, 2)"
      ]
     },
     "execution_count": 35,
     "metadata": {},
     "output_type": "execute_result"
    }
   ],
   "source": [
    "import umap.umap_ as umap\n",
    "\n",
    "reducer = umap.UMAP(n_components=2)\n",
    "embedding = reducer.fit_transform(dist_test)\n",
    "embedding.shape"
   ]
  },
  {
   "cell_type": "code",
   "execution_count": 36,
   "id": "9c8d1a53-12f4-4f61-89aa-bc5054528d18",
   "metadata": {},
   "outputs": [],
   "source": [
    "# fig = px.scatter(dist_df, x=W[:, 0], y=W[:, 1], color=\"chem_id\")\n",
    "# fig.update_layout(xaxis=dict(range=[-70, 700]))\n",
    "# fig.show()"
   ]
  },
  {
   "cell_type": "code",
   "execution_count": 38,
   "id": "9026f216-9daa-4f26-aaa2-e8c9ec45d8d9",
   "metadata": {},
   "outputs": [
    {
     "data": {
      "application/vnd.plotly.v1+json": {
       "config": {
        "plotlyServerURL": "https://plot.ly"
       },
       "data": [
        {
         "line": {
          "color": "black"
         },
         "marker": {
          "color": "lightgray",
          "size": 8
         },
         "mode": "markers",
         "name": "DMSO (24.0 hpf)",
         "opacity": 1,
         "type": "scatter",
         "x": [
          8.40530014038086,
          5.751657962799072,
          14.935253143310547,
          12.961341857910156
         ],
         "y": [
          11.197099685668945,
          7.829935073852539,
          9.593254089355469,
          11.472124099731445
         ]
        },
        {
         "line": {
          "color": "black"
         },
         "marker": {
          "color": "gray",
          "size": 10
         },
         "mode": "markers",
         "name": "DMSO (30.0 hpf)",
         "opacity": 1,
         "type": "scatter",
         "x": [
          12.115694999694824,
          14.765878677368164,
          9.874972343444824,
          13.508234024047852,
          9.457555770874023,
          14.675049781799316
         ],
         "y": [
          11.014351844787598,
          9.128460884094238,
          9.753289222717285,
          10.464335441589355,
          11.263910293579102,
          9.94664478302002
         ]
        },
        {
         "line": {
          "color": "black"
         },
         "marker": {
          "color": "darkgray",
          "size": 12
         },
         "mode": "markers",
         "name": "DMSO (36.0 hpf)",
         "opacity": 1,
         "type": "scatter",
         "x": [
          14.893715858459473,
          15.30821418762207,
          14.756516456604004,
          12.073147773742676,
          14.773905754089355,
          12.334383010864258
         ],
         "y": [
          9.430392265319824,
          10.32130241394043,
          9.881590843200684,
          12.008307456970215,
          9.162370681762695,
          9.186457633972168
         ]
        },
        {
         "line": {
          "color": "black"
         },
         "marker": {
          "color": "rgb(60, 60, 60)",
          "size": 14
         },
         "mode": "markers",
         "name": "DMSO (42.0 hpf)",
         "opacity": 1,
         "type": "scatter",
         "x": [
          12.244108200073242,
          14.289347648620605,
          12.571321487426758,
          12.83042049407959,
          14.48139476776123
         ],
         "y": [
          10.339735984802246,
          10.289559364318848,
          12.304607391357422,
          11.73245620727539,
          9.836759567260742
         ]
        },
        {
         "line": {
          "color": "black"
         },
         "marker": {
          "color": "rgb(203,213,232)",
          "size": 8
         },
         "mode": "markers",
         "name": "tgfb (24.0 hpf)",
         "opacity": 1,
         "type": "scatter",
         "x": [
          5.9076313972473145,
          6.340790748596191,
          7.160651683807373,
          5.606417179107666,
          7.2278056144714355,
          8.650311470031738
         ],
         "y": [
          7.8650898933410645,
          8.899942398071289,
          9.511232376098633,
          7.370025157928467,
          9.654112815856934,
          11.23117733001709
         ]
        },
        {
         "line": {
          "color": "black"
         },
         "marker": {
          "color": "rgb(141,160,203)",
          "size": 10
         },
         "mode": "markers",
         "name": "tgfb (30.0 hpf)",
         "opacity": 1,
         "type": "scatter",
         "x": [
          7.441413879394531,
          7.934382438659668,
          7.2985148429870605,
          7.769053936004639,
          6.458442687988281
         ],
         "y": [
          10.561861038208008,
          10.90194034576416,
          10.447267532348633,
          10.798789024353027,
          8.78256607055664
         ]
        },
        {
         "line": {
          "color": "black"
         },
         "marker": {
          "color": "rgb(117,112,179)",
          "size": 12
         },
         "mode": "markers",
         "name": "tgfb (36.0 hpf)",
         "opacity": 1,
         "type": "scatter",
         "x": [
          9.45556640625,
          11.402647018432617,
          6.829240798950195,
          6.363832473754883,
          10.36198902130127,
          9.702535629272461
         ],
         "y": [
          11.21914005279541,
          10.75169849395752,
          9.273027420043945,
          9.284744262695312,
          11.004801750183105,
          11.373675346374512
         ]
        },
        {
         "line": {
          "color": "black"
         },
         "marker": {
          "color": "rgb(87, 84, 134)",
          "size": 14
         },
         "mode": "markers",
         "name": "tgfb (42.0 hpf)",
         "opacity": 1,
         "type": "scatter",
         "x": [
          12.406752586364746,
          11.158267974853516,
          12.140851974487305,
          10.78120231628418,
          12.277399063110352,
          10.858980178833008
         ],
         "y": [
          12.334464073181152,
          9.516959190368652,
          9.757862091064453,
          11.429463386535645,
          9.986135482788086,
          11.816288948059082
         ]
        }
       ],
       "layout": {
        "autosize": false,
        "boxmode": "group",
        "height": 600,
        "template": {
         "data": {
          "bar": [
           {
            "error_x": {
             "color": "#2a3f5f"
            },
            "error_y": {
             "color": "#2a3f5f"
            },
            "marker": {
             "line": {
              "color": "#E5ECF6",
              "width": 0.5
             },
             "pattern": {
              "fillmode": "overlay",
              "size": 10,
              "solidity": 0.2
             }
            },
            "type": "bar"
           }
          ],
          "barpolar": [
           {
            "marker": {
             "line": {
              "color": "#E5ECF6",
              "width": 0.5
             },
             "pattern": {
              "fillmode": "overlay",
              "size": 10,
              "solidity": 0.2
             }
            },
            "type": "barpolar"
           }
          ],
          "carpet": [
           {
            "aaxis": {
             "endlinecolor": "#2a3f5f",
             "gridcolor": "white",
             "linecolor": "white",
             "minorgridcolor": "white",
             "startlinecolor": "#2a3f5f"
            },
            "baxis": {
             "endlinecolor": "#2a3f5f",
             "gridcolor": "white",
             "linecolor": "white",
             "minorgridcolor": "white",
             "startlinecolor": "#2a3f5f"
            },
            "type": "carpet"
           }
          ],
          "choropleth": [
           {
            "colorbar": {
             "outlinewidth": 0,
             "ticks": ""
            },
            "type": "choropleth"
           }
          ],
          "contour": [
           {
            "colorbar": {
             "outlinewidth": 0,
             "ticks": ""
            },
            "colorscale": [
             [
              0,
              "#0d0887"
             ],
             [
              0.1111111111111111,
              "#46039f"
             ],
             [
              0.2222222222222222,
              "#7201a8"
             ],
             [
              0.3333333333333333,
              "#9c179e"
             ],
             [
              0.4444444444444444,
              "#bd3786"
             ],
             [
              0.5555555555555556,
              "#d8576b"
             ],
             [
              0.6666666666666666,
              "#ed7953"
             ],
             [
              0.7777777777777778,
              "#fb9f3a"
             ],
             [
              0.8888888888888888,
              "#fdca26"
             ],
             [
              1,
              "#f0f921"
             ]
            ],
            "type": "contour"
           }
          ],
          "contourcarpet": [
           {
            "colorbar": {
             "outlinewidth": 0,
             "ticks": ""
            },
            "type": "contourcarpet"
           }
          ],
          "heatmap": [
           {
            "colorbar": {
             "outlinewidth": 0,
             "ticks": ""
            },
            "colorscale": [
             [
              0,
              "#0d0887"
             ],
             [
              0.1111111111111111,
              "#46039f"
             ],
             [
              0.2222222222222222,
              "#7201a8"
             ],
             [
              0.3333333333333333,
              "#9c179e"
             ],
             [
              0.4444444444444444,
              "#bd3786"
             ],
             [
              0.5555555555555556,
              "#d8576b"
             ],
             [
              0.6666666666666666,
              "#ed7953"
             ],
             [
              0.7777777777777778,
              "#fb9f3a"
             ],
             [
              0.8888888888888888,
              "#fdca26"
             ],
             [
              1,
              "#f0f921"
             ]
            ],
            "type": "heatmap"
           }
          ],
          "heatmapgl": [
           {
            "colorbar": {
             "outlinewidth": 0,
             "ticks": ""
            },
            "colorscale": [
             [
              0,
              "#0d0887"
             ],
             [
              0.1111111111111111,
              "#46039f"
             ],
             [
              0.2222222222222222,
              "#7201a8"
             ],
             [
              0.3333333333333333,
              "#9c179e"
             ],
             [
              0.4444444444444444,
              "#bd3786"
             ],
             [
              0.5555555555555556,
              "#d8576b"
             ],
             [
              0.6666666666666666,
              "#ed7953"
             ],
             [
              0.7777777777777778,
              "#fb9f3a"
             ],
             [
              0.8888888888888888,
              "#fdca26"
             ],
             [
              1,
              "#f0f921"
             ]
            ],
            "type": "heatmapgl"
           }
          ],
          "histogram": [
           {
            "marker": {
             "pattern": {
              "fillmode": "overlay",
              "size": 10,
              "solidity": 0.2
             }
            },
            "type": "histogram"
           }
          ],
          "histogram2d": [
           {
            "colorbar": {
             "outlinewidth": 0,
             "ticks": ""
            },
            "colorscale": [
             [
              0,
              "#0d0887"
             ],
             [
              0.1111111111111111,
              "#46039f"
             ],
             [
              0.2222222222222222,
              "#7201a8"
             ],
             [
              0.3333333333333333,
              "#9c179e"
             ],
             [
              0.4444444444444444,
              "#bd3786"
             ],
             [
              0.5555555555555556,
              "#d8576b"
             ],
             [
              0.6666666666666666,
              "#ed7953"
             ],
             [
              0.7777777777777778,
              "#fb9f3a"
             ],
             [
              0.8888888888888888,
              "#fdca26"
             ],
             [
              1,
              "#f0f921"
             ]
            ],
            "type": "histogram2d"
           }
          ],
          "histogram2dcontour": [
           {
            "colorbar": {
             "outlinewidth": 0,
             "ticks": ""
            },
            "colorscale": [
             [
              0,
              "#0d0887"
             ],
             [
              0.1111111111111111,
              "#46039f"
             ],
             [
              0.2222222222222222,
              "#7201a8"
             ],
             [
              0.3333333333333333,
              "#9c179e"
             ],
             [
              0.4444444444444444,
              "#bd3786"
             ],
             [
              0.5555555555555556,
              "#d8576b"
             ],
             [
              0.6666666666666666,
              "#ed7953"
             ],
             [
              0.7777777777777778,
              "#fb9f3a"
             ],
             [
              0.8888888888888888,
              "#fdca26"
             ],
             [
              1,
              "#f0f921"
             ]
            ],
            "type": "histogram2dcontour"
           }
          ],
          "mesh3d": [
           {
            "colorbar": {
             "outlinewidth": 0,
             "ticks": ""
            },
            "type": "mesh3d"
           }
          ],
          "parcoords": [
           {
            "line": {
             "colorbar": {
              "outlinewidth": 0,
              "ticks": ""
             }
            },
            "type": "parcoords"
           }
          ],
          "pie": [
           {
            "automargin": true,
            "type": "pie"
           }
          ],
          "scatter": [
           {
            "fillpattern": {
             "fillmode": "overlay",
             "size": 10,
             "solidity": 0.2
            },
            "type": "scatter"
           }
          ],
          "scatter3d": [
           {
            "line": {
             "colorbar": {
              "outlinewidth": 0,
              "ticks": ""
             }
            },
            "marker": {
             "colorbar": {
              "outlinewidth": 0,
              "ticks": ""
             }
            },
            "type": "scatter3d"
           }
          ],
          "scattercarpet": [
           {
            "marker": {
             "colorbar": {
              "outlinewidth": 0,
              "ticks": ""
             }
            },
            "type": "scattercarpet"
           }
          ],
          "scattergeo": [
           {
            "marker": {
             "colorbar": {
              "outlinewidth": 0,
              "ticks": ""
             }
            },
            "type": "scattergeo"
           }
          ],
          "scattergl": [
           {
            "marker": {
             "colorbar": {
              "outlinewidth": 0,
              "ticks": ""
             }
            },
            "type": "scattergl"
           }
          ],
          "scattermapbox": [
           {
            "marker": {
             "colorbar": {
              "outlinewidth": 0,
              "ticks": ""
             }
            },
            "type": "scattermapbox"
           }
          ],
          "scatterpolar": [
           {
            "marker": {
             "colorbar": {
              "outlinewidth": 0,
              "ticks": ""
             }
            },
            "type": "scatterpolar"
           }
          ],
          "scatterpolargl": [
           {
            "marker": {
             "colorbar": {
              "outlinewidth": 0,
              "ticks": ""
             }
            },
            "type": "scatterpolargl"
           }
          ],
          "scatterternary": [
           {
            "marker": {
             "colorbar": {
              "outlinewidth": 0,
              "ticks": ""
             }
            },
            "type": "scatterternary"
           }
          ],
          "surface": [
           {
            "colorbar": {
             "outlinewidth": 0,
             "ticks": ""
            },
            "colorscale": [
             [
              0,
              "#0d0887"
             ],
             [
              0.1111111111111111,
              "#46039f"
             ],
             [
              0.2222222222222222,
              "#7201a8"
             ],
             [
              0.3333333333333333,
              "#9c179e"
             ],
             [
              0.4444444444444444,
              "#bd3786"
             ],
             [
              0.5555555555555556,
              "#d8576b"
             ],
             [
              0.6666666666666666,
              "#ed7953"
             ],
             [
              0.7777777777777778,
              "#fb9f3a"
             ],
             [
              0.8888888888888888,
              "#fdca26"
             ],
             [
              1,
              "#f0f921"
             ]
            ],
            "type": "surface"
           }
          ],
          "table": [
           {
            "cells": {
             "fill": {
              "color": "#EBF0F8"
             },
             "line": {
              "color": "white"
             }
            },
            "header": {
             "fill": {
              "color": "#C8D4E3"
             },
             "line": {
              "color": "white"
             }
            },
            "type": "table"
           }
          ]
         },
         "layout": {
          "annotationdefaults": {
           "arrowcolor": "#2a3f5f",
           "arrowhead": 0,
           "arrowwidth": 1
          },
          "autotypenumbers": "strict",
          "coloraxis": {
           "colorbar": {
            "outlinewidth": 0,
            "ticks": ""
           }
          },
          "colorscale": {
           "diverging": [
            [
             0,
             "#8e0152"
            ],
            [
             0.1,
             "#c51b7d"
            ],
            [
             0.2,
             "#de77ae"
            ],
            [
             0.3,
             "#f1b6da"
            ],
            [
             0.4,
             "#fde0ef"
            ],
            [
             0.5,
             "#f7f7f7"
            ],
            [
             0.6,
             "#e6f5d0"
            ],
            [
             0.7,
             "#b8e186"
            ],
            [
             0.8,
             "#7fbc41"
            ],
            [
             0.9,
             "#4d9221"
            ],
            [
             1,
             "#276419"
            ]
           ],
           "sequential": [
            [
             0,
             "#0d0887"
            ],
            [
             0.1111111111111111,
             "#46039f"
            ],
            [
             0.2222222222222222,
             "#7201a8"
            ],
            [
             0.3333333333333333,
             "#9c179e"
            ],
            [
             0.4444444444444444,
             "#bd3786"
            ],
            [
             0.5555555555555556,
             "#d8576b"
            ],
            [
             0.6666666666666666,
             "#ed7953"
            ],
            [
             0.7777777777777778,
             "#fb9f3a"
            ],
            [
             0.8888888888888888,
             "#fdca26"
            ],
            [
             1,
             "#f0f921"
            ]
           ],
           "sequentialminus": [
            [
             0,
             "#0d0887"
            ],
            [
             0.1111111111111111,
             "#46039f"
            ],
            [
             0.2222222222222222,
             "#7201a8"
            ],
            [
             0.3333333333333333,
             "#9c179e"
            ],
            [
             0.4444444444444444,
             "#bd3786"
            ],
            [
             0.5555555555555556,
             "#d8576b"
            ],
            [
             0.6666666666666666,
             "#ed7953"
            ],
            [
             0.7777777777777778,
             "#fb9f3a"
            ],
            [
             0.8888888888888888,
             "#fdca26"
            ],
            [
             1,
             "#f0f921"
            ]
           ]
          },
          "colorway": [
           "#636efa",
           "#EF553B",
           "#00cc96",
           "#ab63fa",
           "#FFA15A",
           "#19d3f3",
           "#FF6692",
           "#B6E880",
           "#FF97FF",
           "#FECB52"
          ],
          "font": {
           "color": "#2a3f5f"
          },
          "geo": {
           "bgcolor": "white",
           "lakecolor": "white",
           "landcolor": "#E5ECF6",
           "showlakes": true,
           "showland": true,
           "subunitcolor": "white"
          },
          "hoverlabel": {
           "align": "left"
          },
          "hovermode": "closest",
          "mapbox": {
           "style": "light"
          },
          "paper_bgcolor": "white",
          "plot_bgcolor": "#E5ECF6",
          "polar": {
           "angularaxis": {
            "gridcolor": "white",
            "linecolor": "white",
            "ticks": ""
           },
           "bgcolor": "#E5ECF6",
           "radialaxis": {
            "gridcolor": "white",
            "linecolor": "white",
            "ticks": ""
           }
          },
          "scene": {
           "xaxis": {
            "backgroundcolor": "#E5ECF6",
            "gridcolor": "white",
            "gridwidth": 2,
            "linecolor": "white",
            "showbackground": true,
            "ticks": "",
            "zerolinecolor": "white"
           },
           "yaxis": {
            "backgroundcolor": "#E5ECF6",
            "gridcolor": "white",
            "gridwidth": 2,
            "linecolor": "white",
            "showbackground": true,
            "ticks": "",
            "zerolinecolor": "white"
           },
           "zaxis": {
            "backgroundcolor": "#E5ECF6",
            "gridcolor": "white",
            "gridwidth": 2,
            "linecolor": "white",
            "showbackground": true,
            "ticks": "",
            "zerolinecolor": "white"
           }
          },
          "shapedefaults": {
           "line": {
            "color": "#2a3f5f"
           }
          },
          "ternary": {
           "aaxis": {
            "gridcolor": "white",
            "linecolor": "white",
            "ticks": ""
           },
           "baxis": {
            "gridcolor": "white",
            "linecolor": "white",
            "ticks": ""
           },
           "bgcolor": "#E5ECF6",
           "caxis": {
            "gridcolor": "white",
            "linecolor": "white",
            "ticks": ""
           }
          },
          "title": {
           "x": 0.05
          },
          "xaxis": {
           "automargin": true,
           "gridcolor": "white",
           "linecolor": "white",
           "ticks": "",
           "title": {
            "standoff": 15
           },
           "zerolinecolor": "white",
           "zerolinewidth": 2
          },
          "yaxis": {
           "automargin": true,
           "gridcolor": "white",
           "linecolor": "white",
           "ticks": "",
           "title": {
            "standoff": 15
           },
           "zerolinecolor": "white",
           "zerolinewidth": 2
          }
         }
        },
        "width": 1000,
        "xaxis": {
         "autorange": true,
         "range": [
          4.9833524496002735,
          15.96819033475431
         ],
         "type": "linear"
        },
        "yaxis": {
         "autorange": true,
         "range": [
          7.015665756977006,
          12.739933003115997
         ],
         "title": {
          "text": "Earth mover's distance (normed nuclei)"
         },
         "type": "linear"
        }
       }
      },
      "image/png": "[encoded data removed]",
      "text/html": [
       "<div>                            <div id=\"efd44534-4885-4c78-981c-c2d8dd82eceb\" class=\"plotly-graph-div\" style=\"height:600px; width:1000px;\"></div>            <script type=\"text/javascript\">                require([\"plotly\"], function(Plotly) {                    window.PLOTLYENV=window.PLOTLYENV || {};                                    if (document.getElementById(\"efd44534-4885-4c78-981c-c2d8dd82eceb\")) {                    Plotly.newPlot(                        \"efd44534-4885-4c78-981c-c2d8dd82eceb\",                        [{\"line\":{\"color\":\"black\"},\"marker\":{\"color\":\"lightgray\",\"size\":8.0},\"mode\":\"markers\",\"name\":\"DMSO (24.0 hpf)\",\"opacity\":1,\"x\":[8.40530014038086,5.751657962799072,14.935253143310547,12.961341857910156],\"y\":[11.197099685668945,7.829935073852539,9.593254089355469,11.472124099731445],\"type\":\"scatter\"},{\"line\":{\"color\":\"black\"},\"marker\":{\"color\":\"gray\",\"size\":10.0},\"mode\":\"markers\",\"name\":\"DMSO (30.0 hpf)\",\"opacity\":1,\"x\":[12.115694999694824,14.765878677368164,9.874972343444824,13.508234024047852,9.457555770874023,14.675049781799316],\"y\":[11.014351844787598,9.128460884094238,9.753289222717285,10.464335441589355,11.263910293579102,9.94664478302002],\"type\":\"scatter\"},{\"line\":{\"color\":\"black\"},\"marker\":{\"color\":\"darkgray\",\"size\":12.0},\"mode\":\"markers\",\"name\":\"DMSO (36.0 hpf)\",\"opacity\":1,\"x\":[14.893715858459473,15.30821418762207,14.756516456604004,12.073147773742676,14.773905754089355,12.334383010864258],\"y\":[9.430392265319824,10.32130241394043,9.881590843200684,12.008307456970215,9.162370681762695,9.186457633972168],\"type\":\"scatter\"},{\"line\":{\"color\":\"black\"},\"marker\":{\"color\":\"rgb(60, 60, 60)\",\"size\":14.0},\"mode\":\"markers\",\"name\":\"DMSO (42.0 hpf)\",\"opacity\":1,\"x\":[12.244108200073242,14.289347648620605,12.571321487426758,12.83042049407959,14.48139476776123],\"y\":[10.339735984802246,10.289559364318848,12.304607391357422,11.73245620727539,9.836759567260742],\"type\":\"scatter\"},{\"line\":{\"color\":\"black\"},\"marker\":{\"color\":\"rgb(203,213,232)\",\"size\":8.0},\"mode\":\"markers\",\"name\":\"tgfb (24.0 hpf)\",\"opacity\":1,\"x\":[5.9076313972473145,6.340790748596191,7.160651683807373,5.606417179107666,7.2278056144714355,8.650311470031738],\"y\":[7.8650898933410645,8.899942398071289,9.511232376098633,7.370025157928467,9.654112815856934,11.23117733001709],\"type\":\"scatter\"},{\"line\":{\"color\":\"black\"},\"marker\":{\"color\":\"rgb(141,160,203)\",\"size\":10.0},\"mode\":\"markers\",\"name\":\"tgfb (30.0 hpf)\",\"opacity\":1,\"x\":[7.441413879394531,7.934382438659668,7.2985148429870605,7.769053936004639,6.458442687988281],\"y\":[10.561861038208008,10.90194034576416,10.447267532348633,10.798789024353027,8.78256607055664],\"type\":\"scatter\"},{\"line\":{\"color\":\"black\"},\"marker\":{\"color\":\"rgb(117,112,179)\",\"size\":12.0},\"mode\":\"markers\",\"name\":\"tgfb (36.0 hpf)\",\"opacity\":1,\"x\":[9.45556640625,11.402647018432617,6.829240798950195,6.363832473754883,10.36198902130127,9.702535629272461],\"y\":[11.21914005279541,10.75169849395752,9.273027420043945,9.284744262695312,11.004801750183105,11.373675346374512],\"type\":\"scatter\"},{\"line\":{\"color\":\"black\"},\"marker\":{\"color\":\"rgb(87, 84, 134)\",\"size\":14.0},\"mode\":\"markers\",\"name\":\"tgfb (42.0 hpf)\",\"opacity\":1,\"x\":[12.406752586364746,11.158267974853516,12.140851974487305,10.78120231628418,12.277399063110352,10.858980178833008],\"y\":[12.334464073181152,9.516959190368652,9.757862091064453,11.429463386535645,9.986135482788086,11.816288948059082],\"type\":\"scatter\"}],                        {\"template\":{\"data\":{\"histogram2dcontour\":[{\"type\":\"histogram2dcontour\",\"colorbar\":{\"outlinewidth\":0,\"ticks\":\"\"},\"colorscale\":[[0.0,\"#0d0887\"],[0.1111111111111111,\"#46039f\"],[0.2222222222222222,\"#7201a8\"],[0.3333333333333333,\"#9c179e\"],[0.4444444444444444,\"#bd3786\"],[0.5555555555555556,\"#d8576b\"],[0.6666666666666666,\"#ed7953\"],[0.7777777777777778,\"#fb9f3a\"],[0.8888888888888888,\"#fdca26\"],[1.0,\"#f0f921\"]]}],\"choropleth\":[{\"type\":\"choropleth\",\"colorbar\":{\"outlinewidth\":0,\"ticks\":\"\"}}],\"histogram2d\":[{\"type\":\"histogram2d\",\"colorbar\":{\"outlinewidth\":0,\"ticks\":\"\"},\"colorscale\":[[0.0,\"#0d0887\"],[0.1111111111111111,\"#46039f\"],[0.2222222222222222,\"#7201a8\"],[0.3333333333333333,\"#9c179e\"],[0.4444444444444444,\"#bd3786\"],[0.5555555555555556,\"#d8576b\"],[0.6666666666666666,\"#ed7953\"],[0.7777777777777778,\"#fb9f3a\"],[0.8888888888888888,\"#fdca26\"],[1.0,\"#f0f921\"]]}],\"heatmap\":[{\"type\":\"heatmap\",\"colorbar\":{\"outlinewidth\":0,\"ticks\":\"\"},\"colorscale\":[[0.0,\"#0d0887\"],[0.1111111111111111,\"#46039f\"],[0.2222222222222222,\"#7201a8\"],[0.3333333333333333,\"#9c179e\"],[0.4444444444444444,\"#bd3786\"],[0.5555555555555556,\"#d8576b\"],[0.6666666666666666,\"#ed7953\"],[0.7777777777777778,\"#fb9f3a\"],[0.8888888888888888,\"#fdca26\"],[1.0,\"#f0f921\"]]}],\"heatmapgl\":[{\"type\":\"heatmapgl\",\"colorbar\":{\"outlinewidth\":0,\"ticks\":\"\"},\"colorscale\":[[0.0,\"#0d0887\"],[0.1111111111111111,\"#46039f\"],[0.2222222222222222,\"#7201a8\"],[0.3333333333333333,\"#9c179e\"],[0.4444444444444444,\"#bd3786\"],[0.5555555555555556,\"#d8576b\"],[0.6666666666666666,\"#ed7953\"],[0.7777777777777778,\"#fb9f3a\"],[0.8888888888888888,\"#fdca26\"],[1.0,\"#f0f921\"]]}],\"contourcarpet\":[{\"type\":\"contourcarpet\",\"colorbar\":{\"outlinewidth\":0,\"ticks\":\"\"}}],\"contour\":[{\"type\":\"contour\",\"colorbar\":{\"outlinewidth\":0,\"ticks\":\"\"},\"colorscale\":[[0.0,\"#0d0887\"],[0.1111111111111111,\"#46039f\"],[0.2222222222222222,\"#7201a8\"],[0.3333333333333333,\"#9c179e\"],[0.4444444444444444,\"#bd3786\"],[0.5555555555555556,\"#d8576b\"],[0.6666666666666666,\"#ed7953\"],[0.7777777777777778,\"#fb9f3a\"],[0.8888888888888888,\"#fdca26\"],[1.0,\"#f0f921\"]]}],\"surface\":[{\"type\":\"surface\",\"colorbar\":{\"outlinewidth\":0,\"ticks\":\"\"},\"colorscale\":[[0.0,\"#0d0887\"],[0.1111111111111111,\"#46039f\"],[0.2222222222222222,\"#7201a8\"],[0.3333333333333333,\"#9c179e\"],[0.4444444444444444,\"#bd3786\"],[0.5555555555555556,\"#d8576b\"],[0.6666666666666666,\"#ed7953\"],[0.7777777777777778,\"#fb9f3a\"],[0.8888888888888888,\"#fdca26\"],[1.0,\"#f0f921\"]]}],\"mesh3d\":[{\"type\":\"mesh3d\",\"colorbar\":{\"outlinewidth\":0,\"ticks\":\"\"}}],\"scatter\":[{\"fillpattern\":{\"fillmode\":\"overlay\",\"size\":10,\"solidity\":0.2},\"type\":\"scatter\"}],\"parcoords\":[{\"type\":\"parcoords\",\"line\":{\"colorbar\":{\"outlinewidth\":0,\"ticks\":\"\"}}}],\"scatterpolargl\":[{\"type\":\"scatterpolargl\",\"marker\":{\"colorbar\":{\"outlinewidth\":0,\"ticks\":\"\"}}}],\"bar\":[{\"error_x\":{\"color\":\"#2a3f5f\"},\"error_y\":{\"color\":\"#2a3f5f\"},\"marker\":{\"line\":{\"color\":\"#E5ECF6\",\"width\":0.5},\"pattern\":{\"fillmode\":\"overlay\",\"size\":10,\"solidity\":0.2}},\"type\":\"bar\"}],\"scattergeo\":[{\"type\":\"scattergeo\",\"marker\":{\"colorbar\":{\"outlinewidth\":0,\"ticks\":\"\"}}}],\"scatterpolar\":[{\"type\":\"scatterpolar\",\"marker\":{\"colorbar\":{\"outlinewidth\":0,\"ticks\":\"\"}}}],\"histogram\":[{\"marker\":{\"pattern\":{\"fillmode\":\"overlay\",\"size\":10,\"solidity\":0.2}},\"type\":\"histogram\"}],\"scattergl\":[{\"type\":\"scattergl\",\"marker\":{\"colorbar\":{\"outlinewidth\":0,\"ticks\":\"\"}}}],\"scatter3d\":[{\"type\":\"scatter3d\",\"line\":{\"colorbar\":{\"outlinewidth\":0,\"ticks\":\"\"}},\"marker\":{\"colorbar\":{\"outlinewidth\":0,\"ticks\":\"\"}}}],\"scattermapbox\":[{\"type\":\"scattermapbox\",\"marker\":{\"colorbar\":{\"outlinewidth\":0,\"ticks\":\"\"}}}],\"scatterternary\":[{\"type\":\"scatterternary\",\"marker\":{\"colorbar\":{\"outlinewidth\":0,\"ticks\":\"\"}}}],\"scattercarpet\":[{\"type\":\"scattercarpet\",\"marker\":{\"colorbar\":{\"outlinewidth\":0,\"ticks\":\"\"}}}],\"carpet\":[{\"aaxis\":{\"endlinecolor\":\"#2a3f5f\",\"gridcolor\":\"white\",\"linecolor\":\"white\",\"minorgridcolor\":\"white\",\"startlinecolor\":\"#2a3f5f\"},\"baxis\":{\"endlinecolor\":\"#2a3f5f\",\"gridcolor\":\"white\",\"linecolor\":\"white\",\"minorgridcolor\":\"white\",\"startlinecolor\":\"#2a3f5f\"},\"type\":\"carpet\"}],\"table\":[{\"cells\":{\"fill\":{\"color\":\"#EBF0F8\"},\"line\":{\"color\":\"white\"}},\"header\":{\"fill\":{\"color\":\"#C8D4E3\"},\"line\":{\"color\":\"white\"}},\"type\":\"table\"}],\"barpolar\":[{\"marker\":{\"line\":{\"color\":\"#E5ECF6\",\"width\":0.5},\"pattern\":{\"fillmode\":\"overlay\",\"size\":10,\"solidity\":0.2}},\"type\":\"barpolar\"}],\"pie\":[{\"automargin\":true,\"type\":\"pie\"}]},\"layout\":{\"autotypenumbers\":\"strict\",\"colorway\":[\"#636efa\",\"#EF553B\",\"#00cc96\",\"#ab63fa\",\"#FFA15A\",\"#19d3f3\",\"#FF6692\",\"#B6E880\",\"#FF97FF\",\"#FECB52\"],\"font\":{\"color\":\"#2a3f5f\"},\"hovermode\":\"closest\",\"hoverlabel\":{\"align\":\"left\"},\"paper_bgcolor\":\"white\",\"plot_bgcolor\":\"#E5ECF6\",\"polar\":{\"bgcolor\":\"#E5ECF6\",\"angularaxis\":{\"gridcolor\":\"white\",\"linecolor\":\"white\",\"ticks\":\"\"},\"radialaxis\":{\"gridcolor\":\"white\",\"linecolor\":\"white\",\"ticks\":\"\"}},\"ternary\":{\"bgcolor\":\"#E5ECF6\",\"aaxis\":{\"gridcolor\":\"white\",\"linecolor\":\"white\",\"ticks\":\"\"},\"baxis\":{\"gridcolor\":\"white\",\"linecolor\":\"white\",\"ticks\":\"\"},\"caxis\":{\"gridcolor\":\"white\",\"linecolor\":\"white\",\"ticks\":\"\"}},\"coloraxis\":{\"colorbar\":{\"outlinewidth\":0,\"ticks\":\"\"}},\"colorscale\":{\"sequential\":[[0.0,\"#0d0887\"],[0.1111111111111111,\"#46039f\"],[0.2222222222222222,\"#7201a8\"],[0.3333333333333333,\"#9c179e\"],[0.4444444444444444,\"#bd3786\"],[0.5555555555555556,\"#d8576b\"],[0.6666666666666666,\"#ed7953\"],[0.7777777777777778,\"#fb9f3a\"],[0.8888888888888888,\"#fdca26\"],[1.0,\"#f0f921\"]],\"sequentialminus\":[[0.0,\"#0d0887\"],[0.1111111111111111,\"#46039f\"],[0.2222222222222222,\"#7201a8\"],[0.3333333333333333,\"#9c179e\"],[0.4444444444444444,\"#bd3786\"],[0.5555555555555556,\"#d8576b\"],[0.6666666666666666,\"#ed7953\"],[0.7777777777777778,\"#fb9f3a\"],[0.8888888888888888,\"#fdca26\"],[1.0,\"#f0f921\"]],\"diverging\":[[0,\"#8e0152\"],[0.1,\"#c51b7d\"],[0.2,\"#de77ae\"],[0.3,\"#f1b6da\"],[0.4,\"#fde0ef\"],[0.5,\"#f7f7f7\"],[0.6,\"#e6f5d0\"],[0.7,\"#b8e186\"],[0.8,\"#7fbc41\"],[0.9,\"#4d9221\"],[1,\"#276419\"]]},\"xaxis\":{\"gridcolor\":\"white\",\"linecolor\":\"white\",\"ticks\":\"\",\"title\":{\"standoff\":15},\"zerolinecolor\":\"white\",\"automargin\":true,\"zerolinewidth\":2},\"yaxis\":{\"gridcolor\":\"white\",\"linecolor\":\"white\",\"ticks\":\"\",\"title\":{\"standoff\":15},\"zerolinecolor\":\"white\",\"automargin\":true,\"zerolinewidth\":2},\"scene\":{\"xaxis\":{\"backgroundcolor\":\"#E5ECF6\",\"gridcolor\":\"white\",\"linecolor\":\"white\",\"showbackground\":true,\"ticks\":\"\",\"zerolinecolor\":\"white\",\"gridwidth\":2},\"yaxis\":{\"backgroundcolor\":\"#E5ECF6\",\"gridcolor\":\"white\",\"linecolor\":\"white\",\"showbackground\":true,\"ticks\":\"\",\"zerolinecolor\":\"white\",\"gridwidth\":2},\"zaxis\":{\"backgroundcolor\":\"#E5ECF6\",\"gridcolor\":\"white\",\"linecolor\":\"white\",\"showbackground\":true,\"ticks\":\"\",\"zerolinecolor\":\"white\",\"gridwidth\":2}},\"shapedefaults\":{\"line\":{\"color\":\"#2a3f5f\"}},\"annotationdefaults\":{\"arrowcolor\":\"#2a3f5f\",\"arrowhead\":0,\"arrowwidth\":1},\"geo\":{\"bgcolor\":\"white\",\"landcolor\":\"#E5ECF6\",\"subunitcolor\":\"white\",\"showland\":true,\"showlakes\":true,\"lakecolor\":\"white\"},\"title\":{\"x\":0.05},\"mapbox\":{\"style\":\"light\"}}},\"yaxis\":{\"title\":{\"text\":\"Earth mover's distance (normed nuclei)\"}},\"boxmode\":\"group\",\"autosize\":false,\"width\":1000,\"height\":600},                        {\"responsive\": true}                    ).then(function(){\n",
       "                            \n",
       "var gd = document.getElementById('efd44534-4885-4c78-981c-c2d8dd82eceb');\n",
       "var x = new MutationObserver(function (mutations, observer) {{\n",
       "        var display = window.getComputedStyle(gd).display;\n",
       "        if (!display || display === 'none') {{\n",
       "            console.log([gd, 'removed!']);\n",
       "            Plotly.purge(gd);\n",
       "            observer.disconnect();\n",
       "        }}\n",
       "}});\n",
       "\n",
       "// Listen for the removal of the full notebook cells\n",
       "var notebookContainer = gd.closest('#notebook-container');\n",
       "if (notebookContainer) {{\n",
       "    x.observe(notebookContainer, {childList: true});\n",
       "}}\n",
       "\n",
       "// Listen for the clearing of the current output cell\n",
       "var outputEl = gd.closest('.output');\n",
       "if (outputEl) {{\n",
       "    x.observe(outputEl, {childList: true});\n",
       "}}\n",
       "\n",
       "                        })                };                });            </script>        </div>"
      ]
     },
     "metadata": {},
     "output_type": "display_data"
    }
   ],
   "source": [
    "# get upper and lower quartile estimates for DMSO control\n",
    "# dmso_ft = (dist_df[\"chem_id\"] == \"DMSO\") & (dist_df[\"cohort\"] == tg) & (~outlier_flag)\n",
    "# q1 = np.percentile(dist_df.loc[dmso_ft, stat], 25)\n",
    "# q3 = np.percentile(dist_df.loc[dmso_ft, stat], 75)\n",
    "\n",
    "\n",
    "fig = go.Figure()\n",
    "for tg in [cohort_list[0]]:\n",
    "    for p, pert in enumerate(pert_key):\n",
    "        if (\"DMSO\" in pert) | (\"tgfb\" in pert) :\n",
    "            ft = (dist_df[\"chem_i\"] == pert) & (dist_df[\"cohort\"] == tg) & (dist_df[\"chem_time\"] < 55) & (~outlier_flag)\n",
    "            if np.any(ft):\n",
    "                indices = dist_df.index[ft]\n",
    "                chem_i = dist_df.loc[indices[0], \"chem_i\"]\n",
    "                time = dist_df.loc[indices[0], \"chem_time\"]\n",
    "                name = dist_df.loc[indices[0], \"chem_id\"] + f\" ({time} hpf)\"\n",
    "                fig.add_trace(go.Scatter(\n",
    "                    x=embedding[ft, 0],\n",
    "                    y=embedding[ft, 1],\n",
    "                    name=name,\n",
    "                    marker_color=color_dict[chem_i], \n",
    "                    # fillcolor=color_dict[chem_i],\n",
    "                    opacity=1,\n",
    "                    line_color=\"black\", mode=\"markers\", marker=dict(size=time/3)\n",
    "                ))\n",
    "\n",
    "# fig.add_hrect(y0=q1, y1=q3, line_width=1, fillcolor=\"gray\", opacity=0.3, line_color=\"black\")\n",
    "# fig.update_layout(xaxis=dict(range=[-120, 120]))\n",
    "fig.update_layout(\n",
    "    yaxis_title=y_axis_list[s],\n",
    "    boxmode='group',\n",
    "    autosize=False,\n",
    "    width=1000,\n",
    "    height=600,# group together boxes of the different traces for each value of x\n",
    ")\n",
    "\n",
    "fig.show()"
   ]
  },
  {
   "cell_type": "code",
   "execution_count": null,
   "id": "d97f2da7-ce26-4887-9a80-2b04dd9ca72f",
   "metadata": {},
   "outputs": [],
   "source": []
  }
 ],
 "metadata": {
  "kernelspec": {
   "display_name": "Python 3 (ipykernel)",
   "language": "python",
   "name": "python3"
  },
  "language_info": {
   "codemirror_mode": {
    "name": "ipython",
    "version": 3
   },
   "file_extension": ".py",
   "mimetype": "text/x-python",
   "name": "python",
   "nbconvert_exporter": "python",
   "pygments_lexer": "ipython3",
   "version": "3.10.13"
  }
 },
 "nbformat": 4,
 "nbformat_minor": 5
}
