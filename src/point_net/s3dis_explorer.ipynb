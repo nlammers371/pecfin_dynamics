{
 "cells": [
  {
   "cell_type": "markdown",
   "metadata": {
    "colab_type": "text",
    "id": "view-in-github"
   },
   "source": [
    "<a href=\"https://colab.research.google.com/github/itberrios/3D/blob/main/s3dis_explorer.ipynb\" target=\"_parent\"><img src=\"https://colab.research.google.com/assets/colab-badge.svg\" alt=\"Open In Colab\"/></a>"
   ]
  },
  {
   "cell_type": "markdown",
   "metadata": {
    "id": "iKPYxsCuUBbm"
   },
   "source": [
    "# **Stanford 3D Indoor Scene Dataset (S3DIS)**\n",
    "\n",
    "This notebook explores the [S3DIS](https://svl.stanford.edu/assets/papers/3D_Semantic_Parsing.pdf) dataset using [torch_geometric](https://pytorch-geometric.readthedocs.io/en/latest/index.html)"
   ]
  },
  {
   "cell_type": "markdown",
   "metadata": {
    "id": "eAIXJdDII92E"
   },
   "source": [
    "Install and import libraries"
   ]
  },
  {
   "cell_type": "code",
   "execution_count": null,
   "metadata": {
    "id": "omMUEoaEHqS2"
   },
   "source": [
    "# !pip install open3d==0.16.0 # must be at least 0.16.0"
   ],
   "outputs": []
  },
  {
   "cell_type": "code",
   "execution_count": 4,
   "metadata": {
    "colab": {
     "base_uri": "https://localhost:8080/"
    },
    "id": "pD3z90hjUAir",
    "outputId": "603362a3-d322-472c-f411-524c14d27606"
   },
   "source": [
    "import os\n",
    "import torch\n",
    "os.environ['TORCH'] = torch.__version__\n",
    "print(torch.__version__)\n",
    "\n",
    "!pip install -q torch-scatter -f https://data.pyg.org/whl/torch-${TORCH}.html\n",
    "!pip install -q torch-sparse -f https://data.pyg.org/whl/torch-${TORCH}.html\n",
    "!pip install -q git+https://github.com/pyg-team/pytorch_geometric.git"
   ],
   "outputs": []
  },
  {
   "cell_type": "code",
   "execution_count": 2,
   "metadata": {
    "colab": {
     "base_uri": "https://localhost:8080/"
    },
    "id": "Orb5st9W-Dra",
    "outputId": "a964db6b-93cb-47a4-c1c5-c2a68c0d5675"
   },
   "source": [
    "from IPython.display import clear_output\n",
    "import numpy as np\n",
    "import open3d as o3\n",
    "# from open3d import JVisualizer # For Colab Visualization\n",
    "# from open3d.web_visualizer import draw # for non Colab\n",
    "\n",
    "import matplotlib.pyplot as plt\n",
    "%matplotlib inline"
   ],
   "outputs": []
  },
  {
   "cell_type": "markdown",
   "metadata": {
    "id": "moxHa_UJI7go"
   },
   "source": [
    "Get Dataset"
   ]
  },
  {
   "cell_type": "code",
   "execution_count": 5,
   "metadata": {
    "id": "FHT-fkKIUic0"
   },
   "source": [
    "import torch_geometric\n",
    "from torch_geometric.datasets import S3DIS\n",
    "\n",
    "s3dis_train = S3DIS(root='temp', test_area=6, train=True)"
   ],
   "outputs": []
  },
  {
   "cell_type": "code",
   "execution_count": 6,
   "metadata": {
    "id": "6hOrHnfaVen3"
   },
   "source": [
    "s3dis_test = S3DIS(root='temp', test_area=6, train=False)\n",
    "\n",
    "# split into valid and test sets\n",
    "s3dis_valid = s3dis_test[:2000]\n",
    "s3dis_test = s3dis_test[2000:]"
   ],
   "outputs": []
  },
  {
   "cell_type": "code",
   "execution_count": 7,
   "metadata": {
    "colab": {
     "base_uri": "https://localhost:8080/"
    },
    "id": "iXOadQjzGBdQ",
    "outputId": "85cc71c2-8fcc-472c-ea76-61b4d87d0e10"
   },
   "source": [
    "print(f'Number of train samples: {len(s3dis_train)}')\n",
    "print(f'Number of validation samples: {len(s3dis_valid)}')\n",
    "print(f'Number of test samples: {len(s3dis_test)}')\n",
    "s3dis_train[0]"
   ],
   "outputs": []
  },
  {
   "cell_type": "markdown",
   "metadata": {
    "id": "sG-45vJPUlF_"
   },
   "source": [
    "The 'x' portion of the data set contains 0-1 normalized color and position values that can be fed into a model. The 'y' portion of the dataset contains truth labels that can be found in the original dataset. (TRUTH LABEL MAPPING TBD). The pos contains raw 3D positions and is similar to shapenet.\n",
    "\n",
    "\n",
    "Access normalized color x[:, :3], access normalized position x[:, 3:]"
   ]
  },
  {
   "cell_type": "code",
   "execution_count": 42,
   "metadata": {
    "colab": {
     "base_uri": "https://localhost:8080/"
    },
    "id": "98bEfKpiGThh",
    "outputId": "7478122e-c91e-47d8-ed40-3a254f50a648"
   },
   "source": [
    "s3dis_train[0].x.max(axis=0)"
   ],
   "outputs": []
  },
  {
   "cell_type": "code",
   "execution_count": 9,
   "metadata": {
    "colab": {
     "base_uri": "https://localhost:8080/"
    },
    "id": "Gf2M5QlEGz1l",
    "outputId": "e473f0a7-4557-4d2a-b002-a07e5bd93ba1"
   },
   "source": [
    "s3dis_train[0].pos"
   ],
   "outputs": []
  },
  {
   "cell_type": "code",
   "execution_count": 10,
   "metadata": {
    "colab": {
     "base_uri": "https://localhost:8080/"
    },
    "id": "cZgUeOJlG8e6",
    "outputId": "2342d0dd-4290-48dd-daef-333902fa9976"
   },
   "source": [
    "np.unique(s3dis_train[332].y)"
   ],
   "outputs": []
  },
  {
   "cell_type": "markdown",
   "metadata": {
    "id": "qMSLuEvFLZvt"
   },
   "source": [
    "## Display some stuff\n",
    "\n",
    "First we will get a color mapping for the truth labels"
   ]
  },
  {
   "cell_type": "code",
   "execution_count": 22,
   "metadata": {
    "id": "Umm-R5KWSVKP"
   },
   "source": [
    "color_map = {\n",
    "    0  : (255, 0, 0),\n",
    "    1  : (0, 255, 0),\n",
    "    2  : (0, 0, 255),\n",
    "    3  : (255, 0, 255),\n",
    "    4  : (0, 255, 255),\n",
    "    5  : (255, 255, 0),\n",
    "    6  : (128, 0, 128),\n",
    "    7  : (128, 128, 0),\n",
    "    8  : (0, 128, 128),\n",
    "    9  : (128, 0, 255),\n",
    "    10 : (255, 128, 0),\n",
    "    11 : (0, 128, 255),\n",
    "    12 : (128, 255, 128)\n",
    "}\n",
    "\n",
    "map_colors = lambda x : color_map[x]\n",
    "v_map_colors = np.vectorize(map_colors)"
   ],
   "outputs": []
  },
  {
   "cell_type": "code",
   "execution_count": 86,
   "metadata": {
    "id": "o5q2D4xmLgle"
   },
   "source": [
    "IDX = 3220"
   ],
   "outputs": []
  },
  {
   "cell_type": "code",
   "execution_count": 87,
   "metadata": {
    "colab": {
     "base_uri": "https://localhost:8080/",
     "height": 417
    },
    "id": "H83ni-UsKSS6",
    "outputId": "5b8ccdf5-165b-4af1-dbbc-d568aa317449"
   },
   "source": [
    "pcd = o3.geometry.PointCloud()\n",
    "pcd.points = o3.utility.Vector3dVector(s3dis_train[IDX].x[:, 3:].numpy())\n",
    "# pcd.points = o3.utility.Vector3dVector(s3dis_train[IDX].pos.numpy())\n",
    "\n",
    "pcd.colors = o3.utility.Vector3dVector(s3dis_train[IDX].x[:, :3].numpy())\n",
    "# colors = np.vstack(v_map_colors(s3dis_train[IDX].y)).T\n",
    "# pcd.colors = o3.utility.Vector3dVector(colors)\n",
    "\n",
    "o3.visualization.draw_plotly([pcd])"
   ],
   "outputs": []
  },
  {
   "cell_type": "markdown",
   "metadata": {
    "id": "Mh1QYPyHXT3x"
   },
   "source": [
    "#### Estimate Mesh for better visualation\n",
    "\n",
    "http://www.open3d.org/docs/latest/tutorial/Advanced/surface_reconstruction.html"
   ]
  },
  {
   "cell_type": "code",
   "execution_count": 88,
   "metadata": {
    "id": "yGKkBLZVYR4y"
   },
   "source": [
    "pcd.estimate_normals()"
   ],
   "outputs": []
  },
  {
   "cell_type": "code",
   "execution_count": 89,
   "metadata": {
    "colab": {
     "base_uri": "https://localhost:8080/",
     "height": 417
    },
    "id": "AyUFNCU2YfM6",
    "outputId": "493034ef-f528-4f9c-907c-e689a2726696"
   },
   "source": [
    "radii = [0.005, 0.01, 0.02, 0.04]\n",
    "rec_mesh = o3.geometry.TriangleMesh.create_from_point_cloud_ball_pivoting(\n",
    "    pcd, o3.utility.DoubleVector(radii))\n",
    "o3.visualization.draw_plotly([pcd, rec_mesh])"
   ],
   "outputs": []
  },
  {
   "cell_type": "code",
   "execution_count": 76,
   "metadata": {
    "colab": {
     "base_uri": "https://localhost:8080/",
     "height": 452
    },
    "id": "Rx8NgWsnYnna",
    "outputId": "4880d117-5727-48a9-e833-f0ddf0649815"
   },
   "source": [
    "print('run Poisson surface reconstruction')\n",
    "with o3.utility.VerbosityContextManager(\n",
    "        o3.utility.VerbosityLevel.Debug) as cm:\n",
    "    mesh, densities = o3.geometry.TriangleMesh.create_from_point_cloud_poisson(\n",
    "        pcd, depth=3)\n",
    "print(mesh)\n",
    "o3.visualization.draw_plotly([mesh])\n"
   ],
   "outputs": []
  },
  {
   "cell_type": "code",
   "execution_count": null,
   "metadata": {
    "id": "YCboCN6kY9B9"
   },
   "source": [],
   "outputs": []
  }
 ],
 "metadata": {
  "colab": {
   "authorship_tag": "ABX9TyMu+KmrIdBiqaSv6b1/RbGv",
   "include_colab_link": true,
   "provenance": []
  },
  "kernelspec": {
   "display_name": "Python 3",
   "language": "python",
   "name": "python3"
  },
  "language_info": {
   "name": "python",
   "version": "3.7.8 (tags/v3.7.8:4b47a5b6ba, Jun 28 2020, 08:53:46) [MSC v.1916 64 bit (AMD64)]"
  },
  "vscode": {
   "interpreter": {
    "hash": "0a54084e6b208ee8d1ce3989ffc20924477a5f55f5a43e22e699a6741623861e"
   }
  }
 },
 "nbformat": 4,
 "nbformat_minor": 0
}
