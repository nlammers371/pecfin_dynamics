{
 "cells": [
  {
   "cell_type": "code",
   "id": "92c8bfcd-f710-4c3e-a6ac-f5a0eea113c3",
   "metadata": {},
   "source": [
    "import flowshape as fs\n",
    "import igl\n",
    "import numpy as np\n",
    "import meshplot as mp\n",
    "import os\n",
    "from src.utilities.fin_shape_utils import fit_fin_hull, upsample_fin_point_cloud, plot_mesh\n",
    "from src.utilities.fin_class_def import FinData\n",
    "from src.utilities.functions import path_leaf\n",
    "import glob2 as glob"
   ],
   "outputs": [],
   "execution_count": null
  },
  {
   "cell_type": "markdown",
   "id": "dcbc67db-468c-4244-bc72-f88f6f726934",
   "metadata": {},
   "source": [
    "## Idea: Use bottom half of ellipsoid...smooth the fin-ellipse interface"
   ]
  },
  {
   "cell_type": "markdown",
   "id": "f7a673ae-5a8b-49e6-943d-972616c01c49",
   "metadata": {},
   "source": [
    "### Load fin data"
   ]
  },
  {
   "cell_type": "code",
   "id": "fe2191ac-77f5-448f-969e-9850fde8372d",
   "metadata": {},
   "source": [
    "# root = \"/Users/nick/Cole Trapnell's Lab Dropbox/Nick Lammers/Nick/pecfin_dynamics/\"\n",
    "root = \"/media/nick/hdd02/Cole Trapnell's Lab Dropbox/Nick Lammers/Nick/pecfin_dynamics/\"\n",
    "fin_object_path = os.path.join(root, \"point_cloud_data\", \"fin_objects\", \"\")\n",
    "fin_object_list = sorted(glob.glob(fin_object_path + \"*.pkl\"))\n",
    "\n",
    "file_ind01 = 146\n",
    "seg_type = \"tissue_only_best_model_tissue\"\n",
    "fp01 = fin_object_list[file_ind01]\n",
    "point_prefix01 = path_leaf(fp01).replace(\"_fin_object.pkl\", \"\")\n",
    "print(point_prefix01)\n",
    "\n",
    "fin_object = FinData(data_root=root, name=point_prefix01, tissue_seg_model=seg_type)"
   ],
   "outputs": [],
   "execution_count": null
  },
  {
   "cell_type": "markdown",
   "id": "5edfa820-b4c5-4fc1-81d0-de42bcb77d34",
   "metadata": {},
   "source": [
    "### Calculate distance from each fin nucleus to the yolk surface"
   ]
  },
  {
   "cell_type": "code",
   "id": "c5cf1efb-a776-4f3f-98b2-2c265c983bf2",
   "metadata": {},
   "source": [
    "from sklearn.metrics import pairwise_distances\n",
    "\n",
    "full_df = fin_object.full_point_data\n",
    "fin_df = full_df.loc[full_df[\"fin_label_curr\"] == 1, :].reset_index(drop=True)\n",
    "\n",
    "# orient to biological axes\n",
    "fin_axis_df = fin_object.axis_fin\n",
    "fin_axes = fin_object.calculate_axis_array(fin_axis_df)\n",
    "\n",
    "# Use simple numerical procedure to calculate distance of each fin point to the yolk\n",
    "fin_points = fin_df[[\"X\", \"Y\", \"Z\"]].to_numpy()\n",
    "shift_ref_vec = np.mean(fin_points, axis=0)\n",
    "\n",
    "fin_points_pca = np.matmul(fin_points - shift_ref_vec, fin_axes.T)\n",
    "fin_df.loc[:, [\"XP\", \"YP\", \"ZP\"]] = fin_points_pca\n",
    "\n",
    "params = fin_object.yolk_surf_params\n",
    "\n",
    "x_min, y_min = fin_points[:, 0].min(), fin_points[:, 1].min()\n",
    "x_max, y_max = fin_points[:, 0].max(), fin_points[:, 1].max()\n",
    "\n",
    "# Create a mesh grid for x and y values\n",
    "x_vals = np.linspace(x_min, x_max, 100)\n",
    "y_vals = np.linspace(y_min, y_max, 100)\n",
    "X, Y = np.meshgrid(x_vals, y_vals)\n",
    "\n",
    "yolk_xyz = np.reshape(fin_object.polyval2d(np.c_[X.ravel(), Y.ravel()], params).ravel(), (-1, 3))\n",
    "\n",
    "dist_array = pairwise_distances(fin_points, yolk_xyz)\n",
    "yolk_dist = np.min(dist_array, axis=1)\n",
    "min_i = np.argmin(dist_array, axis=1)\n",
    "yolk_signs = np.sign(fin_points[:, 2] - yolk_xyz[min_i, 2])\n",
    "yolk_dist = -np.multiply(yolk_dist, yolk_signs)\n",
    "\n",
    "fin_df[\"yolk_dist\"] = yolk_dist"
   ],
   "outputs": [],
   "execution_count": null
  },
  {
   "cell_type": "markdown",
   "id": "d311cc4d-afdf-4d5a-9162-c48de8169e15",
   "metadata": {},
   "source": [
    "### Remove nuclei that are too far below the yolk surface"
   ]
  },
  {
   "cell_type": "code",
   "id": "d6ddcd40-4250-4e5f-b561-0a0f29be6950",
   "metadata": {},
   "source": [
    "full_df = fin_object.full_point_data\n",
    "\n",
    "dist_thresh = -10\n",
    "fin_df.reset_index(inplace=True, drop=True)\n",
    "dist_filter = (fin_df[\"yolk_dist\"]>=dist_thresh).to_numpy()\n",
    "nuclei_to_keep = fin_df.loc[dist_filter, \"nucleus_id\"].to_numpy()"
   ],
   "outputs": [],
   "execution_count": null
  },
  {
   "cell_type": "markdown",
   "id": "c3fecdef-ee92-4659-934c-5de0123a4cb7",
   "metadata": {},
   "source": [
    "### Use multivariate gaussians to upsample nuclei"
   ]
  },
  {
   "cell_type": "code",
   "id": "70c0bcae-a34f-4b34-8c21-6719730389c0",
   "metadata": {},
   "source": [
    "# sample nucleus boundary points from nucleus masks\n",
    "fin_df_upsamp = upsample_fin_point_cloud(fin_object, sample_res_um=0.4, root=root, points_per_nucleus=100)"
   ],
   "outputs": [],
   "execution_count": null
  },
  {
   "cell_type": "code",
   "id": "d33a0030-2a89-4723-a97c-bb41d2ac06da",
   "metadata": {},
   "source": [
    "import open3d as o3d\n",
    "\n",
    "# get raw points\n",
    "nc_vec_us = fin_df_upsamp.loc[:, \"nucleus_id\"].to_numpy().astype(np.uint16)\n",
    "keep_filter = np.isin(nc_vec_us, nuclei_to_keep)\n",
    "fin_points = fin_df_upsamp.loc[keep_filter, [\"XP\", \"YP\", \"ZP\"]].to_numpy()\n",
    "\n",
    "# convert to point cloud format\n",
    "pcd = o3d.geometry.PointCloud()\n",
    "pcd.points = o3d.utility.Vector3dVector(fin_points)\n",
    "\n",
    "# resample points to be more spatially uniform\n",
    "min_distance = 0.5\n",
    "sampled_points = pcd.voxel_down_sample(voxel_size=min_distance) "
   ],
   "outputs": [],
   "execution_count": null
  },
  {
   "cell_type": "markdown",
   "id": "954edd18-341b-4973-a36b-c7e359b6392c",
   "metadata": {},
   "source": [
    "### Fit high- and low- resolution meshes"
   ]
  },
  {
   "cell_type": "code",
   "id": "27794563-5cda-4afd-bedc-b084ee651d3d",
   "metadata": {},
   "source": [
    "# fit a high-res mesh \n",
    "fin_points_u = np.asarray(sampled_points.points)\n",
    "fin_hull_h, raw_hull_h, wt_flag = fit_fin_hull(fin_points_u, alpha=23, n_faces=5000)\n",
    "print(wt_flag)"
   ],
   "outputs": [],
   "execution_count": null
  },
  {
   "cell_type": "code",
   "id": "5c58039b-eb94-4377-a629-d90390bbb20b",
   "metadata": {},
   "source": [
    "# fit a low-res mesh\n",
    "fin_hull_l, raw_hull_l, wt_flag_l = fit_fin_hull(fin_points_u, alpha=1, n_faces=5000)\n",
    "print(wt_flag)"
   ],
   "outputs": [],
   "execution_count": null
  },
  {
   "cell_type": "code",
   "id": "e57331ad-922e-4371-bd6f-397454ff5529",
   "metadata": {},
   "source": [
    "import plotly.graph_objects as go\n",
    "\n",
    "#igl.read_triangle_mesh(\"/home/nick/projects/flowshape/demo/ABal.obj\")\n",
    "vh, fh = fin_hull_h.vertices.copy(), fin_hull_h.faces.copy()\n",
    "vl, fl = fin_hull_l.vertices.copy(), fin_hull_l.faces.copy()\n",
    "# mp.plot(v, f, shading = {\"wireframe\":True})\n",
    "_, lines_h, mesh_h = plot_mesh(fin_hull_h, surf_alpha=0.5)\n",
    "_, lines_l, mesh_l = plot_mesh(fin_hull_l, surf_alpha=0.5)\n",
    "\n",
    "fig = go.Figure()\n",
    "fig.add_trace(mesh_h)\n",
    "fig.add_trace(mesh_l)\n",
    "fig.show()"
   ],
   "outputs": [],
   "execution_count": null
  },
  {
   "cell_type": "markdown",
   "id": "de4b2f4a-b26a-4a70-9b6f-a870ef5ed196",
   "metadata": {},
   "source": [
    "### Use fit-surface to generate an oriented ellipsoid cap"
   ]
  },
  {
   "cell_type": "code",
   "id": "8f56b93a-8132-4f48-a25b-30ef59a4b256",
   "metadata": {},
   "source": [
    "# # rescale the raw hull\n",
    "# xyz_fin = fin_points_u\n",
    "\n",
    "# mp = np.min(xyz_fin)\n",
    "# points = xyz_fin - mp\n",
    "# mmp = np.max(points)\n",
    "\n",
    "# vt = raw_hull.vertices\n",
    "# vt = vt * mmp\n",
    "# vt = vt + mp\n",
    "\n",
    "# # shift fin hull points\n",
    "# # vt = np.dot(vt - surf_center_o, rotation_matrix)\n",
    "# raw_hull_rs = raw_hull.copy()\n",
    "# raw_hull_rs.vertices = vt"
   ],
   "outputs": [],
   "execution_count": null
  },
  {
   "cell_type": "markdown",
   "id": "6d78c499-1b79-47d4-ad58-44e6d87b96f3",
   "metadata": {},
   "source": [
    "#### Idea: use depth relative to yolk surface as a parameter to dictate how much weight is allocated to ellipsoid vs fin"
   ]
  },
  {
   "cell_type": "code",
   "id": "e651e80d-fef1-420b-abdf-04faaa7f6d1e",
   "metadata": {},
   "source": [
    "from scipy.spatial import KDTree\n",
    "\n",
    "fin_points_h = np.asarray(fin_hull_h.vertices)\n",
    "fin_points_l = np.asarray(fin_hull_l.vertices)\n",
    "\n",
    "# Find the nearest points on the fin boundary for each ellipsoid boundary point\n",
    "tree = KDTree(fin_points_l)\n",
    "distances, indices = tree.query(fin_points_h)\n",
    "distances.shape"
   ],
   "outputs": [],
   "execution_count": null
  },
  {
   "cell_type": "code",
   "id": "8dc849c2-7ca0-47cb-9b5c-b51af24534b4",
   "metadata": {},
   "source": [
    "# Calculate distance from  yolk surface to ellipsoid points\n",
    "# dist_array_e = pairwise_distances(fin_points_h, surf_points_ro)\n",
    "# yolk_dist_e = np.min(dist_array_e, axis=1)\n",
    "# min_i_e = np.argmin(dist_array_e, axis=1)\n",
    "# yolk_signs_e = np.sign(ellipsoid_points[:, 2] - surf_points_ro[min_i_e, 2])\n",
    "yolk_dist_e = fin_points_h[:, 2] #np.multiply(yolk_dist_e, yolk_signs_e)"
   ],
   "outputs": [],
   "execution_count": null
  },
  {
   "cell_type": "code",
   "id": "1b70d744-8870-49b3-a31f-a61f9eb8f946",
   "metadata": {},
   "source": [
    "# import plotly.express as px\n",
    "\n",
    "# fig = px.scatter_3d(x=ellipsoid_points[:, 0], y=ellipsoid_points[:, 1], z=ellipsoid_points[:, 2], color=yolk_dist_e)\n",
    "# fig.show()"
   ],
   "outputs": [],
   "execution_count": null
  },
  {
   "cell_type": "code",
   "id": "e5ae821b-23c1-4fa4-acdf-1326a96dab22",
   "metadata": {},
   "source": [
    "# e_weight_vec = np.ones_like(yolk_dist_e) #.copy()\n",
    "kd = 0\n",
    "t = 10\n",
    "e_weight_vec = np.divide(np.exp(-(yolk_dist_e - kd)/t), 1 + np.exp(-(yolk_dist_e - kd)/t)) #-(yolk_dist_e**1) / cap_depth\n",
    "# e_weight_vec[e_weight_vec < 0] = 0\n",
    "# e_weight_vec[e_weight_vec > 1] = 1"
   ],
   "outputs": [],
   "execution_count": null
  },
  {
   "cell_type": "code",
   "id": "abbe3eb7-96ad-4fa9-a037-acb9d5606318",
   "metadata": {},
   "source": [
    "import plotly.express as px\n",
    "\n",
    "fig = px.scatter_3d(x=fin_points_h[:, 0], y=fin_points_h[:, 1], z=fin_points_h[:, 2], color=e_weight_vec)\n",
    "fig.show()"
   ],
   "outputs": [],
   "execution_count": null
  },
  {
   "cell_type": "code",
   "id": "8ad22f56-2289-4116-ab0d-0df020fa9373",
   "metadata": {},
   "source": [
    "# get closest fin point for each ellipsoid point\n",
    "f_weight_vec = (1 - e_weight_vec)\n",
    "fin_points_e = fin_points_l[indices]\n",
    "# take weighted average\n",
    "new_points_e = np.multiply(e_weight_vec[:, np.newaxis], fin_points_l) + np.multiply(f_weight_vec[:, np.newaxis], fin_points_h)"
   ],
   "outputs": [],
   "execution_count": null
  },
  {
   "cell_type": "code",
   "id": "91236797-2b81-4441-82d6-e740863be265",
   "metadata": {},
   "source": [
    "### e_mesh_new = fin_hull_h.copy()\n",
    "e_mesh_new.vertices = new_points_e\n",
    "\n",
    "_, lines, mesh = plot_mesh(e_mesh_new, surf_alpha=1)\n",
    "\n",
    "fig = go.Figure()\n",
    "fig.add_traces(mesh)\n",
    "fig.update_scenes(aspectmode='data')\n",
    "fig.show()"
   ],
   "outputs": [],
   "execution_count": null
  },
  {
   "cell_type": "code",
   "id": "17535358-deaf-4545-a13c-9b0907f546cd",
   "metadata": {},
   "source": [
    "smoothing_strength = 5\n",
    "n_faces = 5000\n",
    "\n",
    "# copy\n",
    "hull02_cc = raw_hull_rs.copy()\n",
    "\n",
    "# keep only largest component\n",
    "hull02_cc = hull02_cc.split(only_watertight=False)\n",
    "hull02_sm = max(hull02_cc, key=lambda m: m.area)\n",
    "\n",
    "# fill holes\n",
    "hull02_sm.fill_holes()\n",
    "\n",
    "# smooth\n",
    "combined_mesh = trimesh.boolean.union([hull02_sm, e_mesh_new])\n",
    "combined_mesh = trimesh.smoothing.filter_laplacian(combined_mesh, iterations=smoothing_strength)\n",
    "\n",
    "# resample\n",
    "n_faces = np.min([n_faces, combined_mesh.faces.shape[0]-1])\n",
    "combined_mesh = combined_mesh.simplify_quadric_decimation(face_count=n_faces)\n",
    "combined_mesh = combined_mesh.split(only_watertight=False)\n",
    "combined_mesh = max(combined_mesh, key=lambda m: m.area)\n",
    "combined_mesh.fill_holes()\n",
    "combined_mesh.fix_normals()\n"
   ],
   "outputs": [],
   "execution_count": null
  },
  {
   "cell_type": "code",
   "id": "2b1da171-4bb7-44ca-a0fe-1e33d91c1b54",
   "metadata": {},
   "source": [
    "import plotly.graph_objects as go\n",
    "\n",
    "# combined_mesh = trimesh.boolean.union([raw_hull, e_mesh_new])\n",
    "\n",
    "_, lines, mesh = plot_mesh(combined_mesh, surf_alpha=1)\n",
    "\n",
    "fig = go.Figure()\n",
    "fig.add_traces(mesh)\n",
    "# fig.add_traces(mesh0)\n",
    "fig.update_scenes(aspectmode='data')\n",
    "fig.show()"
   ],
   "outputs": [],
   "execution_count": null
  },
  {
   "cell_type": "markdown",
   "id": "cd806611-99c0-49a7-b4c4-1fa4e73c3b20",
   "metadata": {},
   "source": [
    "### Run spherical mapping"
   ]
  },
  {
   "cell_type": "code",
   "id": "8e0c61a4-3e1a-41e6-8352-7142613ef289",
   "metadata": {},
   "source": [
    "# normalize the scaling of the mesh\n",
    "v = fs.normalize(v)\n",
    "\n",
    "# run the spherical mapping flow and mobius centering\n",
    "sv = fs.sphere_map(v, f)\n",
    "\n",
    "# Now we have a spherical mesh\n",
    "mp.plot(sv, f, shading = {\"wireframe\":True})"
   ],
   "outputs": [],
   "execution_count": null
  },
  {
   "cell_type": "markdown",
   "id": "3829beca-8399-4f07-8fd3-aa46d6fe7594",
   "metadata": {},
   "source": [
    "### Calculate the mean curvature"
   ]
  },
  {
   "cell_type": "code",
   "id": "7c745d12-1f6c-487d-842a-60394eeaa5f5",
   "metadata": {},
   "source": [
    "rho = fs.curvature_function(v, sv, f)\n",
    "\n",
    "mp.plot(v,f, rho )"
   ],
   "outputs": [],
   "execution_count": null
  },
  {
   "cell_type": "markdown",
   "id": "b9d6eb7b-cf9e-43e8-9a48-aab9ba97eacd",
   "metadata": {},
   "source": [
    "## SH decomposition"
   ]
  },
  {
   "cell_type": "code",
   "id": "15b2b75a-f5bb-4f48-9ede-20a00cfc575e",
   "metadata": {},
   "source": [
    "# this utility does the above steps + SH decomposition\n",
    "# Here, using maximum degree 24\n",
    "weights, Y_mat, vs = fs.do_mapping(v,f, l_max = 24)"
   ],
   "outputs": [],
   "execution_count": null
  },
  {
   "cell_type": "code",
   "id": "e86dc4a7-a084-47f7-81f8-c3b94588ef77",
   "metadata": {},
   "source": [
    "# This is the array of SH weights\n",
    "np.set_printoptions(threshold = 100)\n",
    "print(weights)"
   ],
   "outputs": [],
   "execution_count": null
  },
  {
   "cell_type": "code",
   "id": "b53c37a6-e9ef-4110-be75-fe9eb8df2e9d",
   "metadata": {},
   "source": [
    "# Y_mat is a matrix used to convert between weights and mesh function\n",
    "rho2 = Y_mat.dot(weights)\n",
    "mp.plot(sv,f, c = rho2)"
   ],
   "outputs": [],
   "execution_count": null
  },
  {
   "cell_type": "markdown",
   "id": "7a1faec2-b555-407a-8e8c-25c6b706d0d6",
   "metadata": {},
   "source": [
    "### Mesh reconstruction"
   ]
  },
  {
   "cell_type": "code",
   "id": "37968ad0-6e90-4f90-a9df-6fcf34f1addd",
   "metadata": {},
   "source": [
    "rec2 = fs.reconstruct_shape(sv, f, rho2 )\n",
    "mp.plot(rec2,f, c = rho2)"
   ],
   "outputs": [],
   "execution_count": null
  },
  {
   "cell_type": "markdown",
   "id": "e3c0d875-ed43-41bf-ab4f-c2967ed95405",
   "metadata": {},
   "source": [
    "### Test with lower frequencies only"
   ]
  },
  {
   "cell_type": "code",
   "id": "3bacc589-985f-46a2-bc12-ed2014c9b220",
   "metadata": {},
   "source": [
    "weights, Y_mat, vs = fs.do_mapping(v,f, l_max=4)\n",
    "rec_8 = fs.reconstruct_shape(sv, f, Y_mat.dot(weights) )\n",
    "mp.plot(rec_8, f, c = rho2)"
   ],
   "outputs": [],
   "execution_count": null
  },
  {
   "cell_type": "code",
   "id": "f342cfbb-f617-49bc-bb71-60c226eabbc7",
   "metadata": {},
   "source": [],
   "outputs": [],
   "execution_count": null
  }
 ],
 "metadata": {
  "kernelspec": {
   "display_name": "Python (flowshape-env)",
   "language": "python",
   "name": "flowshape-env"
  },
  "language_info": {
   "codemirror_mode": {
    "name": "ipython",
    "version": 3
   },
   "file_extension": ".py",
   "mimetype": "text/x-python",
   "name": "python",
   "nbconvert_exporter": "python",
   "pygments_lexer": "ipython3",
   "version": "3.10.15"
  }
 },
 "nbformat": 4,
 "nbformat_minor": 5
}
