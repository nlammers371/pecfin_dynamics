{
 "cells": [
  {
   "cell_type": "markdown",
   "id": "01838c85-25a4-464f-a47c-e78ade625afb",
   "metadata": {},
   "source": [
    "### Experiment with outlier detection"
   ]
  },
  {
   "cell_type": "code",
   "execution_count": 63,
   "id": "36186a74-4440-4794-a07b-64292f06f5c6",
   "metadata": {},
   "outputs": [],
   "source": [
    "import numpy as np\n",
    "import scipy\n",
    "\n",
    "from sklearn import svm\n",
    "from sklearn.linear_model import SGDOneClassSVM\n",
    "from skimage import measure\n",
    "\n",
    "# remeshing\n",
    "import pyvista\n",
    "import pyacvd\n",
    "import pymeshfix\n",
    "import igl\n",
    "\n",
    "# plotting\n",
    "import meshplot\n",
    "\n",
    "# NL additions\n",
    "import pandas as pd\n",
    "import os\n",
    "import glob2 as glob\n",
    "import trimesh"
   ]
  },
  {
   "cell_type": "code",
   "execution_count": 64,
   "id": "462797c2-efc7-4922-9de9-599071593f51",
   "metadata": {},
   "outputs": [],
   "source": [
    "# get list of refined fin mesh objects\n",
    "root = \"/media/nick/hdd02/Cole Trapnell's Lab Dropbox/Nick Lammers/Nick/pecfin_dynamics/\"\n",
    "\n",
    "fin_mesh_list = sorted(glob.glob(os.path.join(root, \"point_cloud_data\", \"processed_fin_data\", \"*smoothed_fin_mesh*\")))\n",
    "raw_mesh_list = sorted(glob.glob(os.path.join(root, \"point_cloud_data\", \"processed_fin_data\", \"*rawfin_mesh*\")))\n",
    "fin_df_list = sorted(glob.glob(os.path.join(root, \"point_cloud_data\", \"processed_fin_data\", \"*upsampled*\")))\n",
    "fin_df_c_list = sorted(glob.glob(os.path.join(root, \"point_cloud_data\", \"processed_fin_data\", \"*data.csv\")))"
   ]
  },
  {
   "cell_type": "code",
   "execution_count": 75,
   "id": "c37888be-3f57-4df4-af6f-7ecf2a89fa05",
   "metadata": {},
   "outputs": [],
   "source": [
    "file_ind = 4\n",
    "\n",
    "fin_mesh =trimesh.load(fin_mesh_list[file_ind])\n",
    "raw_fin_mesh =trimesh.load(raw_mesh_list[file_ind])\n",
    "fin_df = pd.read_csv(fin_df_list[file_ind])\n",
    "fin_df_c = pd.read_csv(fin_df_c_list[file_ind])"
   ]
  },
  {
   "cell_type": "markdown",
   "id": "44d14e65-827c-4f30-8b9b-ab36f24f54d1",
   "metadata": {},
   "source": [
    "# Fit one class svm"
   ]
  },
  {
   "cell_type": "code",
   "execution_count": 81,
   "id": "901a77bf-4722-4d41-92e0-3817fa03e1c8",
   "metadata": {},
   "outputs": [
    {
     "name": "stdout",
     "output_type": "stream",
     "text": [
      "gamma: 0.00336\n"
     ]
    }
   ],
   "source": [
    "pts = fin_df_c[[\"YP\", \"ZP\"]].to_numpy() #fin_df_c[[\"XP\", \"YP\", \"ZP\", \"size\"]].to_numpy()\n",
    "\n",
    "# estimate gamma (scale coefficient) with variance heuristic\n",
    "# you may need to play with it to get good results, but this is a good starting point\n",
    "# Make gamma larger to get finer results, make it smaller to get smoother results (less holes)\n",
    "\n",
    "gamma = 1 / (3 * np.var(pts))\n",
    "\n",
    "# in this case, I'm making it larger becuase otherwise it fills up the hole\n",
    "gamma *= 2.5\n",
    "\n",
    "print(f\"gamma: {gamma:.5f}\")"
   ]
  },
  {
   "cell_type": "code",
   "execution_count": 82,
   "id": "3b41b0c3-de6a-4e10-b65e-fb434af29531",
   "metadata": {},
   "outputs": [],
   "source": [
    "# fraction of data that should be considered outliers\n",
    "# you can also play with this, generally I found 0.05 - 0.12 to give decent results\n",
    "outliers = 0.03"
   ]
  },
  {
   "cell_type": "code",
   "execution_count": 83,
   "id": "2c57cfef-9f17-4bb3-997a-034e558a0d07",
   "metadata": {},
   "outputs": [
    {
     "data": {
      "text/html": [
       "<style>#sk-container-id-11 {\n",
       "  /* Definition of color scheme common for light and dark mode */\n",
       "  --sklearn-color-text: black;\n",
       "  --sklearn-color-line: gray;\n",
       "  /* Definition of color scheme for unfitted estimators */\n",
       "  --sklearn-color-unfitted-level-0: #fff5e6;\n",
       "  --sklearn-color-unfitted-level-1: #f6e4d2;\n",
       "  --sklearn-color-unfitted-level-2: #ffe0b3;\n",
       "  --sklearn-color-unfitted-level-3: chocolate;\n",
       "  /* Definition of color scheme for fitted estimators */\n",
       "  --sklearn-color-fitted-level-0: #f0f8ff;\n",
       "  --sklearn-color-fitted-level-1: #d4ebff;\n",
       "  --sklearn-color-fitted-level-2: #b3dbfd;\n",
       "  --sklearn-color-fitted-level-3: cornflowerblue;\n",
       "\n",
       "  /* Specific color for light theme */\n",
       "  --sklearn-color-text-on-default-background: var(--sg-text-color, var(--theme-code-foreground, var(--jp-content-font-color1, black)));\n",
       "  --sklearn-color-background: var(--sg-background-color, var(--theme-background, var(--jp-layout-color0, white)));\n",
       "  --sklearn-color-border-box: var(--sg-text-color, var(--theme-code-foreground, var(--jp-content-font-color1, black)));\n",
       "  --sklearn-color-icon: #696969;\n",
       "\n",
       "  @media (prefers-color-scheme: dark) {\n",
       "    /* Redefinition of color scheme for dark theme */\n",
       "    --sklearn-color-text-on-default-background: var(--sg-text-color, var(--theme-code-foreground, var(--jp-content-font-color1, white)));\n",
       "    --sklearn-color-background: var(--sg-background-color, var(--theme-background, var(--jp-layout-color0, #111)));\n",
       "    --sklearn-color-border-box: var(--sg-text-color, var(--theme-code-foreground, var(--jp-content-font-color1, white)));\n",
       "    --sklearn-color-icon: #878787;\n",
       "  }\n",
       "}\n",
       "\n",
       "#sk-container-id-11 {\n",
       "  color: var(--sklearn-color-text);\n",
       "}\n",
       "\n",
       "#sk-container-id-11 pre {\n",
       "  padding: 0;\n",
       "}\n",
       "\n",
       "#sk-container-id-11 input.sk-hidden--visually {\n",
       "  border: 0;\n",
       "  clip: rect(1px 1px 1px 1px);\n",
       "  clip: rect(1px, 1px, 1px, 1px);\n",
       "  height: 1px;\n",
       "  margin: -1px;\n",
       "  overflow: hidden;\n",
       "  padding: 0;\n",
       "  position: absolute;\n",
       "  width: 1px;\n",
       "}\n",
       "\n",
       "#sk-container-id-11 div.sk-dashed-wrapped {\n",
       "  border: 1px dashed var(--sklearn-color-line);\n",
       "  margin: 0 0.4em 0.5em 0.4em;\n",
       "  box-sizing: border-box;\n",
       "  padding-bottom: 0.4em;\n",
       "  background-color: var(--sklearn-color-background);\n",
       "}\n",
       "\n",
       "#sk-container-id-11 div.sk-container {\n",
       "  /* jupyter's `normalize.less` sets `[hidden] { display: none; }`\n",
       "     but bootstrap.min.css set `[hidden] { display: none !important; }`\n",
       "     so we also need the `!important` here to be able to override the\n",
       "     default hidden behavior on the sphinx rendered scikit-learn.org.\n",
       "     See: https://github.com/scikit-learn/scikit-learn/issues/21755 */\n",
       "  display: inline-block !important;\n",
       "  position: relative;\n",
       "}\n",
       "\n",
       "#sk-container-id-11 div.sk-text-repr-fallback {\n",
       "  display: none;\n",
       "}\n",
       "\n",
       "div.sk-parallel-item,\n",
       "div.sk-serial,\n",
       "div.sk-item {\n",
       "  /* draw centered vertical line to link estimators */\n",
       "  background-image: linear-gradient(var(--sklearn-color-text-on-default-background), var(--sklearn-color-text-on-default-background));\n",
       "  background-size: 2px 100%;\n",
       "  background-repeat: no-repeat;\n",
       "  background-position: center center;\n",
       "}\n",
       "\n",
       "/* Parallel-specific style estimator block */\n",
       "\n",
       "#sk-container-id-11 div.sk-parallel-item::after {\n",
       "  content: \"\";\n",
       "  width: 100%;\n",
       "  border-bottom: 2px solid var(--sklearn-color-text-on-default-background);\n",
       "  flex-grow: 1;\n",
       "}\n",
       "\n",
       "#sk-container-id-11 div.sk-parallel {\n",
       "  display: flex;\n",
       "  align-items: stretch;\n",
       "  justify-content: center;\n",
       "  background-color: var(--sklearn-color-background);\n",
       "  position: relative;\n",
       "}\n",
       "\n",
       "#sk-container-id-11 div.sk-parallel-item {\n",
       "  display: flex;\n",
       "  flex-direction: column;\n",
       "}\n",
       "\n",
       "#sk-container-id-11 div.sk-parallel-item:first-child::after {\n",
       "  align-self: flex-end;\n",
       "  width: 50%;\n",
       "}\n",
       "\n",
       "#sk-container-id-11 div.sk-parallel-item:last-child::after {\n",
       "  align-self: flex-start;\n",
       "  width: 50%;\n",
       "}\n",
       "\n",
       "#sk-container-id-11 div.sk-parallel-item:only-child::after {\n",
       "  width: 0;\n",
       "}\n",
       "\n",
       "/* Serial-specific style estimator block */\n",
       "\n",
       "#sk-container-id-11 div.sk-serial {\n",
       "  display: flex;\n",
       "  flex-direction: column;\n",
       "  align-items: center;\n",
       "  background-color: var(--sklearn-color-background);\n",
       "  padding-right: 1em;\n",
       "  padding-left: 1em;\n",
       "}\n",
       "\n",
       "\n",
       "/* Toggleable style: style used for estimator/Pipeline/ColumnTransformer box that is\n",
       "clickable and can be expanded/collapsed.\n",
       "- Pipeline and ColumnTransformer use this feature and define the default style\n",
       "- Estimators will overwrite some part of the style using the `sk-estimator` class\n",
       "*/\n",
       "\n",
       "/* Pipeline and ColumnTransformer style (default) */\n",
       "\n",
       "#sk-container-id-11 div.sk-toggleable {\n",
       "  /* Default theme specific background. It is overwritten whether we have a\n",
       "  specific estimator or a Pipeline/ColumnTransformer */\n",
       "  background-color: var(--sklearn-color-background);\n",
       "}\n",
       "\n",
       "/* Toggleable label */\n",
       "#sk-container-id-11 label.sk-toggleable__label {\n",
       "  cursor: pointer;\n",
       "  display: block;\n",
       "  width: 100%;\n",
       "  margin-bottom: 0;\n",
       "  padding: 0.5em;\n",
       "  box-sizing: border-box;\n",
       "  text-align: center;\n",
       "}\n",
       "\n",
       "#sk-container-id-11 label.sk-toggleable__label-arrow:before {\n",
       "  /* Arrow on the left of the label */\n",
       "  content: \"▸\";\n",
       "  float: left;\n",
       "  margin-right: 0.25em;\n",
       "  color: var(--sklearn-color-icon);\n",
       "}\n",
       "\n",
       "#sk-container-id-11 label.sk-toggleable__label-arrow:hover:before {\n",
       "  color: var(--sklearn-color-text);\n",
       "}\n",
       "\n",
       "/* Toggleable content - dropdown */\n",
       "\n",
       "#sk-container-id-11 div.sk-toggleable__content {\n",
       "  max-height: 0;\n",
       "  max-width: 0;\n",
       "  overflow: hidden;\n",
       "  text-align: left;\n",
       "  /* unfitted */\n",
       "  background-color: var(--sklearn-color-unfitted-level-0);\n",
       "}\n",
       "\n",
       "#sk-container-id-11 div.sk-toggleable__content.fitted {\n",
       "  /* fitted */\n",
       "  background-color: var(--sklearn-color-fitted-level-0);\n",
       "}\n",
       "\n",
       "#sk-container-id-11 div.sk-toggleable__content pre {\n",
       "  margin: 0.2em;\n",
       "  border-radius: 0.25em;\n",
       "  color: var(--sklearn-color-text);\n",
       "  /* unfitted */\n",
       "  background-color: var(--sklearn-color-unfitted-level-0);\n",
       "}\n",
       "\n",
       "#sk-container-id-11 div.sk-toggleable__content.fitted pre {\n",
       "  /* unfitted */\n",
       "  background-color: var(--sklearn-color-fitted-level-0);\n",
       "}\n",
       "\n",
       "#sk-container-id-11 input.sk-toggleable__control:checked~div.sk-toggleable__content {\n",
       "  /* Expand drop-down */\n",
       "  max-height: 200px;\n",
       "  max-width: 100%;\n",
       "  overflow: auto;\n",
       "}\n",
       "\n",
       "#sk-container-id-11 input.sk-toggleable__control:checked~label.sk-toggleable__label-arrow:before {\n",
       "  content: \"▾\";\n",
       "}\n",
       "\n",
       "/* Pipeline/ColumnTransformer-specific style */\n",
       "\n",
       "#sk-container-id-11 div.sk-label input.sk-toggleable__control:checked~label.sk-toggleable__label {\n",
       "  color: var(--sklearn-color-text);\n",
       "  background-color: var(--sklearn-color-unfitted-level-2);\n",
       "}\n",
       "\n",
       "#sk-container-id-11 div.sk-label.fitted input.sk-toggleable__control:checked~label.sk-toggleable__label {\n",
       "  background-color: var(--sklearn-color-fitted-level-2);\n",
       "}\n",
       "\n",
       "/* Estimator-specific style */\n",
       "\n",
       "/* Colorize estimator box */\n",
       "#sk-container-id-11 div.sk-estimator input.sk-toggleable__control:checked~label.sk-toggleable__label {\n",
       "  /* unfitted */\n",
       "  background-color: var(--sklearn-color-unfitted-level-2);\n",
       "}\n",
       "\n",
       "#sk-container-id-11 div.sk-estimator.fitted input.sk-toggleable__control:checked~label.sk-toggleable__label {\n",
       "  /* fitted */\n",
       "  background-color: var(--sklearn-color-fitted-level-2);\n",
       "}\n",
       "\n",
       "#sk-container-id-11 div.sk-label label.sk-toggleable__label,\n",
       "#sk-container-id-11 div.sk-label label {\n",
       "  /* The background is the default theme color */\n",
       "  color: var(--sklearn-color-text-on-default-background);\n",
       "}\n",
       "\n",
       "/* On hover, darken the color of the background */\n",
       "#sk-container-id-11 div.sk-label:hover label.sk-toggleable__label {\n",
       "  color: var(--sklearn-color-text);\n",
       "  background-color: var(--sklearn-color-unfitted-level-2);\n",
       "}\n",
       "\n",
       "/* Label box, darken color on hover, fitted */\n",
       "#sk-container-id-11 div.sk-label.fitted:hover label.sk-toggleable__label.fitted {\n",
       "  color: var(--sklearn-color-text);\n",
       "  background-color: var(--sklearn-color-fitted-level-2);\n",
       "}\n",
       "\n",
       "/* Estimator label */\n",
       "\n",
       "#sk-container-id-11 div.sk-label label {\n",
       "  font-family: monospace;\n",
       "  font-weight: bold;\n",
       "  display: inline-block;\n",
       "  line-height: 1.2em;\n",
       "}\n",
       "\n",
       "#sk-container-id-11 div.sk-label-container {\n",
       "  text-align: center;\n",
       "}\n",
       "\n",
       "/* Estimator-specific */\n",
       "#sk-container-id-11 div.sk-estimator {\n",
       "  font-family: monospace;\n",
       "  border: 1px dotted var(--sklearn-color-border-box);\n",
       "  border-radius: 0.25em;\n",
       "  box-sizing: border-box;\n",
       "  margin-bottom: 0.5em;\n",
       "  /* unfitted */\n",
       "  background-color: var(--sklearn-color-unfitted-level-0);\n",
       "}\n",
       "\n",
       "#sk-container-id-11 div.sk-estimator.fitted {\n",
       "  /* fitted */\n",
       "  background-color: var(--sklearn-color-fitted-level-0);\n",
       "}\n",
       "\n",
       "/* on hover */\n",
       "#sk-container-id-11 div.sk-estimator:hover {\n",
       "  /* unfitted */\n",
       "  background-color: var(--sklearn-color-unfitted-level-2);\n",
       "}\n",
       "\n",
       "#sk-container-id-11 div.sk-estimator.fitted:hover {\n",
       "  /* fitted */\n",
       "  background-color: var(--sklearn-color-fitted-level-2);\n",
       "}\n",
       "\n",
       "/* Specification for estimator info (e.g. \"i\" and \"?\") */\n",
       "\n",
       "/* Common style for \"i\" and \"?\" */\n",
       "\n",
       ".sk-estimator-doc-link,\n",
       "a:link.sk-estimator-doc-link,\n",
       "a:visited.sk-estimator-doc-link {\n",
       "  float: right;\n",
       "  font-size: smaller;\n",
       "  line-height: 1em;\n",
       "  font-family: monospace;\n",
       "  background-color: var(--sklearn-color-background);\n",
       "  border-radius: 1em;\n",
       "  height: 1em;\n",
       "  width: 1em;\n",
       "  text-decoration: none !important;\n",
       "  margin-left: 1ex;\n",
       "  /* unfitted */\n",
       "  border: var(--sklearn-color-unfitted-level-1) 1pt solid;\n",
       "  color: var(--sklearn-color-unfitted-level-1);\n",
       "}\n",
       "\n",
       ".sk-estimator-doc-link.fitted,\n",
       "a:link.sk-estimator-doc-link.fitted,\n",
       "a:visited.sk-estimator-doc-link.fitted {\n",
       "  /* fitted */\n",
       "  border: var(--sklearn-color-fitted-level-1) 1pt solid;\n",
       "  color: var(--sklearn-color-fitted-level-1);\n",
       "}\n",
       "\n",
       "/* On hover */\n",
       "div.sk-estimator:hover .sk-estimator-doc-link:hover,\n",
       ".sk-estimator-doc-link:hover,\n",
       "div.sk-label-container:hover .sk-estimator-doc-link:hover,\n",
       ".sk-estimator-doc-link:hover {\n",
       "  /* unfitted */\n",
       "  background-color: var(--sklearn-color-unfitted-level-3);\n",
       "  color: var(--sklearn-color-background);\n",
       "  text-decoration: none;\n",
       "}\n",
       "\n",
       "div.sk-estimator.fitted:hover .sk-estimator-doc-link.fitted:hover,\n",
       ".sk-estimator-doc-link.fitted:hover,\n",
       "div.sk-label-container:hover .sk-estimator-doc-link.fitted:hover,\n",
       ".sk-estimator-doc-link.fitted:hover {\n",
       "  /* fitted */\n",
       "  background-color: var(--sklearn-color-fitted-level-3);\n",
       "  color: var(--sklearn-color-background);\n",
       "  text-decoration: none;\n",
       "}\n",
       "\n",
       "/* Span, style for the box shown on hovering the info icon */\n",
       ".sk-estimator-doc-link span {\n",
       "  display: none;\n",
       "  z-index: 9999;\n",
       "  position: relative;\n",
       "  font-weight: normal;\n",
       "  right: .2ex;\n",
       "  padding: .5ex;\n",
       "  margin: .5ex;\n",
       "  width: min-content;\n",
       "  min-width: 20ex;\n",
       "  max-width: 50ex;\n",
       "  color: var(--sklearn-color-text);\n",
       "  box-shadow: 2pt 2pt 4pt #999;\n",
       "  /* unfitted */\n",
       "  background: var(--sklearn-color-unfitted-level-0);\n",
       "  border: .5pt solid var(--sklearn-color-unfitted-level-3);\n",
       "}\n",
       "\n",
       ".sk-estimator-doc-link.fitted span {\n",
       "  /* fitted */\n",
       "  background: var(--sklearn-color-fitted-level-0);\n",
       "  border: var(--sklearn-color-fitted-level-3);\n",
       "}\n",
       "\n",
       ".sk-estimator-doc-link:hover span {\n",
       "  display: block;\n",
       "}\n",
       "\n",
       "/* \"?\"-specific style due to the `<a>` HTML tag */\n",
       "\n",
       "#sk-container-id-11 a.estimator_doc_link {\n",
       "  float: right;\n",
       "  font-size: 1rem;\n",
       "  line-height: 1em;\n",
       "  font-family: monospace;\n",
       "  background-color: var(--sklearn-color-background);\n",
       "  border-radius: 1rem;\n",
       "  height: 1rem;\n",
       "  width: 1rem;\n",
       "  text-decoration: none;\n",
       "  /* unfitted */\n",
       "  color: var(--sklearn-color-unfitted-level-1);\n",
       "  border: var(--sklearn-color-unfitted-level-1) 1pt solid;\n",
       "}\n",
       "\n",
       "#sk-container-id-11 a.estimator_doc_link.fitted {\n",
       "  /* fitted */\n",
       "  border: var(--sklearn-color-fitted-level-1) 1pt solid;\n",
       "  color: var(--sklearn-color-fitted-level-1);\n",
       "}\n",
       "\n",
       "/* On hover */\n",
       "#sk-container-id-11 a.estimator_doc_link:hover {\n",
       "  /* unfitted */\n",
       "  background-color: var(--sklearn-color-unfitted-level-3);\n",
       "  color: var(--sklearn-color-background);\n",
       "  text-decoration: none;\n",
       "}\n",
       "\n",
       "#sk-container-id-11 a.estimator_doc_link.fitted:hover {\n",
       "  /* fitted */\n",
       "  background-color: var(--sklearn-color-fitted-level-3);\n",
       "}\n",
       "</style><div id=\"sk-container-id-11\" class=\"sk-top-container\"><div class=\"sk-text-repr-fallback\"><pre>OneClassSVM(gamma=np.float64(0.0033550206143305086), nu=0.03)</pre><b>In a Jupyter environment, please rerun this cell to show the HTML representation or trust the notebook. <br />On GitHub, the HTML representation is unable to render, please try loading this page with nbviewer.org.</b></div><div class=\"sk-container\" hidden><div class=\"sk-item\"><div class=\"sk-estimator fitted sk-toggleable\"><input class=\"sk-toggleable__control sk-hidden--visually\" id=\"sk-estimator-id-11\" type=\"checkbox\" checked><label for=\"sk-estimator-id-11\" class=\"sk-toggleable__label fitted sk-toggleable__label-arrow fitted\">&nbsp;&nbsp;OneClassSVM<a class=\"sk-estimator-doc-link fitted\" rel=\"noreferrer\" target=\"_blank\" href=\"https://scikit-learn.org/1.5/modules/generated/sklearn.svm.OneClassSVM.html\">?<span>Documentation for OneClassSVM</span></a><span class=\"sk-estimator-doc-link fitted\">i<span>Fitted</span></span></label><div class=\"sk-toggleable__content fitted\"><pre>OneClassSVM(gamma=np.float64(0.0033550206143305086), nu=0.03)</pre></div> </div></div></div></div>"
      ],
      "text/plain": [
       "OneClassSVM(gamma=np.float64(0.0033550206143305086), nu=0.03)"
      ]
     },
     "execution_count": 83,
     "metadata": {},
     "output_type": "execute_result"
    }
   ],
   "source": [
    "# fit the model (can be quite slow!)\n",
    "model = svm.OneClassSVM(kernel=\"rbf\", gamma=gamma, nu=outliers)\n",
    "model.fit(pts)"
   ]
  },
  {
   "cell_type": "code",
   "execution_count": 84,
   "id": "40cf76b7-27a1-4931-82fc-aac88de83b00",
   "metadata": {},
   "outputs": [],
   "source": [
    "y_pred = model.predict(pts)"
   ]
  },
  {
   "cell_type": "code",
   "execution_count": 85,
   "id": "417fe40c-b768-4fb8-b560-333d64ea1973",
   "metadata": {},
   "outputs": [
    {
     "data": {
      "application/vnd.plotly.v1+json": {
       "config": {
        "plotlyServerURL": "https://plot.ly"
       },
       "data": [
        {
         "hovertemplate": "XP=%{x}<br>YP=%{y}<br>ZP=%{z}<br>color=%{marker.color}<extra></extra>",
         "legendgroup": "",
         "marker": {
          "color": [
           -1,
           -1,
           1,
           1,
           1,
           1,
           1,
           1,
           1,
           1,
           1,
           1,
           1,
           1,
           1,
           1,
           1,
           1,
           1,
           -1,
           1,
           1,
           1,
           1,
           1,
           1,
           1,
           1,
           1,
           -1,
           1,
           1,
           1,
           1,
           1,
           1,
           1,
           1,
           1,
           1,
           1,
           1,
           1,
           1,
           1,
           1,
           1,
           1,
           1,
           1,
           1,
           1,
           1,
           1,
           1,
           1,
           1,
           1,
           1,
           1,
           1,
           1,
           1,
           1,
           1,
           1,
           1,
           1,
           1,
           1,
           1,
           1,
           1,
           1,
           1,
           1,
           1,
           1,
           1,
           1,
           1,
           1,
           1,
           1,
           1,
           1,
           1,
           1,
           1,
           1,
           1,
           1,
           1,
           1,
           1,
           1,
           1,
           1,
           1,
           1,
           1,
           1,
           1,
           1,
           1,
           1,
           1,
           1,
           1,
           1,
           1,
           1,
           1,
           1,
           1,
           1,
           1,
           1,
           1,
           1,
           1,
           1,
           1,
           1,
           1,
           1,
           1,
           1,
           1,
           1,
           1,
           1,
           1,
           1,
           1,
           1,
           1,
           1,
           1,
           1,
           1,
           1,
           1,
           1,
           1,
           1,
           1,
           1,
           -1,
           -1,
           1,
           1,
           1,
           1,
           1,
           1,
           1,
           1,
           1,
           1,
           1,
           1,
           1,
           1,
           1,
           1,
           1,
           1,
           1,
           1,
           1,
           1,
           1,
           1,
           1,
           -1,
           1,
           1,
           1,
           1,
           1,
           1,
           1,
           1,
           1,
           1,
           1,
           1,
           1,
           -1,
           1,
           1,
           1,
           1,
           1,
           1,
           1,
           1,
           1,
           1,
           1,
           1,
           1,
           1,
           -1,
           1,
           1,
           1,
           1,
           1
          ],
          "coloraxis": "coloraxis",
          "size": 4,
          "symbol": "circle"
         },
         "mode": "markers",
         "name": "",
         "scene": "scene",
         "showlegend": false,
         "type": "scatter3d",
         "x": [
          9.21593358796838,
          8.390251946388538,
          5.704939761061502,
          -15.189846714506077,
          -0.4425864107151336,
          -2.6920329199785398,
          21.55934847913725,
          -33.15617106103081,
          -21.224379626692823,
          -5.980895753363354,
          -2.5248527194767565,
          1.6529035595347863,
          -14.523816274135088,
          -9.236073565375808,
          -24.881334120504416,
          -10.708419858905284,
          -15.081808022029447,
          -8.392167334987798,
          -28.324758710813025,
          -24.91863697600865,
          -6.453496283458341,
          -18.58988432788819,
          -1.5103893743751406,
          -29.03187806506328,
          5.096931714846609,
          -28.689835910037463,
          -15.91397944142354,
          16.31228757067565,
          13.525132213906726,
          5.805975453479528,
          23.192530379933373,
          17.970983484054752,
          -3.608431593454676,
          8.907509536158955,
          -25.74258282059693,
          -22.740449386862903,
          -8.121148541275732,
          14.048006956118009,
          1.1208547704477565,
          13.783869262737214,
          22.27346076008425,
          -17.697021642137642,
          -11.896477066523,
          -17.03930493999919,
          10.798159152129,
          8.769809268762813,
          5.378473314929353,
          -8.59788858280515,
          -21.613395267381293,
          -2.5565338444301555,
          -4.48873551669586,
          -12.004574070699146,
          10.445879365001783,
          10.89526670464123,
          -17.412293396940264,
          -20.445173720190976,
          -22.287904568495247,
          14.529074926475054,
          25.26532114349039,
          33.792155684043244,
          -13.22079762746317,
          -18.70883039734305,
          15.556200189585187,
          -3.882294120909132,
          -8.122524070644493,
          -1.6867699763158812,
          -7.977481053047028,
          -13.645138369824494,
          2.8575441577297003,
          29.256841979053466,
          -13.485521300642276,
          -23.148617609663635,
          -13.506106331435715,
          27.898283341862847,
          35.0887382851434,
          -18.523171665073967,
          -1.202703720837921,
          13.045478372135504,
          22.87122001460809,
          12.736117698210434,
          -11.957396636646225,
          19.32599985889136,
          17.582058849604003,
          26.86279555977356,
          -5.069698014062799,
          2.1278922045653323,
          1.5128098139113542,
          7.226239122740248,
          17.450845691052553,
          -17.124377544525956,
          -20.47978301694903,
          -6.8066989981397015,
          6.544552695249001,
          30.789214550330925,
          21.365426300210032,
          -15.745731608561016,
          -5.762761348822704,
          24.36549735881225,
          3.515548118485761,
          11.07918272554,
          9.1113345964963,
          -5.215664304748936,
          6.232939354443696,
          27.94481814798603,
          20.608779255814493,
          -12.251769732696092,
          1.1618897783946909,
          18.96723059441978,
          25.25483704539416,
          -18.572574353173465,
          -3.934403238486352,
          -11.26695305591677,
          -8.892907322492771,
          -8.941963747949414,
          -5.159881126860905,
          8.142020628188085,
          -5.535622613576954,
          -0.6250948536401466,
          -4.515854702461449,
          -1.1298820320618153,
          27.773547052696827,
          -22.876305705040348,
          3.880429602000756,
          -20.87591664451045,
          17.738103025828995,
          2.774751813828103,
          -22.91446583431589,
          -11.695450373765723,
          -5.620554461808693,
          -0.2503179981428949,
          -25.364193236860626,
          -32.9410459089619,
          -18.939966711648744,
          -3.4488567728039645,
          -5.898833330540091,
          -1.3232936793039367,
          -6.971862816760764,
          14.755715851428109,
          -9.656966932567096,
          -3.404543542442213,
          -0.9053813370246674,
          9.106886545136764,
          1.3172168597192355,
          -9.164146777894658,
          -3.246311187612793,
          8.38920185411185,
          3.2481184116659634,
          6.180830213510769,
          4.361074150507244,
          8.126302360022091,
          1.4902366244789742,
          -3.620855826981187,
          0.1746841140895946,
          12.586607331166334,
          -7.600982347783703,
          -18.921605751062767,
          17.590906357660728,
          -11.696489793664815,
          5.370560236422006,
          28.369692380580226,
          18.64041615050086,
          1.5620910414895552,
          6.870818178420156,
          -7.224310732126383,
          -8.299551327345103,
          -2.23859694163629,
          27.634694103601262,
          7.12110670082948,
          14.541487893461332,
          14.52083926868785,
          -8.480591478366307,
          -3.47710911811128,
          27.882248970874866,
          1.473044855449109,
          8.589139420132895,
          15.899586946478635,
          -0.493122123060679,
          10.00339764069899,
          19.606143858084284,
          26.889424137005587,
          -29.00850838851777,
          15.472823334687227,
          6.219381864669575,
          10.513111491053666,
          6.3140869053731015,
          13.613965924631138,
          -12.644927260499069,
          -0.2901544986274488,
          13.03030415930626,
          -10.80745972662859,
          -13.821152479213849,
          -4.887116322191947,
          0.4382163692137824,
          12.7140518097311,
          1.3975037366821932,
          4.842265151461287,
          -5.911718476071575,
          -11.851376587890904,
          -14.255864729016809,
          4.244651003042503,
          -13.826121078196996,
          18.5199456298198,
          5.016599987820194,
          1.9086731990974608,
          -17.421273320382788,
          -2.0741636917496256,
          -5.698789006136242,
          6.267270072493132,
          3.8179909086534094,
          -13.849153601440488
         ],
         "y": [
          12.06247289021234,
          0.7420234746923047,
          -14.41906955949728,
          -3.076962553881226,
          8.617529711129864,
          -7.787957290331532,
          -6.469786901589529,
          13.115703458405257,
          20.52203617140836,
          2.860238380738517,
          2.6291491360626766,
          19.61568847708928,
          9.107421076777763,
          14.713434151629812,
          5.799393481793768,
          22.848541274760656,
          -12.47002792121054,
          -19.419544485085755,
          -5.888113202140249,
          28.499605743236508,
          29.19217777603472,
          30.52551110986789,
          -9.443400330106778,
          32.69900484724665,
          33.52207107268448,
          -31.197321702974776,
          -21.912504951329147,
          13.981352634608466,
          3.709144694673876,
          -24.98820975043921,
          7.6209567463533086,
          -18.39299946954912,
          -0.9322481706850352,
          -6.9743954144909175,
          35.96463038498923,
          10.158697630009604,
          10.869669000158789,
          -13.416845958622712,
          5.999382638968216,
          18.877043326030964,
          19.19002397491434,
          8.41514891146288,
          5.671025513650718,
          -5.860932839218529,
          21.407916057399916,
          2.890581473189356,
          -33.32652567480931,
          36.59522553584058,
          -14.76655078356784,
          -17.72375363250656,
          40.32690305826208,
          -3.521837031373832,
          24.27187449723337,
          -17.24072769901174,
          0.1759334254285686,
          30.881352942829825,
          -29.216264697317342,
          -25.162870318467125,
          -14.55405794601045,
          -12.92380521476777,
          12.76508874817459,
          -21.94146207035085,
          27.09887336390857,
          -23.25582876151888,
          -30.435765261760547,
          -38.6337570307127,
          -9.83067621643171,
          -31.15732499130262,
          -17.04881008051454,
          -3.3973538355450907,
          28.60684440682371,
          -22.182171621325796,
          -13.555887194586347,
          10.019961892320383,
          0.7768917618043757,
          37.01569558773144,
          11.696595522666668,
          8.41231127628033,
          -6.56318591170729,
          34.28232658919624,
          -7.101579239304574,
          14.225775679490134,
          -10.425302934280408,
          -20.83087335199944,
          -15.232365222687935,
          -11.854774430475372,
          -21.449774433242244,
          -22.54491972889933,
          -0.4015427497245449,
          23.90258179780493,
          20.050137820902027,
          -2.8318836667495626,
          12.06048298931166,
          21.21574897489007,
          -20.232392435114303,
          18.998569893051076,
          19.79333473998979,
          0.2619096082105859,
          43.79916259256613,
          -3.613514941050709,
          -11.877727690939768,
          6.916856581545445,
          6.075972427708948,
          2.4966500559375016,
          -14.847823316786965,
          19.94703382021084,
          31.46581349131137,
          -22.686491591779767,
          -17.312441129665324,
          -39.737825562466206,
          -27.32283060454917,
          -39.40593566273586,
          26.88420124430365,
          -31.985050778965093,
          -39.16533285030218,
          -15.794920112501991,
          34.93096764575118,
          -4.365269973358542,
          -13.204478447261843,
          -21.102923266482836,
          16.1047896168305,
          -0.1660259837880942,
          -2.298274791951556,
          4.1932529793707225,
          10.67516208770309,
          11.240921648487658,
          -2.877859786715886,
          17.171771581756918,
          18.44790450985344,
          26.57674234863911,
          3.885641826837576,
          -33.71114598477167,
          -31.11708970913492,
          3.852557129819115,
          -19.958881191399765,
          33.38312295060305,
          13.040341501032463,
          -19.10234089616666,
          40.09411820026789,
          15.057033217288716,
          21.11830408221787,
          35.62616232253751,
          10.91324573673793,
          -28.04058636815391,
          -31.963472244370816,
          -7.59653547796324,
          -39.39118224543228,
          34.39812795612156,
          16.70148600817656,
          -4.909775879818852,
          -26.976969410783365,
          -17.865473640449807,
          -11.83102121328925,
          -3.133216599708142,
          -9.206352352607768,
          -9.4823892578953,
          -4.082679356357522,
          -15.835507608873584,
          8.699670933380347,
          1.162496117839945,
          4.30487509836515,
          0.6779736587474814,
          -40.11435031817247,
          1.9745134564685487,
          -19.704739622868264,
          27.8087674299672,
          -4.347531167542596,
          22.87439029449402,
          -9.741637776205314,
          22.36886212051732,
          -25.826484271627365,
          38.66623090653874,
          -12.74210716300654,
          -17.59249900386845,
          16.942135119518017,
          -34.630608403257305,
          -28.65365308748988,
          -21.64866191527839,
          0.8016784880951374,
          -10.497628960258924,
          -32.03457855365501,
          -5.035037859266635,
          19.320341310551967,
          20.78420789575141,
          27.540899305237826,
          -31.408219636241,
          -25.820970517882568,
          23.547298739634467,
          2.236679558838216,
          -44.399975331200686,
          32.08509477156957,
          42.09987458958053,
          2.569758525764532,
          -20.772655760325733,
          1.4451081895544058,
          4.725701294586304,
          26.34953501065142,
          -24.211995166455253,
          -23.184311778167768,
          -7.483489287604402,
          -0.7085873197484619,
          23.789324372378637,
          -0.6240062154373205,
          -30.753079261709352,
          -40.62343692666894,
          18.221822822189097,
          23.385853420921244,
          -3.6155686170660815,
          22.09034433792337,
          33.40672785168676
         ],
         "z": [
          14.3869324886543,
          16.704297471020833,
          12.848560329058303,
          11.802151916343051,
          14.783604955574315,
          14.3716266932282,
          12.656659326222645,
          8.053915117553792,
          9.38347640998052,
          13.559700639169009,
          15.720659087224128,
          11.807867977200395,
          13.080211672223315,
          12.114748789748198,
          10.240566214331768,
          9.88265298986105,
          7.932480691902493,
          7.127390510616835,
          3.640252968034184,
          10.211255328700997,
          9.623622433852008,
          9.016025250492042,
          4.53106720396424,
          6.735577574913243,
          7.621086110330282,
          1.2973955915669442,
          3.95045926301713,
          11.040914234226667,
          9.58604965747345,
          5.747586420321078,
          9.446954003907518,
          7.724597590750506,
          5.945790779491367,
          6.643104595015873,
          6.352244737460241,
          3.378307988300846,
          6.15442294723114,
          5.932010563688259,
          3.7680693789900976,
          9.83859640576466,
          6.771448975859319,
          1.123106567420235,
          -1.194951705432778,
          -0.9083463605320028,
          10.32485764496248,
          5.444245414791658,
          0.965028130744433,
          6.00688624696707,
          -1.7391744822369533,
          3.5140317311180467,
          6.578456121273184,
          3.980146490223632,
          6.961539067791047,
          0.7308874014335885,
          0.6476752074393157,
          0.5529520298011739,
          -6.371776422333649,
          2.237816759138261,
          3.142772102130304,
          3.6416662018571406,
          0.4221024749875076,
          -3.1827879792681437,
          5.8991818141006,
          -1.7377057579765571,
          -1.105919065196848,
          -3.724404902812132,
          -1.038760640812739,
          -4.395034243322946,
          1.8593941423433356,
          3.564628210600562,
          -0.9560651210989434,
          -3.678859030812384,
          -4.755051126240892,
          -4.311547867297073,
          -1.571419985389862,
          -0.5057884670945255,
          2.252868572145411,
          3.062528867194904,
          -3.4800409696286465,
          3.390215268024213,
          -3.793603565495182,
          -1.2294849453991867,
          -0.3410802714706806,
          -0.2407762167368879,
          -3.2924394266439028,
          -5.691883752084125,
          -4.794976820722045,
          -2.706914381070024,
          -1.256974849797685,
          -2.836367724322965,
          -2.1451918009961792,
          -5.377689418999196,
          -4.8831658627107135,
          2.374986174090302,
          -2.291468578709133,
          -2.471682932470616,
          -1.7977266848643174,
          -1.5852124450730145,
          -3.15723944620676,
          -1.7233268896908605,
          -3.4983728363899678,
          -4.508455151413597,
          -6.104076347469306,
          -3.5225279859223764,
          -10.319170789496534,
          -6.548812334691107,
          -3.6961844147117247,
          -5.475645906625673,
          -4.81471048908269,
          -12.559648549206258,
          -10.307435202953718,
          -12.04011998094638,
          -6.310075081618463,
          -11.939003515694658,
          -11.724470548367044,
          -10.407988333297212,
          -5.37499314836128,
          -6.325433880178256,
          -11.09894139740407,
          -11.943554153077134,
          -6.078087862393359,
          9.923752489239083,
          7.435582752278234,
          4.189648186456737,
          12.227926404369452,
          8.089742167824726,
          0.3939085848626656,
          3.880204231298042,
          4.99224080116712,
          4.5470326751083725,
          0.5287897197916921,
          -5.942209973233222,
          -2.921766267770576,
          -0.3180652604798775,
          -3.4379208383824964,
          1.871253371571604,
          -3.74504012856948,
          -2.240160114229138,
          -2.420474138589133,
          -4.756390312662789,
          -4.543772761988063,
          -5.01199916648406,
          -6.943503107519396,
          -7.643497973596452,
          -10.235960281657707,
          -6.987725930275991,
          -13.821856031878225,
          -5.8120678177032845,
          -7.395845986266559,
          -10.668000718490308,
          -11.384172752404938,
          -11.13847243463973,
          -11.427538019546391,
          10.983417570992698,
          7.519986688093988,
          -0.5955108952379911,
          7.068360861163632,
          0.91813657950299,
          3.323289677484392,
          4.9508441651746455,
          5.274489902368649,
          -0.6475288891985556,
          -4.815235483759326,
          -5.28640026272932,
          -6.386820184697276,
          -3.0246729351145776,
          -3.049038132880068,
          -2.034720515769724,
          -5.969415226366981,
          -2.379082774601618,
          -10.060786964746962,
          -3.7890004630032346,
          -6.807939034218204,
          -13.021123949507496,
          -5.180423777511869,
          -14.71700311117021,
          2.0341964216653827,
          3.560791823594825,
          3.898175436593942,
          3.430353747359897,
          -7.91128116686701,
          1.4612295238762036,
          -2.279013808605676,
          0.9145675700847454,
          -3.320965496768916,
          -4.0858151071348585,
          -9.75959486570061,
          -1.883317843800857,
          -5.72242696149289,
          -10.333123157181912,
          -2.969099173061584,
          -4.2703785965653065,
          -8.379292677746927,
          -10.433744666357782,
          12.78524284748001,
          8.771582555673609,
          3.144472559112964,
          -2.173611815427308,
          -5.444473337070916,
          -3.545719286431952,
          -5.052054555558931,
          -3.791239336332583,
          -7.923180266442878,
          -12.204199913281252,
          8.350565627611125,
          5.231735324158771,
          0.9222279180341296,
          -3.3464568705946736,
          -5.510575674101575,
          5.05719113582217
         ]
        }
       ],
       "layout": {
        "autosize": true,
        "coloraxis": {
         "colorbar": {
          "title": {
           "text": "color"
          }
         },
         "colorscale": [
          [
           0,
           "#0d0887"
          ],
          [
           0.1111111111111111,
           "#46039f"
          ],
          [
           0.2222222222222222,
           "#7201a8"
          ],
          [
           0.3333333333333333,
           "#9c179e"
          ],
          [
           0.4444444444444444,
           "#bd3786"
          ],
          [
           0.5555555555555556,
           "#d8576b"
          ],
          [
           0.6666666666666666,
           "#ed7953"
          ],
          [
           0.7777777777777778,
           "#fb9f3a"
          ],
          [
           0.8888888888888888,
           "#fdca26"
          ],
          [
           1,
           "#f0f921"
          ]
         ]
        },
        "legend": {
         "tracegroupgap": 0
        },
        "margin": {
         "t": 60
        },
        "scene": {
         "aspectmode": "auto",
         "aspectratio": {
          "x": 1.1889146401936057,
          "y": 1.5365431258485498,
          "z": 0.547399720125572
         },
         "camera": {
          "center": {
           "x": 0,
           "y": 0,
           "z": 0
          },
          "eye": {
           "x": 2.075656868012811,
           "y": 0.5706726426951654,
           "z": 0.23126024550399174
          },
          "projection": {
           "type": "perspective"
          },
          "up": {
           "x": 0,
           "y": 0,
           "z": 1
          }
         },
         "domain": {
          "x": [
           0,
           1
          ],
          "y": [
           0,
           1
          ]
         },
         "xaxis": {
          "title": {
           "text": "XP"
          },
          "type": "linear"
         },
         "yaxis": {
          "title": {
           "text": "YP"
          },
          "type": "linear"
         },
         "zaxis": {
          "title": {
           "text": "ZP"
          },
          "type": "linear"
         }
        },
        "template": {
         "data": {
          "bar": [
           {
            "error_x": {
             "color": "#2a3f5f"
            },
            "error_y": {
             "color": "#2a3f5f"
            },
            "marker": {
             "line": {
              "color": "#E5ECF6",
              "width": 0.5
             },
             "pattern": {
              "fillmode": "overlay",
              "size": 10,
              "solidity": 0.2
             }
            },
            "type": "bar"
           }
          ],
          "barpolar": [
           {
            "marker": {
             "line": {
              "color": "#E5ECF6",
              "width": 0.5
             },
             "pattern": {
              "fillmode": "overlay",
              "size": 10,
              "solidity": 0.2
             }
            },
            "type": "barpolar"
           }
          ],
          "carpet": [
           {
            "aaxis": {
             "endlinecolor": "#2a3f5f",
             "gridcolor": "white",
             "linecolor": "white",
             "minorgridcolor": "white",
             "startlinecolor": "#2a3f5f"
            },
            "baxis": {
             "endlinecolor": "#2a3f5f",
             "gridcolor": "white",
             "linecolor": "white",
             "minorgridcolor": "white",
             "startlinecolor": "#2a3f5f"
            },
            "type": "carpet"
           }
          ],
          "choropleth": [
           {
            "colorbar": {
             "outlinewidth": 0,
             "ticks": ""
            },
            "type": "choropleth"
           }
          ],
          "contour": [
           {
            "colorbar": {
             "outlinewidth": 0,
             "ticks": ""
            },
            "colorscale": [
             [
              0,
              "#0d0887"
             ],
             [
              0.1111111111111111,
              "#46039f"
             ],
             [
              0.2222222222222222,
              "#7201a8"
             ],
             [
              0.3333333333333333,
              "#9c179e"
             ],
             [
              0.4444444444444444,
              "#bd3786"
             ],
             [
              0.5555555555555556,
              "#d8576b"
             ],
             [
              0.6666666666666666,
              "#ed7953"
             ],
             [
              0.7777777777777778,
              "#fb9f3a"
             ],
             [
              0.8888888888888888,
              "#fdca26"
             ],
             [
              1,
              "#f0f921"
             ]
            ],
            "type": "contour"
           }
          ],
          "contourcarpet": [
           {
            "colorbar": {
             "outlinewidth": 0,
             "ticks": ""
            },
            "type": "contourcarpet"
           }
          ],
          "heatmap": [
           {
            "colorbar": {
             "outlinewidth": 0,
             "ticks": ""
            },
            "colorscale": [
             [
              0,
              "#0d0887"
             ],
             [
              0.1111111111111111,
              "#46039f"
             ],
             [
              0.2222222222222222,
              "#7201a8"
             ],
             [
              0.3333333333333333,
              "#9c179e"
             ],
             [
              0.4444444444444444,
              "#bd3786"
             ],
             [
              0.5555555555555556,
              "#d8576b"
             ],
             [
              0.6666666666666666,
              "#ed7953"
             ],
             [
              0.7777777777777778,
              "#fb9f3a"
             ],
             [
              0.8888888888888888,
              "#fdca26"
             ],
             [
              1,
              "#f0f921"
             ]
            ],
            "type": "heatmap"
           }
          ],
          "heatmapgl": [
           {
            "colorbar": {
             "outlinewidth": 0,
             "ticks": ""
            },
            "colorscale": [
             [
              0,
              "#0d0887"
             ],
             [
              0.1111111111111111,
              "#46039f"
             ],
             [
              0.2222222222222222,
              "#7201a8"
             ],
             [
              0.3333333333333333,
              "#9c179e"
             ],
             [
              0.4444444444444444,
              "#bd3786"
             ],
             [
              0.5555555555555556,
              "#d8576b"
             ],
             [
              0.6666666666666666,
              "#ed7953"
             ],
             [
              0.7777777777777778,
              "#fb9f3a"
             ],
             [
              0.8888888888888888,
              "#fdca26"
             ],
             [
              1,
              "#f0f921"
             ]
            ],
            "type": "heatmapgl"
           }
          ],
          "histogram": [
           {
            "marker": {
             "pattern": {
              "fillmode": "overlay",
              "size": 10,
              "solidity": 0.2
             }
            },
            "type": "histogram"
           }
          ],
          "histogram2d": [
           {
            "colorbar": {
             "outlinewidth": 0,
             "ticks": ""
            },
            "colorscale": [
             [
              0,
              "#0d0887"
             ],
             [
              0.1111111111111111,
              "#46039f"
             ],
             [
              0.2222222222222222,
              "#7201a8"
             ],
             [
              0.3333333333333333,
              "#9c179e"
             ],
             [
              0.4444444444444444,
              "#bd3786"
             ],
             [
              0.5555555555555556,
              "#d8576b"
             ],
             [
              0.6666666666666666,
              "#ed7953"
             ],
             [
              0.7777777777777778,
              "#fb9f3a"
             ],
             [
              0.8888888888888888,
              "#fdca26"
             ],
             [
              1,
              "#f0f921"
             ]
            ],
            "type": "histogram2d"
           }
          ],
          "histogram2dcontour": [
           {
            "colorbar": {
             "outlinewidth": 0,
             "ticks": ""
            },
            "colorscale": [
             [
              0,
              "#0d0887"
             ],
             [
              0.1111111111111111,
              "#46039f"
             ],
             [
              0.2222222222222222,
              "#7201a8"
             ],
             [
              0.3333333333333333,
              "#9c179e"
             ],
             [
              0.4444444444444444,
              "#bd3786"
             ],
             [
              0.5555555555555556,
              "#d8576b"
             ],
             [
              0.6666666666666666,
              "#ed7953"
             ],
             [
              0.7777777777777778,
              "#fb9f3a"
             ],
             [
              0.8888888888888888,
              "#fdca26"
             ],
             [
              1,
              "#f0f921"
             ]
            ],
            "type": "histogram2dcontour"
           }
          ],
          "mesh3d": [
           {
            "colorbar": {
             "outlinewidth": 0,
             "ticks": ""
            },
            "type": "mesh3d"
           }
          ],
          "parcoords": [
           {
            "line": {
             "colorbar": {
              "outlinewidth": 0,
              "ticks": ""
             }
            },
            "type": "parcoords"
           }
          ],
          "pie": [
           {
            "automargin": true,
            "type": "pie"
           }
          ],
          "scatter": [
           {
            "fillpattern": {
             "fillmode": "overlay",
             "size": 10,
             "solidity": 0.2
            },
            "type": "scatter"
           }
          ],
          "scatter3d": [
           {
            "line": {
             "colorbar": {
              "outlinewidth": 0,
              "ticks": ""
             }
            },
            "marker": {
             "colorbar": {
              "outlinewidth": 0,
              "ticks": ""
             }
            },
            "type": "scatter3d"
           }
          ],
          "scattercarpet": [
           {
            "marker": {
             "colorbar": {
              "outlinewidth": 0,
              "ticks": ""
             }
            },
            "type": "scattercarpet"
           }
          ],
          "scattergeo": [
           {
            "marker": {
             "colorbar": {
              "outlinewidth": 0,
              "ticks": ""
             }
            },
            "type": "scattergeo"
           }
          ],
          "scattergl": [
           {
            "marker": {
             "colorbar": {
              "outlinewidth": 0,
              "ticks": ""
             }
            },
            "type": "scattergl"
           }
          ],
          "scattermapbox": [
           {
            "marker": {
             "colorbar": {
              "outlinewidth": 0,
              "ticks": ""
             }
            },
            "type": "scattermapbox"
           }
          ],
          "scatterpolar": [
           {
            "marker": {
             "colorbar": {
              "outlinewidth": 0,
              "ticks": ""
             }
            },
            "type": "scatterpolar"
           }
          ],
          "scatterpolargl": [
           {
            "marker": {
             "colorbar": {
              "outlinewidth": 0,
              "ticks": ""
             }
            },
            "type": "scatterpolargl"
           }
          ],
          "scatterternary": [
           {
            "marker": {
             "colorbar": {
              "outlinewidth": 0,
              "ticks": ""
             }
            },
            "type": "scatterternary"
           }
          ],
          "surface": [
           {
            "colorbar": {
             "outlinewidth": 0,
             "ticks": ""
            },
            "colorscale": [
             [
              0,
              "#0d0887"
             ],
             [
              0.1111111111111111,
              "#46039f"
             ],
             [
              0.2222222222222222,
              "#7201a8"
             ],
             [
              0.3333333333333333,
              "#9c179e"
             ],
             [
              0.4444444444444444,
              "#bd3786"
             ],
             [
              0.5555555555555556,
              "#d8576b"
             ],
             [
              0.6666666666666666,
              "#ed7953"
             ],
             [
              0.7777777777777778,
              "#fb9f3a"
             ],
             [
              0.8888888888888888,
              "#fdca26"
             ],
             [
              1,
              "#f0f921"
             ]
            ],
            "type": "surface"
           }
          ],
          "table": [
           {
            "cells": {
             "fill": {
              "color": "#EBF0F8"
             },
             "line": {
              "color": "white"
             }
            },
            "header": {
             "fill": {
              "color": "#C8D4E3"
             },
             "line": {
              "color": "white"
             }
            },
            "type": "table"
           }
          ]
         },
         "layout": {
          "annotationdefaults": {
           "arrowcolor": "#2a3f5f",
           "arrowhead": 0,
           "arrowwidth": 1
          },
          "autotypenumbers": "strict",
          "coloraxis": {
           "colorbar": {
            "outlinewidth": 0,
            "ticks": ""
           }
          },
          "colorscale": {
           "diverging": [
            [
             0,
             "#8e0152"
            ],
            [
             0.1,
             "#c51b7d"
            ],
            [
             0.2,
             "#de77ae"
            ],
            [
             0.3,
             "#f1b6da"
            ],
            [
             0.4,
             "#fde0ef"
            ],
            [
             0.5,
             "#f7f7f7"
            ],
            [
             0.6,
             "#e6f5d0"
            ],
            [
             0.7,
             "#b8e186"
            ],
            [
             0.8,
             "#7fbc41"
            ],
            [
             0.9,
             "#4d9221"
            ],
            [
             1,
             "#276419"
            ]
           ],
           "sequential": [
            [
             0,
             "#0d0887"
            ],
            [
             0.1111111111111111,
             "#46039f"
            ],
            [
             0.2222222222222222,
             "#7201a8"
            ],
            [
             0.3333333333333333,
             "#9c179e"
            ],
            [
             0.4444444444444444,
             "#bd3786"
            ],
            [
             0.5555555555555556,
             "#d8576b"
            ],
            [
             0.6666666666666666,
             "#ed7953"
            ],
            [
             0.7777777777777778,
             "#fb9f3a"
            ],
            [
             0.8888888888888888,
             "#fdca26"
            ],
            [
             1,
             "#f0f921"
            ]
           ],
           "sequentialminus": [
            [
             0,
             "#0d0887"
            ],
            [
             0.1111111111111111,
             "#46039f"
            ],
            [
             0.2222222222222222,
             "#7201a8"
            ],
            [
             0.3333333333333333,
             "#9c179e"
            ],
            [
             0.4444444444444444,
             "#bd3786"
            ],
            [
             0.5555555555555556,
             "#d8576b"
            ],
            [
             0.6666666666666666,
             "#ed7953"
            ],
            [
             0.7777777777777778,
             "#fb9f3a"
            ],
            [
             0.8888888888888888,
             "#fdca26"
            ],
            [
             1,
             "#f0f921"
            ]
           ]
          },
          "colorway": [
           "#636efa",
           "#EF553B",
           "#00cc96",
           "#ab63fa",
           "#FFA15A",
           "#19d3f3",
           "#FF6692",
           "#B6E880",
           "#FF97FF",
           "#FECB52"
          ],
          "font": {
           "color": "#2a3f5f"
          },
          "geo": {
           "bgcolor": "white",
           "lakecolor": "white",
           "landcolor": "#E5ECF6",
           "showlakes": true,
           "showland": true,
           "subunitcolor": "white"
          },
          "hoverlabel": {
           "align": "left"
          },
          "hovermode": "closest",
          "mapbox": {
           "style": "light"
          },
          "paper_bgcolor": "white",
          "plot_bgcolor": "#E5ECF6",
          "polar": {
           "angularaxis": {
            "gridcolor": "white",
            "linecolor": "white",
            "ticks": ""
           },
           "bgcolor": "#E5ECF6",
           "radialaxis": {
            "gridcolor": "white",
            "linecolor": "white",
            "ticks": ""
           }
          },
          "scene": {
           "xaxis": {
            "backgroundcolor": "#E5ECF6",
            "gridcolor": "white",
            "gridwidth": 2,
            "linecolor": "white",
            "showbackground": true,
            "ticks": "",
            "zerolinecolor": "white"
           },
           "yaxis": {
            "backgroundcolor": "#E5ECF6",
            "gridcolor": "white",
            "gridwidth": 2,
            "linecolor": "white",
            "showbackground": true,
            "ticks": "",
            "zerolinecolor": "white"
           },
           "zaxis": {
            "backgroundcolor": "#E5ECF6",
            "gridcolor": "white",
            "gridwidth": 2,
            "linecolor": "white",
            "showbackground": true,
            "ticks": "",
            "zerolinecolor": "white"
           }
          },
          "shapedefaults": {
           "line": {
            "color": "#2a3f5f"
           }
          },
          "ternary": {
           "aaxis": {
            "gridcolor": "white",
            "linecolor": "white",
            "ticks": ""
           },
           "baxis": {
            "gridcolor": "white",
            "linecolor": "white",
            "ticks": ""
           },
           "bgcolor": "#E5ECF6",
           "caxis": {
            "gridcolor": "white",
            "linecolor": "white",
            "ticks": ""
           }
          },
          "title": {
           "x": 0.05
          },
          "xaxis": {
           "automargin": true,
           "gridcolor": "white",
           "linecolor": "white",
           "ticks": "",
           "title": {
            "standoff": 15
           },
           "zerolinecolor": "white",
           "zerolinewidth": 2
          },
          "yaxis": {
           "automargin": true,
           "gridcolor": "white",
           "linecolor": "white",
           "ticks": "",
           "title": {
            "standoff": 15
           },
           "zerolinecolor": "white",
           "zerolinewidth": 2
          }
         }
        }
       }
      },
      "text/html": [
       "<div>                            <div id=\"2022ddf9-fb3e-484c-ac2c-72b05d502fa6\" class=\"plotly-graph-div\" style=\"height:525px; width:100%;\"></div>            <script type=\"text/javascript\">                require([\"plotly\"], function(Plotly) {                    window.PLOTLYENV=window.PLOTLYENV || {};                                    if (document.getElementById(\"2022ddf9-fb3e-484c-ac2c-72b05d502fa6\")) {                    Plotly.newPlot(                        \"2022ddf9-fb3e-484c-ac2c-72b05d502fa6\",                        [{\"hovertemplate\":\"XP=%{x}\\u003cbr\\u003eYP=%{y}\\u003cbr\\u003eZP=%{z}\\u003cbr\\u003ecolor=%{marker.color}\\u003cextra\\u003e\\u003c\\u002fextra\\u003e\",\"legendgroup\":\"\",\"marker\":{\"color\":[-1,-1,1,1,1,1,1,1,1,1,1,1,1,1,1,1,1,1,1,-1,1,1,1,1,1,1,1,1,1,-1,1,1,1,1,1,1,1,1,1,1,1,1,1,1,1,1,1,1,1,1,1,1,1,1,1,1,1,1,1,1,1,1,1,1,1,1,1,1,1,1,1,1,1,1,1,1,1,1,1,1,1,1,1,1,1,1,1,1,1,1,1,1,1,1,1,1,1,1,1,1,1,1,1,1,1,1,1,1,1,1,1,1,1,1,1,1,1,1,1,1,1,1,1,1,1,1,1,1,1,1,1,1,1,1,1,1,1,1,1,1,1,1,1,1,1,1,1,1,-1,-1,1,1,1,1,1,1,1,1,1,1,1,1,1,1,1,1,1,1,1,1,1,1,1,1,1,-1,1,1,1,1,1,1,1,1,1,1,1,1,1,-1,1,1,1,1,1,1,1,1,1,1,1,1,1,1,-1,1,1,1,1,1],\"coloraxis\":\"coloraxis\",\"symbol\":\"circle\",\"size\":4},\"mode\":\"markers\",\"name\":\"\",\"scene\":\"scene\",\"showlegend\":false,\"x\":[9.21593358796838,8.390251946388538,5.704939761061502,-15.189846714506077,-0.4425864107151336,-2.6920329199785398,21.55934847913725,-33.15617106103081,-21.224379626692823,-5.980895753363354,-2.5248527194767565,1.6529035595347863,-14.523816274135088,-9.236073565375808,-24.881334120504416,-10.708419858905284,-15.081808022029447,-8.392167334987798,-28.324758710813025,-24.91863697600865,-6.453496283458341,-18.58988432788819,-1.5103893743751406,-29.03187806506328,5.096931714846609,-28.689835910037463,-15.91397944142354,16.31228757067565,13.525132213906726,5.805975453479528,23.192530379933373,17.970983484054752,-3.608431593454676,8.907509536158955,-25.74258282059693,-22.740449386862903,-8.121148541275732,14.048006956118009,1.1208547704477565,13.783869262737214,22.27346076008425,-17.697021642137642,-11.896477066523,-17.03930493999919,10.798159152129,8.769809268762813,5.378473314929353,-8.59788858280515,-21.613395267381293,-2.5565338444301555,-4.48873551669586,-12.004574070699146,10.445879365001783,10.89526670464123,-17.412293396940264,-20.445173720190976,-22.287904568495247,14.529074926475054,25.26532114349039,33.792155684043244,-13.22079762746317,-18.70883039734305,15.556200189585187,-3.882294120909132,-8.122524070644493,-1.6867699763158812,-7.977481053047028,-13.645138369824494,2.8575441577297003,29.256841979053466,-13.485521300642276,-23.148617609663635,-13.506106331435715,27.898283341862847,35.0887382851434,-18.523171665073967,-1.202703720837921,13.045478372135504,22.87122001460809,12.736117698210434,-11.957396636646225,19.32599985889136,17.582058849604003,26.86279555977356,-5.069698014062799,2.1278922045653323,1.5128098139113542,7.226239122740248,17.450845691052553,-17.124377544525956,-20.47978301694903,-6.8066989981397015,6.544552695249001,30.789214550330925,21.365426300210032,-15.745731608561016,-5.762761348822704,24.36549735881225,3.515548118485761,11.07918272554,9.1113345964963,-5.215664304748936,6.232939354443696,27.94481814798603,20.608779255814493,-12.251769732696092,1.1618897783946909,18.96723059441978,25.25483704539416,-18.572574353173465,-3.934403238486352,-11.26695305591677,-8.892907322492771,-8.941963747949414,-5.159881126860905,8.142020628188085,-5.535622613576954,-0.6250948536401466,-4.515854702461449,-1.1298820320618153,27.773547052696827,-22.876305705040348,3.880429602000756,-20.87591664451045,17.738103025828995,2.774751813828103,-22.91446583431589,-11.695450373765723,-5.620554461808693,-0.2503179981428949,-25.364193236860626,-32.9410459089619,-18.939966711648744,-3.4488567728039645,-5.898833330540091,-1.3232936793039367,-6.971862816760764,14.755715851428109,-9.656966932567096,-3.404543542442213,-0.9053813370246674,9.106886545136764,1.3172168597192355,-9.164146777894658,-3.246311187612793,8.38920185411185,3.2481184116659634,6.180830213510769,4.361074150507244,8.126302360022091,1.4902366244789742,-3.620855826981187,0.1746841140895946,12.586607331166334,-7.600982347783703,-18.921605751062767,17.590906357660728,-11.696489793664815,5.370560236422006,28.369692380580226,18.64041615050086,1.5620910414895552,6.870818178420156,-7.224310732126383,-8.299551327345103,-2.23859694163629,27.634694103601262,7.12110670082948,14.541487893461332,14.52083926868785,-8.480591478366307,-3.47710911811128,27.882248970874866,1.473044855449109,8.589139420132895,15.899586946478635,-0.493122123060679,10.00339764069899,19.606143858084284,26.889424137005587,-29.00850838851777,15.472823334687227,6.219381864669575,10.513111491053666,6.3140869053731015,13.613965924631138,-12.644927260499069,-0.2901544986274488,13.03030415930626,-10.80745972662859,-13.821152479213849,-4.887116322191947,0.4382163692137824,12.7140518097311,1.3975037366821932,4.842265151461287,-5.911718476071575,-11.851376587890904,-14.255864729016809,4.244651003042503,-13.826121078196996,18.5199456298198,5.016599987820194,1.9086731990974608,-17.421273320382788,-2.0741636917496256,-5.698789006136242,6.267270072493132,3.8179909086534094,-13.849153601440488],\"y\":[12.06247289021234,0.7420234746923047,-14.41906955949728,-3.076962553881226,8.617529711129864,-7.787957290331532,-6.469786901589529,13.115703458405257,20.52203617140836,2.860238380738517,2.6291491360626766,19.61568847708928,9.107421076777763,14.713434151629812,5.799393481793768,22.848541274760656,-12.47002792121054,-19.419544485085755,-5.888113202140249,28.499605743236508,29.19217777603472,30.52551110986789,-9.443400330106778,32.69900484724665,33.52207107268448,-31.197321702974776,-21.912504951329147,13.981352634608466,3.709144694673876,-24.98820975043921,7.6209567463533086,-18.39299946954912,-0.9322481706850352,-6.9743954144909175,35.96463038498923,10.158697630009604,10.869669000158789,-13.416845958622712,5.999382638968216,18.877043326030964,19.19002397491434,8.41514891146288,5.671025513650718,-5.860932839218529,21.407916057399916,2.890581473189356,-33.32652567480931,36.59522553584058,-14.76655078356784,-17.72375363250656,40.32690305826208,-3.521837031373832,24.27187449723337,-17.24072769901174,0.1759334254285686,30.881352942829825,-29.216264697317342,-25.162870318467125,-14.55405794601045,-12.92380521476777,12.76508874817459,-21.94146207035085,27.09887336390857,-23.25582876151888,-30.435765261760547,-38.6337570307127,-9.83067621643171,-31.15732499130262,-17.04881008051454,-3.3973538355450907,28.60684440682371,-22.182171621325796,-13.555887194586347,10.019961892320383,0.7768917618043757,37.01569558773144,11.696595522666668,8.41231127628033,-6.56318591170729,34.28232658919624,-7.101579239304574,14.225775679490134,-10.425302934280408,-20.83087335199944,-15.232365222687935,-11.854774430475372,-21.449774433242244,-22.54491972889933,-0.4015427497245449,23.90258179780493,20.050137820902027,-2.8318836667495626,12.06048298931166,21.21574897489007,-20.232392435114303,18.998569893051076,19.79333473998979,0.2619096082105859,43.79916259256613,-3.613514941050709,-11.877727690939768,6.916856581545445,6.075972427708948,2.4966500559375016,-14.847823316786965,19.94703382021084,31.46581349131137,-22.686491591779767,-17.312441129665324,-39.737825562466206,-27.32283060454917,-39.40593566273586,26.88420124430365,-31.985050778965093,-39.16533285030218,-15.794920112501991,34.93096764575118,-4.365269973358542,-13.204478447261843,-21.102923266482836,16.1047896168305,-0.1660259837880942,-2.298274791951556,4.1932529793707225,10.67516208770309,11.240921648487658,-2.877859786715886,17.171771581756918,18.44790450985344,26.57674234863911,3.885641826837576,-33.71114598477167,-31.11708970913492,3.852557129819115,-19.958881191399765,33.38312295060305,13.040341501032463,-19.10234089616666,40.09411820026789,15.057033217288716,21.11830408221787,35.62616232253751,10.91324573673793,-28.04058636815391,-31.963472244370816,-7.59653547796324,-39.39118224543228,34.39812795612156,16.70148600817656,-4.909775879818852,-26.976969410783365,-17.865473640449807,-11.83102121328925,-3.133216599708142,-9.206352352607768,-9.4823892578953,-4.082679356357522,-15.835507608873584,8.699670933380347,1.162496117839945,4.30487509836515,0.6779736587474814,-40.11435031817247,1.9745134564685487,-19.704739622868264,27.8087674299672,-4.347531167542596,22.87439029449402,-9.741637776205314,22.36886212051732,-25.826484271627365,38.66623090653874,-12.74210716300654,-17.59249900386845,16.942135119518017,-34.630608403257305,-28.65365308748988,-21.64866191527839,0.8016784880951374,-10.497628960258924,-32.03457855365501,-5.035037859266635,19.320341310551967,20.78420789575141,27.540899305237826,-31.408219636241,-25.820970517882568,23.547298739634467,2.236679558838216,-44.399975331200686,32.08509477156957,42.09987458958053,2.569758525764532,-20.772655760325733,1.4451081895544058,4.725701294586304,26.34953501065142,-24.211995166455253,-23.184311778167768,-7.483489287604402,-0.7085873197484619,23.789324372378637,-0.6240062154373205,-30.753079261709352,-40.62343692666894,18.221822822189097,23.385853420921244,-3.6155686170660815,22.09034433792337,33.40672785168676],\"z\":[14.3869324886543,16.704297471020833,12.848560329058303,11.802151916343051,14.783604955574315,14.3716266932282,12.656659326222645,8.053915117553792,9.38347640998052,13.559700639169009,15.720659087224128,11.807867977200395,13.080211672223315,12.114748789748198,10.240566214331768,9.88265298986105,7.932480691902493,7.127390510616835,3.640252968034184,10.211255328700997,9.623622433852008,9.016025250492042,4.53106720396424,6.735577574913243,7.621086110330282,1.2973955915669442,3.95045926301713,11.040914234226667,9.58604965747345,5.747586420321078,9.446954003907518,7.724597590750506,5.945790779491367,6.643104595015873,6.352244737460241,3.378307988300846,6.15442294723114,5.932010563688259,3.7680693789900976,9.83859640576466,6.771448975859319,1.123106567420235,-1.194951705432778,-0.9083463605320028,10.32485764496248,5.444245414791658,0.965028130744433,6.00688624696707,-1.7391744822369533,3.5140317311180467,6.578456121273184,3.980146490223632,6.961539067791047,0.7308874014335885,0.6476752074393157,0.5529520298011739,-6.371776422333649,2.237816759138261,3.142772102130304,3.6416662018571406,0.4221024749875076,-3.1827879792681437,5.8991818141006,-1.7377057579765571,-1.105919065196848,-3.724404902812132,-1.038760640812739,-4.395034243322946,1.8593941423433356,3.564628210600562,-0.9560651210989434,-3.678859030812384,-4.755051126240892,-4.311547867297073,-1.571419985389862,-0.5057884670945255,2.252868572145411,3.062528867194904,-3.4800409696286465,3.390215268024213,-3.793603565495182,-1.2294849453991867,-0.3410802714706806,-0.2407762167368879,-3.2924394266439028,-5.691883752084125,-4.794976820722045,-2.706914381070024,-1.256974849797685,-2.836367724322965,-2.1451918009961792,-5.377689418999196,-4.8831658627107135,2.374986174090302,-2.291468578709133,-2.471682932470616,-1.7977266848643174,-1.5852124450730145,-3.15723944620676,-1.7233268896908605,-3.4983728363899678,-4.508455151413597,-6.104076347469306,-3.5225279859223764,-10.319170789496534,-6.548812334691107,-3.6961844147117247,-5.475645906625673,-4.81471048908269,-12.559648549206258,-10.307435202953718,-12.04011998094638,-6.310075081618463,-11.939003515694658,-11.724470548367044,-10.407988333297212,-5.37499314836128,-6.325433880178256,-11.09894139740407,-11.943554153077134,-6.078087862393359,9.923752489239083,7.435582752278234,4.189648186456737,12.227926404369452,8.089742167824726,0.3939085848626656,3.880204231298042,4.99224080116712,4.5470326751083725,0.5287897197916921,-5.942209973233222,-2.921766267770576,-0.3180652604798775,-3.4379208383824964,1.871253371571604,-3.74504012856948,-2.240160114229138,-2.420474138589133,-4.756390312662789,-4.543772761988063,-5.01199916648406,-6.943503107519396,-7.643497973596452,-10.235960281657707,-6.987725930275991,-13.821856031878225,-5.8120678177032845,-7.395845986266559,-10.668000718490308,-11.384172752404938,-11.13847243463973,-11.427538019546391,10.983417570992698,7.519986688093988,-0.5955108952379911,7.068360861163632,0.91813657950299,3.323289677484392,4.9508441651746455,5.274489902368649,-0.6475288891985556,-4.815235483759326,-5.28640026272932,-6.386820184697276,-3.0246729351145776,-3.049038132880068,-2.034720515769724,-5.969415226366981,-2.379082774601618,-10.060786964746962,-3.7890004630032346,-6.807939034218204,-13.021123949507496,-5.180423777511869,-14.71700311117021,2.0341964216653827,3.560791823594825,3.898175436593942,3.430353747359897,-7.91128116686701,1.4612295238762036,-2.279013808605676,0.9145675700847454,-3.320965496768916,-4.0858151071348585,-9.75959486570061,-1.883317843800857,-5.72242696149289,-10.333123157181912,-2.969099173061584,-4.2703785965653065,-8.379292677746927,-10.433744666357782,12.78524284748001,8.771582555673609,3.144472559112964,-2.173611815427308,-5.444473337070916,-3.545719286431952,-5.052054555558931,-3.791239336332583,-7.923180266442878,-12.204199913281252,8.350565627611125,5.231735324158771,0.9222279180341296,-3.3464568705946736,-5.510575674101575,5.05719113582217],\"type\":\"scatter3d\"}],                        {\"template\":{\"data\":{\"histogram2dcontour\":[{\"type\":\"histogram2dcontour\",\"colorbar\":{\"outlinewidth\":0,\"ticks\":\"\"},\"colorscale\":[[0.0,\"#0d0887\"],[0.1111111111111111,\"#46039f\"],[0.2222222222222222,\"#7201a8\"],[0.3333333333333333,\"#9c179e\"],[0.4444444444444444,\"#bd3786\"],[0.5555555555555556,\"#d8576b\"],[0.6666666666666666,\"#ed7953\"],[0.7777777777777778,\"#fb9f3a\"],[0.8888888888888888,\"#fdca26\"],[1.0,\"#f0f921\"]]}],\"choropleth\":[{\"type\":\"choropleth\",\"colorbar\":{\"outlinewidth\":0,\"ticks\":\"\"}}],\"histogram2d\":[{\"type\":\"histogram2d\",\"colorbar\":{\"outlinewidth\":0,\"ticks\":\"\"},\"colorscale\":[[0.0,\"#0d0887\"],[0.1111111111111111,\"#46039f\"],[0.2222222222222222,\"#7201a8\"],[0.3333333333333333,\"#9c179e\"],[0.4444444444444444,\"#bd3786\"],[0.5555555555555556,\"#d8576b\"],[0.6666666666666666,\"#ed7953\"],[0.7777777777777778,\"#fb9f3a\"],[0.8888888888888888,\"#fdca26\"],[1.0,\"#f0f921\"]]}],\"heatmap\":[{\"type\":\"heatmap\",\"colorbar\":{\"outlinewidth\":0,\"ticks\":\"\"},\"colorscale\":[[0.0,\"#0d0887\"],[0.1111111111111111,\"#46039f\"],[0.2222222222222222,\"#7201a8\"],[0.3333333333333333,\"#9c179e\"],[0.4444444444444444,\"#bd3786\"],[0.5555555555555556,\"#d8576b\"],[0.6666666666666666,\"#ed7953\"],[0.7777777777777778,\"#fb9f3a\"],[0.8888888888888888,\"#fdca26\"],[1.0,\"#f0f921\"]]}],\"heatmapgl\":[{\"type\":\"heatmapgl\",\"colorbar\":{\"outlinewidth\":0,\"ticks\":\"\"},\"colorscale\":[[0.0,\"#0d0887\"],[0.1111111111111111,\"#46039f\"],[0.2222222222222222,\"#7201a8\"],[0.3333333333333333,\"#9c179e\"],[0.4444444444444444,\"#bd3786\"],[0.5555555555555556,\"#d8576b\"],[0.6666666666666666,\"#ed7953\"],[0.7777777777777778,\"#fb9f3a\"],[0.8888888888888888,\"#fdca26\"],[1.0,\"#f0f921\"]]}],\"contourcarpet\":[{\"type\":\"contourcarpet\",\"colorbar\":{\"outlinewidth\":0,\"ticks\":\"\"}}],\"contour\":[{\"type\":\"contour\",\"colorbar\":{\"outlinewidth\":0,\"ticks\":\"\"},\"colorscale\":[[0.0,\"#0d0887\"],[0.1111111111111111,\"#46039f\"],[0.2222222222222222,\"#7201a8\"],[0.3333333333333333,\"#9c179e\"],[0.4444444444444444,\"#bd3786\"],[0.5555555555555556,\"#d8576b\"],[0.6666666666666666,\"#ed7953\"],[0.7777777777777778,\"#fb9f3a\"],[0.8888888888888888,\"#fdca26\"],[1.0,\"#f0f921\"]]}],\"surface\":[{\"type\":\"surface\",\"colorbar\":{\"outlinewidth\":0,\"ticks\":\"\"},\"colorscale\":[[0.0,\"#0d0887\"],[0.1111111111111111,\"#46039f\"],[0.2222222222222222,\"#7201a8\"],[0.3333333333333333,\"#9c179e\"],[0.4444444444444444,\"#bd3786\"],[0.5555555555555556,\"#d8576b\"],[0.6666666666666666,\"#ed7953\"],[0.7777777777777778,\"#fb9f3a\"],[0.8888888888888888,\"#fdca26\"],[1.0,\"#f0f921\"]]}],\"mesh3d\":[{\"type\":\"mesh3d\",\"colorbar\":{\"outlinewidth\":0,\"ticks\":\"\"}}],\"scatter\":[{\"fillpattern\":{\"fillmode\":\"overlay\",\"size\":10,\"solidity\":0.2},\"type\":\"scatter\"}],\"parcoords\":[{\"type\":\"parcoords\",\"line\":{\"colorbar\":{\"outlinewidth\":0,\"ticks\":\"\"}}}],\"scatterpolargl\":[{\"type\":\"scatterpolargl\",\"marker\":{\"colorbar\":{\"outlinewidth\":0,\"ticks\":\"\"}}}],\"bar\":[{\"error_x\":{\"color\":\"#2a3f5f\"},\"error_y\":{\"color\":\"#2a3f5f\"},\"marker\":{\"line\":{\"color\":\"#E5ECF6\",\"width\":0.5},\"pattern\":{\"fillmode\":\"overlay\",\"size\":10,\"solidity\":0.2}},\"type\":\"bar\"}],\"scattergeo\":[{\"type\":\"scattergeo\",\"marker\":{\"colorbar\":{\"outlinewidth\":0,\"ticks\":\"\"}}}],\"scatterpolar\":[{\"type\":\"scatterpolar\",\"marker\":{\"colorbar\":{\"outlinewidth\":0,\"ticks\":\"\"}}}],\"histogram\":[{\"marker\":{\"pattern\":{\"fillmode\":\"overlay\",\"size\":10,\"solidity\":0.2}},\"type\":\"histogram\"}],\"scattergl\":[{\"type\":\"scattergl\",\"marker\":{\"colorbar\":{\"outlinewidth\":0,\"ticks\":\"\"}}}],\"scatter3d\":[{\"type\":\"scatter3d\",\"line\":{\"colorbar\":{\"outlinewidth\":0,\"ticks\":\"\"}},\"marker\":{\"colorbar\":{\"outlinewidth\":0,\"ticks\":\"\"}}}],\"scattermapbox\":[{\"type\":\"scattermapbox\",\"marker\":{\"colorbar\":{\"outlinewidth\":0,\"ticks\":\"\"}}}],\"scatterternary\":[{\"type\":\"scatterternary\",\"marker\":{\"colorbar\":{\"outlinewidth\":0,\"ticks\":\"\"}}}],\"scattercarpet\":[{\"type\":\"scattercarpet\",\"marker\":{\"colorbar\":{\"outlinewidth\":0,\"ticks\":\"\"}}}],\"carpet\":[{\"aaxis\":{\"endlinecolor\":\"#2a3f5f\",\"gridcolor\":\"white\",\"linecolor\":\"white\",\"minorgridcolor\":\"white\",\"startlinecolor\":\"#2a3f5f\"},\"baxis\":{\"endlinecolor\":\"#2a3f5f\",\"gridcolor\":\"white\",\"linecolor\":\"white\",\"minorgridcolor\":\"white\",\"startlinecolor\":\"#2a3f5f\"},\"type\":\"carpet\"}],\"table\":[{\"cells\":{\"fill\":{\"color\":\"#EBF0F8\"},\"line\":{\"color\":\"white\"}},\"header\":{\"fill\":{\"color\":\"#C8D4E3\"},\"line\":{\"color\":\"white\"}},\"type\":\"table\"}],\"barpolar\":[{\"marker\":{\"line\":{\"color\":\"#E5ECF6\",\"width\":0.5},\"pattern\":{\"fillmode\":\"overlay\",\"size\":10,\"solidity\":0.2}},\"type\":\"barpolar\"}],\"pie\":[{\"automargin\":true,\"type\":\"pie\"}]},\"layout\":{\"autotypenumbers\":\"strict\",\"colorway\":[\"#636efa\",\"#EF553B\",\"#00cc96\",\"#ab63fa\",\"#FFA15A\",\"#19d3f3\",\"#FF6692\",\"#B6E880\",\"#FF97FF\",\"#FECB52\"],\"font\":{\"color\":\"#2a3f5f\"},\"hovermode\":\"closest\",\"hoverlabel\":{\"align\":\"left\"},\"paper_bgcolor\":\"white\",\"plot_bgcolor\":\"#E5ECF6\",\"polar\":{\"bgcolor\":\"#E5ECF6\",\"angularaxis\":{\"gridcolor\":\"white\",\"linecolor\":\"white\",\"ticks\":\"\"},\"radialaxis\":{\"gridcolor\":\"white\",\"linecolor\":\"white\",\"ticks\":\"\"}},\"ternary\":{\"bgcolor\":\"#E5ECF6\",\"aaxis\":{\"gridcolor\":\"white\",\"linecolor\":\"white\",\"ticks\":\"\"},\"baxis\":{\"gridcolor\":\"white\",\"linecolor\":\"white\",\"ticks\":\"\"},\"caxis\":{\"gridcolor\":\"white\",\"linecolor\":\"white\",\"ticks\":\"\"}},\"coloraxis\":{\"colorbar\":{\"outlinewidth\":0,\"ticks\":\"\"}},\"colorscale\":{\"sequential\":[[0.0,\"#0d0887\"],[0.1111111111111111,\"#46039f\"],[0.2222222222222222,\"#7201a8\"],[0.3333333333333333,\"#9c179e\"],[0.4444444444444444,\"#bd3786\"],[0.5555555555555556,\"#d8576b\"],[0.6666666666666666,\"#ed7953\"],[0.7777777777777778,\"#fb9f3a\"],[0.8888888888888888,\"#fdca26\"],[1.0,\"#f0f921\"]],\"sequentialminus\":[[0.0,\"#0d0887\"],[0.1111111111111111,\"#46039f\"],[0.2222222222222222,\"#7201a8\"],[0.3333333333333333,\"#9c179e\"],[0.4444444444444444,\"#bd3786\"],[0.5555555555555556,\"#d8576b\"],[0.6666666666666666,\"#ed7953\"],[0.7777777777777778,\"#fb9f3a\"],[0.8888888888888888,\"#fdca26\"],[1.0,\"#f0f921\"]],\"diverging\":[[0,\"#8e0152\"],[0.1,\"#c51b7d\"],[0.2,\"#de77ae\"],[0.3,\"#f1b6da\"],[0.4,\"#fde0ef\"],[0.5,\"#f7f7f7\"],[0.6,\"#e6f5d0\"],[0.7,\"#b8e186\"],[0.8,\"#7fbc41\"],[0.9,\"#4d9221\"],[1,\"#276419\"]]},\"xaxis\":{\"gridcolor\":\"white\",\"linecolor\":\"white\",\"ticks\":\"\",\"title\":{\"standoff\":15},\"zerolinecolor\":\"white\",\"automargin\":true,\"zerolinewidth\":2},\"yaxis\":{\"gridcolor\":\"white\",\"linecolor\":\"white\",\"ticks\":\"\",\"title\":{\"standoff\":15},\"zerolinecolor\":\"white\",\"automargin\":true,\"zerolinewidth\":2},\"scene\":{\"xaxis\":{\"backgroundcolor\":\"#E5ECF6\",\"gridcolor\":\"white\",\"linecolor\":\"white\",\"showbackground\":true,\"ticks\":\"\",\"zerolinecolor\":\"white\",\"gridwidth\":2},\"yaxis\":{\"backgroundcolor\":\"#E5ECF6\",\"gridcolor\":\"white\",\"linecolor\":\"white\",\"showbackground\":true,\"ticks\":\"\",\"zerolinecolor\":\"white\",\"gridwidth\":2},\"zaxis\":{\"backgroundcolor\":\"#E5ECF6\",\"gridcolor\":\"white\",\"linecolor\":\"white\",\"showbackground\":true,\"ticks\":\"\",\"zerolinecolor\":\"white\",\"gridwidth\":2}},\"shapedefaults\":{\"line\":{\"color\":\"#2a3f5f\"}},\"annotationdefaults\":{\"arrowcolor\":\"#2a3f5f\",\"arrowhead\":0,\"arrowwidth\":1},\"geo\":{\"bgcolor\":\"white\",\"landcolor\":\"#E5ECF6\",\"subunitcolor\":\"white\",\"showland\":true,\"showlakes\":true,\"lakecolor\":\"white\"},\"title\":{\"x\":0.05},\"mapbox\":{\"style\":\"light\"}}},\"scene\":{\"domain\":{\"x\":[0.0,1.0],\"y\":[0.0,1.0]},\"xaxis\":{\"title\":{\"text\":\"XP\"}},\"yaxis\":{\"title\":{\"text\":\"YP\"}},\"zaxis\":{\"title\":{\"text\":\"ZP\"}}},\"coloraxis\":{\"colorbar\":{\"title\":{\"text\":\"color\"}},\"colorscale\":[[0.0,\"#0d0887\"],[0.1111111111111111,\"#46039f\"],[0.2222222222222222,\"#7201a8\"],[0.3333333333333333,\"#9c179e\"],[0.4444444444444444,\"#bd3786\"],[0.5555555555555556,\"#d8576b\"],[0.6666666666666666,\"#ed7953\"],[0.7777777777777778,\"#fb9f3a\"],[0.8888888888888888,\"#fdca26\"],[1.0,\"#f0f921\"]]},\"legend\":{\"tracegroupgap\":0},\"margin\":{\"t\":60}},                        {\"responsive\": true}                    ).then(function(){\n",
       "                            \n",
       "var gd = document.getElementById('2022ddf9-fb3e-484c-ac2c-72b05d502fa6');\n",
       "var x = new MutationObserver(function (mutations, observer) {{\n",
       "        var display = window.getComputedStyle(gd).display;\n",
       "        if (!display || display === 'none') {{\n",
       "            console.log([gd, 'removed!']);\n",
       "            Plotly.purge(gd);\n",
       "            observer.disconnect();\n",
       "        }}\n",
       "}});\n",
       "\n",
       "// Listen for the removal of the full notebook cells\n",
       "var notebookContainer = gd.closest('#notebook-container');\n",
       "if (notebookContainer) {{\n",
       "    x.observe(notebookContainer, {childList: true});\n",
       "}}\n",
       "\n",
       "// Listen for the clearing of the current output cell\n",
       "var outputEl = gd.closest('.output');\n",
       "if (outputEl) {{\n",
       "    x.observe(outputEl, {childList: true});\n",
       "}}\n",
       "\n",
       "                        })                };                });            </script>        </div>"
      ]
     },
     "metadata": {},
     "output_type": "display_data"
    }
   ],
   "source": [
    "import plotly.express as px\n",
    "fin_df[\"nucleus_id_str\"] = fin_df[\"nucleus_id\"].astype(str)\n",
    "fig = px.scatter_3d(fin_df_c, x=\"XP\", y=\"YP\", z=\"ZP\", color=y_pred)\n",
    "fig.update_traces(marker=dict(size=4))\n",
    "fig.show()"
   ]
  },
  {
   "cell_type": "code",
   "execution_count": 86,
   "id": "becf6e34-ccc1-45d4-885b-0ea6aeb57b1a",
   "metadata": {},
   "outputs": [
    {
     "ename": "RuntimeError",
     "evalue": "Unable to cast Python instance of type <class 'numpy.ndarray'> to C++ type '?' (#define PYBIND11_DETAILED_ERROR_MESSAGES or compile in debug mode for details)",
     "output_type": "error",
     "traceback": [
      "\u001B[0;31m---------------------------------------------------------------------------\u001B[0m",
      "\u001B[0;31mRuntimeError\u001B[0m                              Traceback (most recent call last)",
      "Cell \u001B[0;32mIn[86], line 5\u001B[0m\n\u001B[1;32m      3\u001B[0m \u001B[38;5;66;03m# Load or create a point cloud\u001B[39;00m\n\u001B[1;32m      4\u001B[0m pcd \u001B[38;5;241m=\u001B[39m o3d\u001B[38;5;241m.\u001B[39mgeometry\u001B[38;5;241m.\u001B[39mPointCloud()\n\u001B[0;32m----> 5\u001B[0m pcd\u001B[38;5;241m.\u001B[39mpoints \u001B[38;5;241m=\u001B[39m \u001B[43mo3d\u001B[49m\u001B[38;5;241;43m.\u001B[39;49m\u001B[43mutility\u001B[49m\u001B[38;5;241;43m.\u001B[39;49m\u001B[43mVector3dVector\u001B[49m\u001B[43m(\u001B[49m\u001B[43mpts\u001B[49m\u001B[43m)\u001B[49m  \u001B[38;5;66;03m# Nx3 numpy array\u001B[39;00m\n\u001B[1;32m      7\u001B[0m \u001B[38;5;66;03m# Apply radius outlier removal\u001B[39;00m\n\u001B[1;32m      8\u001B[0m filtered_pcd, inlier_indices \u001B[38;5;241m=\u001B[39m pcd\u001B[38;5;241m.\u001B[39mremove_statistical_outlier(nb_neighbors\u001B[38;5;241m=\u001B[39m\u001B[38;5;241m20\u001B[39m, std_ratio\u001B[38;5;241m=\u001B[39m\u001B[38;5;241m2.0\u001B[39m)\n",
      "\u001B[0;31mRuntimeError\u001B[0m: Unable to cast Python instance of type <class 'numpy.ndarray'> to C++ type '?' (#define PYBIND11_DETAILED_ERROR_MESSAGES or compile in debug mode for details)"
     ]
    }
   ],
   "source": [
    "import open3d as o3d\n",
    "\n",
    "# Load or create a point cloud\n",
    "pcd = o3d.geometry.PointCloud()\n",
    "pcd.points = o3d.utility.Vector3dVector(pts)  # Nx3 numpy array\n",
    "\n",
    "# Apply radius outlier removal\n",
    "filtered_pcd, inlier_indices = pcd.remove_statistical_outlier(nb_neighbors=20, std_ratio=2.0)\n",
    "\n",
    "outlier_flags = np.ones_like(y_pred)\n",
    "outlier_flags[inlier_indices] = 0\n",
    "\n",
    "fig = px.scatter_3d(fin_df_c, x=\"XP\", y=\"YP\", z=\"ZP\", color=outlier_flags)\n",
    "fig.update_traces(marker=dict(size=4))\n",
    "fig.show()"
   ]
  },
  {
   "cell_type": "code",
   "execution_count": 74,
   "id": "c7d88cf4-cf6b-4e34-b3d6-44d36ab99bb5",
   "metadata": {},
   "outputs": [
    {
     "ename": "KeyError",
     "evalue": "'Data named \"RegionId\" does not exist in this dataset.'",
     "output_type": "error",
     "traceback": [
      "\u001B[0;31m---------------------------------------------------------------------------\u001B[0m",
      "\u001B[0;31mKeyError\u001B[0m                                  Traceback (most recent call last)",
      "Cell \u001B[0;32mIn[74], line 11\u001B[0m\n\u001B[1;32m      8\u001B[0m connectivity \u001B[38;5;241m=\u001B[39m surf\u001B[38;5;241m.\u001B[39mconnectivity()\n\u001B[1;32m     10\u001B[0m \u001B[38;5;66;03m# Extract the largest connected component (likely the inliers)\u001B[39;00m\n\u001B[0;32m---> 11\u001B[0m inlier_cloud \u001B[38;5;241m=\u001B[39m \u001B[43mconnectivity\u001B[49m\u001B[38;5;241;43m.\u001B[39;49m\u001B[43mextract_largest\u001B[49m\u001B[43m(\u001B[49m\u001B[43m)\u001B[49m\n\u001B[1;32m     13\u001B[0m \u001B[38;5;66;03m# fig = px.scatter_3d(fin_df_c, x=\"XP\", y=\"YP\", z=\"ZP\", color=outlier_flags)\u001B[39;00m\n\u001B[1;32m     14\u001B[0m \u001B[38;5;66;03m# fig.update_traces(marker=dict(size=4))\u001B[39;00m\n\u001B[1;32m     15\u001B[0m \u001B[38;5;66;03m# fig.show()\u001B[39;00m\n",
      "File \u001B[0;32m~/miniconda3/envs/meshing/lib/python3.12/site-packages/pyvista/core/filters/data_set.py:2922\u001B[0m, in \u001B[0;36mDataSetFilters.extract_largest\u001B[0;34m(self, inplace, progress_bar)\u001B[0m\n\u001B[1;32m   2886\u001B[0m \u001B[38;5;28;01mdef\u001B[39;00m \u001B[38;5;21mextract_largest\u001B[39m(\u001B[38;5;28mself\u001B[39m, inplace\u001B[38;5;241m=\u001B[39m\u001B[38;5;28;01mFalse\u001B[39;00m, progress_bar\u001B[38;5;241m=\u001B[39m\u001B[38;5;28;01mFalse\u001B[39;00m):\n\u001B[1;32m   2887\u001B[0m \u001B[38;5;250m    \u001B[39m\u001B[38;5;124;03m\"\"\"Extract largest connected set in mesh.\u001B[39;00m\n\u001B[1;32m   2888\u001B[0m \n\u001B[1;32m   2889\u001B[0m \u001B[38;5;124;03m    Can be used to reduce residues obtained when generating an\u001B[39;00m\n\u001B[0;32m   (...)\u001B[0m\n\u001B[1;32m   2920\u001B[0m \n\u001B[1;32m   2921\u001B[0m \u001B[38;5;124;03m    \"\"\"\u001B[39;00m\n\u001B[0;32m-> 2922\u001B[0m     \u001B[38;5;28;01mreturn\u001B[39;00m \u001B[43mDataSetFilters\u001B[49m\u001B[38;5;241;43m.\u001B[39;49m\u001B[43mconnectivity\u001B[49m\u001B[43m(\u001B[49m\n\u001B[1;32m   2923\u001B[0m \u001B[43m        \u001B[49m\u001B[38;5;28;43mself\u001B[39;49m\u001B[43m,\u001B[49m\n\u001B[1;32m   2924\u001B[0m \u001B[43m        \u001B[49m\u001B[38;5;124;43m'\u001B[39;49m\u001B[38;5;124;43mlargest\u001B[39;49m\u001B[38;5;124;43m'\u001B[39;49m\u001B[43m,\u001B[49m\n\u001B[1;32m   2925\u001B[0m \u001B[43m        \u001B[49m\u001B[43mlabel_regions\u001B[49m\u001B[38;5;241;43m=\u001B[39;49m\u001B[38;5;28;43;01mFalse\u001B[39;49;00m\u001B[43m,\u001B[49m\n\u001B[1;32m   2926\u001B[0m \u001B[43m        \u001B[49m\u001B[43minplace\u001B[49m\u001B[38;5;241;43m=\u001B[39;49m\u001B[43minplace\u001B[49m\u001B[43m,\u001B[49m\n\u001B[1;32m   2927\u001B[0m \u001B[43m        \u001B[49m\u001B[43mprogress_bar\u001B[49m\u001B[38;5;241;43m=\u001B[39;49m\u001B[43mprogress_bar\u001B[49m\u001B[43m,\u001B[49m\n\u001B[1;32m   2928\u001B[0m \u001B[43m    \u001B[49m\u001B[43m)\u001B[49m\n",
      "File \u001B[0;32m~/miniconda3/envs/meshing/lib/python3.12/site-packages/pyvista/core/filters/data_set.py:2875\u001B[0m, in \u001B[0;36mDataSetFilters.connectivity\u001B[0;34m(self, extraction_mode, variable_input, scalar_range, scalars, label_regions, region_ids, point_ids, cell_ids, closest_point, inplace, progress_bar, **kwargs)\u001B[0m\n\u001B[1;32m   2872\u001B[0m     output\u001B[38;5;241m.\u001B[39mcell_data\u001B[38;5;241m.\u001B[39mremove(\u001B[38;5;124m'\u001B[39m\u001B[38;5;124mRegionId\u001B[39m\u001B[38;5;124m'\u001B[39m)\n\u001B[1;32m   2874\u001B[0m     \u001B[38;5;66;03m# restore previously active scalars\u001B[39;00m\n\u001B[0;32m-> 2875\u001B[0m     \u001B[43moutput\u001B[49m\u001B[38;5;241;43m.\u001B[39;49m\u001B[43mset_active_scalars\u001B[49m\u001B[43m(\u001B[49m\u001B[43mactive_name\u001B[49m\u001B[43m,\u001B[49m\u001B[43m \u001B[49m\u001B[43mpreference\u001B[49m\u001B[38;5;241;43m=\u001B[39;49m\u001B[43mactive_field\u001B[49m\u001B[43m)\u001B[49m\n\u001B[1;32m   2877\u001B[0m \u001B[38;5;28;01mif\u001B[39;00m inplace:\n\u001B[1;32m   2878\u001B[0m     \u001B[38;5;28;01mtry\u001B[39;00m:\n",
      "File \u001B[0;32m~/miniconda3/envs/meshing/lib/python3.12/site-packages/pyvista/core/dataset.py:651\u001B[0m, in \u001B[0;36mDataSet.set_active_scalars\u001B[0;34m(self, name, preference)\u001B[0m\n\u001B[1;32m    649\u001B[0m         \u001B[38;5;28;01mraise\u001B[39;00m \u001B[38;5;167;01mValueError\u001B[39;00m(\u001B[38;5;124mf\u001B[39m\u001B[38;5;124m'\u001B[39m\u001B[38;5;124mData named \u001B[39m\u001B[38;5;124m\"\u001B[39m\u001B[38;5;132;01m{\u001B[39;00mname\u001B[38;5;132;01m}\u001B[39;00m\u001B[38;5;124m\"\u001B[39m\u001B[38;5;124m is a field array which cannot be active.\u001B[39m\u001B[38;5;124m'\u001B[39m)\n\u001B[1;32m    650\u001B[0m     \u001B[38;5;28;01melse\u001B[39;00m:\n\u001B[0;32m--> 651\u001B[0m         \u001B[38;5;28;01mraise\u001B[39;00m \u001B[38;5;167;01mKeyError\u001B[39;00m(\u001B[38;5;124mf\u001B[39m\u001B[38;5;124m'\u001B[39m\u001B[38;5;124mData named \u001B[39m\u001B[38;5;124m\"\u001B[39m\u001B[38;5;132;01m{\u001B[39;00mname\u001B[38;5;132;01m}\u001B[39;00m\u001B[38;5;124m\"\u001B[39m\u001B[38;5;124m does not exist in this dataset.\u001B[39m\u001B[38;5;124m'\u001B[39m)\n\u001B[1;32m    652\u001B[0m \u001B[38;5;28mself\u001B[39m\u001B[38;5;241m.\u001B[39m_last_active_scalars_name \u001B[38;5;241m=\u001B[39m \u001B[38;5;28mself\u001B[39m\u001B[38;5;241m.\u001B[39mactive_scalars_info\u001B[38;5;241m.\u001B[39mname\n\u001B[1;32m    653\u001B[0m \u001B[38;5;28;01mif\u001B[39;00m field \u001B[38;5;241m==\u001B[39m FieldAssociation\u001B[38;5;241m.\u001B[39mPOINT:\n",
      "\u001B[0;31mKeyError\u001B[0m: 'Data named \"RegionId\" does not exist in this dataset.'"
     ]
    }
   ],
   "source": [
    "import pyvista as pv\n",
    "\n",
    "# Convert point cloud to a surface (if needed)\n",
    "cloud = pv.PolyData(pts)\n",
    "surf = cloud.delaunay_3d()\n",
    "\n",
    "# Identify connected regions\n",
    "connectivity = surf.connectivity()\n",
    "\n",
    "# Extract the largest connected component (likely the inliers)\n",
    "inlier_cloud = connectivity.extract_largest()\n",
    "\n",
    "# fig = px.scatter_3d(fin_df_c, x=\"XP\", y=\"YP\", z=\"ZP\", color=outlier_flags)\n",
    "# fig.update_traces(marker=dict(size=4))\n",
    "# fig.show()"
   ]
  },
  {
   "cell_type": "code",
   "execution_count": 27,
   "id": "176966c7-597e-43da-bfa5-4916f11e0611",
   "metadata": {},
   "outputs": [
    {
     "data": {
      "application/vnd.plotly.v1+json": {
       "config": {
        "plotlyServerURL": "https://plot.ly"
       },
       "data": [
        {
         "hovertemplate": "XP=%{x}<br>YP=%{y}<br>ZP=%{z}<br>color=%{marker.color}<extra></extra>",
         "legendgroup": "",
         "marker": {
          "color": [
           1.779835410859049,
           1.3072412007328862,
           2.855832363470303,
           1.3751974263873152,
           2.9623461011902483,
           3.421543647217702,
           4.804821111475511,
           3.086261707454443,
           3.3882968357731844,
           2.5886392102430658,
           0.8919511037493221,
           2.208034882531795,
           1.0398916093630646,
           1.3324380998652947,
           2.378083163413445,
           1.6277810447084513,
           2.7095839506548267,
           0.21217997849734554,
           0.6627679407788666,
           1.2957591987493597,
           1.9901451291408034,
           0.8905277869845276,
           0.835186620129599,
           0.25162461715268664,
           1.1400744610486,
           4.065248105654767,
           0.9970410741938586,
           0.282906623623971,
           0.14788865970753445,
           0.8732502031222881,
           1.772114550571616,
           0.16722255520732976,
           0.2650531336701335,
           2.687134758052986,
           0.7418089151265033,
           2.7685831497538897,
           0.7240491706022923,
           1.1135917708015308,
           0.5542634308443508,
           0.22201881876862437,
           1.5065176140084597,
           0.7631342635700485,
           0.7999785358708429,
           0.85007956238478,
           0.3020852166422275,
           0.02407946217308216,
           1.1205757164821044,
           0.5798837739740614,
           0.34815825776672343,
           1.0313907063196148,
           0.6105979537703211,
           0.5495463716420794,
           1.6824838411778478,
           0.2999700431612813,
           0.022273101489812864,
           1.2830565508222371,
           0.30358399054208884,
           0.8773197235816298,
           0.1372329286706716,
           0.46307952720041046,
           0.4380816170189399,
           0.22463741435668647,
           1.4337209199840877,
           1.23951373687684,
           1.162981967198313,
           0.7958237005291346,
           0.752750649831816,
           0.5641875813775293,
           0.522258208607585,
           1.257281965453551,
           1.5136886032573644,
           0.7680903749913174,
           1.1157151071518283,
           0.8435322107410533,
           0.5102544657755294,
           0.2946564169657101,
           0.06576933387877526,
           2.4506445574355094,
           0.22925466206276082,
           1.2252313547840525,
           0.5699483482429898,
           0.6077122412111692,
           0.9546768892893566,
           0.01124627939924382,
           0.10912752423592945,
           0.48674582118386256,
           1.4571790631810038,
           0.8217683619971813,
           0.0112365737992904,
           0.1654619720856192,
           0.644068023419696,
           3.307115178592299,
           1.0983293635255496,
           0.021837252071254833,
           0.9438003280353339,
           0.5286530286918475,
           0.4314133588521838,
           3.1565983099623685,
           1.1154345808250026,
           0.9724257152555735,
           0.4857146573505111,
           0.366622138612358,
           1.5078450183728507,
           1.0264928571616698,
           0.335576600644253,
           0.5966904217410511,
           0.7828887108022018,
           0.5050195238748283,
           0.48603070541235605,
           0.2962991253913408,
           0.027188539414280375,
           1.0636891058635252,
           0.9975371483516253,
           1.6350811871608122,
           0.08475751807901352,
           0.4483558887546045,
           0.28394065096690835,
           0.8672436375513288,
           1.3322676969834637,
           0.4245436222971289,
           0.5633329653939302,
           0.6339362537366794,
           0.9221650257895422,
           0.17585077719673028,
           0.457126616440104,
           0.5934224232394529,
           1.0450094438239783,
           1.6240807206967538,
           2.171433732347285,
           1.2813927982928155,
           1.3274849581085457,
           0.47869540368357066,
           0.9559808437223886,
           1.108414008929171,
           1.0218072774645046,
           0.9581448063484459,
           0.4455165670634299,
           0.4517362913298532,
           0.38577898095969726,
           0.3004965655528845,
           0.537754591034174,
           0.69828489425717,
           0.273188674745342,
           0.9382967018617392,
           0.6700991766322121,
           0.12051424268323416,
           1.9101324068087246,
           0.11530068086289512,
           0.4564512971539801,
           0.7274042758812694,
           0.2162269392866484,
           0.019670091841382232,
           0.8949456071276403,
           0.09804674604864576,
           0.5106692028799291,
           0.21015205945667578,
           0.35088839637114866,
           1.1504849713383138,
           0.14879120624107892,
           1.1291272983065905,
           0.7319489529708174,
           0.47205563833015424,
           0.5287228054073662,
           0.8047950481651855,
           1.3688682677964685,
           0.8610754181680117,
           1.670763191437664,
           0.354103777148819,
           0.323982809792873,
           1.2953787068608353,
           0.23093735725986336,
           1.1993733656673236,
           1.580777962153697,
           0.9173341326662391,
           0.09645230425276369,
           0.09211062661000446,
           0.08571670000096535,
           0.4773414864370718,
           1.5509148779814463,
           1.5578563339823606,
           1.2938425570019694,
           1.2748423325350946,
           0.34997137930630406,
           3.777265573563569,
           1.0792290431080296,
           0.3991819237870933,
           0.553250192338401,
           0.49369871262711523,
           0.0949767071555912,
           0.358051054736397,
           0.1540409009956165,
           1.642618190890067,
           0.5087340662507389,
           0.05183084166001231,
           1.3779223134245009,
           1.9571569291071091,
           0.8763759437775044,
           0.9938352684084195,
           1.4716267533069047,
           0.17929828216383564,
           1.158207496614796,
           1.1353284776862274,
           0.05004526181105203,
           0.2219107133478623,
           0.8058203720067847,
           0.05823705133597087,
           0.9142612380129324,
           0.7526247785556736,
           0.7861052930556323,
           0.2676406852732119,
           0.18683500135744047,
           0.8404264223431991,
           1.4915416512295325,
           0.4835881217449416,
           0.2837938287986075,
           0.8701346791943172,
           0.9929974764516121,
           0.7795630744406647,
           0.02228511500238301,
           0.7518405678002287,
           0.20677145787794807,
           0.5266587556990363,
           0.9138152185687944,
           0.003611535325709096,
           0.6615830368496081,
           0.7118582875493042,
           0.6435652463662278,
           0.33699886685911223,
           0.501995225112244,
           1.2317165838445303,
           0.2986624761847815,
           0.5612108246314312,
           0.32227928069449846,
           0.24745453469414994,
           1.5121252477200093,
           0.6646027077161765,
           0.11997803710209985,
           0.7863704746079481,
           0.7536569127098556,
           2.1205859956386446,
           0.41896194320183366,
           0.5436016157782236,
           1.3815165299690515,
           1.5051849971941342,
           0.348785753308359,
           0.8429358135031013,
           0.662962557261331,
           0.7295438763067434,
           1.3052686375999751,
           1.6628664560864548,
           0.17593899770072455,
           1.3015154175740842,
           0.0014268773646780382,
           1.1588375465738348,
           0.9498153980939308,
           0.8374846614766436,
           2.846704857348209,
           0.7193596412787586,
           0.8854917548873612,
           0.730151242499336,
           0.04144743339384072,
           0.19291019042781388,
           2.267011929941553,
           0.6067766689154421,
           1.451624100935939,
           0.9244028495093649,
           0.09205731901049467,
           0.003493420847957136,
           0.4577821970728602,
           0.3974556398171841,
           0.34254150356404967,
           0.506471826363722,
           1.3019194688313471,
           0.07796702882996571,
           0.5000575087280221,
           0.5361971474457263,
           0.3590170835589463,
           1.0299327317557292,
           0.346653764158381,
           0.16142731672150804,
           0.6861811957267341,
           0.4251839829450699,
           0.015545498884698713,
           0.26365002694406675,
           0.5341636507436667,
           0.016907510467242207,
           0.5663718143671285,
           0.5972069456786107,
           0.9890216206510483,
           0.4356471252746981,
           2.8031639797213352,
           1.6559780782914164,
           1.1133866067909468,
           0.1315670668607961,
           0.43465124410505845,
           1.6668444815954315,
           0.0043334613178422484,
           0.25013153535774346,
           0.41367228080826557,
           0.3117211367548398,
           0.3826491498621183,
           0.3506339867660975,
           0.7288207102252254,
           0.6921105814548111,
           0.2430431541312973,
           0.18959546282037665,
           5.304141528485264,
           0.4748466267944772,
           0.26035229100990553,
           3.8853793274747437,
           0.06201194696170666,
           0.03394105842619518,
           0.3437130535789015,
           0.05103300417477663,
           1.6101403433018104,
           1.1520524187288197,
           1.159644309319445,
           4.133210022663933,
           0.3331423791553771,
           1.8820439304289645,
           0.23289348887268635,
           0.36696962480692996,
           0.4445355929289615,
           1.1361074630368324,
           0.49549020820026807,
           1.4092354869570778,
           0.19442449546542534,
           0.09125260947199185,
           0.8234511327790045,
           0.857050002994631,
           0.4102991914333618,
           0.8126149211189491,
           0.6883074534202019,
           1.208202682812145,
           0.34191811882891554,
           0.3399534418301996,
           0.7761443891230563,
           0.39810944523162317,
           0.809003619959722,
           0.014637127550518181,
           0.5198681431204877,
           0.16236348731318515,
           0.3770783210868758,
           0.31390544569101064,
           0.9988598515774777,
           0.78417255815157,
           0.5895437078955573,
           0.5632320413458048,
           1.4405593829690102,
           1.5891075176518084,
           0.15346552840700925,
           0.8601518980533699,
           1.6159247521379714,
           0.5433359041201478,
           0.5935170449560699,
           0.9936270336669554,
           0.27489815676093887,
           2.7566744520865907,
           0.41204793502890397,
           0.29931288724403504,
           0.46140873309054536,
           0.9691731082433463,
           0.09799799097126834,
           1.1051934549862628,
           0.17122142097662035,
           0.6385118068522292,
           0.08351816268113213,
           0.21391522827952092,
           1.7639943616801426,
           0.3761584899900958,
           0.1471977098852364,
           2.323612541232508,
           0.9159806459747037,
           1.0319157095757996,
           0.39373138550739456,
           1.201015499445871,
           0.8757840610992703,
           0.915156953974306,
           0.5712204072268247,
           0.9361443092880182,
           0.8901563837679725,
           0.2153770054323624
          ],
          "coloraxis": "coloraxis",
          "symbol": "circle"
         },
         "mode": "markers",
         "name": "",
         "scene": "scene",
         "showlegend": false,
         "type": "scatter3d",
         "x": [
          -10.441536594236617,
          18.909970919600344,
          28.625946474093105,
          29.53602274547444,
          -4.354279471804888,
          16.08833975810083,
          -7.081544091748903,
          -22.13904961262735,
          25.343598794457257,
          8.025601175006548,
          10.155845100188936,
          -21.72528036938229,
          21.49917536285918,
          14.073760561259869,
          -9.490391713714228,
          46.32182628851493,
          1.5906943664489206,
          -9.749238686314795,
          30.38376197246025,
          -11.603608899288242,
          -1.8323503499728968,
          18.32639823643348,
          5.506565144159364,
          -21.55265550298812,
          5.129486321292626,
          15.662044866025983,
          -23.00849117132168,
          -27.063035857579937,
          22.01371204360525,
          -27.310293055541063,
          -32.44291952407984,
          -0.593536284536888,
          48.86912267842247,
          -38.51263206270389,
          -0.2379609304205109,
          -50.405799474006805,
          8.90116303824162,
          -30.452425605253516,
          37.84332127481318,
          8.250265926353357,
          37.89045769874579,
          -17.902500349569756,
          -29.8778915615235,
          -35.28960814526827,
          40.887149710103074,
          2.7950964151513733,
          -46.892454605313645,
          -40.1948616316499,
          41.13933521892981,
          -3.765783266211421,
          11.627921591278332,
          -13.5295527685739,
          -38.52256653129943,
          39.61614728243846,
          -16.727849837451306,
          41.18688114993145,
          -24.57274666555936,
          45.73081367455592,
          30.698666505904043,
          32.768380985634494,
          -15.682071539159748,
          -27.486212059916227,
          -54.261214920977295,
          -23.91497265966092,
          -16.94382777952042,
          33.79546614622999,
          39.77705023925336,
          15.483932676540537,
          9.044292263515452,
          28.655783213517942,
          -10.132972925287536,
          16.28102209688692,
          4.024771748317311,
          17.90940878751802,
          -11.031388861607356,
          16.811777449592586,
          -22.109554598707795,
          52.76755447570095,
          46.01802333071504,
          52.305118278927765,
          -16.878417364984415,
          16.207053229418523,
          -0.2784541818545046,
          17.633021917576855,
          35.68512174114909,
          -13.012360391173548,
          5.381846521236599,
          38.14770259569346,
          -10.970552075031572,
          -15.324530687458216,
          44.66706760906848,
          16.215379433135993,
          -32.110913457579635,
          -19.7768113781778,
          -11.139736100776853,
          -11.787741346394156,
          2.249780168039399,
          49.225893433449095,
          -3.5938910956200405,
          -1.623929115639371,
          30.294390608190987,
          19.60768670473535,
          -29.1541587133662,
          -17.07104586906461,
          -47.54800475641679,
          35.80339113035582,
          -6.574222070905824,
          -41.174520375577565,
          5.445165305284292,
          -12.635401259977405,
          -18.35493916867288,
          32.19659276477985,
          -17.419311011584973,
          37.96298216442278,
          -1.4600255346684432,
          33.76188652744218,
          30.036999152326235,
          -6.124315286994246,
          19.54187472567524,
          25.039563520156825,
          11.550308574957318,
          -13.650682900443142,
          -9.148976657026896,
          -23.02690967417154,
          -36.38626704398312,
          39.14135983892616,
          -2.639781378604448,
          1.9424148424019712,
          10.548569766191031,
          26.835592374372748,
          -14.15949242590885,
          7.049908839953303,
          18.85103522841984,
          -0.7960864507893021,
          -20.359112913615807,
          -16.787906332197142,
          22.58582983304848,
          25.131547819357205,
          13.970188547388616,
          -24.606751035519608,
          -10.609228500632142,
          -9.505672870497571,
          -11.30891680759432,
          16.301375091296634,
          3.595716089493622,
          17.101726280423566,
          -41.17336220730256,
          18.402277950448564,
          2.62230528106556,
          -15.452793770507265,
          -5.327353331309875,
          21.924966503050424,
          28.196864221398844,
          17.73294995237773,
          -11.185860231057037,
          7.336479091503907,
          -12.399251805119862,
          5.8940608630887725,
          -3.841566344432002,
          16.47302383431229,
          0.5206980495042423,
          11.2640646186673,
          34.02120114518664,
          12.006345078226296,
          9.055652342687903,
          28.173204475083555,
          -24.034770304297734,
          14.474348912119192,
          -32.21338405082777,
          7.679951239176612,
          -42.61826145418613,
          2.520883815614965,
          -13.959741567334705,
          -12.044586277905251,
          -1.1218124352441348,
          24.99581965647908,
          13.755769283008163,
          0.7747673302723109,
          45.46874783300433,
          -17.97709455774424,
          -3.8022047936575687,
          -32.101262847044666,
          -27.616762897272057,
          12.616180182487616,
          36.21851606082631,
          16.74234106694579,
          3.015469357221858,
          -28.880563417672672,
          23.685878795009813,
          -21.04336982117138,
          21.46441880955576,
          -17.77068499148199,
          3.588068212939524,
          43.20783183384231,
          13.395652670174652,
          -6.7011294595749815,
          36.28986750318402,
          27.7899352587748,
          -4.399803027684972,
          -20.30098224096161,
          -5.089804446813658,
          3.871901687092109,
          -21.970694084575836,
          -15.173127462225589,
          25.73901633250809,
          4.919440124915049,
          21.236452716541542,
          -25.91385199757054,
          25.70611134754573,
          12.438824832046658,
          -8.164921496782448,
          -4.99844610081596,
          -36.978586263277386,
          -43.7838614094252,
          -9.2006038544202,
          7.124925560853956,
          27.610975581025883,
          -20.13497807077913,
          -18.787827366223684,
          20.45727679474769,
          4.651213216755979,
          35.50086215946853,
          25.00865079063911,
          28.565042502273464,
          0.8420959940750995,
          39.27054384099692,
          19.78760207614067,
          -8.540146022421359,
          -32.52049055755943,
          12.06715280741234,
          21.00131346427741,
          27.00820233955268,
          -32.10112542632654,
          30.964334475314622,
          -4.88168862869539,
          21.180315034198056,
          -45.83323543762481,
          3.3407259194062604,
          10.827716312395095,
          -13.997674289107357,
          -24.4494406779819,
          -8.378832000140687,
          -10.739800650148904,
          -18.413423291606787,
          13.703485882768458,
          -16.86341238212642,
          -10.765318516974643,
          27.684431825795407,
          8.706291335475763,
          11.442997058068094,
          22.21341084295665,
          -1.040393591730863,
          -25.7331744280868,
          -0.2171843915132303,
          -12.481116426621632,
          5.579939378760311,
          9.060177755179232,
          1.6037475538745058,
          -6.459462856779379,
          -29.822048832125013,
          -13.077841358410623,
          -2.354940407686076,
          -7.640004744324822,
          -17.853783516131955,
          -7.752185961260262,
          4.936453612704563,
          21.123939150702547,
          -22.64957819320153,
          18.77531076910442,
          -9.37995827493398,
          -0.5102336806359477,
          -14.296254274989634,
          18.173229428311345,
          12.655103449492149,
          20.01230818020937,
          -9.024552474768726,
          -17.795666611143357,
          -22.342517030928096,
          29.973988023903505,
          -26.35587531187417,
          21.89255186634894,
          -24.210424658388188,
          -4.880233543899673,
          23.475790522231257,
          -27.574494515678364,
          -2.133276014279593,
          -28.109328195840888,
          -15.039908773952297,
          26.85773640298006,
          -22.53317863302533,
          -8.35212588437084,
          -5.527230034906472,
          6.330638554304695,
          -33.18548151707774,
          -32.640731016727365,
          -14.825415384387448,
          -27.43678273703865,
          -3.82723576761173,
          -28.544661516332148,
          7.928308451623324,
          -11.614342465033989,
          -45.353033760575,
          -8.082826401940684,
          -36.17298158444544,
          -12.107084117878546,
          -10.554845973356567,
          25.942674851117804,
          -1.8732774348920636,
          6.5395235933971705,
          -21.616429167260943,
          -28.035723891868845,
          -1.8238164838255155,
          -14.396954685644928,
          -34.564119571544765,
          3.32681898132361,
          -5.991003591095808,
          16.428262592271363,
          29.5932911674492,
          -18.5596679576786,
          -24.98348322848916,
          -4.3778997512470585,
          -10.534542940068665,
          -46.70695790526457,
          -38.10174615526159,
          12.81671987666427,
          0.6489937648450106,
          -13.76599163362437,
          -8.48238352720885,
          -20.774125924208697,
          -35.239197244358834,
          -41.22168788325198,
          27.005115045333373,
          -50.847463945734376,
          4.403378097510178,
          -38.075527260912416,
          -35.46077951989093,
          20.980043472801945,
          22.82365596234626,
          -25.901319218006865,
          -25.537412519045983,
          -22.55842091943022,
          -7.377661247304264,
          -2.76010663911862,
          -26.367762411974923,
          30.571179896920206,
          38.5423460817207,
          -7.374691743483325,
          14.356506248105989,
          11.282791115143546,
          -25.890677027822697,
          -15.541882311893431,
          31.79181293978044,
          2.986726654773815,
          41.00296771863143,
          -15.602871656298236,
          -8.396522648487265,
          -15.980325554834543,
          -31.23331780639398,
          -0.1828321920931933,
          4.156836382123772,
          0.3854804220623977,
          13.550085353888084,
          13.95533843650137,
          -14.47149924504404,
          0.1085952404408121,
          31.060156009023384,
          5.869944501333663,
          8.501135331189692,
          -25.79173235102787,
          -22.961636639432196,
          -30.80990213649897,
          25.155514242913924,
          -11.864322671523077,
          42.310144409293336,
          -7.011299965488735,
          -38.55778766440343,
          22.949134371664726,
          -5.20583386062941,
          10.610538013101424,
          9.459841940096243,
          31.242369716485133,
          40.88936548451184
         ],
         "y": [
          -38.337105972845535,
          -42.53935000538158,
          -19.53420679847264,
          -30.2449488133358,
          -7.577024618018223,
          0.8643866744768407,
          12.461452641447243,
          -21.528594769577,
          3.648529052127319,
          -32.05295819937189,
          -9.006397737396659,
          -41.27002688628625,
          -28.0136469159164,
          -24.669254020595595,
          -16.006325526381058,
          -8.490256953951503,
          -38.490461793857925,
          -29.569749666864062,
          -9.668034605007,
          1.3299909324223849,
          23.394992325879983,
          -36.86145582354955,
          7.863487256495025,
          -11.845418679033267,
          -2.0061601786397976,
          20.83280532133622,
          -31.9981913475419,
          -10.816704522883224,
          -11.401390768381766,
          1.9913959770662264,
          11.296217816459423,
          -22.867270709865185,
          -22.012084866455144,
          -4.471741490694862,
          3.144143449080333,
          -10.440904905540307,
          16.886439607713967,
          -27.76495620286589,
          -32.75009254619473,
          -14.98375969834405,
          -6.403161201622929,
          3.79201057520006,
          -37.89796597638049,
          -21.27815012573585,
          -19.519075913820583,
          15.95876375209352,
          -35.05543592510642,
          -16.441900374983664,
          -26.90366134001524,
          0.145866138940674,
          12.753528629915184,
          22.264258048346957,
          18.672651516139737,
          3.5885775209952104,
          10.960837923581128,
          12.270743053203098,
          22.81176513238432,
          -21.115492029619144,
          -8.857839313864796,
          -1.313514326052398,
          16.18154793850377,
          -4.264150912788408,
          12.90886938784253,
          31.220640313881614,
          -33.02347948401496,
          -37.75834146122134,
          -33.90713967216779,
          -23.601984090506253,
          -1.6059274886571313,
          23.17168266193676,
          38.81979523267131,
          -32.64102343239351,
          -0.4071237150117427,
          1.430618777686025,
          12.558745461982172,
          -11.492605652818655,
          13.350082945813725,
          2.1672843941194824,
          4.4346793575096015,
          -9.680967646798043,
          22.001673088451263,
          35.58159658670291,
          6.028028292138945,
          15.050053672168696,
          -12.17501394396904,
          -20.019552982499675,
          -22.03420587478569,
          -21.3977075031341,
          22.96453321414163,
          26.22730875316296,
          23.49996388891773,
          -17.88231168995231,
          28.363174227028487,
          -4.30024002795627,
          3.283957185793137,
          17.438233002743257,
          16.111760019397607,
          14.128229985735452,
          -24.880112646982077,
          -22.969066094019908,
          -19.68742748269821,
          19.784206339157045,
          41.29864849159611,
          19.806526137595885,
          25.441002694079614,
          -14.098986180411616,
          24.569110302317704,
          30.509151433239467,
          24.66266778455401,
          -29.02092649127784,
          -16.046543731327706,
          17.92596551997844,
          1.7658675738729142,
          -3.761613963317288,
          1.4573509286065909,
          5.868492020832737,
          13.243005737940662,
          31.66280667996086,
          -4.5282443933406,
          6.236801239298617,
          24.989342840334697,
          30.717424574763125,
          -26.725467291723064,
          7.749954730116577,
          11.357124046338384,
          5.415352791574981,
          28.047361033927988,
          40.36905229897437,
          4.249644243906012,
          9.540500311222692,
          -20.12378104271364,
          6.283264552626641,
          7.308348181773372,
          -7.568457198166341,
          6.935666267931767,
          0.547216368338711,
          -3.392797401108816,
          0.3337607803468525,
          21.467833754474704,
          30.475548165056622,
          27.18126525436044,
          5.5295761483764885,
          -24.498751366491195,
          -16.68244714616768,
          -8.944610649297344,
          -8.999083976190358,
          14.69575342604931,
          9.514526288822571,
          -18.625241752390288,
          -5.774720639126778,
          -26.47589009660798,
          -5.2969871106108855,
          -4.631982650298305,
          9.393586668549636,
          26.31044182098536,
          -21.71922550655088,
          -0.2065257312945641,
          5.735041272629518,
          -9.142582236203062,
          -4.927353699583167,
          -28.99972410208008,
          -19.475653041935065,
          9.11253370585434,
          -33.104921535868094,
          3.8917772874213714,
          -15.927170969967811,
          5.698893079203617,
          5.226210799583464,
          -27.752940961954717,
          21.15824104834312,
          6.672751313919638,
          4.446431789950013,
          -14.656301112450922,
          -3.468601663534949,
          12.149597117561052,
          -3.3968008219829557,
          19.45004578671517,
          -22.07583984814863,
          -13.772981956840686,
          7.833397521615295,
          10.912953088965583,
          10.416465462975935,
          11.12375100868528,
          9.832147899586834,
          18.12062433036084,
          24.45852378312396,
          28.48412088895632,
          -7.871761404337269,
          19.85563495578178,
          -4.392776671903022,
          27.137669228853373,
          12.945478173184515,
          10.162276584396944,
          10.498587787528573,
          1.1722210281896488,
          25.676009739114555,
          24.21666956176485,
          17.361065291555654,
          27.994180451808383,
          22.256088266677512,
          0.717192710468932,
          -15.401887969005347,
          -0.7905287155049388,
          -27.726878013952337,
          -7.78247961642216,
          11.11893666703586,
          -19.31106517420415,
          -14.474761728883214,
          -21.18855932901769,
          -14.96300874226757,
          6.473936605712415,
          7.232417581891826,
          -32.541582590238775,
          -26.972454011837403,
          -9.327555946179524,
          -5.059685474192508,
          -2.233054716211062,
          18.27415013535019,
          -27.58031000724533,
          -14.358003138966891,
          -7.845823000024957,
          1.381082202490598,
          -14.36226842095694,
          7.572251451378776,
          -15.370285396718868,
          20.39374355647021,
          27.85088943685137,
          -22.88391324008427,
          -15.265793114910972,
          -5.168270141502918,
          6.475421312886768,
          -8.40625761166208,
          2.731169123448802,
          -0.4161481117563508,
          -25.093586725066963,
          0.8243032507089477,
          13.97670849189426,
          -15.249575443669372,
          15.332646823025488,
          7.892391630476346,
          -9.171479361151462,
          -13.224449440438809,
          -16.73114083856122,
          18.180220859775872,
          29.848282941517205,
          -10.136861956409554,
          -8.643757872315923,
          22.23255250018528,
          -1.1275103347382598,
          -3.7916790759341903,
          11.851479789615558,
          20.473961761675785,
          18.442189427902925,
          6.915168838869946,
          9.058901668697702,
          18.93184155510388,
          33.800596718718104,
          2.5282002721535206,
          21.09530068978976,
          29.55628913606883,
          34.98874385775441,
          35.294891830050794,
          -23.78668844419114,
          26.572896029725207,
          -13.14996213894002,
          -1.4716756867979424,
          11.13973667325809,
          -7.1426017019190855,
          -21.014560112281195,
          -7.110109214007606,
          10.080015578254088,
          -23.86596492517636,
          -20.90698514482973,
          -11.500038567653434,
          -27.29224842651509,
          -2.521619736460113,
          -17.247661011687466,
          -17.164743738191586,
          15.246742838863687,
          -24.08329319885532,
          -8.662195495782735,
          -29.976040535138456,
          -14.493729473684423,
          13.124835598116228,
          -32.73898164911063,
          -4.316526633747851,
          -18.94927296341525,
          -7.7891059143640256,
          16.421975059138738,
          -20.206613550984624,
          -3.6654734759173606,
          -1.2212549174274605,
          16.603894522776685,
          -5.44046662269987,
          -19.980649581646134,
          11.570347100390387,
          -29.4891151175276,
          -10.186604464256718,
          23.263751163702867,
          -9.33121154545665,
          13.100395909160024,
          20.18574009436271,
          17.101491784283475,
          35.71558399893041,
          21.49246717339678,
          -22.32856674385293,
          37.63193143397102,
          -2.7457047010153954,
          14.968197684774276,
          45.3717654713195,
          23.528013782595952,
          22.249520288027984,
          -5.052542090767297,
          31.35520648356576,
          27.47120676897522,
          32.37762381979872,
          28.445352541851552,
          11.981538077402409,
          27.400701656910325,
          19.734108135719108,
          -17.627250481824674,
          -28.909713012517077,
          -20.25388103131822,
          -36.75144802481268,
          -28.24284921327866,
          30.788892195246028,
          -11.753815108494909,
          -17.059333868189864,
          -8.896964359867253,
          -33.62403472815808,
          -22.363840670911127,
          2.4359578556428847,
          5.264324390739323,
          32.12926999235133,
          -9.227265264285512,
          -0.1006081035946069,
          26.026822156834545,
          -11.493927904263035,
          -22.43531741710403,
          -1.760731524087925,
          19.42494750246804,
          -4.570828397200564,
          -15.366736653100435,
          2.656036900510446,
          -0.787965909124608,
          10.41133608839829,
          -6.866906327902489,
          -7.184466501048095,
          19.130927986178374,
          -5.7120785675548165,
          19.06171871749426,
          22.20209402203686,
          -15.009317603224034,
          26.013532533530583,
          7.585888295231357,
          36.34268807772433,
          23.11943937653581,
          -42.51768380936277,
          -14.356541815191653,
          27.356884370358344,
          -6.598755546752081,
          1.8053919859584748,
          29.46131808039552,
          -24.033347992945863,
          34.18088021754212,
          -7.721239178092097,
          -4.830922930938824,
          29.1894852036845,
          -14.785338788127923,
          13.882373088641772,
          16.242172403092972,
          -14.270177658178824,
          -0.1510937475170817,
          -27.003095445290985,
          -22.29716467814955,
          -28.64034617060389,
          -24.303929932233764,
          17.240901467842736,
          8.389299030815787,
          12.793708622942043,
          -12.344447644067175,
          -0.1090939875909275
         ],
         "z": [
          6.914825889496639,
          2.615594943986101,
          11.73929293756104,
          3.01095398515561,
          15.837987039558948,
          17.06337059686578,
          17.50481918978401,
          10.73994299788554,
          14.855332491519624,
          8.093274770367895,
          12.69322687454578,
          -3.5244904441219336,
          9.145993913706812,
          11.338935552039937,
          11.879744656322456,
          5.879297834947303,
          0.7709418555299286,
          9.334171167593915,
          11.655608956291063,
          14.922140651047055,
          13.529318752395582,
          7.474566487960109,
          15.226132236339083,
          10.572585880018872,
          12.876468620921129,
          13.842213791837258,
          6.901554261322567,
          7.439326837613149,
          10.752855352646176,
          12.77387322258619,
          11.888685855859316,
          6.178427362521565,
          -0.2200477318150192,
          7.578134801371511,
          13.5123179779786,
          6.644963452981266,
          14.73633679634829,
          6.143977564657347,
          4.70303765658956,
          5.4009031371596405,
          8.803756651680661,
          10.070719081293952,
          1.9915231537409464,
          6.329621863833931,
          4.858881194305387,
          10.55128983191792,
          2.809055875303712,
          2.8270641823034928,
          1.6893349840638383,
          8.264302310464032,
          11.287091893148178,
          13.30736195405791,
          7.617107153218245,
          6.809465706083456,
          8.396772011341088,
          6.410182836226668,
          9.377701572279708,
          5.516998589884229,
          4.4234540126560224,
          7.218731937668816,
          10.268447393005593,
          4.228744868562294,
          8.014391393574025,
          6.055822615810247,
          -8.001140414342032,
          -1.1133005981667932,
          -4.039314964527936,
          1.8379596252634456,
          3.405368308807307,
          4.853147522248622,
          1.9496764214798816,
          -2.5603518241257843,
          -0.4854491804665783,
          3.7965331882114097,
          6.0478450782425925,
          -0.2963317409737486,
          6.10520111692528,
          -1.5504827727387105,
          4.470687768294117,
          -1.5295792028717845,
          7.917993048457401,
          3.49765327673393,
          4.69222052665708,
          1.2702477315539062,
          0.6439076398396251,
          -2.071769855243571,
          -11.393171245704911,
          -4.256732931033744,
          5.55712510313604,
          2.843757897598078,
          -4.030170838375248,
          -10.25267130725995,
          3.9675972845836,
          -1.288924366944046,
          -2.565421480867025,
          1.911696878207974,
          0.0704937477464973,
          0.3747931518456074,
          -3.741748844192229,
          -8.346972539187945,
          -5.789092125135195,
          1.110387888765986,
          1.3751727625801138,
          2.1999451529314245,
          3.148703132465478,
          -6.629963847229727,
          1.777785787159279,
          -1.691479133940535,
          -0.5088659966056743,
          -9.978158195843289,
          -6.948605437658498,
          -1.0912112543809869,
          -1.802391167998736,
          -8.55121052048266,
          -1.6805589711751625,
          -3.4489354953254927,
          -3.8835633270558474,
          3.7051053988016034,
          -5.10754041248672,
          -5.616191469388184,
          0.6797100503348326,
          -0.7379353604296072,
          -10.167336809546317,
          -3.656456608665068,
          -1.7642044581637342,
          -4.061465206339115,
          -3.7844394949848303,
          -2.016953820905618,
          -9.779535541863892,
          -8.029409981189499,
          -13.54420877145067,
          -8.80328441870128,
          -9.726384654406957,
          -14.32850462394549,
          -9.714269141387213,
          -11.139564966420751,
          -12.67727084729636,
          -10.170258628116551,
          -8.911784884319975,
          -9.271330410597562,
          -7.2469999696056275,
          -12.752085507105546,
          8.977999521932572,
          10.074107445647064,
          10.390206930068684,
          10.667182187042576,
          18.09745304140715,
          13.9425720418576,
          6.5490861176291135,
          10.514810309634024,
          3.074651857445199,
          8.272023404811087,
          8.337073358336259,
          3.548392083154785,
          11.253138092277185,
          5.102767184578609,
          6.822240476239921,
          6.660781818351943,
          3.181839625586155,
          2.9001898602876928,
          -1.2984257060746551,
          2.740750338602614,
          5.260290169803314,
          -2.534559173748997,
          5.799091315238776,
          -1.3673014049624903,
          4.925232625682367,
          1.537528886148014,
          -4.794480921231947,
          6.732056720997635,
          1.9332106335199817,
          2.859787232323454,
          -7.473646472706359,
          -1.0032924750337606,
          3.082803748486993,
          -0.8663593622527287,
          2.391164261535861,
          -4.372195345930093,
          -5.079649917081077,
          -1.5881756107940137,
          -1.1444636601392917,
          -2.231378550410684,
          -0.5035096900266006,
          -3.8308306521601536,
          -0.2494765661483051,
          -0.6605003784133531,
          0.429854824658138,
          -8.223816006175733,
          -4.241267367282812,
          -11.001437374428727,
          -3.618593754793063,
          -8.588089467854257,
          -5.656863885768614,
          -9.054994464194326,
          -9.171857927200456,
          -9.075268379782706,
          -7.383563428816636,
          -9.314275894333717,
          -11.722417162815786,
          -8.85699312383905,
          -15.238544797389626,
          10.495452010298129,
          10.169182204735195,
          5.864403616291113,
          5.1089716350698255,
          8.594367369221047,
          0.3307767660561218,
          2.454276533271814,
          0.9657647674400244,
          0.7142641251759222,
          5.322967942460609,
          7.745825325501811,
          0.7953626708574298,
          0.9975296602310036,
          3.2455296521040977,
          4.937331067721156,
          4.10281871868823,
          8.428909535276409,
          -0.4989851425322027,
          1.7658960655772955,
          0.8593293132760956,
          3.3333563106574613,
          1.3768879562694518,
          3.7490581695951977,
          -0.4358180113232077,
          3.910002298531425,
          6.791416579214588,
          -2.480362358160709,
          -3.422166805648052,
          -1.1323744505146651,
          0.6974787956327555,
          -2.418759791635978,
          0.4592905487318843,
          -0.4895982211573971,
          -6.9264989662414616,
          -2.324957097647047,
          0.9193283278549738,
          -5.270179520102274,
          0.5491117173031118,
          -2.029353988640888,
          -3.7271295156702138,
          -7.034875092188207,
          -6.653775306539199,
          -1.7990649856737235,
          0.5442544495353431,
          -6.43611567563333,
          -12.605268767550967,
          -3.3996639765656176,
          -8.597671704975745,
          -10.200931222861977,
          -7.842379473922207,
          -3.6484230133046553,
          -5.445228391458014,
          -7.763810709870802,
          -9.323412045314893,
          -8.489346729096328,
          -4.453373446576991,
          -13.061463609102136,
          -8.246875859796312,
          -6.32371012009198,
          -6.824189053871978,
          -6.915203979064958,
          -17.638641642629143,
          -6.872154616823336,
          -15.628901680345145,
          -15.188829523995764,
          11.968682376820333,
          6.183963132683037,
          6.127371285100465,
          7.594738679980315,
          9.844654981332711,
          1.5132727188965516,
          1.9683824531453569,
          5.104039184216087,
          -0.2611965593401091,
          4.336995054101519,
          3.216569179255636,
          1.5687488950691897,
          6.8713074902448925,
          -0.7535212455599686,
          0.7672305309433626,
          -1.642114276356912,
          0.4715251466056239,
          3.898409250203788,
          -4.300193710657114,
          -1.4878360762031837,
          -0.8575335139745048,
          0.7666987002558768,
          2.7066778787349035,
          -4.536315634893313,
          -0.4854860223927844,
          -0.7849261218813691,
          2.406366324106619,
          -2.3435896784787857,
          -5.138900777250291,
          -2.068491161604143,
          -9.240146866066722,
          -6.545013620687223,
          -0.6335936831583544,
          -6.444324150701335,
          -6.473508649605391,
          -1.059435806987604,
          -3.109651451820038,
          0.515834736800857,
          -5.351151061194634,
          -9.673044001482134,
          -0.9719636350368032,
          -11.24290624477575,
          -9.854069670257603,
          -2.4213540277373022,
          -7.560964634154694,
          -10.42355359521216,
          -10.930374347011032,
          -7.680475537686594,
          -8.271939020473383,
          -9.787828590968353,
          -9.576825836212045,
          -16.460408751233967,
          -13.73879809144612,
          18.810316650353773,
          5.279470044858053,
          0.9257402529213464,
          2.7094907448207395,
          -0.7155811470488439,
          -1.605121631274829,
          8.559695906462276,
          0.4066780784255031,
          -0.8876705408563957,
          0.052266281335079,
          -4.16536232567499,
          -2.9608552832528847,
          1.7389822567550526,
          1.8985559938656,
          6.538053260867099,
          -3.218028814521554,
          -3.4501612217609847,
          2.7201929214425347,
          -5.409475283266342,
          -8.101043025434679,
          -3.915230083791426,
          -0.020846092177838,
          -5.253874062722618,
          -8.957490954378777,
          -5.396414521316027,
          -8.080143370829244,
          -6.447392814273597,
          -10.162884005460704,
          -12.401187185536756,
          -8.515001233156369,
          -11.08513184251739,
          -7.630229952772478,
          -6.826983851108629,
          -14.877536321711252,
          -8.280678020691298,
          -12.679457458361636,
          -8.61615169082131,
          -13.68444465380816,
          10.207524368414864,
          10.768136886181916,
          10.967000500686526,
          3.345804197962812,
          4.988935476557829,
          7.56992886235294,
          -2.8901327325072788,
          2.192237384263686,
          -5.371830246732433,
          -5.280639052231298,
          3.632606854697572,
          -7.345101136775084,
          -3.241294435030189,
          -4.6953024897348055,
          -13.112670222600723,
          -14.879031225376698,
          10.871474201237572,
          3.913776803969159,
          0.6715814609892278,
          -1.0132165730202556,
          5.693196110316385,
          3.463506927854473,
          4.509515453853839,
          -1.9471544179764175,
          1.144192100022718
         ]
        }
       ],
       "layout": {
        "autosize": true,
        "coloraxis": {
         "colorbar": {
          "title": {
           "text": "color"
          }
         },
         "colorscale": [
          [
           0,
           "#0d0887"
          ],
          [
           0.1111111111111111,
           "#46039f"
          ],
          [
           0.2222222222222222,
           "#7201a8"
          ],
          [
           0.3333333333333333,
           "#9c179e"
          ],
          [
           0.4444444444444444,
           "#bd3786"
          ],
          [
           0.5555555555555556,
           "#d8576b"
          ],
          [
           0.6666666666666666,
           "#ed7953"
          ],
          [
           0.7777777777777778,
           "#fb9f3a"
          ],
          [
           0.8888888888888888,
           "#fdca26"
          ],
          [
           1,
           "#f0f921"
          ]
         ]
        },
        "legend": {
         "tracegroupgap": 0
        },
        "margin": {
         "t": 60
        },
        "scene": {
         "aspectmode": "auto",
         "aspectratio": {
          "x": 1.5290583222310752,
          "y": 1.2559354227279265,
          "z": 0.5207252529268884
         },
         "camera": {
          "center": {
           "x": 0,
           "y": 0,
           "z": 0
          },
          "eye": {
           "x": -0.4428125432408797,
           "y": -2.103656533057998,
           "z": 0.25699463510149423
          },
          "projection": {
           "type": "perspective"
          },
          "up": {
           "x": 0,
           "y": 0,
           "z": 1
          }
         },
         "domain": {
          "x": [
           0,
           1
          ],
          "y": [
           0,
           1
          ]
         },
         "xaxis": {
          "title": {
           "text": "XP"
          },
          "type": "linear"
         },
         "yaxis": {
          "title": {
           "text": "YP"
          },
          "type": "linear"
         },
         "zaxis": {
          "title": {
           "text": "ZP"
          },
          "type": "linear"
         }
        },
        "template": {
         "data": {
          "bar": [
           {
            "error_x": {
             "color": "#2a3f5f"
            },
            "error_y": {
             "color": "#2a3f5f"
            },
            "marker": {
             "line": {
              "color": "#E5ECF6",
              "width": 0.5
             },
             "pattern": {
              "fillmode": "overlay",
              "size": 10,
              "solidity": 0.2
             }
            },
            "type": "bar"
           }
          ],
          "barpolar": [
           {
            "marker": {
             "line": {
              "color": "#E5ECF6",
              "width": 0.5
             },
             "pattern": {
              "fillmode": "overlay",
              "size": 10,
              "solidity": 0.2
             }
            },
            "type": "barpolar"
           }
          ],
          "carpet": [
           {
            "aaxis": {
             "endlinecolor": "#2a3f5f",
             "gridcolor": "white",
             "linecolor": "white",
             "minorgridcolor": "white",
             "startlinecolor": "#2a3f5f"
            },
            "baxis": {
             "endlinecolor": "#2a3f5f",
             "gridcolor": "white",
             "linecolor": "white",
             "minorgridcolor": "white",
             "startlinecolor": "#2a3f5f"
            },
            "type": "carpet"
           }
          ],
          "choropleth": [
           {
            "colorbar": {
             "outlinewidth": 0,
             "ticks": ""
            },
            "type": "choropleth"
           }
          ],
          "contour": [
           {
            "colorbar": {
             "outlinewidth": 0,
             "ticks": ""
            },
            "colorscale": [
             [
              0,
              "#0d0887"
             ],
             [
              0.1111111111111111,
              "#46039f"
             ],
             [
              0.2222222222222222,
              "#7201a8"
             ],
             [
              0.3333333333333333,
              "#9c179e"
             ],
             [
              0.4444444444444444,
              "#bd3786"
             ],
             [
              0.5555555555555556,
              "#d8576b"
             ],
             [
              0.6666666666666666,
              "#ed7953"
             ],
             [
              0.7777777777777778,
              "#fb9f3a"
             ],
             [
              0.8888888888888888,
              "#fdca26"
             ],
             [
              1,
              "#f0f921"
             ]
            ],
            "type": "contour"
           }
          ],
          "contourcarpet": [
           {
            "colorbar": {
             "outlinewidth": 0,
             "ticks": ""
            },
            "type": "contourcarpet"
           }
          ],
          "heatmap": [
           {
            "colorbar": {
             "outlinewidth": 0,
             "ticks": ""
            },
            "colorscale": [
             [
              0,
              "#0d0887"
             ],
             [
              0.1111111111111111,
              "#46039f"
             ],
             [
              0.2222222222222222,
              "#7201a8"
             ],
             [
              0.3333333333333333,
              "#9c179e"
             ],
             [
              0.4444444444444444,
              "#bd3786"
             ],
             [
              0.5555555555555556,
              "#d8576b"
             ],
             [
              0.6666666666666666,
              "#ed7953"
             ],
             [
              0.7777777777777778,
              "#fb9f3a"
             ],
             [
              0.8888888888888888,
              "#fdca26"
             ],
             [
              1,
              "#f0f921"
             ]
            ],
            "type": "heatmap"
           }
          ],
          "heatmapgl": [
           {
            "colorbar": {
             "outlinewidth": 0,
             "ticks": ""
            },
            "colorscale": [
             [
              0,
              "#0d0887"
             ],
             [
              0.1111111111111111,
              "#46039f"
             ],
             [
              0.2222222222222222,
              "#7201a8"
             ],
             [
              0.3333333333333333,
              "#9c179e"
             ],
             [
              0.4444444444444444,
              "#bd3786"
             ],
             [
              0.5555555555555556,
              "#d8576b"
             ],
             [
              0.6666666666666666,
              "#ed7953"
             ],
             [
              0.7777777777777778,
              "#fb9f3a"
             ],
             [
              0.8888888888888888,
              "#fdca26"
             ],
             [
              1,
              "#f0f921"
             ]
            ],
            "type": "heatmapgl"
           }
          ],
          "histogram": [
           {
            "marker": {
             "pattern": {
              "fillmode": "overlay",
              "size": 10,
              "solidity": 0.2
             }
            },
            "type": "histogram"
           }
          ],
          "histogram2d": [
           {
            "colorbar": {
             "outlinewidth": 0,
             "ticks": ""
            },
            "colorscale": [
             [
              0,
              "#0d0887"
             ],
             [
              0.1111111111111111,
              "#46039f"
             ],
             [
              0.2222222222222222,
              "#7201a8"
             ],
             [
              0.3333333333333333,
              "#9c179e"
             ],
             [
              0.4444444444444444,
              "#bd3786"
             ],
             [
              0.5555555555555556,
              "#d8576b"
             ],
             [
              0.6666666666666666,
              "#ed7953"
             ],
             [
              0.7777777777777778,
              "#fb9f3a"
             ],
             [
              0.8888888888888888,
              "#fdca26"
             ],
             [
              1,
              "#f0f921"
             ]
            ],
            "type": "histogram2d"
           }
          ],
          "histogram2dcontour": [
           {
            "colorbar": {
             "outlinewidth": 0,
             "ticks": ""
            },
            "colorscale": [
             [
              0,
              "#0d0887"
             ],
             [
              0.1111111111111111,
              "#46039f"
             ],
             [
              0.2222222222222222,
              "#7201a8"
             ],
             [
              0.3333333333333333,
              "#9c179e"
             ],
             [
              0.4444444444444444,
              "#bd3786"
             ],
             [
              0.5555555555555556,
              "#d8576b"
             ],
             [
              0.6666666666666666,
              "#ed7953"
             ],
             [
              0.7777777777777778,
              "#fb9f3a"
             ],
             [
              0.8888888888888888,
              "#fdca26"
             ],
             [
              1,
              "#f0f921"
             ]
            ],
            "type": "histogram2dcontour"
           }
          ],
          "mesh3d": [
           {
            "colorbar": {
             "outlinewidth": 0,
             "ticks": ""
            },
            "type": "mesh3d"
           }
          ],
          "parcoords": [
           {
            "line": {
             "colorbar": {
              "outlinewidth": 0,
              "ticks": ""
             }
            },
            "type": "parcoords"
           }
          ],
          "pie": [
           {
            "automargin": true,
            "type": "pie"
           }
          ],
          "scatter": [
           {
            "fillpattern": {
             "fillmode": "overlay",
             "size": 10,
             "solidity": 0.2
            },
            "type": "scatter"
           }
          ],
          "scatter3d": [
           {
            "line": {
             "colorbar": {
              "outlinewidth": 0,
              "ticks": ""
             }
            },
            "marker": {
             "colorbar": {
              "outlinewidth": 0,
              "ticks": ""
             }
            },
            "type": "scatter3d"
           }
          ],
          "scattercarpet": [
           {
            "marker": {
             "colorbar": {
              "outlinewidth": 0,
              "ticks": ""
             }
            },
            "type": "scattercarpet"
           }
          ],
          "scattergeo": [
           {
            "marker": {
             "colorbar": {
              "outlinewidth": 0,
              "ticks": ""
             }
            },
            "type": "scattergeo"
           }
          ],
          "scattergl": [
           {
            "marker": {
             "colorbar": {
              "outlinewidth": 0,
              "ticks": ""
             }
            },
            "type": "scattergl"
           }
          ],
          "scattermapbox": [
           {
            "marker": {
             "colorbar": {
              "outlinewidth": 0,
              "ticks": ""
             }
            },
            "type": "scattermapbox"
           }
          ],
          "scatterpolar": [
           {
            "marker": {
             "colorbar": {
              "outlinewidth": 0,
              "ticks": ""
             }
            },
            "type": "scatterpolar"
           }
          ],
          "scatterpolargl": [
           {
            "marker": {
             "colorbar": {
              "outlinewidth": 0,
              "ticks": ""
             }
            },
            "type": "scatterpolargl"
           }
          ],
          "scatterternary": [
           {
            "marker": {
             "colorbar": {
              "outlinewidth": 0,
              "ticks": ""
             }
            },
            "type": "scatterternary"
           }
          ],
          "surface": [
           {
            "colorbar": {
             "outlinewidth": 0,
             "ticks": ""
            },
            "colorscale": [
             [
              0,
              "#0d0887"
             ],
             [
              0.1111111111111111,
              "#46039f"
             ],
             [
              0.2222222222222222,
              "#7201a8"
             ],
             [
              0.3333333333333333,
              "#9c179e"
             ],
             [
              0.4444444444444444,
              "#bd3786"
             ],
             [
              0.5555555555555556,
              "#d8576b"
             ],
             [
              0.6666666666666666,
              "#ed7953"
             ],
             [
              0.7777777777777778,
              "#fb9f3a"
             ],
             [
              0.8888888888888888,
              "#fdca26"
             ],
             [
              1,
              "#f0f921"
             ]
            ],
            "type": "surface"
           }
          ],
          "table": [
           {
            "cells": {
             "fill": {
              "color": "#EBF0F8"
             },
             "line": {
              "color": "white"
             }
            },
            "header": {
             "fill": {
              "color": "#C8D4E3"
             },
             "line": {
              "color": "white"
             }
            },
            "type": "table"
           }
          ]
         },
         "layout": {
          "annotationdefaults": {
           "arrowcolor": "#2a3f5f",
           "arrowhead": 0,
           "arrowwidth": 1
          },
          "autotypenumbers": "strict",
          "coloraxis": {
           "colorbar": {
            "outlinewidth": 0,
            "ticks": ""
           }
          },
          "colorscale": {
           "diverging": [
            [
             0,
             "#8e0152"
            ],
            [
             0.1,
             "#c51b7d"
            ],
            [
             0.2,
             "#de77ae"
            ],
            [
             0.3,
             "#f1b6da"
            ],
            [
             0.4,
             "#fde0ef"
            ],
            [
             0.5,
             "#f7f7f7"
            ],
            [
             0.6,
             "#e6f5d0"
            ],
            [
             0.7,
             "#b8e186"
            ],
            [
             0.8,
             "#7fbc41"
            ],
            [
             0.9,
             "#4d9221"
            ],
            [
             1,
             "#276419"
            ]
           ],
           "sequential": [
            [
             0,
             "#0d0887"
            ],
            [
             0.1111111111111111,
             "#46039f"
            ],
            [
             0.2222222222222222,
             "#7201a8"
            ],
            [
             0.3333333333333333,
             "#9c179e"
            ],
            [
             0.4444444444444444,
             "#bd3786"
            ],
            [
             0.5555555555555556,
             "#d8576b"
            ],
            [
             0.6666666666666666,
             "#ed7953"
            ],
            [
             0.7777777777777778,
             "#fb9f3a"
            ],
            [
             0.8888888888888888,
             "#fdca26"
            ],
            [
             1,
             "#f0f921"
            ]
           ],
           "sequentialminus": [
            [
             0,
             "#0d0887"
            ],
            [
             0.1111111111111111,
             "#46039f"
            ],
            [
             0.2222222222222222,
             "#7201a8"
            ],
            [
             0.3333333333333333,
             "#9c179e"
            ],
            [
             0.4444444444444444,
             "#bd3786"
            ],
            [
             0.5555555555555556,
             "#d8576b"
            ],
            [
             0.6666666666666666,
             "#ed7953"
            ],
            [
             0.7777777777777778,
             "#fb9f3a"
            ],
            [
             0.8888888888888888,
             "#fdca26"
            ],
            [
             1,
             "#f0f921"
            ]
           ]
          },
          "colorway": [
           "#636efa",
           "#EF553B",
           "#00cc96",
           "#ab63fa",
           "#FFA15A",
           "#19d3f3",
           "#FF6692",
           "#B6E880",
           "#FF97FF",
           "#FECB52"
          ],
          "font": {
           "color": "#2a3f5f"
          },
          "geo": {
           "bgcolor": "white",
           "lakecolor": "white",
           "landcolor": "#E5ECF6",
           "showlakes": true,
           "showland": true,
           "subunitcolor": "white"
          },
          "hoverlabel": {
           "align": "left"
          },
          "hovermode": "closest",
          "mapbox": {
           "style": "light"
          },
          "paper_bgcolor": "white",
          "plot_bgcolor": "#E5ECF6",
          "polar": {
           "angularaxis": {
            "gridcolor": "white",
            "linecolor": "white",
            "ticks": ""
           },
           "bgcolor": "#E5ECF6",
           "radialaxis": {
            "gridcolor": "white",
            "linecolor": "white",
            "ticks": ""
           }
          },
          "scene": {
           "xaxis": {
            "backgroundcolor": "#E5ECF6",
            "gridcolor": "white",
            "gridwidth": 2,
            "linecolor": "white",
            "showbackground": true,
            "ticks": "",
            "zerolinecolor": "white"
           },
           "yaxis": {
            "backgroundcolor": "#E5ECF6",
            "gridcolor": "white",
            "gridwidth": 2,
            "linecolor": "white",
            "showbackground": true,
            "ticks": "",
            "zerolinecolor": "white"
           },
           "zaxis": {
            "backgroundcolor": "#E5ECF6",
            "gridcolor": "white",
            "gridwidth": 2,
            "linecolor": "white",
            "showbackground": true,
            "ticks": "",
            "zerolinecolor": "white"
           }
          },
          "shapedefaults": {
           "line": {
            "color": "#2a3f5f"
           }
          },
          "ternary": {
           "aaxis": {
            "gridcolor": "white",
            "linecolor": "white",
            "ticks": ""
           },
           "baxis": {
            "gridcolor": "white",
            "linecolor": "white",
            "ticks": ""
           },
           "bgcolor": "#E5ECF6",
           "caxis": {
            "gridcolor": "white",
            "linecolor": "white",
            "ticks": ""
           }
          },
          "title": {
           "x": 0.05
          },
          "xaxis": {
           "automargin": true,
           "gridcolor": "white",
           "linecolor": "white",
           "ticks": "",
           "title": {
            "standoff": 15
           },
           "zerolinecolor": "white",
           "zerolinewidth": 2
          },
          "yaxis": {
           "automargin": true,
           "gridcolor": "white",
           "linecolor": "white",
           "ticks": "",
           "title": {
            "standoff": 15
           },
           "zerolinecolor": "white",
           "zerolinewidth": 2
          }
         }
        }
       }
      },
      "image/png": "[encoded data removed]",
      "text/html": [
       "<div>                            <div id=\"412dfbc8-6690-46e8-843a-6b7490ca7123\" class=\"plotly-graph-div\" style=\"height:525px; width:100%;\"></div>            <script type=\"text/javascript\">                require([\"plotly\"], function(Plotly) {                    window.PLOTLYENV=window.PLOTLYENV || {};                                    if (document.getElementById(\"412dfbc8-6690-46e8-843a-6b7490ca7123\")) {                    Plotly.newPlot(                        \"412dfbc8-6690-46e8-843a-6b7490ca7123\",                        [{\"hovertemplate\":\"XP=%{x}\\u003cbr\\u003eYP=%{y}\\u003cbr\\u003eZP=%{z}\\u003cbr\\u003ecolor=%{marker.color}\\u003cextra\\u003e\\u003c\\u002fextra\\u003e\",\"legendgroup\":\"\",\"marker\":{\"color\":[1.779835410859049,1.3072412007328862,2.855832363470303,1.3751974263873152,2.9623461011902483,3.421543647217702,4.804821111475511,3.086261707454443,3.3882968357731844,2.5886392102430658,0.8919511037493221,2.208034882531795,1.0398916093630646,1.3324380998652947,2.378083163413445,1.6277810447084513,2.7095839506548267,0.21217997849734554,0.6627679407788666,1.2957591987493597,1.9901451291408034,0.8905277869845276,0.835186620129599,0.25162461715268664,1.1400744610486,4.065248105654767,0.9970410741938586,0.282906623623971,0.14788865970753445,0.8732502031222881,1.772114550571616,0.16722255520732976,0.2650531336701335,2.687134758052986,0.7418089151265033,2.7685831497538897,0.7240491706022923,1.1135917708015308,0.5542634308443508,0.22201881876862437,1.5065176140084597,0.7631342635700485,0.7999785358708429,0.85007956238478,0.3020852166422275,0.02407946217308216,1.1205757164821044,0.5798837739740614,0.34815825776672343,1.0313907063196148,0.6105979537703211,0.5495463716420794,1.6824838411778478,0.2999700431612813,0.022273101489812864,1.2830565508222371,0.30358399054208884,0.8773197235816298,0.1372329286706716,0.46307952720041046,0.4380816170189399,0.22463741435668647,1.4337209199840877,1.23951373687684,1.162981967198313,0.7958237005291346,0.752750649831816,0.5641875813775293,0.522258208607585,1.257281965453551,1.5136886032573644,0.7680903749913174,1.1157151071518283,0.8435322107410533,0.5102544657755294,0.2946564169657101,0.06576933387877526,2.4506445574355094,0.22925466206276082,1.2252313547840525,0.5699483482429898,0.6077122412111692,0.9546768892893566,0.01124627939924382,0.10912752423592945,0.48674582118386256,1.4571790631810038,0.8217683619971813,0.0112365737992904,0.1654619720856192,0.644068023419696,3.307115178592299,1.0983293635255496,0.021837252071254833,0.9438003280353339,0.5286530286918475,0.4314133588521838,3.1565983099623685,1.1154345808250026,0.9724257152555735,0.4857146573505111,0.366622138612358,1.5078450183728507,1.0264928571616698,0.335576600644253,0.5966904217410511,0.7828887108022018,0.5050195238748283,0.48603070541235605,0.2962991253913408,0.027188539414280375,1.0636891058635252,0.9975371483516253,1.6350811871608122,0.08475751807901352,0.4483558887546045,0.28394065096690835,0.8672436375513288,1.3322676969834637,0.4245436222971289,0.5633329653939302,0.6339362537366794,0.9221650257895422,0.17585077719673028,0.457126616440104,0.5934224232394529,1.0450094438239783,1.6240807206967538,2.171433732347285,1.2813927982928155,1.3274849581085457,0.47869540368357066,0.9559808437223886,1.108414008929171,1.0218072774645046,0.9581448063484459,0.4455165670634299,0.4517362913298532,0.38577898095969726,0.3004965655528845,0.537754591034174,0.69828489425717,0.273188674745342,0.9382967018617392,0.6700991766322121,0.12051424268323416,1.9101324068087246,0.11530068086289512,0.4564512971539801,0.7274042758812694,0.2162269392866484,0.019670091841382232,0.8949456071276403,0.09804674604864576,0.5106692028799291,0.21015205945667578,0.35088839637114866,1.1504849713383138,0.14879120624107892,1.1291272983065905,0.7319489529708174,0.47205563833015424,0.5287228054073662,0.8047950481651855,1.3688682677964685,0.8610754181680117,1.670763191437664,0.354103777148819,0.323982809792873,1.2953787068608353,0.23093735725986336,1.1993733656673236,1.580777962153697,0.9173341326662391,0.09645230425276369,0.09211062661000446,0.08571670000096535,0.4773414864370718,1.5509148779814463,1.5578563339823606,1.2938425570019694,1.2748423325350946,0.34997137930630406,3.777265573563569,1.0792290431080296,0.3991819237870933,0.553250192338401,0.49369871262711523,0.0949767071555912,0.358051054736397,0.1540409009956165,1.642618190890067,0.5087340662507389,0.05183084166001231,1.3779223134245009,1.9571569291071091,0.8763759437775044,0.9938352684084195,1.4716267533069047,0.17929828216383564,1.158207496614796,1.1353284776862274,0.05004526181105203,0.2219107133478623,0.8058203720067847,0.05823705133597087,0.9142612380129324,0.7526247785556736,0.7861052930556323,0.2676406852732119,0.18683500135744047,0.8404264223431991,1.4915416512295325,0.4835881217449416,0.2837938287986075,0.8701346791943172,0.9929974764516121,0.7795630744406647,0.02228511500238301,0.7518405678002287,0.20677145787794807,0.5266587556990363,0.9138152185687944,0.003611535325709096,0.6615830368496081,0.7118582875493042,0.6435652463662278,0.33699886685911223,0.501995225112244,1.2317165838445303,0.2986624761847815,0.5612108246314312,0.32227928069449846,0.24745453469414994,1.5121252477200093,0.6646027077161765,0.11997803710209985,0.7863704746079481,0.7536569127098556,2.1205859956386446,0.41896194320183366,0.5436016157782236,1.3815165299690515,1.5051849971941342,0.348785753308359,0.8429358135031013,0.662962557261331,0.7295438763067434,1.3052686375999751,1.6628664560864548,0.17593899770072455,1.3015154175740842,0.0014268773646780382,1.1588375465738348,0.9498153980939308,0.8374846614766436,2.846704857348209,0.7193596412787586,0.8854917548873612,0.730151242499336,0.04144743339384072,0.19291019042781388,2.267011929941553,0.6067766689154421,1.451624100935939,0.9244028495093649,0.09205731901049467,0.003493420847957136,0.4577821970728602,0.3974556398171841,0.34254150356404967,0.506471826363722,1.3019194688313471,0.07796702882996571,0.5000575087280221,0.5361971474457263,0.3590170835589463,1.0299327317557292,0.346653764158381,0.16142731672150804,0.6861811957267341,0.4251839829450699,0.015545498884698713,0.26365002694406675,0.5341636507436667,0.016907510467242207,0.5663718143671285,0.5972069456786107,0.9890216206510483,0.4356471252746981,2.8031639797213352,1.6559780782914164,1.1133866067909468,0.1315670668607961,0.43465124410505845,1.6668444815954315,0.0043334613178422484,0.25013153535774346,0.41367228080826557,0.3117211367548398,0.3826491498621183,0.3506339867660975,0.7288207102252254,0.6921105814548111,0.2430431541312973,0.18959546282037665,5.304141528485264,0.4748466267944772,0.26035229100990553,3.8853793274747437,0.06201194696170666,0.03394105842619518,0.3437130535789015,0.05103300417477663,1.6101403433018104,1.1520524187288197,1.159644309319445,4.133210022663933,0.3331423791553771,1.8820439304289645,0.23289348887268635,0.36696962480692996,0.4445355929289615,1.1361074630368324,0.49549020820026807,1.4092354869570778,0.19442449546542534,0.09125260947199185,0.8234511327790045,0.857050002994631,0.4102991914333618,0.8126149211189491,0.6883074534202019,1.208202682812145,0.34191811882891554,0.3399534418301996,0.7761443891230563,0.39810944523162317,0.809003619959722,0.014637127550518181,0.5198681431204877,0.16236348731318515,0.3770783210868758,0.31390544569101064,0.9988598515774777,0.78417255815157,0.5895437078955573,0.5632320413458048,1.4405593829690102,1.5891075176518084,0.15346552840700925,0.8601518980533699,1.6159247521379714,0.5433359041201478,0.5935170449560699,0.9936270336669554,0.27489815676093887,2.7566744520865907,0.41204793502890397,0.29931288724403504,0.46140873309054536,0.9691731082433463,0.09799799097126834,1.1051934549862628,0.17122142097662035,0.6385118068522292,0.08351816268113213,0.21391522827952092,1.7639943616801426,0.3761584899900958,0.1471977098852364,2.323612541232508,0.9159806459747037,1.0319157095757996,0.39373138550739456,1.201015499445871,0.8757840610992703,0.915156953974306,0.5712204072268247,0.9361443092880182,0.8901563837679725,0.2153770054323624],\"coloraxis\":\"coloraxis\",\"symbol\":\"circle\"},\"mode\":\"markers\",\"name\":\"\",\"scene\":\"scene\",\"showlegend\":false,\"x\":[-10.441536594236617,18.909970919600344,28.625946474093105,29.53602274547444,-4.354279471804888,16.08833975810083,-7.081544091748903,-22.13904961262735,25.343598794457257,8.025601175006548,10.155845100188936,-21.72528036938229,21.49917536285918,14.073760561259869,-9.490391713714228,46.32182628851493,1.5906943664489206,-9.749238686314795,30.38376197246025,-11.603608899288242,-1.8323503499728968,18.32639823643348,5.506565144159364,-21.55265550298812,5.129486321292626,15.662044866025983,-23.00849117132168,-27.063035857579937,22.01371204360525,-27.310293055541063,-32.44291952407984,-0.593536284536888,48.86912267842247,-38.51263206270389,-0.2379609304205109,-50.405799474006805,8.90116303824162,-30.452425605253516,37.84332127481318,8.250265926353357,37.89045769874579,-17.902500349569756,-29.8778915615235,-35.28960814526827,40.887149710103074,2.7950964151513733,-46.892454605313645,-40.1948616316499,41.13933521892981,-3.765783266211421,11.627921591278332,-13.5295527685739,-38.52256653129943,39.61614728243846,-16.727849837451306,41.18688114993145,-24.57274666555936,45.73081367455592,30.698666505904043,32.768380985634494,-15.682071539159748,-27.486212059916227,-54.261214920977295,-23.91497265966092,-16.94382777952042,33.79546614622999,39.77705023925336,15.483932676540537,9.044292263515452,28.655783213517942,-10.132972925287536,16.28102209688692,4.024771748317311,17.90940878751802,-11.031388861607356,16.811777449592586,-22.109554598707795,52.76755447570095,46.01802333071504,52.305118278927765,-16.878417364984415,16.207053229418523,-0.2784541818545046,17.633021917576855,35.68512174114909,-13.012360391173548,5.381846521236599,38.14770259569346,-10.970552075031572,-15.324530687458216,44.66706760906848,16.215379433135993,-32.110913457579635,-19.7768113781778,-11.139736100776853,-11.787741346394156,2.249780168039399,49.225893433449095,-3.5938910956200405,-1.623929115639371,30.294390608190987,19.60768670473535,-29.1541587133662,-17.07104586906461,-47.54800475641679,35.80339113035582,-6.574222070905824,-41.174520375577565,5.445165305284292,-12.635401259977405,-18.35493916867288,32.19659276477985,-17.419311011584973,37.96298216442278,-1.4600255346684432,33.76188652744218,30.036999152326235,-6.124315286994246,19.54187472567524,25.039563520156825,11.550308574957318,-13.650682900443142,-9.148976657026896,-23.02690967417154,-36.38626704398312,39.14135983892616,-2.639781378604448,1.9424148424019712,10.548569766191031,26.835592374372748,-14.15949242590885,7.049908839953303,18.85103522841984,-0.7960864507893021,-20.359112913615807,-16.787906332197142,22.58582983304848,25.131547819357205,13.970188547388616,-24.606751035519608,-10.609228500632142,-9.505672870497571,-11.30891680759432,16.301375091296634,3.595716089493622,17.101726280423566,-41.17336220730256,18.402277950448564,2.62230528106556,-15.452793770507265,-5.327353331309875,21.924966503050424,28.196864221398844,17.73294995237773,-11.185860231057037,7.336479091503907,-12.399251805119862,5.8940608630887725,-3.841566344432002,16.47302383431229,0.5206980495042423,11.2640646186673,34.02120114518664,12.006345078226296,9.055652342687903,28.173204475083555,-24.034770304297734,14.474348912119192,-32.21338405082777,7.679951239176612,-42.61826145418613,2.520883815614965,-13.959741567334705,-12.044586277905251,-1.1218124352441348,24.99581965647908,13.755769283008163,0.7747673302723109,45.46874783300433,-17.97709455774424,-3.8022047936575687,-32.101262847044666,-27.616762897272057,12.616180182487616,36.21851606082631,16.74234106694579,3.015469357221858,-28.880563417672672,23.685878795009813,-21.04336982117138,21.46441880955576,-17.77068499148199,3.588068212939524,43.20783183384231,13.395652670174652,-6.7011294595749815,36.28986750318402,27.7899352587748,-4.399803027684972,-20.30098224096161,-5.089804446813658,3.871901687092109,-21.970694084575836,-15.173127462225589,25.73901633250809,4.919440124915049,21.236452716541542,-25.91385199757054,25.70611134754573,12.438824832046658,-8.164921496782448,-4.99844610081596,-36.978586263277386,-43.7838614094252,-9.2006038544202,7.124925560853956,27.610975581025883,-20.13497807077913,-18.787827366223684,20.45727679474769,4.651213216755979,35.50086215946853,25.00865079063911,28.565042502273464,0.8420959940750995,39.27054384099692,19.78760207614067,-8.540146022421359,-32.52049055755943,12.06715280741234,21.00131346427741,27.00820233955268,-32.10112542632654,30.964334475314622,-4.88168862869539,21.180315034198056,-45.83323543762481,3.3407259194062604,10.827716312395095,-13.997674289107357,-24.4494406779819,-8.378832000140687,-10.739800650148904,-18.413423291606787,13.703485882768458,-16.86341238212642,-10.765318516974643,27.684431825795407,8.706291335475763,11.442997058068094,22.21341084295665,-1.040393591730863,-25.7331744280868,-0.2171843915132303,-12.481116426621632,5.579939378760311,9.060177755179232,1.6037475538745058,-6.459462856779379,-29.822048832125013,-13.077841358410623,-2.354940407686076,-7.640004744324822,-17.853783516131955,-7.752185961260262,4.936453612704563,21.123939150702547,-22.64957819320153,18.77531076910442,-9.37995827493398,-0.5102336806359477,-14.296254274989634,18.173229428311345,12.655103449492149,20.01230818020937,-9.024552474768726,-17.795666611143357,-22.342517030928096,29.973988023903505,-26.35587531187417,21.89255186634894,-24.210424658388188,-4.880233543899673,23.475790522231257,-27.574494515678364,-2.133276014279593,-28.109328195840888,-15.039908773952297,26.85773640298006,-22.53317863302533,-8.35212588437084,-5.527230034906472,6.330638554304695,-33.18548151707774,-32.640731016727365,-14.825415384387448,-27.43678273703865,-3.82723576761173,-28.544661516332148,7.928308451623324,-11.614342465033989,-45.353033760575,-8.082826401940684,-36.17298158444544,-12.107084117878546,-10.554845973356567,25.942674851117804,-1.8732774348920636,6.5395235933971705,-21.616429167260943,-28.035723891868845,-1.8238164838255155,-14.396954685644928,-34.564119571544765,3.32681898132361,-5.991003591095808,16.428262592271363,29.5932911674492,-18.5596679576786,-24.98348322848916,-4.3778997512470585,-10.534542940068665,-46.70695790526457,-38.10174615526159,12.81671987666427,0.6489937648450106,-13.76599163362437,-8.48238352720885,-20.774125924208697,-35.239197244358834,-41.22168788325198,27.005115045333373,-50.847463945734376,4.403378097510178,-38.075527260912416,-35.46077951989093,20.980043472801945,22.82365596234626,-25.901319218006865,-25.537412519045983,-22.55842091943022,-7.377661247304264,-2.76010663911862,-26.367762411974923,30.571179896920206,38.5423460817207,-7.374691743483325,14.356506248105989,11.282791115143546,-25.890677027822697,-15.541882311893431,31.79181293978044,2.986726654773815,41.00296771863143,-15.602871656298236,-8.396522648487265,-15.980325554834543,-31.23331780639398,-0.1828321920931933,4.156836382123772,0.3854804220623977,13.550085353888084,13.95533843650137,-14.47149924504404,0.1085952404408121,31.060156009023384,5.869944501333663,8.501135331189692,-25.79173235102787,-22.961636639432196,-30.80990213649897,25.155514242913924,-11.864322671523077,42.310144409293336,-7.011299965488735,-38.55778766440343,22.949134371664726,-5.20583386062941,10.610538013101424,9.459841940096243,31.242369716485133,40.88936548451184],\"y\":[-38.337105972845535,-42.53935000538158,-19.53420679847264,-30.2449488133358,-7.577024618018223,0.8643866744768407,12.461452641447243,-21.528594769577,3.648529052127319,-32.05295819937189,-9.006397737396659,-41.27002688628625,-28.0136469159164,-24.669254020595595,-16.006325526381058,-8.490256953951503,-38.490461793857925,-29.569749666864062,-9.668034605007,1.3299909324223849,23.394992325879983,-36.86145582354955,7.863487256495025,-11.845418679033267,-2.0061601786397976,20.83280532133622,-31.9981913475419,-10.816704522883224,-11.401390768381766,1.9913959770662264,11.296217816459423,-22.867270709865185,-22.012084866455144,-4.471741490694862,3.144143449080333,-10.440904905540307,16.886439607713967,-27.76495620286589,-32.75009254619473,-14.98375969834405,-6.403161201622929,3.79201057520006,-37.89796597638049,-21.27815012573585,-19.519075913820583,15.95876375209352,-35.05543592510642,-16.441900374983664,-26.90366134001524,0.145866138940674,12.753528629915184,22.264258048346957,18.672651516139737,3.5885775209952104,10.960837923581128,12.270743053203098,22.81176513238432,-21.115492029619144,-8.857839313864796,-1.313514326052398,16.18154793850377,-4.264150912788408,12.90886938784253,31.220640313881614,-33.02347948401496,-37.75834146122134,-33.90713967216779,-23.601984090506253,-1.6059274886571313,23.17168266193676,38.81979523267131,-32.64102343239351,-0.4071237150117427,1.430618777686025,12.558745461982172,-11.492605652818655,13.350082945813725,2.1672843941194824,4.4346793575096015,-9.680967646798043,22.001673088451263,35.58159658670291,6.028028292138945,15.050053672168696,-12.17501394396904,-20.019552982499675,-22.03420587478569,-21.3977075031341,22.96453321414163,26.22730875316296,23.49996388891773,-17.88231168995231,28.363174227028487,-4.30024002795627,3.283957185793137,17.438233002743257,16.111760019397607,14.128229985735452,-24.880112646982077,-22.969066094019908,-19.68742748269821,19.784206339157045,41.29864849159611,19.806526137595885,25.441002694079614,-14.098986180411616,24.569110302317704,30.509151433239467,24.66266778455401,-29.02092649127784,-16.046543731327706,17.92596551997844,1.7658675738729142,-3.761613963317288,1.4573509286065909,5.868492020832737,13.243005737940662,31.66280667996086,-4.5282443933406,6.236801239298617,24.989342840334697,30.717424574763125,-26.725467291723064,7.749954730116577,11.357124046338384,5.415352791574981,28.047361033927988,40.36905229897437,4.249644243906012,9.540500311222692,-20.12378104271364,6.283264552626641,7.308348181773372,-7.568457198166341,6.935666267931767,0.547216368338711,-3.392797401108816,0.3337607803468525,21.467833754474704,30.475548165056622,27.18126525436044,5.5295761483764885,-24.498751366491195,-16.68244714616768,-8.944610649297344,-8.999083976190358,14.69575342604931,9.514526288822571,-18.625241752390288,-5.774720639126778,-26.47589009660798,-5.2969871106108855,-4.631982650298305,9.393586668549636,26.31044182098536,-21.71922550655088,-0.2065257312945641,5.735041272629518,-9.142582236203062,-4.927353699583167,-28.99972410208008,-19.475653041935065,9.11253370585434,-33.104921535868094,3.8917772874213714,-15.927170969967811,5.698893079203617,5.226210799583464,-27.752940961954717,21.15824104834312,6.672751313919638,4.446431789950013,-14.656301112450922,-3.468601663534949,12.149597117561052,-3.3968008219829557,19.45004578671517,-22.07583984814863,-13.772981956840686,7.833397521615295,10.912953088965583,10.416465462975935,11.12375100868528,9.832147899586834,18.12062433036084,24.45852378312396,28.48412088895632,-7.871761404337269,19.85563495578178,-4.392776671903022,27.137669228853373,12.945478173184515,10.162276584396944,10.498587787528573,1.1722210281896488,25.676009739114555,24.21666956176485,17.361065291555654,27.994180451808383,22.256088266677512,0.717192710468932,-15.401887969005347,-0.7905287155049388,-27.726878013952337,-7.78247961642216,11.11893666703586,-19.31106517420415,-14.474761728883214,-21.18855932901769,-14.96300874226757,6.473936605712415,7.232417581891826,-32.541582590238775,-26.972454011837403,-9.327555946179524,-5.059685474192508,-2.233054716211062,18.27415013535019,-27.58031000724533,-14.358003138966891,-7.845823000024957,1.381082202490598,-14.36226842095694,7.572251451378776,-15.370285396718868,20.39374355647021,27.85088943685137,-22.88391324008427,-15.265793114910972,-5.168270141502918,6.475421312886768,-8.40625761166208,2.731169123448802,-0.4161481117563508,-25.093586725066963,0.8243032507089477,13.97670849189426,-15.249575443669372,15.332646823025488,7.892391630476346,-9.171479361151462,-13.224449440438809,-16.73114083856122,18.180220859775872,29.848282941517205,-10.136861956409554,-8.643757872315923,22.23255250018528,-1.1275103347382598,-3.7916790759341903,11.851479789615558,20.473961761675785,18.442189427902925,6.915168838869946,9.058901668697702,18.93184155510388,33.800596718718104,2.5282002721535206,21.09530068978976,29.55628913606883,34.98874385775441,35.294891830050794,-23.78668844419114,26.572896029725207,-13.14996213894002,-1.4716756867979424,11.13973667325809,-7.1426017019190855,-21.014560112281195,-7.110109214007606,10.080015578254088,-23.86596492517636,-20.90698514482973,-11.500038567653434,-27.29224842651509,-2.521619736460113,-17.247661011687466,-17.164743738191586,15.246742838863687,-24.08329319885532,-8.662195495782735,-29.976040535138456,-14.493729473684423,13.124835598116228,-32.73898164911063,-4.316526633747851,-18.94927296341525,-7.7891059143640256,16.421975059138738,-20.206613550984624,-3.6654734759173606,-1.2212549174274605,16.603894522776685,-5.44046662269987,-19.980649581646134,11.570347100390387,-29.4891151175276,-10.186604464256718,23.263751163702867,-9.33121154545665,13.100395909160024,20.18574009436271,17.101491784283475,35.71558399893041,21.49246717339678,-22.32856674385293,37.63193143397102,-2.7457047010153954,14.968197684774276,45.3717654713195,23.528013782595952,22.249520288027984,-5.052542090767297,31.35520648356576,27.47120676897522,32.37762381979872,28.445352541851552,11.981538077402409,27.400701656910325,19.734108135719108,-17.627250481824674,-28.909713012517077,-20.25388103131822,-36.75144802481268,-28.24284921327866,30.788892195246028,-11.753815108494909,-17.059333868189864,-8.896964359867253,-33.62403472815808,-22.363840670911127,2.4359578556428847,5.264324390739323,32.12926999235133,-9.227265264285512,-0.1006081035946069,26.026822156834545,-11.493927904263035,-22.43531741710403,-1.760731524087925,19.42494750246804,-4.570828397200564,-15.366736653100435,2.656036900510446,-0.787965909124608,10.41133608839829,-6.866906327902489,-7.184466501048095,19.130927986178374,-5.7120785675548165,19.06171871749426,22.20209402203686,-15.009317603224034,26.013532533530583,7.585888295231357,36.34268807772433,23.11943937653581,-42.51768380936277,-14.356541815191653,27.356884370358344,-6.598755546752081,1.8053919859584748,29.46131808039552,-24.033347992945863,34.18088021754212,-7.721239178092097,-4.830922930938824,29.1894852036845,-14.785338788127923,13.882373088641772,16.242172403092972,-14.270177658178824,-0.1510937475170817,-27.003095445290985,-22.29716467814955,-28.64034617060389,-24.303929932233764,17.240901467842736,8.389299030815787,12.793708622942043,-12.344447644067175,-0.1090939875909275],\"z\":[6.914825889496639,2.615594943986101,11.73929293756104,3.01095398515561,15.837987039558948,17.06337059686578,17.50481918978401,10.73994299788554,14.855332491519624,8.093274770367895,12.69322687454578,-3.5244904441219336,9.145993913706812,11.338935552039937,11.879744656322456,5.879297834947303,0.7709418555299286,9.334171167593915,11.655608956291063,14.922140651047055,13.529318752395582,7.474566487960109,15.226132236339083,10.572585880018872,12.876468620921129,13.842213791837258,6.901554261322567,7.439326837613149,10.752855352646176,12.77387322258619,11.888685855859316,6.178427362521565,-0.2200477318150192,7.578134801371511,13.5123179779786,6.644963452981266,14.73633679634829,6.143977564657347,4.70303765658956,5.4009031371596405,8.803756651680661,10.070719081293952,1.9915231537409464,6.329621863833931,4.858881194305387,10.55128983191792,2.809055875303712,2.8270641823034928,1.6893349840638383,8.264302310464032,11.287091893148178,13.30736195405791,7.617107153218245,6.809465706083456,8.396772011341088,6.410182836226668,9.377701572279708,5.516998589884229,4.4234540126560224,7.218731937668816,10.268447393005593,4.228744868562294,8.014391393574025,6.055822615810247,-8.001140414342032,-1.1133005981667932,-4.039314964527936,1.8379596252634456,3.405368308807307,4.853147522248622,1.9496764214798816,-2.5603518241257843,-0.4854491804665783,3.7965331882114097,6.0478450782425925,-0.2963317409737486,6.10520111692528,-1.5504827727387105,4.470687768294117,-1.5295792028717845,7.917993048457401,3.49765327673393,4.69222052665708,1.2702477315539062,0.6439076398396251,-2.071769855243571,-11.393171245704911,-4.256732931033744,5.55712510313604,2.843757897598078,-4.030170838375248,-10.25267130725995,3.9675972845836,-1.288924366944046,-2.565421480867025,1.911696878207974,0.0704937477464973,0.3747931518456074,-3.741748844192229,-8.346972539187945,-5.789092125135195,1.110387888765986,1.3751727625801138,2.1999451529314245,3.148703132465478,-6.629963847229727,1.777785787159279,-1.691479133940535,-0.5088659966056743,-9.978158195843289,-6.948605437658498,-1.0912112543809869,-1.802391167998736,-8.55121052048266,-1.6805589711751625,-3.4489354953254927,-3.8835633270558474,3.7051053988016034,-5.10754041248672,-5.616191469388184,0.6797100503348326,-0.7379353604296072,-10.167336809546317,-3.656456608665068,-1.7642044581637342,-4.061465206339115,-3.7844394949848303,-2.016953820905618,-9.779535541863892,-8.029409981189499,-13.54420877145067,-8.80328441870128,-9.726384654406957,-14.32850462394549,-9.714269141387213,-11.139564966420751,-12.67727084729636,-10.170258628116551,-8.911784884319975,-9.271330410597562,-7.2469999696056275,-12.752085507105546,8.977999521932572,10.074107445647064,10.390206930068684,10.667182187042576,18.09745304140715,13.9425720418576,6.5490861176291135,10.514810309634024,3.074651857445199,8.272023404811087,8.337073358336259,3.548392083154785,11.253138092277185,5.102767184578609,6.822240476239921,6.660781818351943,3.181839625586155,2.9001898602876928,-1.2984257060746551,2.740750338602614,5.260290169803314,-2.534559173748997,5.799091315238776,-1.3673014049624903,4.925232625682367,1.537528886148014,-4.794480921231947,6.732056720997635,1.9332106335199817,2.859787232323454,-7.473646472706359,-1.0032924750337606,3.082803748486993,-0.8663593622527287,2.391164261535861,-4.372195345930093,-5.079649917081077,-1.5881756107940137,-1.1444636601392917,-2.231378550410684,-0.5035096900266006,-3.8308306521601536,-0.2494765661483051,-0.6605003784133531,0.429854824658138,-8.223816006175733,-4.241267367282812,-11.001437374428727,-3.618593754793063,-8.588089467854257,-5.656863885768614,-9.054994464194326,-9.171857927200456,-9.075268379782706,-7.383563428816636,-9.314275894333717,-11.722417162815786,-8.85699312383905,-15.238544797389626,10.495452010298129,10.169182204735195,5.864403616291113,5.1089716350698255,8.594367369221047,0.3307767660561218,2.454276533271814,0.9657647674400244,0.7142641251759222,5.322967942460609,7.745825325501811,0.7953626708574298,0.9975296602310036,3.2455296521040977,4.937331067721156,4.10281871868823,8.428909535276409,-0.4989851425322027,1.7658960655772955,0.8593293132760956,3.3333563106574613,1.3768879562694518,3.7490581695951977,-0.4358180113232077,3.910002298531425,6.791416579214588,-2.480362358160709,-3.422166805648052,-1.1323744505146651,0.6974787956327555,-2.418759791635978,0.4592905487318843,-0.4895982211573971,-6.9264989662414616,-2.324957097647047,0.9193283278549738,-5.270179520102274,0.5491117173031118,-2.029353988640888,-3.7271295156702138,-7.034875092188207,-6.653775306539199,-1.7990649856737235,0.5442544495353431,-6.43611567563333,-12.605268767550967,-3.3996639765656176,-8.597671704975745,-10.200931222861977,-7.842379473922207,-3.6484230133046553,-5.445228391458014,-7.763810709870802,-9.323412045314893,-8.489346729096328,-4.453373446576991,-13.061463609102136,-8.246875859796312,-6.32371012009198,-6.824189053871978,-6.915203979064958,-17.638641642629143,-6.872154616823336,-15.628901680345145,-15.188829523995764,11.968682376820333,6.183963132683037,6.127371285100465,7.594738679980315,9.844654981332711,1.5132727188965516,1.9683824531453569,5.104039184216087,-0.2611965593401091,4.336995054101519,3.216569179255636,1.5687488950691897,6.8713074902448925,-0.7535212455599686,0.7672305309433626,-1.642114276356912,0.4715251466056239,3.898409250203788,-4.300193710657114,-1.4878360762031837,-0.8575335139745048,0.7666987002558768,2.7066778787349035,-4.536315634893313,-0.4854860223927844,-0.7849261218813691,2.406366324106619,-2.3435896784787857,-5.138900777250291,-2.068491161604143,-9.240146866066722,-6.545013620687223,-0.6335936831583544,-6.444324150701335,-6.473508649605391,-1.059435806987604,-3.109651451820038,0.515834736800857,-5.351151061194634,-9.673044001482134,-0.9719636350368032,-11.24290624477575,-9.854069670257603,-2.4213540277373022,-7.560964634154694,-10.42355359521216,-10.930374347011032,-7.680475537686594,-8.271939020473383,-9.787828590968353,-9.576825836212045,-16.460408751233967,-13.73879809144612,18.810316650353773,5.279470044858053,0.9257402529213464,2.7094907448207395,-0.7155811470488439,-1.605121631274829,8.559695906462276,0.4066780784255031,-0.8876705408563957,0.052266281335079,-4.16536232567499,-2.9608552832528847,1.7389822567550526,1.8985559938656,6.538053260867099,-3.218028814521554,-3.4501612217609847,2.7201929214425347,-5.409475283266342,-8.101043025434679,-3.915230083791426,-0.020846092177838,-5.253874062722618,-8.957490954378777,-5.396414521316027,-8.080143370829244,-6.447392814273597,-10.162884005460704,-12.401187185536756,-8.515001233156369,-11.08513184251739,-7.630229952772478,-6.826983851108629,-14.877536321711252,-8.280678020691298,-12.679457458361636,-8.61615169082131,-13.68444465380816,10.207524368414864,10.768136886181916,10.967000500686526,3.345804197962812,4.988935476557829,7.56992886235294,-2.8901327325072788,2.192237384263686,-5.371830246732433,-5.280639052231298,3.632606854697572,-7.345101136775084,-3.241294435030189,-4.6953024897348055,-13.112670222600723,-14.879031225376698,10.871474201237572,3.913776803969159,0.6715814609892278,-1.0132165730202556,5.693196110316385,3.463506927854473,4.509515453853839,-1.9471544179764175,1.144192100022718],\"type\":\"scatter3d\"}],                        {\"template\":{\"data\":{\"histogram2dcontour\":[{\"type\":\"histogram2dcontour\",\"colorbar\":{\"outlinewidth\":0,\"ticks\":\"\"},\"colorscale\":[[0.0,\"#0d0887\"],[0.1111111111111111,\"#46039f\"],[0.2222222222222222,\"#7201a8\"],[0.3333333333333333,\"#9c179e\"],[0.4444444444444444,\"#bd3786\"],[0.5555555555555556,\"#d8576b\"],[0.6666666666666666,\"#ed7953\"],[0.7777777777777778,\"#fb9f3a\"],[0.8888888888888888,\"#fdca26\"],[1.0,\"#f0f921\"]]}],\"choropleth\":[{\"type\":\"choropleth\",\"colorbar\":{\"outlinewidth\":0,\"ticks\":\"\"}}],\"histogram2d\":[{\"type\":\"histogram2d\",\"colorbar\":{\"outlinewidth\":0,\"ticks\":\"\"},\"colorscale\":[[0.0,\"#0d0887\"],[0.1111111111111111,\"#46039f\"],[0.2222222222222222,\"#7201a8\"],[0.3333333333333333,\"#9c179e\"],[0.4444444444444444,\"#bd3786\"],[0.5555555555555556,\"#d8576b\"],[0.6666666666666666,\"#ed7953\"],[0.7777777777777778,\"#fb9f3a\"],[0.8888888888888888,\"#fdca26\"],[1.0,\"#f0f921\"]]}],\"heatmap\":[{\"type\":\"heatmap\",\"colorbar\":{\"outlinewidth\":0,\"ticks\":\"\"},\"colorscale\":[[0.0,\"#0d0887\"],[0.1111111111111111,\"#46039f\"],[0.2222222222222222,\"#7201a8\"],[0.3333333333333333,\"#9c179e\"],[0.4444444444444444,\"#bd3786\"],[0.5555555555555556,\"#d8576b\"],[0.6666666666666666,\"#ed7953\"],[0.7777777777777778,\"#fb9f3a\"],[0.8888888888888888,\"#fdca26\"],[1.0,\"#f0f921\"]]}],\"heatmapgl\":[{\"type\":\"heatmapgl\",\"colorbar\":{\"outlinewidth\":0,\"ticks\":\"\"},\"colorscale\":[[0.0,\"#0d0887\"],[0.1111111111111111,\"#46039f\"],[0.2222222222222222,\"#7201a8\"],[0.3333333333333333,\"#9c179e\"],[0.4444444444444444,\"#bd3786\"],[0.5555555555555556,\"#d8576b\"],[0.6666666666666666,\"#ed7953\"],[0.7777777777777778,\"#fb9f3a\"],[0.8888888888888888,\"#fdca26\"],[1.0,\"#f0f921\"]]}],\"contourcarpet\":[{\"type\":\"contourcarpet\",\"colorbar\":{\"outlinewidth\":0,\"ticks\":\"\"}}],\"contour\":[{\"type\":\"contour\",\"colorbar\":{\"outlinewidth\":0,\"ticks\":\"\"},\"colorscale\":[[0.0,\"#0d0887\"],[0.1111111111111111,\"#46039f\"],[0.2222222222222222,\"#7201a8\"],[0.3333333333333333,\"#9c179e\"],[0.4444444444444444,\"#bd3786\"],[0.5555555555555556,\"#d8576b\"],[0.6666666666666666,\"#ed7953\"],[0.7777777777777778,\"#fb9f3a\"],[0.8888888888888888,\"#fdca26\"],[1.0,\"#f0f921\"]]}],\"surface\":[{\"type\":\"surface\",\"colorbar\":{\"outlinewidth\":0,\"ticks\":\"\"},\"colorscale\":[[0.0,\"#0d0887\"],[0.1111111111111111,\"#46039f\"],[0.2222222222222222,\"#7201a8\"],[0.3333333333333333,\"#9c179e\"],[0.4444444444444444,\"#bd3786\"],[0.5555555555555556,\"#d8576b\"],[0.6666666666666666,\"#ed7953\"],[0.7777777777777778,\"#fb9f3a\"],[0.8888888888888888,\"#fdca26\"],[1.0,\"#f0f921\"]]}],\"mesh3d\":[{\"type\":\"mesh3d\",\"colorbar\":{\"outlinewidth\":0,\"ticks\":\"\"}}],\"scatter\":[{\"fillpattern\":{\"fillmode\":\"overlay\",\"size\":10,\"solidity\":0.2},\"type\":\"scatter\"}],\"parcoords\":[{\"type\":\"parcoords\",\"line\":{\"colorbar\":{\"outlinewidth\":0,\"ticks\":\"\"}}}],\"scatterpolargl\":[{\"type\":\"scatterpolargl\",\"marker\":{\"colorbar\":{\"outlinewidth\":0,\"ticks\":\"\"}}}],\"bar\":[{\"error_x\":{\"color\":\"#2a3f5f\"},\"error_y\":{\"color\":\"#2a3f5f\"},\"marker\":{\"line\":{\"color\":\"#E5ECF6\",\"width\":0.5},\"pattern\":{\"fillmode\":\"overlay\",\"size\":10,\"solidity\":0.2}},\"type\":\"bar\"}],\"scattergeo\":[{\"type\":\"scattergeo\",\"marker\":{\"colorbar\":{\"outlinewidth\":0,\"ticks\":\"\"}}}],\"scatterpolar\":[{\"type\":\"scatterpolar\",\"marker\":{\"colorbar\":{\"outlinewidth\":0,\"ticks\":\"\"}}}],\"histogram\":[{\"marker\":{\"pattern\":{\"fillmode\":\"overlay\",\"size\":10,\"solidity\":0.2}},\"type\":\"histogram\"}],\"scattergl\":[{\"type\":\"scattergl\",\"marker\":{\"colorbar\":{\"outlinewidth\":0,\"ticks\":\"\"}}}],\"scatter3d\":[{\"type\":\"scatter3d\",\"line\":{\"colorbar\":{\"outlinewidth\":0,\"ticks\":\"\"}},\"marker\":{\"colorbar\":{\"outlinewidth\":0,\"ticks\":\"\"}}}],\"scattermapbox\":[{\"type\":\"scattermapbox\",\"marker\":{\"colorbar\":{\"outlinewidth\":0,\"ticks\":\"\"}}}],\"scatterternary\":[{\"type\":\"scatterternary\",\"marker\":{\"colorbar\":{\"outlinewidth\":0,\"ticks\":\"\"}}}],\"scattercarpet\":[{\"type\":\"scattercarpet\",\"marker\":{\"colorbar\":{\"outlinewidth\":0,\"ticks\":\"\"}}}],\"carpet\":[{\"aaxis\":{\"endlinecolor\":\"#2a3f5f\",\"gridcolor\":\"white\",\"linecolor\":\"white\",\"minorgridcolor\":\"white\",\"startlinecolor\":\"#2a3f5f\"},\"baxis\":{\"endlinecolor\":\"#2a3f5f\",\"gridcolor\":\"white\",\"linecolor\":\"white\",\"minorgridcolor\":\"white\",\"startlinecolor\":\"#2a3f5f\"},\"type\":\"carpet\"}],\"table\":[{\"cells\":{\"fill\":{\"color\":\"#EBF0F8\"},\"line\":{\"color\":\"white\"}},\"header\":{\"fill\":{\"color\":\"#C8D4E3\"},\"line\":{\"color\":\"white\"}},\"type\":\"table\"}],\"barpolar\":[{\"marker\":{\"line\":{\"color\":\"#E5ECF6\",\"width\":0.5},\"pattern\":{\"fillmode\":\"overlay\",\"size\":10,\"solidity\":0.2}},\"type\":\"barpolar\"}],\"pie\":[{\"automargin\":true,\"type\":\"pie\"}]},\"layout\":{\"autotypenumbers\":\"strict\",\"colorway\":[\"#636efa\",\"#EF553B\",\"#00cc96\",\"#ab63fa\",\"#FFA15A\",\"#19d3f3\",\"#FF6692\",\"#B6E880\",\"#FF97FF\",\"#FECB52\"],\"font\":{\"color\":\"#2a3f5f\"},\"hovermode\":\"closest\",\"hoverlabel\":{\"align\":\"left\"},\"paper_bgcolor\":\"white\",\"plot_bgcolor\":\"#E5ECF6\",\"polar\":{\"bgcolor\":\"#E5ECF6\",\"angularaxis\":{\"gridcolor\":\"white\",\"linecolor\":\"white\",\"ticks\":\"\"},\"radialaxis\":{\"gridcolor\":\"white\",\"linecolor\":\"white\",\"ticks\":\"\"}},\"ternary\":{\"bgcolor\":\"#E5ECF6\",\"aaxis\":{\"gridcolor\":\"white\",\"linecolor\":\"white\",\"ticks\":\"\"},\"baxis\":{\"gridcolor\":\"white\",\"linecolor\":\"white\",\"ticks\":\"\"},\"caxis\":{\"gridcolor\":\"white\",\"linecolor\":\"white\",\"ticks\":\"\"}},\"coloraxis\":{\"colorbar\":{\"outlinewidth\":0,\"ticks\":\"\"}},\"colorscale\":{\"sequential\":[[0.0,\"#0d0887\"],[0.1111111111111111,\"#46039f\"],[0.2222222222222222,\"#7201a8\"],[0.3333333333333333,\"#9c179e\"],[0.4444444444444444,\"#bd3786\"],[0.5555555555555556,\"#d8576b\"],[0.6666666666666666,\"#ed7953\"],[0.7777777777777778,\"#fb9f3a\"],[0.8888888888888888,\"#fdca26\"],[1.0,\"#f0f921\"]],\"sequentialminus\":[[0.0,\"#0d0887\"],[0.1111111111111111,\"#46039f\"],[0.2222222222222222,\"#7201a8\"],[0.3333333333333333,\"#9c179e\"],[0.4444444444444444,\"#bd3786\"],[0.5555555555555556,\"#d8576b\"],[0.6666666666666666,\"#ed7953\"],[0.7777777777777778,\"#fb9f3a\"],[0.8888888888888888,\"#fdca26\"],[1.0,\"#f0f921\"]],\"diverging\":[[0,\"#8e0152\"],[0.1,\"#c51b7d\"],[0.2,\"#de77ae\"],[0.3,\"#f1b6da\"],[0.4,\"#fde0ef\"],[0.5,\"#f7f7f7\"],[0.6,\"#e6f5d0\"],[0.7,\"#b8e186\"],[0.8,\"#7fbc41\"],[0.9,\"#4d9221\"],[1,\"#276419\"]]},\"xaxis\":{\"gridcolor\":\"white\",\"linecolor\":\"white\",\"ticks\":\"\",\"title\":{\"standoff\":15},\"zerolinecolor\":\"white\",\"automargin\":true,\"zerolinewidth\":2},\"yaxis\":{\"gridcolor\":\"white\",\"linecolor\":\"white\",\"ticks\":\"\",\"title\":{\"standoff\":15},\"zerolinecolor\":\"white\",\"automargin\":true,\"zerolinewidth\":2},\"scene\":{\"xaxis\":{\"backgroundcolor\":\"#E5ECF6\",\"gridcolor\":\"white\",\"linecolor\":\"white\",\"showbackground\":true,\"ticks\":\"\",\"zerolinecolor\":\"white\",\"gridwidth\":2},\"yaxis\":{\"backgroundcolor\":\"#E5ECF6\",\"gridcolor\":\"white\",\"linecolor\":\"white\",\"showbackground\":true,\"ticks\":\"\",\"zerolinecolor\":\"white\",\"gridwidth\":2},\"zaxis\":{\"backgroundcolor\":\"#E5ECF6\",\"gridcolor\":\"white\",\"linecolor\":\"white\",\"showbackground\":true,\"ticks\":\"\",\"zerolinecolor\":\"white\",\"gridwidth\":2}},\"shapedefaults\":{\"line\":{\"color\":\"#2a3f5f\"}},\"annotationdefaults\":{\"arrowcolor\":\"#2a3f5f\",\"arrowhead\":0,\"arrowwidth\":1},\"geo\":{\"bgcolor\":\"white\",\"landcolor\":\"#E5ECF6\",\"subunitcolor\":\"white\",\"showland\":true,\"showlakes\":true,\"lakecolor\":\"white\"},\"title\":{\"x\":0.05},\"mapbox\":{\"style\":\"light\"}}},\"scene\":{\"domain\":{\"x\":[0.0,1.0],\"y\":[0.0,1.0]},\"xaxis\":{\"title\":{\"text\":\"XP\"}},\"yaxis\":{\"title\":{\"text\":\"YP\"}},\"zaxis\":{\"title\":{\"text\":\"ZP\"}}},\"coloraxis\":{\"colorbar\":{\"title\":{\"text\":\"color\"}},\"colorscale\":[[0.0,\"#0d0887\"],[0.1111111111111111,\"#46039f\"],[0.2222222222222222,\"#7201a8\"],[0.3333333333333333,\"#9c179e\"],[0.4444444444444444,\"#bd3786\"],[0.5555555555555556,\"#d8576b\"],[0.6666666666666666,\"#ed7953\"],[0.7777777777777778,\"#fb9f3a\"],[0.8888888888888888,\"#fdca26\"],[1.0,\"#f0f921\"]]},\"legend\":{\"tracegroupgap\":0},\"margin\":{\"t\":60}},                        {\"responsive\": true}                    ).then(function(){\n",
       "                            \n",
       "var gd = document.getElementById('412dfbc8-6690-46e8-843a-6b7490ca7123');\n",
       "var x = new MutationObserver(function (mutations, observer) {{\n",
       "        var display = window.getComputedStyle(gd).display;\n",
       "        if (!display || display === 'none') {{\n",
       "            console.log([gd, 'removed!']);\n",
       "            Plotly.purge(gd);\n",
       "            observer.disconnect();\n",
       "        }}\n",
       "}});\n",
       "\n",
       "// Listen for the removal of the full notebook cells\n",
       "var notebookContainer = gd.closest('#notebook-container');\n",
       "if (notebookContainer) {{\n",
       "    x.observe(notebookContainer, {childList: true});\n",
       "}}\n",
       "\n",
       "// Listen for the clearing of the current output cell\n",
       "var outputEl = gd.closest('.output');\n",
       "if (outputEl) {{\n",
       "    x.observe(outputEl, {childList: true});\n",
       "}}\n",
       "\n",
       "                        })                };                });            </script>        </div>"
      ]
     },
     "metadata": {},
     "output_type": "display_data"
    }
   ],
   "source": [
    "from sklearn.neighbors import KDTree\n",
    "\n",
    "# quick pass to remove extreme outliers\n",
    "k_nn = 25\n",
    "\n",
    "tree = KDTree(fin_df_c[[\"X\", \"Y\", \"Z\"]].to_numpy())\n",
    "dist, ind = tree.query(fin_df_c[[\"X\", \"Y\", \"Z\"]].to_numpy(), k=k_nn + 1)\n",
    "\n",
    "# get avg neighbor distance\n",
    "nn_mean = np.mean(dist, axis=0)\n",
    "nn_scale_vec = np.mean(dist[:, 1:3], axis=1)\n",
    "\n",
    "# average NN dist to get spatially smoothed estimate for inter-nucleus spacing\n",
    "nn_dist_array = nn_scale_vec[ind[:, 1:]]\n",
    "se = np.std(nn_dist_array, axis=1)\n",
    "mu = np.mean(nn_dist_array, axis=1)\n",
    "out_flags = np.divide(np.abs(nn_scale_vec - mu) , se)\n",
    "\n",
    "# nn_scale_vec.shape\n",
    "\n",
    "fig = px.scatter_3d(fin_df_c, x=\"XP\", y=\"YP\", z=\"ZP\", color=out_flags)\n",
    "fig.show()"
   ]
  },
  {
   "cell_type": "code",
   "execution_count": 24,
   "id": "d8e15fa1-b92d-487c-b647-a386819277a6",
   "metadata": {},
   "outputs": [
    {
     "data": {
      "text/plain": [
       "array([  1,  21,  71, 163, 274,  65,   9, 324,  12,   3,  16, 376,  67,\n",
       "        13,  38, 272, 268, 208, 160, 206,  66, 155, 161,   2, 100, 143])"
      ]
     },
     "execution_count": 24,
     "metadata": {},
     "output_type": "execute_result"
    }
   ],
   "source": [
    "ind[1, :]"
   ]
  },
  {
   "cell_type": "code",
   "execution_count": null,
   "id": "d92fc801-267e-4d61-81bd-8a9f9a574ef4",
   "metadata": {},
   "outputs": [],
   "source": []
  }
 ],
 "metadata": {
  "kernelspec": {
   "display_name": "Python (meshing)",
   "language": "python",
   "name": "meshing"
  },
  "language_info": {
   "codemirror_mode": {
    "name": "ipython",
    "version": 3
   },
   "file_extension": ".py",
   "mimetype": "text/x-python",
   "name": "python",
   "nbconvert_exporter": "python",
   "pygments_lexer": "ipython3",
   "version": "3.12.2"
  }
 },
 "nbformat": 4,
 "nbformat_minor": 5
}
