{
 "cells": [
  {
   "cell_type": "code",
   "execution_count": 1,
   "id": "92c8bfcd-f710-4c3e-a6ac-f5a0eea113c3",
   "metadata": {},
   "outputs": [],
   "source": [
    "import flowshape as fs\n",
    "import igl\n",
    "import numpy as np\n",
    "import meshplot as mp\n",
    "import os\n",
    "import pandas as pd\n",
    "from src.utilities.fin_shape_utils import plot_mesh\n",
    "from src.utilities.fin_class_def import FinData\n",
    "from src.utilities.functions import path_leaf\n",
    "import glob2 as glob\n",
    "import meshplot as mp\n",
    "import trimesh"
   ]
  },
  {
   "cell_type": "markdown",
   "id": "b8241cfc-05d1-488b-b346-a2a436f6a2fe",
   "metadata": {},
   "source": [
    "## We're just gonna go for it!"
   ]
  },
  {
   "cell_type": "markdown",
   "id": "f7a673ae-5a8b-49e6-943d-972616c01c49",
   "metadata": {},
   "source": [
    "### Load fin data"
   ]
  },
  {
   "cell_type": "code",
   "execution_count": 5,
   "id": "fe2191ac-77f5-448f-969e-9850fde8372d",
   "metadata": {},
   "outputs": [],
   "source": [
    "# get list of refined fin mesh objects\n",
    "root = \"/media/nick/hdd02/Cole Trapnell's Lab Dropbox/Nick Lammers/Nick/pecfin_dynamics/\"\n",
    "fin_mesh_list = sorted(glob.glob(os.path.join(root, \"point_cloud_data\", \"processed_fin_data\", \"*smoothed_fin_mesh*\")))\n",
    "\n",
    "# load metadata\n",
    "metadata_df = pd.read_csv(os.path.join(root, \"metadata\", \"master_metadata.csv\"))\n",
    "metadata_df[\"experiment_date\"] = metadata_df[\"experiment_date\"].astype(str)\n",
    "metadata_df.head()\n",
    "\n",
    "# make savedir \n",
    "save_dir = os.path.join(root, \"point_cloud_data\", \"SH_analysis\", \"\")\n",
    "y_subdir = os.path.join(save_dir, \"Y_matrices\")\n",
    "if not os.path.isdir(y_subdir):\n",
    "    os.makedirs(y_subdir)"
   ]
  },
  {
   "cell_type": "markdown",
   "id": "58cfc7da-b4dd-4d81-84a2-47c1925658d3",
   "metadata": {},
   "source": [
    "### This is the norm utility in flowshape, but returns info I need for recovering original fin"
   ]
  },
  {
   "cell_type": "code",
   "execution_count": 6,
   "id": "91149cd4-7bd3-466a-b7d3-d9c3d9dee5b3",
   "metadata": {},
   "outputs": [],
   "source": [
    "from numpy.linalg import norm\n",
    "\n",
    "def norm_verbose(verts):\n",
    "    centroid = np.mean(verts, axis=0)\n",
    "    verts -= centroid\n",
    "    radii = norm(verts, axis=1)\n",
    "\n",
    "    m = np.amax(radii)\n",
    "\n",
    "    verts /= m\n",
    "    return verts, centroid, m"
   ]
  },
  {
   "cell_type": "markdown",
   "id": "85e6d211-1401-42e6-baf9-8b36538b9eb4",
   "metadata": {},
   "source": [
    "### Iterate through fin meshes"
   ]
  },
  {
   "cell_type": "code",
   "execution_count": 7,
   "id": "0386a36b-d471-4fc4-a1ad-c68b9ee65810",
   "metadata": {},
   "outputs": [],
   "source": [
    "# make col names to keep track of SH coefficients\n",
    "\n",
    "def get_sh_colnames(max_degree):\n",
    "\n",
    "    col_names = []\n",
    "    \n",
    "    for l in range(max_degree):\n",
    "        \n",
    "        i1 = l**2\n",
    "        i2 = (l + 1) ** 2\n",
    "    \n",
    "        for m in range(i1, i2):\n",
    "            col_name = f\"sh_l{l:03}_m{m-i1:03}\"\n",
    "            col_names.append(col_name)\n",
    "            \n",
    "    return col_names\n"
   ]
  },
  {
   "cell_type": "code",
   "execution_count": 19,
   "id": "99db1539-ca52-4242-8202-6c602b8d3e80",
   "metadata": {},
   "outputs": [
    {
     "name": "stderr",
     "output_type": "stream",
     "text": [
      "  0%|          | 0/117 [00:00<?, ?it/s]"
     ]
    },
    {
     "name": "stdout",
     "output_type": "stream",
     "text": [
      "WARNING: percentage of flipped faces: 34.78260869565217\n"
     ]
    },
    {
     "name": "stderr",
     "output_type": "stream",
     "text": [
      " 72%|███████▏  | 84/117 [03:28<01:22,  2.51s/it]"
     ]
    },
    {
     "name": "stdout",
     "output_type": "stream",
     "text": [
      "WARNING: percentage of flipped faces: 0.1600640256102441\n"
     ]
    },
    {
     "name": "stderr",
     "output_type": "stream",
     "text": [
      " 79%|███████▉  | 93/117 [03:51<01:01,  2.56s/it]"
     ]
    },
    {
     "name": "stdout",
     "output_type": "stream",
     "text": [
      "WARNING: percentage of flipped faces: 0.08061265618702136\n"
     ]
    },
    {
     "name": "stderr",
     "output_type": "stream",
     "text": [
      " 85%|████████▍ | 99/117 [04:06<00:45,  2.52s/it]"
     ]
    },
    {
     "name": "stdout",
     "output_type": "stream",
     "text": [
      "WARNING: percentage of flipped faces: 1.0817307692307692\n"
     ]
    },
    {
     "name": "stderr",
     "output_type": "stream",
     "text": [
      " 91%|█████████ | 106/117 [04:24<00:27,  2.52s/it]"
     ]
    },
    {
     "name": "stdout",
     "output_type": "stream",
     "text": [
      "WARNING: percentage of flipped faces: 0.08003201280512205\n"
     ]
    },
    {
     "name": "stderr",
     "output_type": "stream",
     "text": [
      " 91%|█████████▏| 107/117 [04:27<00:25,  2.52s/it]"
     ]
    },
    {
     "name": "stdout",
     "output_type": "stream",
     "text": [
      "WARNING: percentage of flipped faces: 1.8036072144288577\n"
     ]
    },
    {
     "name": "stderr",
     "output_type": "stream",
     "text": [
      " 92%|█████████▏| 108/117 [04:29<00:22,  2.52s/it]"
     ]
    },
    {
     "name": "stdout",
     "output_type": "stream",
     "text": [
      "WARNING: percentage of flipped faces: 0.3201280512204882\n"
     ]
    },
    {
     "name": "stderr",
     "output_type": "stream",
     "text": [
      "100%|██████████| 117/117 [04:52<00:00,  2.50s/it]\n"
     ]
    }
   ],
   "source": [
    "from tqdm import tqdm\n",
    "\n",
    "max_degree = 30\n",
    "\n",
    "# df_list = []\n",
    "for file_ind, file_path in enumerate(tqdm(fin_mesh_list[107:])):\n",
    "    # get colnames\n",
    "    sh_colnames = get_sh_colnames(max_degree)\n",
    "    \n",
    "    # extract relevant metadata\n",
    "    fname = os.path.basename(file_path)\n",
    "    well_ind = fname.find(\"well\")\n",
    "    date_string = fname[:well_ind-1]\n",
    "    well_num = int(fname[well_ind+4:well_ind+8])\n",
    "    time_ind = fname.find(\"time\")\n",
    "    time_num = int(fname[time_ind+4:time_ind+8])\n",
    "    \n",
    "    # match this to a row in the metadata df\n",
    "    date_ft = metadata_df[\"experiment_date\"] == date_string\n",
    "    well_ft = metadata_df[\"well_index\"] == well_num\n",
    "    time_ft = metadata_df[\"time_index\"] == time_num\n",
    "    \n",
    "    meta_temp = metadata_df.loc[date_ft & well_ft & time_ft, :].reset_index(drop=True)\n",
    "\n",
    "    cv = meta_temp.loc[0, \"chem_i\"]\n",
    "    if isinstance(cv, str):\n",
    "        cvs = cv.split(\"_\")\n",
    "        chem_id = cvs[0]\n",
    "        chem_time = int(cvs[1])\n",
    "    else:\n",
    "        chem_id = \"WT\"\n",
    "        chem_time = np.nan\n",
    "    meta_temp.loc[0, \"chem_id\"] = chem_id\n",
    "    meta_temp.loc[0, \"chem_time\"] = chem_time\n",
    "    \n",
    "    # make temp DF to store results\n",
    "    \n",
    "    # load mesh\n",
    "    try:\n",
    "        fin_mesh = trimesh.load(file_path)\n",
    "        f, v = fin_mesh.faces.copy(), fin_mesh.vertices.copy()\n",
    "        \n",
    "        # normalize\n",
    "        vn, mu, m = norm_verbose(v.copy())\n",
    "        \n",
    "        # perform SH decomposition\n",
    "        weights, Y_mat, vs = fs.do_mapping(vn, f, l_max=max_degree)\n",
    "        \n",
    "        # store results\n",
    "        meta_temp.loc[0, \"scale\"] = m.copy()\n",
    "        meta_temp.loc[0, [\"xc\", \"yc\", \"zc\"]] = mu.copy()\n",
    "        meta_temp.loc[0, sh_colnames] = weights.copy()\n",
    "    \n",
    "        df_list.append(meta_temp)\n",
    "    \n",
    "        # save Y\n",
    "        yname = fname\n",
    "        yname.replace(\"_smoothed_fin_mesh.obj\", \"y_mat.npy\")\n",
    "        np.save(os.path.join(y_subdir, yname), Y_mat)\n",
    "    except:\n",
    "        pass\n",
    "\n",
    "SH_df = pd.concat(df_list, axis=0, ignore_index=True)\n",
    "SH_df.to_csv(os.path.join(save_dir, \"fin_sh_df.csv\"), index=False)"
   ]
  },
  {
   "cell_type": "code",
   "execution_count": null,
   "id": "3e2fa904-5bbc-4a28-8076-ea5fe3b19c34",
   "metadata": {},
   "outputs": [],
   "source": []
  }
 ],
 "metadata": {
  "kernelspec": {
   "display_name": "Python (flowshape-env)",
   "language": "python",
   "name": "flowshape-env"
  },
  "language_info": {
   "codemirror_mode": {
    "name": "ipython",
    "version": 3
   },
   "file_extension": ".py",
   "mimetype": "text/x-python",
   "name": "python",
   "nbconvert_exporter": "python",
   "pygments_lexer": "ipython3",
   "version": "3.10.15"
  }
 },
 "nbformat": 4,
 "nbformat_minor": 5
}
