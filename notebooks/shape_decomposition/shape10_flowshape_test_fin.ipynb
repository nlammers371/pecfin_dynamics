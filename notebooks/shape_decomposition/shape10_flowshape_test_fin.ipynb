{
 "cells": [
  {
   "cell_type": "code",
   "execution_count": 1,
   "id": "92c8bfcd-f710-4c3e-a6ac-f5a0eea113c3",
   "metadata": {},
   "outputs": [],
   "source": [
    "import flowshape as fs\n",
    "import igl\n",
    "import numpy as np\n",
    "import meshplot as mp\n",
    "import os\n",
    "from src.utilities.fin_shape_utils import fit_fin_hull, upsample_fin_point_cloud, plot_mesh\n",
    "from src.utilities.fin_class_def import FinData\n",
    "from src.utilities.functions import path_leaf\n",
    "import glob2 as glob"
   ]
  },
  {
   "cell_type": "markdown",
   "id": "f7a673ae-5a8b-49e6-943d-972616c01c49",
   "metadata": {},
   "source": [
    "### Load fin data"
   ]
  },
  {
   "cell_type": "code",
   "execution_count": 2,
   "id": "fe2191ac-77f5-448f-969e-9850fde8372d",
   "metadata": {},
   "outputs": [
    {
     "name": "stdout",
     "output_type": "stream",
     "text": [
      "20240711_02_well0053_time0000\n"
     ]
    }
   ],
   "source": [
    "# root = \"/Users/nick/Cole Trapnell's Lab Dropbox/Nick Lammers/Nick/pecfin_dynamics/\"\n",
    "root = \"/media/nick/hdd02/Cole Trapnell's Lab Dropbox/Nick Lammers/Nick/pecfin_dynamics/\"\n",
    "fin_object_path = os.path.join(root, \"point_cloud_data\", \"fin_objects\", \"\")\n",
    "fin_object_list = sorted(glob.glob(fin_object_path + \"*.pkl\"))\n",
    "\n",
    "file_ind01 = 146\n",
    "seg_type = \"tissue_only_best_model_tissue\"\n",
    "fp01 = fin_object_list[file_ind01]\n",
    "point_prefix01 = path_leaf(fp01).replace(\"_fin_object.pkl\", \"\")\n",
    "print(point_prefix01)\n",
    "\n",
    "fin_object = FinData(data_root=root, name=point_prefix01, tissue_seg_model=seg_type)"
   ]
  },
  {
   "cell_type": "markdown",
   "id": "d311cc4d-afdf-4d5a-9162-c48de8169e15",
   "metadata": {},
   "source": [
    "### Get fin mesh"
   ]
  },
  {
   "cell_type": "code",
   "execution_count": 3,
   "id": "70c0bcae-a34f-4b34-8c21-6719730389c0",
   "metadata": {},
   "outputs": [
    {
     "name": "stderr",
     "output_type": "stream",
     "text": [
      "/home/nick/projects/pecfin_dynamics/src/utilities/fin_shape_utils.py:72: SettingWithCopyWarning: \n",
      "A value is trying to be set on a copy of a slice from a DataFrame.\n",
      "Try using .loc[row_indexer,col_indexer] = value instead\n",
      "\n",
      "See the caveats in the documentation: https://pandas.pydata.org/pandas-docs/stable/user_guide/indexing.html#returning-a-view-versus-a-copy\n",
      "  fin_df[\"nn_scale_um\"] = nn_dist_mean\n",
      "100%|██████████| 597/597 [00:15<00:00, 38.64it/s]\n",
      "100%|██████████| 597/597 [00:01<00:00, 376.20it/s]\n"
     ]
    }
   ],
   "source": [
    "# sample nucleus boundary points from nucleus masks\n",
    "fin_df_upsamp = upsample_fin_point_cloud(fin_object, sample_res_um=0.4, root=root, points_per_nucleus=100)"
   ]
  },
  {
   "cell_type": "code",
   "execution_count": 4,
   "id": "d33a0030-2a89-4723-a97c-bb41d2ac06da",
   "metadata": {},
   "outputs": [
    {
     "name": "stdout",
     "output_type": "stream",
     "text": [
      "Jupyter environment detected. Enabling Open3D WebVisualizer.\n",
      "[Open3D INFO] WebRTC GUI backend enabled.\n",
      "[Open3D INFO] WebRTCWindowSystem: HTTP handshake server disabled.\n",
      "Downsampling...\n",
      "Done\n"
     ]
    }
   ],
   "source": [
    "import open3d as o3d\n",
    "\n",
    "# get raw points\n",
    "fin_points = fin_df_upsamp[[\"XP\", \"YP\", \"ZP\"]].to_numpy()\n",
    "\n",
    "# convert to point cloud format\n",
    "pcd = o3d.geometry.PointCloud()\n",
    "pcd.points = o3d.utility.Vector3dVector(fin_points)\n",
    "\n",
    "# resample points to be more spatially uniform\n",
    "min_distance = 0.5\n",
    "print(\"Downsampling...\")\n",
    "sampled_points = pcd.voxel_down_sample(voxel_size=min_distance) \n",
    "print(\"Done\")"
   ]
  },
  {
   "cell_type": "code",
   "execution_count": 5,
   "id": "da7d8977-6187-41b0-b140-0dca81e2a427",
   "metadata": {},
   "outputs": [],
   "source": [
    "# import plotly.express as px\n",
    "# fin_points_u = np.asarray(sampled_points.points)\n",
    "\n",
    "# fig = px.scatter_3d(x=fin_points_u[:, 0], y=fin_points_u[:, 1], z=fin_points_u[:, 2])\n",
    "# fig.update_traces(marker=dict(size=3))\n",
    "# fig.show()"
   ]
  },
  {
   "cell_type": "code",
   "execution_count": 7,
   "id": "27794563-5cda-4afd-bedc-b084ee651d3d",
   "metadata": {},
   "outputs": [
    {
     "name": "stdout",
     "output_type": "stream",
     "text": [
      "True\n"
     ]
    }
   ],
   "source": [
    "# fit a mesh \n",
    "fin_points_u = np.asarray(sampled_points.points)\n",
    "fin_hull, raw_hull, wt_flag = fit_fin_hull(fin_points_u, alpha=25, n_faces=5000)\n",
    "print(wt_flag)"
   ]
  },
  {
   "cell_type": "code",
   "execution_count": 39,
   "id": "af31f436-b8bc-4102-8d2e-394e79b17d50",
   "metadata": {},
   "outputs": [
    {
     "data": {
      "text/plain": [
       "(10118, 3)"
      ]
     },
     "execution_count": 39,
     "metadata": {},
     "output_type": "execute_result"
    }
   ],
   "source": [
    "raw_hull.faces.shape"
   ]
  },
  {
   "cell_type": "code",
   "execution_count": 8,
   "id": "e57331ad-922e-4371-bd6f-397454ff5529",
   "metadata": {},
   "outputs": [
    {
     "name": "stderr",
     "output_type": "stream",
     "text": [
      "/home/nick/miniconda3/envs/flowshape_env/lib/python3.10/site-packages/traittypes/traittypes.py:97: UserWarning: Given trait value dtype \"float32\" does not match required type \"float64\". A coerced copy has been created.\n",
      "  warnings.warn(\n",
      "/home/nick/miniconda3/envs/flowshape_env/lib/python3.10/site-packages/traittypes/traittypes.py:97: UserWarning: Given trait value dtype \"uint32\" does not match required type \"float64\". A coerced copy has been created.\n",
      "  warnings.warn(\n"
     ]
    },
    {
     "data": {
      "application/vnd.jupyter.widget-view+json": {
       "model_id": "788e5e7cd0ba480c85ef0b259f185768",
       "version_major": 2,
       "version_minor": 0
      },
      "text/plain": [
       "Renderer(camera=PerspectiveCamera(children=(DirectionalLight(color='white', intensity=0.6, position=(-2.368526…"
      ]
     },
     "metadata": {},
     "output_type": "display_data"
    },
    {
     "data": {
      "text/plain": [
       "<meshplot.Viewer.Viewer at 0x79ab9a4f18d0>"
      ]
     },
     "execution_count": 8,
     "metadata": {},
     "output_type": "execute_result"
    }
   ],
   "source": [
    "#igl.read_triangle_mesh(\"/home/nick/projects/flowshape/demo/ABal.obj\")\n",
    "v, f = v, f = fin_hull.vertices.copy(), fin_hull.faces.copy()\n",
    "mp.plot(v, f, shading = {\"wireframe\":True})"
   ]
  },
  {
   "cell_type": "markdown",
   "id": "cd806611-99c0-49a7-b4c4-1fa4e73c3b20",
   "metadata": {},
   "source": [
    "### Run spherical mapping"
   ]
  },
  {
   "cell_type": "code",
   "execution_count": 9,
   "id": "8e0c61a4-3e1a-41e6-8352-7142613ef289",
   "metadata": {},
   "outputs": [
    {
     "data": {
      "application/vnd.jupyter.widget-view+json": {
       "model_id": "75809adae19144569d26dce4fcc96bd0",
       "version_major": 2,
       "version_minor": 0
      },
      "text/plain": [
       "Renderer(camera=PerspectiveCamera(children=(DirectionalLight(color='white', intensity=0.6, position=(-0.000453…"
      ]
     },
     "metadata": {},
     "output_type": "display_data"
    },
    {
     "data": {
      "text/plain": [
       "<meshplot.Viewer.Viewer at 0x79ab9a54a830>"
      ]
     },
     "execution_count": 9,
     "metadata": {},
     "output_type": "execute_result"
    }
   ],
   "source": [
    "# normalize the scaling of the mesh\n",
    "v = fs.normalize(v)\n",
    "\n",
    "# run the spherical mapping flow and mobius centering\n",
    "sv = fs.sphere_map(v, f)\n",
    "\n",
    "# Now we have a spherical mesh\n",
    "mp.plot(sv, f, shading = {\"wireframe\":True})"
   ]
  },
  {
   "cell_type": "markdown",
   "id": "3829beca-8399-4f07-8fd3-aa46d6fe7594",
   "metadata": {},
   "source": [
    "### Calculate the mean curvature"
   ]
  },
  {
   "cell_type": "code",
   "execution_count": 10,
   "id": "7c745d12-1f6c-487d-842a-60394eeaa5f5",
   "metadata": {},
   "outputs": [
    {
     "data": {
      "application/vnd.jupyter.widget-view+json": {
       "model_id": "a256a740bacf44edbdfd9fdae6990dc3",
       "version_major": 2,
       "version_minor": 0
      },
      "text/plain": [
       "Renderer(camera=PerspectiveCamera(children=(DirectionalLight(color='white', intensity=0.6, position=(0.0033084…"
      ]
     },
     "metadata": {},
     "output_type": "display_data"
    },
    {
     "data": {
      "text/plain": [
       "<meshplot.Viewer.Viewer at 0x79ab9a51d480>"
      ]
     },
     "execution_count": 10,
     "metadata": {},
     "output_type": "execute_result"
    }
   ],
   "source": [
    "rho = fs.curvature_function(v, sv, f)\n",
    "\n",
    "mp.plot(v,f, rho )"
   ]
  },
  {
   "cell_type": "markdown",
   "id": "b9d6eb7b-cf9e-43e8-9a48-aab9ba97eacd",
   "metadata": {},
   "source": [
    "## SH decomposition"
   ]
  },
  {
   "cell_type": "code",
   "execution_count": 11,
   "id": "15b2b75a-f5bb-4f48-9ede-20a00cfc575e",
   "metadata": {},
   "outputs": [],
   "source": [
    "# this utility does the above steps + SH decomposition\n",
    "# Here, using maximum degree 24\n",
    "weights, Y_mat, vs = fs.do_mapping(v,f, l_max = 24)"
   ]
  },
  {
   "cell_type": "code",
   "execution_count": 12,
   "id": "e86dc4a7-a084-47f7-81f8-c3b94588ef77",
   "metadata": {},
   "outputs": [
    {
     "name": "stdout",
     "output_type": "stream",
     "text": [
      "[ 3.1985965  -0.14189246 -0.09633128 ...  0.18525062 -0.10537151\n",
      "  0.13012568]\n"
     ]
    }
   ],
   "source": [
    "# This is the array of SH weights\n",
    "np.set_printoptions(threshold = 100)\n",
    "print(weights)"
   ]
  },
  {
   "cell_type": "code",
   "execution_count": 13,
   "id": "b53c37a6-e9ef-4110-be75-fe9eb8df2e9d",
   "metadata": {},
   "outputs": [
    {
     "data": {
      "application/vnd.jupyter.widget-view+json": {
       "model_id": "5c4129fea55e4402994fc5d4c99d41d5",
       "version_major": 2,
       "version_minor": 0
      },
      "text/plain": [
       "Renderer(camera=PerspectiveCamera(children=(DirectionalLight(color='white', intensity=0.6, position=(-0.000453…"
      ]
     },
     "metadata": {},
     "output_type": "display_data"
    },
    {
     "data": {
      "text/plain": [
       "<meshplot.Viewer.Viewer at 0x79ab9a65e110>"
      ]
     },
     "execution_count": 13,
     "metadata": {},
     "output_type": "execute_result"
    }
   ],
   "source": [
    "# Y_mat is a matrix used to convert between weights and mesh function\n",
    "rho2 = Y_mat.dot(weights)\n",
    "mp.plot(sv,f, c = rho2)"
   ]
  },
  {
   "cell_type": "markdown",
   "id": "7a1faec2-b555-407a-8e8c-25c6b706d0d6",
   "metadata": {},
   "source": [
    "### Mesh reconstruction"
   ]
  },
  {
   "cell_type": "code",
   "execution_count": 14,
   "id": "37968ad0-6e90-4f90-a9df-6fcf34f1addd",
   "metadata": {},
   "outputs": [
    {
     "data": {
      "application/vnd.jupyter.widget-view+json": {
       "model_id": "aa1a8ca294fb4cd792d399fe2910c633",
       "version_major": 2,
       "version_minor": 0
      },
      "text/plain": [
       "Renderer(camera=PerspectiveCamera(children=(DirectionalLight(color='white', intensity=0.6, position=(-0.050321…"
      ]
     },
     "metadata": {},
     "output_type": "display_data"
    },
    {
     "data": {
      "text/plain": [
       "<meshplot.Viewer.Viewer at 0x79ab9a4f3400>"
      ]
     },
     "execution_count": 14,
     "metadata": {},
     "output_type": "execute_result"
    }
   ],
   "source": [
    "rec2 = fs.reconstruct_shape(sv, f, rho2 )\n",
    "mp.plot(rec2,f, c = rho2)"
   ]
  },
  {
   "cell_type": "markdown",
   "id": "e3c0d875-ed43-41bf-ab4f-c2967ed95405",
   "metadata": {},
   "source": [
    "### Test with lower frequencies only"
   ]
  },
  {
   "cell_type": "code",
   "execution_count": 18,
   "id": "3bacc589-985f-46a2-bc12-ed2014c9b220",
   "metadata": {},
   "outputs": [
    {
     "data": {
      "application/vnd.jupyter.widget-view+json": {
       "model_id": "34b07051c41f4a7e92a874751f786e55",
       "version_major": 2,
       "version_minor": 0
      },
      "text/plain": [
       "Renderer(camera=PerspectiveCamera(children=(DirectionalLight(color='white', intensity=0.6, position=(-0.078880…"
      ]
     },
     "metadata": {},
     "output_type": "display_data"
    },
    {
     "data": {
      "text/plain": [
       "<meshplot.Viewer.Viewer at 0x79ab9a3d5810>"
      ]
     },
     "execution_count": 18,
     "metadata": {},
     "output_type": "execute_result"
    }
   ],
   "source": [
    "weights, Y_mat, vs = fs.do_mapping(v,f, l_max=4)\n",
    "rec_8 = fs.reconstruct_shape(sv, f, Y_mat.dot(weights) )\n",
    "mp.plot(rec_8, f, c = rho2)"
   ]
  },
  {
   "cell_type": "code",
   "execution_count": null,
   "id": "f342cfbb-f617-49bc-bb71-60c226eabbc7",
   "metadata": {},
   "outputs": [],
   "source": []
  }
 ],
 "metadata": {
  "kernelspec": {
   "display_name": "Python (flowshape-env)",
   "language": "python",
   "name": "flowshape-env"
  },
  "language_info": {
   "codemirror_mode": {
    "name": "ipython",
    "version": 3
   },
   "file_extension": ".py",
   "mimetype": "text/x-python",
   "name": "python",
   "nbconvert_exporter": "python",
   "pygments_lexer": "ipython3",
   "version": "3.10.15"
  }
 },
 "nbformat": 4,
 "nbformat_minor": 5
}
