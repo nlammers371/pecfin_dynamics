{
 "cells": [
  {
   "cell_type": "markdown",
   "id": "51489b39-d80d-4100-8fc6-2d84e4e6ae77",
   "metadata": {
    "ExecuteTime": {
     "end_time": "2024-06-23T15:23:25.635056Z",
     "start_time": "2024-06-23T15:23:25.633324Z"
    },
    "collapsed": true,
    "jupyter": {
     "outputs_hidden": true
    }
   },
   "source": [
    "## Overview \n",
    "I now have ample high quality masks for tdTom across multiple similar but distinct imaging conditions. The idea is to use these to train a generalist CellPose classifier that I can hopefully use without adjustment for all new tdTom experiments on the YX1"
   ]
  },
  {
   "cell_type": "code",
   "execution_count": 1,
   "id": "84d2ac8471f46030",
   "metadata": {},
   "outputs": [],
   "source": [
    "# get paths to old  data files\n",
    "experiment_date_vec = [\"20240223\", \"20240424\", \"20240425\"]\n",
    "mask_root = \"/media/nick/hdd02/Cole Trapnell's Lab Dropbox/Nick Lammers/Nick/pecfin_dynamics/built_data/stitched_labels/\"\n",
    "zarr_root = \"/media/nick/hdd01/old_pecfin_data/built_data/\"\n",
    "model_name_vec = [\"log-v5\", \"log-v3\", \"log-v3\"]\n",
    "nuclear_channel_vec = [0, 1, 1]\n",
    "channel_names_vec = [[\"H2B-tdTom\"], [\"tbx5a-StayGold\", \"H2B-tdTom\"], [\"tbx5a-StayGold\", \"H2B-tdTom\"]]"
   ]
  },
  {
   "cell_type": "code",
   "execution_count": 3,
   "id": "8b92cbe2-6837-438e-b4ef-39b018585904",
   "metadata": {},
   "outputs": [],
   "source": [
    "# set output directory\n",
    "out_dir = \"/media/nick/hdd02/Cole Trapnell's Lab Dropbox/Nick Lammers/Nick/pecfin_dynamics/built_data/cellpose_training/tdTom_log/\"\n",
    "\n",
    "# set export parameters\n",
    "n_points_per_well = 10"
   ]
  },
  {
   "cell_type": "code",
   "execution_count": null,
   "id": "865d912e-f51e-4788-8ab7-b271fafb38cd",
   "metadata": {},
   "outputs": [],
   "source": []
  }
 ],
 "metadata": {
  "kernelspec": {
   "display_name": "Python 3 (ipykernel)",
   "language": "python",
   "name": "python3"
  },
  "language_info": {
   "codemirror_mode": {
    "name": "ipython",
    "version": 3
   },
   "file_extension": ".py",
   "mimetype": "text/x-python",
   "name": "python",
   "nbconvert_exporter": "python",
   "pygments_lexer": "ipython3",
   "version": "3.10.12"
  }
 },
 "nbformat": 4,
 "nbformat_minor": 5
}
