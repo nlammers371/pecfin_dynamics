{
 "cells": [
  {
   "cell_type": "code",
   "execution_count": 1,
   "id": "92c8bfcd-f710-4c3e-a6ac-f5a0eea113c3",
   "metadata": {},
   "outputs": [],
   "source": [
    "import flowshape as fs\n",
    "import igl\n",
    "import numpy as np\n",
    "import meshplot as mp\n",
    "import os\n",
    "import pandas as pd\n",
    "from src.utilities.fin_shape_utils import plot_mesh\n",
    "from src.utilities.fin_class_def import FinData\n",
    "from src.utilities.functions import path_leaf\n",
    "import glob2 as glob\n",
    "import meshplot as mp\n",
    "import trimesh"
   ]
  },
  {
   "cell_type": "markdown",
   "id": "b8241cfc-05d1-488b-b346-a2a436f6a2fe",
   "metadata": {},
   "source": [
    "## First pass did not yield great results\n",
    "One possible reason is that the SH decomposition was not encoding any size info. I want to see if it is possible to do this by altering the scalar cuvature field by a size factor"
   ]
  },
  {
   "cell_type": "markdown",
   "id": "f7a673ae-5a8b-49e6-943d-972616c01c49",
   "metadata": {},
   "source": [
    "### Load fin data"
   ]
  },
  {
   "cell_type": "code",
   "execution_count": 2,
   "id": "fe2191ac-77f5-448f-969e-9850fde8372d",
   "metadata": {},
   "outputs": [],
   "source": [
    "# get list of refined fin mesh objects\n",
    "root = \"/media/nick/hdd02/Cole Trapnell's Lab Dropbox/Nick Lammers/Nick/pecfin_dynamics/\"\n",
    "fin_mesh_list = sorted(glob.glob(os.path.join(root, \"point_cloud_data\", \"processed_fin_data\", \"*smoothed_fin_mesh*\")))\n",
    "\n",
    "# load metadata\n",
    "metadata_df = pd.read_csv(os.path.join(root, \"metadata\", \"master_metadata.csv\"))\n",
    "metadata_df[\"experiment_date\"] = metadata_df[\"experiment_date\"].astype(str)\n",
    "metadata_df.head()\n",
    "\n",
    "# make savedir \n",
    "save_dir = os.path.join(root, \"point_cloud_data\", \"SH_analysis_v2\", \"\")\n",
    "y_subdir = os.path.join(save_dir, \"Y_matrices\")\n",
    "if not os.path.isdir(y_subdir):\n",
    "    os.makedirs(y_subdir)"
   ]
  },
  {
   "cell_type": "markdown",
   "id": "58cfc7da-b4dd-4d81-84a2-47c1925658d3",
   "metadata": {},
   "source": [
    "### This is the norm utility in flowshape, but returns info I need for recovering original fin"
   ]
  },
  {
   "cell_type": "code",
   "execution_count": 3,
   "id": "91149cd4-7bd3-466a-b7d3-d9c3d9dee5b3",
   "metadata": {},
   "outputs": [],
   "source": [
    "from numpy.linalg import norm\n",
    "\n",
    "def norm_verbose(verts):\n",
    "    centroid = np.mean(verts, axis=0)\n",
    "    verts -= centroid\n",
    "    radii = norm(verts, axis=1)\n",
    "\n",
    "    m = np.amax(radii)\n",
    "\n",
    "    verts /= m\n",
    "    return verts, centroid, m"
   ]
  },
  {
   "cell_type": "code",
   "execution_count": 4,
   "id": "0386a36b-d471-4fc4-a1ad-c68b9ee65810",
   "metadata": {},
   "outputs": [],
   "source": [
    "# make col names to keep track of SH coefficients\n",
    "\n",
    "def get_sh_colnames(max_degree):\n",
    "\n",
    "    col_names = []\n",
    "    \n",
    "    for l in range(max_degree):\n",
    "        \n",
    "        i1 = l**2\n",
    "        i2 = (l + 1) ** 2\n",
    "    \n",
    "        for m in range(i1, i2):\n",
    "            col_name = f\"sh_l{l:03}_m{m-i1:03}\"\n",
    "            col_names.append(col_name)\n",
    "            \n",
    "    return col_names\n"
   ]
  },
  {
   "cell_type": "markdown",
   "id": "85e6d211-1401-42e6-baf9-8b36538b9eb4",
   "metadata": {},
   "source": [
    "### Iterate through fin meshes"
   ]
  },
  {
   "cell_type": "code",
   "execution_count": 20,
   "id": "99db1539-ca52-4242-8202-6c602b8d3e80",
   "metadata": {},
   "outputs": [
    {
     "name": "stderr",
     "output_type": "stream",
     "text": [
      "  2%|▏         | 4/224 [00:09<09:08,  2.49s/it]"
     ]
    },
    {
     "name": "stdout",
     "output_type": "stream",
     "text": [
      "WARNING: percentage of flipped faces: 0.087070091423596\n"
     ]
    },
    {
     "name": "stderr",
     "output_type": "stream",
     "text": [
      "  7%|▋         | 15/224 [00:36<08:29,  2.44s/it]"
     ]
    },
    {
     "name": "stdout",
     "output_type": "stream",
     "text": [
      "WARNING: percentage of flipped faces: 0.08130081300813008\n"
     ]
    },
    {
     "name": "stderr",
     "output_type": "stream",
     "text": [
      " 44%|████▍     | 98/224 [04:05<07:15,  3.46s/it]"
     ]
    },
    {
     "name": "stdout",
     "output_type": "stream",
     "text": [
      "WARNING: percentage of flipped faces: 0.3382663847780127\n"
     ]
    },
    {
     "name": "stderr",
     "output_type": "stream",
     "text": [
      " 45%|████▍     | 100/224 [04:14<07:48,  3.78s/it]"
     ]
    },
    {
     "name": "stdout",
     "output_type": "stream",
     "text": [
      "WARNING: percentage of flipped faces: 0.4801920768307323\n"
     ]
    },
    {
     "name": "stderr",
     "output_type": "stream",
     "text": [
      " 48%|████▊     | 107/224 [04:37<06:37,  3.40s/it]"
     ]
    },
    {
     "name": "stdout",
     "output_type": "stream",
     "text": [
      "WARNING: percentage of flipped faces: 34.78260869565217\n"
     ]
    },
    {
     "name": "stderr",
     "output_type": "stream",
     "text": [
      " 85%|████████▌ | 191/224 [09:10<01:52,  3.42s/it]"
     ]
    },
    {
     "name": "stdout",
     "output_type": "stream",
     "text": [
      "WARNING: percentage of flipped faces: 0.1600640256102441\n"
     ]
    },
    {
     "name": "stderr",
     "output_type": "stream",
     "text": [
      " 89%|████████▉ | 200/224 [09:40<01:15,  3.14s/it]"
     ]
    },
    {
     "name": "stdout",
     "output_type": "stream",
     "text": [
      "WARNING: percentage of flipped faces: 0.08061265618702136\n"
     ]
    },
    {
     "name": "stderr",
     "output_type": "stream",
     "text": [
      " 92%|█████████▏| 206/224 [10:02<01:05,  3.64s/it]"
     ]
    },
    {
     "name": "stdout",
     "output_type": "stream",
     "text": [
      "WARNING: percentage of flipped faces: 1.0817307692307692\n"
     ]
    },
    {
     "name": "stderr",
     "output_type": "stream",
     "text": [
      " 95%|█████████▌| 213/224 [10:28<00:42,  3.91s/it]"
     ]
    },
    {
     "name": "stdout",
     "output_type": "stream",
     "text": [
      "WARNING: percentage of flipped faces: 0.08003201280512205\n"
     ]
    },
    {
     "name": "stderr",
     "output_type": "stream",
     "text": [
      " 96%|█████████▌| 214/224 [10:32<00:39,  3.94s/it]"
     ]
    },
    {
     "name": "stdout",
     "output_type": "stream",
     "text": [
      "WARNING: percentage of flipped faces: 1.8036072144288577\n"
     ]
    },
    {
     "name": "stderr",
     "output_type": "stream",
     "text": [
      " 96%|█████████▌| 215/224 [10:39<00:43,  4.80s/it]"
     ]
    },
    {
     "name": "stdout",
     "output_type": "stream",
     "text": [
      "WARNING: percentage of flipped faces: 0.3201280512204882\n"
     ]
    },
    {
     "name": "stderr",
     "output_type": "stream",
     "text": [
      "100%|██████████| 224/224 [11:11<00:00,  3.00s/it]\n"
     ]
    }
   ],
   "source": [
    "from tqdm import tqdm\n",
    "import scipy as sp\n",
    "\n",
    "max_degree = 30\n",
    "\n",
    "df_list = []\n",
    "for file_ind, file_path in enumerate(tqdm(fin_mesh_list)):\n",
    "    # get colnames\n",
    "    sh_colnames = get_sh_colnames(max_degree)\n",
    "    \n",
    "    # extract relevant metadata\n",
    "    fname = os.path.basename(file_path)\n",
    "    well_ind = fname.find(\"well\")\n",
    "    date_string = fname[:well_ind-1]\n",
    "    well_num = int(fname[well_ind+4:well_ind+8])\n",
    "    time_ind = fname.find(\"time\")\n",
    "    time_num = int(fname[time_ind+4:time_ind+8])\n",
    "    \n",
    "    # match this to a row in the metadata df\n",
    "    date_ft = metadata_df[\"experiment_date\"] == date_string\n",
    "    well_ft = metadata_df[\"well_index\"] == well_num\n",
    "    time_ft = metadata_df[\"time_index\"] == time_num\n",
    "    \n",
    "    meta_temp = metadata_df.loc[date_ft & well_ft & time_ft, :].reset_index(drop=True)\n",
    "\n",
    "    cv = meta_temp.loc[0, \"chem_i\"]\n",
    "    if isinstance(cv, str):\n",
    "        cvs = cv.split(\"_\")\n",
    "        chem_id = cvs[0]\n",
    "        chem_time = int(cvs[1])\n",
    "    else:\n",
    "        chem_id = \"WT\"\n",
    "        chem_time = np.nan\n",
    "    meta_temp.loc[0, \"chem_id\"] = chem_id\n",
    "    meta_temp.loc[0, \"chem_time\"] = chem_time\n",
    "    \n",
    "    # make temp DF to store results\n",
    "\n",
    "    try:\n",
    "        # load mesh\n",
    "        fin_mesh = trimesh.load(file_path)\n",
    "        f, v = fin_mesh.faces.copy(), fin_mesh.vertices.copy()\n",
    "        \n",
    "        # normalize\n",
    "        vn, mu, m = norm_verbose(v.copy())\n",
    "    \n",
    "        # map to sphere\n",
    "        v_sphere = fs.sphere_map(vn, f)\n",
    "    \n",
    "        # calculate curvature\n",
    "        rho = fs.curvature_function(vn, v_sphere, f)\n",
    "        # rho_norm = fs.curvature_function(vn, v_sphere, f)\n",
    "    \n",
    "        # adjust to reflect overall scale of the shape\n",
    "        rho_scaled = rho / m\n",
    "        \n",
    "        v_bary = igl.barycenter(v_sphere, f)\n",
    "        v_bary = fs.project_sphere(v_bary)\n",
    "        W = 0.5 * igl.doublearea(v_sphere, f)\n",
    "        W = sp.sparse.diags(W)\n",
    "        weights, Y_mat = fs.IRF_scalar(rho_scaled, v_bary, W, max_degree=max_degree)\n",
    "    \n",
    "        # perform SH decomposition\n",
    "        # weights, Y_mat, vs = fs.do_mapping(vn, f, l_max=max_degree)\n",
    "        \n",
    "        # store results\n",
    "        meta_temp.loc[0, \"scale\"] = m.copy()\n",
    "        meta_temp.loc[0, [\"xc\", \"yc\", \"zc\"]] = mu.copy()\n",
    "        meta_temp.loc[0, sh_colnames] = weights.copy()\n",
    "    \n",
    "        df_list.append(meta_temp)\n",
    "    \n",
    "        # save Y\n",
    "        yname = fname\n",
    "        yname.replace(\"_smoothed_fin_mesh.obj\", \"y_mat.npy\")\n",
    "        np.save(os.path.join(y_subdir, yname), Y_mat)\n",
    "        \n",
    "    except:\n",
    "        pass"
   ]
  },
  {
   "cell_type": "code",
   "execution_count": 21,
   "id": "13bff0ad-ad7f-40a5-8b22-a4b70e0f966d",
   "metadata": {},
   "outputs": [],
   "source": [
    "SH_df = pd.concat(df_list, axis=0, ignore_index=True)\n",
    "SH_df.head()\n",
    "SH_df.to_csv(os.path.join(save_dir, \"fin_sh_df.csv\"), index=False)\n"
   ]
  },
  {
   "cell_type": "markdown",
   "id": "3522383b-e9a4-4037-a5b9-68b40ab07b0d",
   "metadata": {},
   "source": [
    "### Align shit"
   ]
  },
  {
   "cell_type": "code",
   "execution_count": 23,
   "id": "346646fe-cc20-409b-90c7-7d44acec6c0d",
   "metadata": {},
   "outputs": [
    {
     "name": "stderr",
     "output_type": "stream",
     "text": [
      "  0%|          | 0/223 [00:00<?, ?it/s]/home/nick/miniconda3/envs/flowshape_env/lib/python3.10/site-packages/flowshape/so3.py:161: ComplexWarning: Casting complex values to real discards the imaginary part\n",
      "  weights_rot[l**2 : (l + 1) ** 2] = r_mat[l].dot(\n",
      " 18%|█▊        | 40/223 [00:01<00:04, 42.21it/s]/home/nick/.local/lib/python3.10/site-packages/IPython/core/interactiveshell.py:3577: UserWarning: Gimbal lock detected. Setting third angle to zero since it is not possible to uniquely determine all angles.\n",
      "  exec(code_obj, self.user_global_ns, self.user_ns)\n",
      "100%|██████████| 223/223 [00:04<00:00, 44.95it/s]\n"
     ]
    }
   ],
   "source": [
    "# extract array of SH coefficients\n",
    "max_degree = 30\n",
    "sh_cols = get_sh_colnames(max_degree=max_degree)\n",
    "sh_array = SH_df.loc[:, sh_cols].to_numpy()\n",
    "\n",
    "# extract reference\n",
    "well_ref = 46\n",
    "time_ref = 0\n",
    "date_ref = \"20240711_01\"\n",
    "\n",
    "# get location of the reference\n",
    "date_ft = SH_df[\"experiment_date\"] == date_ref\n",
    "well_ft = SH_df[\"well_index\"] == well_ref\n",
    "time_ft = SH_df[\"time_index\"] == time_ref\n",
    "\n",
    "ref_row = SH_df.loc[date_ft & well_ft & time_ft, :].reset_index(drop=True)\n",
    "ref_sh_weights = ref_row.loc[0, sh_cols].to_numpy().astype('complex128')\n",
    "\n",
    "sh_array_aligned = np.zeros_like(sh_array)\n",
    "# iterate through and align\n",
    "for i in tqdm(range(sh_array.shape[0])):\n",
    "    # get ceoffs\n",
    "    sh2 = sh_array[i, :].astype('complex128')\n",
    "    # compute alignment\n",
    "    rot2 = fs.compute_max_correlation(ref_sh_weights, sh2, l_max=max_degree)\n",
    "    # apply alignment to weights\n",
    "    sh_array_aligned[i, :] = fs.rotate_weights(rot2, sh2)"
   ]
  },
  {
   "cell_type": "code",
   "execution_count": 25,
   "id": "04f406b0-e715-4ed2-8c0e-dc9045446d6c",
   "metadata": {},
   "outputs": [],
   "source": [
    "SH_df_a = SH_df.copy()\n",
    "SH_df_a.loc[:, sh_cols] = sh_array_aligned\n",
    "SH_df_a.to_csv(os.path.join(save_dir, \"fin_sh_df_aligned.csv\"), index=False)"
   ]
  },
  {
   "cell_type": "code",
   "execution_count": 26,
   "id": "6685e4bb-ddeb-4950-be3f-a700daaebe71",
   "metadata": {},
   "outputs": [
    {
     "data": {
      "text/plain": [
       "\"/media/nick/hdd02/Cole Trapnell's Lab Dropbox/Nick Lammers/Nick/pecfin_dynamics/point_cloud_data/SH_analysis_v2/\""
      ]
     },
     "execution_count": 26,
     "metadata": {},
     "output_type": "execute_result"
    }
   ],
   "source": [
    "save_dir"
   ]
  },
  {
   "cell_type": "code",
   "execution_count": 30,
   "id": "abaa4ef3-75d6-4dd2-965c-a07800469d59",
   "metadata": {},
   "outputs": [],
   "source": [
    "file_ind = 5\n",
    "file_path = fin_mesh_list[file_ind]\n",
    "\n",
    "# get colnames\n",
    "sh_colnames = get_sh_colnames(max_degree)\n",
    "\n",
    "# load mesh\n",
    "fin_mesh = trimesh.load(file_path)\n",
    "f, v = fin_mesh.faces.copy(), fin_mesh.vertices.copy()\n",
    "\n",
    "# normalize\n",
    "vn, mu, m = norm_verbose(v.copy())\n",
    "\n",
    "# map to sphere\n",
    "v_sphere = fs.sphere_map(vn, f)\n",
    "\n",
    "# calculate curvature\n",
    "rho = fs.curvature_function(vn, v_sphere, f)\n",
    "# rho_norm = fs.curvature_function(vn, v_sphere, f)\n",
    "\n",
    "# adjust to reflect overall scale of the shape\n",
    "rho_scaled = rho / m * 50\n",
    "\n",
    "v_bary = igl.barycenter(v_sphere, f)\n",
    "v_bary = fs.project_sphere(v_bary)\n",
    "W = 0.5 * igl.doublearea(v_sphere, f)\n",
    "W = sp.sparse.diags(W)\n",
    "\n",
    "weights0, Y_mat = fs.IRF_scalar(rho_scaled, v_bary, W, max_degree=max_degree)\n",
    "weights1, Y_mat = fs.IRF_scalar(rho, v_bary, W, max_degree=max_degree)"
   ]
  },
  {
   "cell_type": "code",
   "execution_count": 31,
   "id": "799a6acf-2e60-4392-8623-4d33f8943be6",
   "metadata": {},
   "outputs": [
    {
     "name": "stdout",
     "output_type": "stream",
     "text": [
      "[ 2.13622498  0.02124962  0.07594588  0.09806546 -0.15153386 -0.47450078\n",
      " -1.02799224 -0.62158335 -0.20100582 -0.09934326]\n",
      "[ 3.18122274  0.0316445   0.11309705  0.14603709 -0.22566114 -0.7066169\n",
      " -1.53086511 -0.92564927 -0.29933378 -0.14793996]\n"
     ]
    }
   ],
   "source": [
    "print(weights0[:10])\n",
    "print(weights1[:10])"
   ]
  },
  {
   "cell_type": "code",
   "execution_count": 33,
   "id": "32364126-058f-4c75-9cd0-4abfc512f6b5",
   "metadata": {},
   "outputs": [
    {
     "data": {
      "text/plain": [
       "array([0.67151066, 0.67151066, 0.67151066, 0.67151066, 0.67151066,\n",
       "       0.67151066, 0.67151066, 0.67151066, 0.67151066, 0.67151066])"
      ]
     },
     "execution_count": 33,
     "metadata": {},
     "output_type": "execute_result"
    }
   ],
   "source": [
    "np.divide(weights0[:10], weights1[:10])"
   ]
  },
  {
   "cell_type": "code",
   "execution_count": null,
   "id": "539a8126-4f27-41c4-81fc-527d5d7237a8",
   "metadata": {},
   "outputs": [],
   "source": []
  }
 ],
 "metadata": {
  "kernelspec": {
   "display_name": "Python (flowshape-env)",
   "language": "python",
   "name": "flowshape-env"
  },
  "language_info": {
   "codemirror_mode": {
    "name": "ipython",
    "version": 3
   },
   "file_extension": ".py",
   "mimetype": "text/x-python",
   "name": "python",
   "nbconvert_exporter": "python",
   "pygments_lexer": "ipython3",
   "version": "3.10.15"
  }
 },
 "nbformat": 4,
 "nbformat_minor": 5
}
