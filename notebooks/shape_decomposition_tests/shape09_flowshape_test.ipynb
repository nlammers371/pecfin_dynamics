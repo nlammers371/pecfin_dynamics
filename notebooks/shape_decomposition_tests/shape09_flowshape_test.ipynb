{
 "cells": [
  {
   "cell_type": "code",
   "execution_count": 1,
   "id": "92c8bfcd-f710-4c3e-a6ac-f5a0eea113c3",
   "metadata": {},
   "outputs": [],
   "source": [
    "import flowshape as fs\n",
    "import igl\n",
    "import numpy as np\n",
    "import meshplot as mp"
   ]
  },
  {
   "cell_type": "code",
   "execution_count": 2,
   "id": "e57331ad-922e-4371-bd6f-397454ff5529",
   "metadata": {},
   "outputs": [
    {
     "data": {
      "application/vnd.jupyter.widget-view+json": {
       "model_id": "d1598f22fe584a03a769e203a7078eb2",
       "version_major": 2,
       "version_minor": 0
      },
      "text/plain": [
       "Renderer(camera=PerspectiveCamera(children=(DirectionalLight(color='white', intensity=0.6, position=(16.141762…"
      ]
     },
     "metadata": {},
     "output_type": "display_data"
    },
    {
     "data": {
      "text/plain": [
       "<meshplot.Viewer.Viewer at 0x704c5805a800>"
      ]
     },
     "execution_count": 2,
     "metadata": {},
     "output_type": "execute_result"
    }
   ],
   "source": [
    "v, f = igl.read_triangle_mesh(\"/home/nick/projects/flowshape/demo/ABal.obj\")\n",
    "mp.plot(v, f, shading = {\"wireframe\":True})"
   ]
  },
  {
   "cell_type": "markdown",
   "id": "cd806611-99c0-49a7-b4c4-1fa4e73c3b20",
   "metadata": {},
   "source": [
    "### Run spherical mapping"
   ]
  },
  {
   "cell_type": "code",
   "execution_count": null,
   "id": "8e0c61a4-3e1a-41e6-8352-7142613ef289",
   "metadata": {},
   "outputs": [],
   "source": [
    "# normalize the scaling of the mesh\n",
    "v = fs.normalize(v)\n",
    "\n",
    "# run the spherical mapping flow and mobius centering\n",
    "sv = fs.sphere_map(v, f)\n",
    "\n",
    "# Now we have a spherical mesh\n",
    "mp.plot(sv, f, shading = {\"wireframe\":True})"
   ]
  },
  {
   "cell_type": "markdown",
   "id": "3829beca-8399-4f07-8fd3-aa46d6fe7594",
   "metadata": {},
   "source": [
    "### Calculate the mean curvature"
   ]
  },
  {
   "cell_type": "code",
   "execution_count": null,
   "id": "7c745d12-1f6c-487d-842a-60394eeaa5f5",
   "metadata": {},
   "outputs": [],
   "source": [
    "rho = fs.curvature_function(v, sv, f)\n",
    "\n",
    "mp.plot(v,f, rho )"
   ]
  },
  {
   "cell_type": "markdown",
   "id": "b9d6eb7b-cf9e-43e8-9a48-aab9ba97eacd",
   "metadata": {},
   "source": [
    "## SH decomposition"
   ]
  },
  {
   "cell_type": "code",
   "execution_count": null,
   "id": "15b2b75a-f5bb-4f48-9ede-20a00cfc575e",
   "metadata": {},
   "outputs": [],
   "source": [
    "# this utility does the above steps + SH decomposition\n",
    "# Here, using maximum degree 24\n",
    "weights, Y_mat, vs = fs.do_mapping(v,f, l_max = 24)"
   ]
  },
  {
   "cell_type": "code",
   "execution_count": null,
   "id": "e86dc4a7-a084-47f7-81f8-c3b94588ef77",
   "metadata": {},
   "outputs": [],
   "source": [
    "# This is the array of SH weights\n",
    "np.set_printoptions(threshold = 100)\n",
    "print(weights)"
   ]
  },
  {
   "cell_type": "code",
   "execution_count": null,
   "id": "b53c37a6-e9ef-4110-be75-fe9eb8df2e9d",
   "metadata": {},
   "outputs": [],
   "source": [
    "# Y_mat is a matrix used to convert between weights and mesh function\n",
    "rho2 = Y_mat.dot(weights)\n",
    "mp.plot(sv,f, c = rho2)"
   ]
  },
  {
   "cell_type": "markdown",
   "id": "7a1faec2-b555-407a-8e8c-25c6b706d0d6",
   "metadata": {},
   "source": [
    "### Mesh reconstruction"
   ]
  },
  {
   "cell_type": "code",
   "execution_count": null,
   "id": "37968ad0-6e90-4f90-a9df-6fcf34f1addd",
   "metadata": {},
   "outputs": [],
   "source": [
    "rec2 = fs.reconstruct_shape(sv, f, rho2 )\n",
    "mp.plot(rec2,f, c = rho2)"
   ]
  },
  {
   "cell_type": "markdown",
   "id": "e3c0d875-ed43-41bf-ab4f-c2967ed95405",
   "metadata": {},
   "source": [
    "### Test with lower frequencies only"
   ]
  },
  {
   "cell_type": "code",
   "execution_count": null,
   "id": "3bacc589-985f-46a2-bc12-ed2014c9b220",
   "metadata": {},
   "outputs": [],
   "source": [
    "weights, Y_mat, vs = fs.do_mapping(v,f, l_max = 10)\n",
    "rec_8 = fs.reconstruct_shape(sv, f, Y_mat.dot(weights) )\n",
    "mp.plot(rec_8, f, c = rho2)"
   ]
  },
  {
   "cell_type": "code",
   "execution_count": null,
   "id": "f342cfbb-f617-49bc-bb71-60c226eabbc7",
   "metadata": {},
   "outputs": [],
   "source": []
  }
 ],
 "metadata": {
  "kernelspec": {
   "display_name": "Python (flowshape-env)",
   "language": "python",
   "name": "flowshape-env"
  },
  "language_info": {
   "codemirror_mode": {
    "name": "ipython",
    "version": 3
   },
   "file_extension": ".py",
   "mimetype": "text/x-python",
   "name": "python",
   "nbconvert_exporter": "python",
   "pygments_lexer": "ipython3",
   "version": "3.10.15"
  }
 },
 "nbformat": 4,
 "nbformat_minor": 5
}
